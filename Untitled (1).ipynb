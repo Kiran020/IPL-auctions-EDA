{
 "cells": [
  {
   "cell_type": "markdown",
   "id": "6c7f744c",
   "metadata": {},
   "source": [
    "Problem Statement\n",
    "Indian Premier League (IPL) is a league for Twenty20 (T20) cricket championships started in India. The auction price of the player depends on his performance in test matches or one-day internationals. The primary skill of the player also contributes to the auction price. We use different regression techniques to predict the auction price of the player."
   ]
  },
  {
   "cell_type": "markdown",
   "id": "53ad48c7",
   "metadata": {},
   "source": [
    "# About the dataset (IPL Auction data)\n",
    "# PLAYER NAME: Name of the player\n",
    "# AGE: The age of the player is classified into three categories. Category 1 means the player is less than 25 years old. Category 2 means the player is between 25 and 35 years and Category 3 means the player has aged more than 35.\n",
    "# COUNTRY: Country of the player\n",
    "# PLAYING ROLE: Player's primary skill\n",
    "# T-RUNS: Total runs scored in the test matches\n",
    "# T-WKTS: Total wickets taken in the test matches\n",
    "# ODI-RUNS-S: Runs scored in One Day Internationals\n",
    "# ODI-SR-B: Batting strike rate in One Day Internationals\n",
    "# ODI-WKTS: Wickets taken in One Day Internationals\n",
    "# ODI-SR-BL: Bowling strike rate in One Day Internationals\n",
    "# CAPTAINCY EXP: Captained a team or not\n",
    "# RUNS-S: Number of runs scored by a player\n",
    "# HS: Highest score by a batsman in IPL\n",
    "# AVE: Average runs scored by a batsman in IPL\n",
    "# SR-B: Batting strike rate (ratio of the number of runs scored to the number of basses faced) in IPL.\n",
    "# SIXERS: Number of six runs scored by a player in IPL.\n",
    "# RUNS-C: Number of runs conceded by a player\n",
    "# WKTS: Number of wickets were taken by a player in IPL.\n",
    "# AVE-BL: Bowling average (number of runs conceded / number of wickets taken) in IPL.\n",
    "# ECON: Economy rate of a bowler in IPL (number of runs conceded by the bowler per over).\n",
    "# SR-BL: Bowling strike rate (ratio of the number of balls bowled to the number of wickets taken) in IPL.\n",
    "# SOLD PRICE: Auction price of the player (Target Variable)"
   ]
  },
  {
   "cell_type": "code",
   "execution_count": 1,
   "id": "8f33e21a",
   "metadata": {},
   "outputs": [],
   "source": [
    "import numpy as np \n",
    "import pandas as pd\n",
    "import seaborn as sns\n",
    "import matplotlib.pyplot as plt\n",
    "from warnings import filterwarnings\n",
    "filterwarnings('ignore')\n"
   ]
  },
  {
   "cell_type": "code",
   "execution_count": 3,
   "id": "cad899cb",
   "metadata": {},
   "outputs": [
    {
     "data": {
      "text/html": [
       "<div>\n",
       "<style scoped>\n",
       "    .dataframe tbody tr th:only-of-type {\n",
       "        vertical-align: middle;\n",
       "    }\n",
       "\n",
       "    .dataframe tbody tr th {\n",
       "        vertical-align: top;\n",
       "    }\n",
       "\n",
       "    .dataframe thead th {\n",
       "        text-align: right;\n",
       "    }\n",
       "</style>\n",
       "<table border=\"1\" class=\"dataframe\">\n",
       "  <thead>\n",
       "    <tr style=\"text-align: right;\">\n",
       "      <th></th>\n",
       "      <th>PLAYER NAME</th>\n",
       "      <th>AGE</th>\n",
       "      <th>COUNTRY</th>\n",
       "      <th>PLAYING ROLE</th>\n",
       "      <th>T-RUNS</th>\n",
       "      <th>T-WKTS</th>\n",
       "      <th>ODI-RUNS-S</th>\n",
       "      <th>ODI-SR-B</th>\n",
       "      <th>ODI-WKTS</th>\n",
       "      <th>ODI-SR-BL</th>\n",
       "      <th>...</th>\n",
       "      <th>HS</th>\n",
       "      <th>AVE</th>\n",
       "      <th>SR-B</th>\n",
       "      <th>SIXERS</th>\n",
       "      <th>RUNS-C</th>\n",
       "      <th>WKTS</th>\n",
       "      <th>AVE-BL</th>\n",
       "      <th>ECON</th>\n",
       "      <th>SR-BL</th>\n",
       "      <th>SOLD PRICE</th>\n",
       "    </tr>\n",
       "  </thead>\n",
       "  <tbody>\n",
       "    <tr>\n",
       "      <th>0</th>\n",
       "      <td>Abdulla</td>\n",
       "      <td>2</td>\n",
       "      <td>South Africa</td>\n",
       "      <td>Allrounder</td>\n",
       "      <td>0</td>\n",
       "      <td>0</td>\n",
       "      <td>0</td>\n",
       "      <td>0.00</td>\n",
       "      <td>0</td>\n",
       "      <td>0.0</td>\n",
       "      <td>...</td>\n",
       "      <td>0</td>\n",
       "      <td>0.00</td>\n",
       "      <td>0.00</td>\n",
       "      <td>0</td>\n",
       "      <td>307</td>\n",
       "      <td>15</td>\n",
       "      <td>20.47</td>\n",
       "      <td>9.90</td>\n",
       "      <td>13.93</td>\n",
       "      <td>50000</td>\n",
       "    </tr>\n",
       "    <tr>\n",
       "      <th>1</th>\n",
       "      <td>Abdur Razzak</td>\n",
       "      <td>2</td>\n",
       "      <td>Bangladesh</td>\n",
       "      <td>Bowler</td>\n",
       "      <td>266</td>\n",
       "      <td>18</td>\n",
       "      <td>657</td>\n",
       "      <td>71.41</td>\n",
       "      <td>185</td>\n",
       "      <td>37.6</td>\n",
       "      <td>...</td>\n",
       "      <td>0</td>\n",
       "      <td>0.00</td>\n",
       "      <td>0.00</td>\n",
       "      <td>0</td>\n",
       "      <td>29</td>\n",
       "      <td>0</td>\n",
       "      <td>0.00</td>\n",
       "      <td>17.50</td>\n",
       "      <td>0.00</td>\n",
       "      <td>50000</td>\n",
       "    </tr>\n",
       "    <tr>\n",
       "      <th>2</th>\n",
       "      <td>Agarkar</td>\n",
       "      <td>2</td>\n",
       "      <td>India</td>\n",
       "      <td>Bowler</td>\n",
       "      <td>669</td>\n",
       "      <td>58</td>\n",
       "      <td>1269</td>\n",
       "      <td>80.62</td>\n",
       "      <td>288</td>\n",
       "      <td>32.9</td>\n",
       "      <td>...</td>\n",
       "      <td>39</td>\n",
       "      <td>18.56</td>\n",
       "      <td>121.01</td>\n",
       "      <td>5</td>\n",
       "      <td>1059</td>\n",
       "      <td>29</td>\n",
       "      <td>36.52</td>\n",
       "      <td>8.81</td>\n",
       "      <td>24.90</td>\n",
       "      <td>350000</td>\n",
       "    </tr>\n",
       "    <tr>\n",
       "      <th>3</th>\n",
       "      <td>Ashwin</td>\n",
       "      <td>1</td>\n",
       "      <td>India</td>\n",
       "      <td>Bowler</td>\n",
       "      <td>308</td>\n",
       "      <td>31</td>\n",
       "      <td>241</td>\n",
       "      <td>84.56</td>\n",
       "      <td>51</td>\n",
       "      <td>36.8</td>\n",
       "      <td>...</td>\n",
       "      <td>11</td>\n",
       "      <td>5.80</td>\n",
       "      <td>76.32</td>\n",
       "      <td>0</td>\n",
       "      <td>1125</td>\n",
       "      <td>49</td>\n",
       "      <td>22.96</td>\n",
       "      <td>8.23</td>\n",
       "      <td>22.14</td>\n",
       "      <td>850000</td>\n",
       "    </tr>\n",
       "    <tr>\n",
       "      <th>4</th>\n",
       "      <td>Badrinath</td>\n",
       "      <td>2</td>\n",
       "      <td>India</td>\n",
       "      <td>Batsman</td>\n",
       "      <td>109</td>\n",
       "      <td>0</td>\n",
       "      <td>79</td>\n",
       "      <td>45.93</td>\n",
       "      <td>0</td>\n",
       "      <td>0.0</td>\n",
       "      <td>...</td>\n",
       "      <td>71</td>\n",
       "      <td>32.93</td>\n",
       "      <td>120.71</td>\n",
       "      <td>28</td>\n",
       "      <td>0</td>\n",
       "      <td>0</td>\n",
       "      <td>0.00</td>\n",
       "      <td>1.00</td>\n",
       "      <td>0.00</td>\n",
       "      <td>800000</td>\n",
       "    </tr>\n",
       "  </tbody>\n",
       "</table>\n",
       "<p>5 rows × 22 columns</p>\n",
       "</div>"
      ],
      "text/plain": [
       "    PLAYER NAME  AGE       COUNTRY PLAYING ROLE  T-RUNS  T-WKTS  ODI-RUNS-S  \\\n",
       "0       Abdulla    2  South Africa   Allrounder       0       0           0   \n",
       "1  Abdur Razzak    2    Bangladesh       Bowler     266      18         657   \n",
       "2       Agarkar    2         India       Bowler     669      58        1269   \n",
       "3        Ashwin    1         India       Bowler     308      31         241   \n",
       "4     Badrinath    2         India      Batsman     109       0          79   \n",
       "\n",
       "   ODI-SR-B  ODI-WKTS  ODI-SR-BL  ...  HS    AVE    SR-B  SIXERS  RUNS-C  \\\n",
       "0      0.00         0        0.0  ...   0   0.00    0.00       0     307   \n",
       "1     71.41       185       37.6  ...   0   0.00    0.00       0      29   \n",
       "2     80.62       288       32.9  ...  39  18.56  121.01       5    1059   \n",
       "3     84.56        51       36.8  ...  11   5.80   76.32       0    1125   \n",
       "4     45.93         0        0.0  ...  71  32.93  120.71      28       0   \n",
       "\n",
       "   WKTS  AVE-BL   ECON  SR-BL  SOLD PRICE  \n",
       "0    15   20.47   9.90  13.93       50000  \n",
       "1     0    0.00  17.50   0.00       50000  \n",
       "2    29   36.52   8.81  24.90      350000  \n",
       "3    49   22.96   8.23  22.14      850000  \n",
       "4     0    0.00   1.00   0.00      800000  \n",
       "\n",
       "[5 rows x 22 columns]"
      ]
     },
     "execution_count": 3,
     "metadata": {},
     "output_type": "execute_result"
    }
   ],
   "source": [
    "df_cric=pd.read_csv('ipl_player_auction.csv')\n",
    "df_cric.head()"
   ]
  },
  {
   "cell_type": "code",
   "execution_count": 4,
   "id": "2b572550",
   "metadata": {},
   "outputs": [
    {
     "name": "stdout",
     "output_type": "stream",
     "text": [
      "<class 'pandas.core.frame.DataFrame'>\n",
      "RangeIndex: 130 entries, 0 to 129\n",
      "Data columns (total 22 columns):\n",
      " #   Column         Non-Null Count  Dtype  \n",
      "---  ------         --------------  -----  \n",
      " 0   PLAYER NAME    130 non-null    object \n",
      " 1   AGE            130 non-null    int64  \n",
      " 2   COUNTRY        130 non-null    object \n",
      " 3   PLAYING ROLE   130 non-null    object \n",
      " 4   T-RUNS         130 non-null    int64  \n",
      " 5   T-WKTS         130 non-null    int64  \n",
      " 6   ODI-RUNS-S     130 non-null    int64  \n",
      " 7   ODI-SR-B       130 non-null    float64\n",
      " 8   ODI-WKTS       130 non-null    int64  \n",
      " 9   ODI-SR-BL      130 non-null    float64\n",
      " 10  CAPTAINCY EXP  130 non-null    int64  \n",
      " 11  RUNS-S         130 non-null    int64  \n",
      " 12  HS             130 non-null    int64  \n",
      " 13  AVE            130 non-null    float64\n",
      " 14  SR-B           130 non-null    float64\n",
      " 15  SIXERS         130 non-null    int64  \n",
      " 16  RUNS-C         130 non-null    int64  \n",
      " 17  WKTS           130 non-null    int64  \n",
      " 18  AVE-BL         130 non-null    float64\n",
      " 19  ECON           130 non-null    float64\n",
      " 20  SR-BL          130 non-null    float64\n",
      " 21  SOLD PRICE     130 non-null    int64  \n",
      "dtypes: float64(7), int64(12), object(3)\n",
      "memory usage: 22.5+ KB\n"
     ]
    }
   ],
   "source": [
    "df_cric.info()"
   ]
  },
  {
   "cell_type": "code",
   "execution_count": 6,
   "id": "3fdbe1f2",
   "metadata": {},
   "outputs": [
    {
     "data": {
      "text/html": [
       "<div>\n",
       "<style scoped>\n",
       "    .dataframe tbody tr th:only-of-type {\n",
       "        vertical-align: middle;\n",
       "    }\n",
       "\n",
       "    .dataframe tbody tr th {\n",
       "        vertical-align: top;\n",
       "    }\n",
       "\n",
       "    .dataframe thead th {\n",
       "        text-align: right;\n",
       "    }\n",
       "</style>\n",
       "<table border=\"1\" class=\"dataframe\">\n",
       "  <thead>\n",
       "    <tr style=\"text-align: right;\">\n",
       "      <th></th>\n",
       "      <th>AGE</th>\n",
       "      <th>T-RUNS</th>\n",
       "      <th>T-WKTS</th>\n",
       "      <th>ODI-RUNS-S</th>\n",
       "      <th>ODI-SR-B</th>\n",
       "      <th>ODI-WKTS</th>\n",
       "      <th>ODI-SR-BL</th>\n",
       "      <th>CAPTAINCY EXP</th>\n",
       "      <th>RUNS-S</th>\n",
       "      <th>HS</th>\n",
       "      <th>AVE</th>\n",
       "      <th>SR-B</th>\n",
       "      <th>SIXERS</th>\n",
       "      <th>RUNS-C</th>\n",
       "      <th>WKTS</th>\n",
       "      <th>AVE-BL</th>\n",
       "      <th>ECON</th>\n",
       "      <th>SR-BL</th>\n",
       "      <th>SOLD PRICE</th>\n",
       "    </tr>\n",
       "  </thead>\n",
       "  <tbody>\n",
       "    <tr>\n",
       "      <th>count</th>\n",
       "      <td>130.000000</td>\n",
       "      <td>130.000000</td>\n",
       "      <td>130.000000</td>\n",
       "      <td>130.000000</td>\n",
       "      <td>130.000000</td>\n",
       "      <td>130.000000</td>\n",
       "      <td>130.000000</td>\n",
       "      <td>130.000000</td>\n",
       "      <td>130.000000</td>\n",
       "      <td>130.000000</td>\n",
       "      <td>130.000000</td>\n",
       "      <td>130.000000</td>\n",
       "      <td>130.000000</td>\n",
       "      <td>130.000000</td>\n",
       "      <td>130.000000</td>\n",
       "      <td>130.000000</td>\n",
       "      <td>130.000000</td>\n",
       "      <td>130.000000</td>\n",
       "      <td>1.300000e+02</td>\n",
       "    </tr>\n",
       "    <tr>\n",
       "      <th>mean</th>\n",
       "      <td>2.092308</td>\n",
       "      <td>2220.569231</td>\n",
       "      <td>66.530769</td>\n",
       "      <td>2508.738462</td>\n",
       "      <td>71.185231</td>\n",
       "      <td>76.076923</td>\n",
       "      <td>34.033846</td>\n",
       "      <td>0.315385</td>\n",
       "      <td>514.492308</td>\n",
       "      <td>47.430769</td>\n",
       "      <td>18.719308</td>\n",
       "      <td>111.035615</td>\n",
       "      <td>17.692308</td>\n",
       "      <td>475.523077</td>\n",
       "      <td>17.107692</td>\n",
       "      <td>23.027154</td>\n",
       "      <td>7.689077</td>\n",
       "      <td>17.382615</td>\n",
       "      <td>5.212231e+05</td>\n",
       "    </tr>\n",
       "    <tr>\n",
       "      <th>std</th>\n",
       "      <td>0.576627</td>\n",
       "      <td>3304.509453</td>\n",
       "      <td>142.676855</td>\n",
       "      <td>3582.205625</td>\n",
       "      <td>25.912831</td>\n",
       "      <td>111.205070</td>\n",
       "      <td>26.751749</td>\n",
       "      <td>0.466466</td>\n",
       "      <td>615.582566</td>\n",
       "      <td>36.403624</td>\n",
       "      <td>11.094224</td>\n",
       "      <td>35.923843</td>\n",
       "      <td>23.828146</td>\n",
       "      <td>558.314049</td>\n",
       "      <td>21.822841</td>\n",
       "      <td>20.792672</td>\n",
       "      <td>5.245169</td>\n",
       "      <td>15.273422</td>\n",
       "      <td>4.068074e+05</td>\n",
       "    </tr>\n",
       "    <tr>\n",
       "      <th>min</th>\n",
       "      <td>1.000000</td>\n",
       "      <td>0.000000</td>\n",
       "      <td>0.000000</td>\n",
       "      <td>0.000000</td>\n",
       "      <td>0.000000</td>\n",
       "      <td>0.000000</td>\n",
       "      <td>0.000000</td>\n",
       "      <td>0.000000</td>\n",
       "      <td>0.000000</td>\n",
       "      <td>0.000000</td>\n",
       "      <td>0.000000</td>\n",
       "      <td>0.000000</td>\n",
       "      <td>0.000000</td>\n",
       "      <td>0.000000</td>\n",
       "      <td>0.000000</td>\n",
       "      <td>0.000000</td>\n",
       "      <td>0.000000</td>\n",
       "      <td>0.000000</td>\n",
       "      <td>2.000000e+04</td>\n",
       "    </tr>\n",
       "    <tr>\n",
       "      <th>25%</th>\n",
       "      <td>2.000000</td>\n",
       "      <td>94.000000</td>\n",
       "      <td>0.000000</td>\n",
       "      <td>73.250000</td>\n",
       "      <td>65.632500</td>\n",
       "      <td>0.000000</td>\n",
       "      <td>0.000000</td>\n",
       "      <td>0.000000</td>\n",
       "      <td>39.000000</td>\n",
       "      <td>16.000000</td>\n",
       "      <td>9.825000</td>\n",
       "      <td>98.237500</td>\n",
       "      <td>1.000000</td>\n",
       "      <td>0.000000</td>\n",
       "      <td>0.000000</td>\n",
       "      <td>0.000000</td>\n",
       "      <td>3.000000</td>\n",
       "      <td>0.000000</td>\n",
       "      <td>2.250000e+05</td>\n",
       "    </tr>\n",
       "    <tr>\n",
       "      <th>50%</th>\n",
       "      <td>2.000000</td>\n",
       "      <td>624.500000</td>\n",
       "      <td>7.000000</td>\n",
       "      <td>835.000000</td>\n",
       "      <td>78.225000</td>\n",
       "      <td>18.500000</td>\n",
       "      <td>36.600000</td>\n",
       "      <td>0.000000</td>\n",
       "      <td>172.000000</td>\n",
       "      <td>35.500000</td>\n",
       "      <td>18.635000</td>\n",
       "      <td>118.510000</td>\n",
       "      <td>6.000000</td>\n",
       "      <td>297.000000</td>\n",
       "      <td>8.500000</td>\n",
       "      <td>24.605000</td>\n",
       "      <td>8.585000</td>\n",
       "      <td>19.935000</td>\n",
       "      <td>4.375000e+05</td>\n",
       "    </tr>\n",
       "    <tr>\n",
       "      <th>75%</th>\n",
       "      <td>2.000000</td>\n",
       "      <td>3061.000000</td>\n",
       "      <td>47.500000</td>\n",
       "      <td>3523.500000</td>\n",
       "      <td>86.790000</td>\n",
       "      <td>106.000000</td>\n",
       "      <td>45.325000</td>\n",
       "      <td>1.000000</td>\n",
       "      <td>925.250000</td>\n",
       "      <td>73.750000</td>\n",
       "      <td>27.872500</td>\n",
       "      <td>129.102500</td>\n",
       "      <td>29.750000</td>\n",
       "      <td>689.250000</td>\n",
       "      <td>23.750000</td>\n",
       "      <td>35.580000</td>\n",
       "      <td>10.255000</td>\n",
       "      <td>26.212500</td>\n",
       "      <td>7.000000e+05</td>\n",
       "    </tr>\n",
       "    <tr>\n",
       "      <th>max</th>\n",
       "      <td>3.000000</td>\n",
       "      <td>15530.000000</td>\n",
       "      <td>800.000000</td>\n",
       "      <td>18426.000000</td>\n",
       "      <td>116.660000</td>\n",
       "      <td>534.000000</td>\n",
       "      <td>150.000000</td>\n",
       "      <td>1.000000</td>\n",
       "      <td>2254.000000</td>\n",
       "      <td>158.000000</td>\n",
       "      <td>50.110000</td>\n",
       "      <td>235.490000</td>\n",
       "      <td>129.000000</td>\n",
       "      <td>1975.000000</td>\n",
       "      <td>83.000000</td>\n",
       "      <td>126.300000</td>\n",
       "      <td>39.110000</td>\n",
       "      <td>100.200000</td>\n",
       "      <td>1.800000e+06</td>\n",
       "    </tr>\n",
       "  </tbody>\n",
       "</table>\n",
       "</div>"
      ],
      "text/plain": [
       "              AGE        T-RUNS      T-WKTS    ODI-RUNS-S    ODI-SR-B  \\\n",
       "count  130.000000    130.000000  130.000000    130.000000  130.000000   \n",
       "mean     2.092308   2220.569231   66.530769   2508.738462   71.185231   \n",
       "std      0.576627   3304.509453  142.676855   3582.205625   25.912831   \n",
       "min      1.000000      0.000000    0.000000      0.000000    0.000000   \n",
       "25%      2.000000     94.000000    0.000000     73.250000   65.632500   \n",
       "50%      2.000000    624.500000    7.000000    835.000000   78.225000   \n",
       "75%      2.000000   3061.000000   47.500000   3523.500000   86.790000   \n",
       "max      3.000000  15530.000000  800.000000  18426.000000  116.660000   \n",
       "\n",
       "         ODI-WKTS   ODI-SR-BL  CAPTAINCY EXP       RUNS-S          HS  \\\n",
       "count  130.000000  130.000000     130.000000   130.000000  130.000000   \n",
       "mean    76.076923   34.033846       0.315385   514.492308   47.430769   \n",
       "std    111.205070   26.751749       0.466466   615.582566   36.403624   \n",
       "min      0.000000    0.000000       0.000000     0.000000    0.000000   \n",
       "25%      0.000000    0.000000       0.000000    39.000000   16.000000   \n",
       "50%     18.500000   36.600000       0.000000   172.000000   35.500000   \n",
       "75%    106.000000   45.325000       1.000000   925.250000   73.750000   \n",
       "max    534.000000  150.000000       1.000000  2254.000000  158.000000   \n",
       "\n",
       "              AVE        SR-B      SIXERS       RUNS-C        WKTS  \\\n",
       "count  130.000000  130.000000  130.000000   130.000000  130.000000   \n",
       "mean    18.719308  111.035615   17.692308   475.523077   17.107692   \n",
       "std     11.094224   35.923843   23.828146   558.314049   21.822841   \n",
       "min      0.000000    0.000000    0.000000     0.000000    0.000000   \n",
       "25%      9.825000   98.237500    1.000000     0.000000    0.000000   \n",
       "50%     18.635000  118.510000    6.000000   297.000000    8.500000   \n",
       "75%     27.872500  129.102500   29.750000   689.250000   23.750000   \n",
       "max     50.110000  235.490000  129.000000  1975.000000   83.000000   \n",
       "\n",
       "           AVE-BL        ECON       SR-BL    SOLD PRICE  \n",
       "count  130.000000  130.000000  130.000000  1.300000e+02  \n",
       "mean    23.027154    7.689077   17.382615  5.212231e+05  \n",
       "std     20.792672    5.245169   15.273422  4.068074e+05  \n",
       "min      0.000000    0.000000    0.000000  2.000000e+04  \n",
       "25%      0.000000    3.000000    0.000000  2.250000e+05  \n",
       "50%     24.605000    8.585000   19.935000  4.375000e+05  \n",
       "75%     35.580000   10.255000   26.212500  7.000000e+05  \n",
       "max    126.300000   39.110000  100.200000  1.800000e+06  "
      ]
     },
     "execution_count": 6,
     "metadata": {},
     "output_type": "execute_result"
    }
   ],
   "source": [
    "df_cric.describe()"
   ]
  },
  {
   "cell_type": "code",
   "execution_count": 17,
   "id": "3b8ee16e",
   "metadata": {},
   "outputs": [
    {
     "data": {
      "text/plain": [
       "<AxesSubplot:xlabel='COUNTRY'>"
      ]
     },
     "execution_count": 17,
     "metadata": {},
     "output_type": "execute_result"
    },
    {
     "data": {
      "image/png": "[encoded data removed]",
      "text/plain": [
       "<Figure size 432x288 with 1 Axes>"
      ]
     },
     "metadata": {
      "needs_background": "light"
     },
     "output_type": "display_data"
    }
   ],
   "source": [
    "df_cric.groupby('COUNTRY')['T-RUNS'].sum().plot(kind='bar')"
   ]
  },
  {
   "cell_type": "code",
   "execution_count": 18,
   "id": "b5d372e3",
   "metadata": {},
   "outputs": [
    {
     "data": {
      "text/plain": [
       "<AxesSubplot:xlabel='COUNTRY'>"
      ]
     },
     "execution_count": 18,
     "metadata": {},
     "output_type": "execute_result"
    },
    {
     "data": {
      "image/png": "[encoded data removed]",
      "text/plain": [
       "<Figure size 432x288 with 1 Axes>"
      ]
     },
     "metadata": {
      "needs_background": "light"
     },
     "output_type": "display_data"
    }
   ],
   "source": [
    "df_cric.groupby('COUNTRY')['T-WKTS'].sum().plot(kind='bar')"
   ]
  },
  {
   "cell_type": "code",
   "execution_count": 23,
   "id": "4c8720aa",
   "metadata": {},
   "outputs": [
    {
     "data": {
      "text/plain": [
       "<AxesSubplot:xlabel='COUNTRY'>"
      ]
     },
     "execution_count": 23,
     "metadata": {},
     "output_type": "execute_result"
    },
    {
     "data": {
      "image/png": "[encoded data removed]",
      "text/plain": [
       "<Figure size 432x288 with 1 Axes>"
      ]
     },
     "metadata": {
      "needs_background": "light"
     },
     "output_type": "display_data"
    }
   ],
   "source": [
    "df_cric.groupby('COUNTRY')['ODI-RUNS-S'].sum().plot(kind='bar')"
   ]
  },
  {
   "cell_type": "code",
   "execution_count": 24,
   "id": "b566e70a",
   "metadata": {},
   "outputs": [
    {
     "data": {
      "text/plain": [
       "<AxesSubplot:xlabel='COUNTRY'>"
      ]
     },
     "execution_count": 24,
     "metadata": {},
     "output_type": "execute_result"
    },
    {
     "data": {
      "image/png": "[encoded data removed]",
      "text/plain": [
       "<Figure size 432x288 with 1 Axes>"
      ]
     },
     "metadata": {
      "needs_background": "light"
     },
     "output_type": "display_data"
    }
   ],
   "source": [
    "df_cric.groupby('COUNTRY')['ODI-RUNS-S'].sum().plot(kind='bar')"
   ]
  },
  {
   "cell_type": "code",
   "execution_count": 58,
   "id": "8a339a76",
   "metadata": {},
   "outputs": [
    {
     "data": {
      "text/plain": [
       "<AxesSubplot:xlabel='PLAYER NAME', ylabel='SOLD PRICE'>"
      ]
     },
     "execution_count": 58,
     "metadata": {},
     "output_type": "execute_result"
    },
    {
     "data": {
      "image/png": "[encoded data removed]",
      "text/plain": [
       "<Figure size 2304x576 with 1 Axes>"
      ]
     },
     "metadata": {
      "needs_background": "light"
     },
     "output_type": "display_data"
    }
   ],
   "source": [
    "plt.figure(figsize = (32,8))\n",
    "sns.barplot(y='SOLD PRICE',x='PLAYER NAME',data=df_cric,hue='COUNTRY')"
   ]
  },
  {
   "cell_type": "code",
   "execution_count": 92,
   "id": "68671e7e",
   "metadata": {},
   "outputs": [
    {
     "data": {
      "text/plain": [
       "<BarContainer object of 130 artists>"
      ]
     },
     "execution_count": 92,
     "metadata": {},
     "output_type": "execute_result"
    },
    {
     "data": {
      "image/png": "[encoded data removed]",
      "text/plain": [
       "<Figure size 720x1656 with 1 Axes>"
      ]
     },
     "metadata": {},
     "output_type": "display_data"
    }
   ],
   "source": [
    "plt.figure(figsize = (10,23))\n",
    "plt.barh(width='SOLD PRICE',y='PLAYER NAME',height=0.8,data=df_cric,color='yellow')"
   ]
  },
  {
   "cell_type": "code",
   "execution_count": 85,
   "id": "e9ffc89f",
   "metadata": {},
   "outputs": [
    {
     "data": {
      "text/plain": [
       "<AxesSubplot:xlabel='count', ylabel='SOLD PRICE'>"
      ]
     },
     "execution_count": 85,
     "metadata": {},
     "output_type": "execute_result"
    },
    {
     "data": {
      "image/png": "[encoded data removed]",
      "text/plain": [
       "<Figure size 720x1440 with 1 Axes>"
      ]
     },
     "metadata": {},
     "output_type": "display_data"
    }
   ],
   "source": [
    "plt.figure(figsize = (10,20))\n",
    "sns.set_theme(style=\"darkgrid\")\n",
    "sns.countplot(y='SOLD PRICE',data=df_cric,hue='COUNTRY',edgecolor=sns.color_palette(\"dark\", 3),linewidth=5)"
   ]
  },
  {
   "cell_type": "code",
   "execution_count": 121,
   "id": "99db840a",
   "metadata": {},
   "outputs": [
    {
     "data": {
      "text/html": [
       "<div>\n",
       "<style scoped>\n",
       "    .dataframe tbody tr th:only-of-type {\n",
       "        vertical-align: middle;\n",
       "    }\n",
       "\n",
       "    .dataframe tbody tr th {\n",
       "        vertical-align: top;\n",
       "    }\n",
       "\n",
       "    .dataframe thead th {\n",
       "        text-align: right;\n",
       "    }\n",
       "</style>\n",
       "<table border=\"1\" class=\"dataframe\">\n",
       "  <thead>\n",
       "    <tr style=\"text-align: right;\">\n",
       "      <th></th>\n",
       "      <th>AVE</th>\n",
       "    </tr>\n",
       "    <tr>\n",
       "      <th>PLAYER NAME</th>\n",
       "      <th></th>\n",
       "    </tr>\n",
       "  </thead>\n",
       "  <tbody>\n",
       "    <tr>\n",
       "      <th>Abdulla</th>\n",
       "      <td>0.00</td>\n",
       "    </tr>\n",
       "    <tr>\n",
       "      <th>Abdur Razzak</th>\n",
       "      <td>0.00</td>\n",
       "    </tr>\n",
       "    <tr>\n",
       "      <th>Agarkar</th>\n",
       "      <td>18.56</td>\n",
       "    </tr>\n",
       "    <tr>\n",
       "      <th>Ashwin</th>\n",
       "      <td>5.80</td>\n",
       "    </tr>\n",
       "    <tr>\n",
       "      <th>Badrinath</th>\n",
       "      <td>32.93</td>\n",
       "    </tr>\n",
       "    <tr>\n",
       "      <th>...</th>\n",
       "      <td>...</td>\n",
       "    </tr>\n",
       "    <tr>\n",
       "      <th>Younis Khan</th>\n",
       "      <td>3.00</td>\n",
       "    </tr>\n",
       "    <tr>\n",
       "      <th>Yuvraj Singh</th>\n",
       "      <td>26.32</td>\n",
       "    </tr>\n",
       "    <tr>\n",
       "      <th>Zaheer Khan</th>\n",
       "      <td>9.90</td>\n",
       "    </tr>\n",
       "    <tr>\n",
       "      <th>Zoysa</th>\n",
       "      <td>11.00</td>\n",
       "    </tr>\n",
       "    <tr>\n",
       "      <th>de Villiers</th>\n",
       "      <td>34.26</td>\n",
       "    </tr>\n",
       "  </tbody>\n",
       "</table>\n",
       "<p>121 rows × 1 columns</p>\n",
       "</div>"
      ],
      "text/plain": [
       "                AVE\n",
       "PLAYER NAME        \n",
       "Abdulla        0.00\n",
       "Abdur Razzak   0.00\n",
       "Agarkar       18.56\n",
       "Ashwin         5.80\n",
       "Badrinath     32.93\n",
       "...             ...\n",
       "Younis Khan    3.00\n",
       "Yuvraj Singh  26.32\n",
       "Zaheer Khan    9.90\n",
       "Zoysa         11.00\n",
       "de Villiers   34.26\n",
       "\n",
       "[121 rows x 1 columns]"
      ]
     },
     "execution_count": 121,
     "metadata": {},
     "output_type": "execute_result"
    }
   ],
   "source": [
    "pd.DataFrame(df_cric.groupby('PLAYER NAME')['AVE'].mean())"
   ]
  },
  {
   "cell_type": "code",
   "execution_count": 195,
   "id": "d7edd404",
   "metadata": {},
   "outputs": [
    {
     "data": {
      "text/html": [
       "<div>\n",
       "<style scoped>\n",
       "    .dataframe tbody tr th:only-of-type {\n",
       "        vertical-align: middle;\n",
       "    }\n",
       "\n",
       "    .dataframe tbody tr th {\n",
       "        vertical-align: top;\n",
       "    }\n",
       "\n",
       "    .dataframe thead th {\n",
       "        text-align: right;\n",
       "    }\n",
       "</style>\n",
       "<table border=\"1\" class=\"dataframe\">\n",
       "  <thead>\n",
       "    <tr style=\"text-align: right;\">\n",
       "      <th>PLAYING ROLE</th>\n",
       "      <th>Allrounder</th>\n",
       "      <th>Batsman</th>\n",
       "      <th>Bowler</th>\n",
       "      <th>W. Keeper</th>\n",
       "    </tr>\n",
       "    <tr>\n",
       "      <th>PLAYER NAME</th>\n",
       "      <th></th>\n",
       "      <th></th>\n",
       "      <th></th>\n",
       "      <th></th>\n",
       "    </tr>\n",
       "  </thead>\n",
       "  <tbody>\n",
       "    <tr>\n",
       "      <th>Abdulla</th>\n",
       "      <td>1</td>\n",
       "      <td>0</td>\n",
       "      <td>0</td>\n",
       "      <td>0</td>\n",
       "    </tr>\n",
       "    <tr>\n",
       "      <th>Abdur Razzak</th>\n",
       "      <td>0</td>\n",
       "      <td>0</td>\n",
       "      <td>1</td>\n",
       "      <td>0</td>\n",
       "    </tr>\n",
       "    <tr>\n",
       "      <th>Agarkar</th>\n",
       "      <td>0</td>\n",
       "      <td>0</td>\n",
       "      <td>1</td>\n",
       "      <td>0</td>\n",
       "    </tr>\n",
       "    <tr>\n",
       "      <th>Ashwin</th>\n",
       "      <td>0</td>\n",
       "      <td>0</td>\n",
       "      <td>1</td>\n",
       "      <td>0</td>\n",
       "    </tr>\n",
       "    <tr>\n",
       "      <th>Badrinath</th>\n",
       "      <td>0</td>\n",
       "      <td>1</td>\n",
       "      <td>0</td>\n",
       "      <td>0</td>\n",
       "    </tr>\n",
       "    <tr>\n",
       "      <th>...</th>\n",
       "      <td>...</td>\n",
       "      <td>...</td>\n",
       "      <td>...</td>\n",
       "      <td>...</td>\n",
       "    </tr>\n",
       "    <tr>\n",
       "      <th>Younis Khan</th>\n",
       "      <td>0</td>\n",
       "      <td>1</td>\n",
       "      <td>0</td>\n",
       "      <td>0</td>\n",
       "    </tr>\n",
       "    <tr>\n",
       "      <th>Yuvraj Singh</th>\n",
       "      <td>0</td>\n",
       "      <td>1</td>\n",
       "      <td>0</td>\n",
       "      <td>0</td>\n",
       "    </tr>\n",
       "    <tr>\n",
       "      <th>Zaheer Khan</th>\n",
       "      <td>0</td>\n",
       "      <td>0</td>\n",
       "      <td>1</td>\n",
       "      <td>0</td>\n",
       "    </tr>\n",
       "    <tr>\n",
       "      <th>Zoysa</th>\n",
       "      <td>0</td>\n",
       "      <td>0</td>\n",
       "      <td>1</td>\n",
       "      <td>0</td>\n",
       "    </tr>\n",
       "    <tr>\n",
       "      <th>de Villiers</th>\n",
       "      <td>0</td>\n",
       "      <td>0</td>\n",
       "      <td>0</td>\n",
       "      <td>1</td>\n",
       "    </tr>\n",
       "  </tbody>\n",
       "</table>\n",
       "<p>121 rows × 4 columns</p>\n",
       "</div>"
      ],
      "text/plain": [
       "PLAYING ROLE  Allrounder  Batsman  Bowler  W. Keeper\n",
       "PLAYER NAME                                         \n",
       "Abdulla                1        0       0          0\n",
       "Abdur Razzak           0        0       1          0\n",
       "Agarkar                0        0       1          0\n",
       "Ashwin                 0        0       1          0\n",
       "Badrinath              0        1       0          0\n",
       "...                  ...      ...     ...        ...\n",
       "Younis Khan            0        1       0          0\n",
       "Yuvraj Singh           0        1       0          0\n",
       "Zaheer Khan            0        0       1          0\n",
       "Zoysa                  0        0       1          0\n",
       "de Villiers            0        0       0          1\n",
       "\n",
       "[121 rows x 4 columns]"
      ]
     },
     "execution_count": 195,
     "metadata": {},
     "output_type": "execute_result"
    }
   ],
   "source": [
    "pd.crosstab(df_cric['PLAYER NAME'],df_cric['PLAYING ROLE'])"
   ]
  },
  {
   "cell_type": "code",
   "execution_count": 150,
   "id": "2795d37d",
   "metadata": {},
   "outputs": [
    {
     "data": {
      "text/html": [
       "<div>\n",
       "<style scoped>\n",
       "    .dataframe tbody tr th:only-of-type {\n",
       "        vertical-align: middle;\n",
       "    }\n",
       "\n",
       "    .dataframe tbody tr th {\n",
       "        vertical-align: top;\n",
       "    }\n",
       "\n",
       "    .dataframe thead th {\n",
       "        text-align: right;\n",
       "    }\n",
       "</style>\n",
       "<table border=\"1\" class=\"dataframe\">\n",
       "  <thead>\n",
       "    <tr style=\"text-align: right;\">\n",
       "      <th></th>\n",
       "      <th></th>\n",
       "      <th>AGE</th>\n",
       "      <th>T-RUNS</th>\n",
       "      <th>T-WKTS</th>\n",
       "      <th>ODI-RUNS-S</th>\n",
       "      <th>ODI-SR-B</th>\n",
       "      <th>ODI-WKTS</th>\n",
       "      <th>ODI-SR-BL</th>\n",
       "      <th>CAPTAINCY EXP</th>\n",
       "      <th>RUNS-S</th>\n",
       "      <th>HS</th>\n",
       "      <th>AVE</th>\n",
       "      <th>SR-B</th>\n",
       "      <th>SIXERS</th>\n",
       "      <th>RUNS-C</th>\n",
       "      <th>WKTS</th>\n",
       "      <th>AVE-BL</th>\n",
       "      <th>ECON</th>\n",
       "      <th>SR-BL</th>\n",
       "      <th>SOLD PRICE</th>\n",
       "    </tr>\n",
       "    <tr>\n",
       "      <th>PLAYING ROLE</th>\n",
       "      <th>PLAYER NAME</th>\n",
       "      <th></th>\n",
       "      <th></th>\n",
       "      <th></th>\n",
       "      <th></th>\n",
       "      <th></th>\n",
       "      <th></th>\n",
       "      <th></th>\n",
       "      <th></th>\n",
       "      <th></th>\n",
       "      <th></th>\n",
       "      <th></th>\n",
       "      <th></th>\n",
       "      <th></th>\n",
       "      <th></th>\n",
       "      <th></th>\n",
       "      <th></th>\n",
       "      <th></th>\n",
       "      <th></th>\n",
       "      <th></th>\n",
       "    </tr>\n",
       "  </thead>\n",
       "  <tbody>\n",
       "    <tr>\n",
       "      <th rowspan=\"5\" valign=\"top\">Allrounder</th>\n",
       "      <th>Abdulla</th>\n",
       "      <td>2.0</td>\n",
       "      <td>0.0</td>\n",
       "      <td>0.0</td>\n",
       "      <td>0.0</td>\n",
       "      <td>0.00</td>\n",
       "      <td>0.0</td>\n",
       "      <td>0.0</td>\n",
       "      <td>0.0</td>\n",
       "      <td>0.0</td>\n",
       "      <td>0.0</td>\n",
       "      <td>0.00</td>\n",
       "      <td>0.00</td>\n",
       "      <td>0.0</td>\n",
       "      <td>307.0</td>\n",
       "      <td>15.0</td>\n",
       "      <td>20.47</td>\n",
       "      <td>9.90</td>\n",
       "      <td>13.93</td>\n",
       "      <td>50000.0</td>\n",
       "    </tr>\n",
       "    <tr>\n",
       "      <th>Botha</th>\n",
       "      <td>2.0</td>\n",
       "      <td>133.0</td>\n",
       "      <td>17.0</td>\n",
       "      <td>609.0</td>\n",
       "      <td>85.77</td>\n",
       "      <td>72.0</td>\n",
       "      <td>53.0</td>\n",
       "      <td>1.0</td>\n",
       "      <td>335.0</td>\n",
       "      <td>67.0</td>\n",
       "      <td>30.45</td>\n",
       "      <td>114.73</td>\n",
       "      <td>3.0</td>\n",
       "      <td>610.0</td>\n",
       "      <td>11.0</td>\n",
       "      <td>32.11</td>\n",
       "      <td>9.85</td>\n",
       "      <td>28.11</td>\n",
       "      <td>950000.0</td>\n",
       "    </tr>\n",
       "    <tr>\n",
       "      <th>Bravo</th>\n",
       "      <td>2.0</td>\n",
       "      <td>2219.0</td>\n",
       "      <td>86.0</td>\n",
       "      <td>2004.0</td>\n",
       "      <td>81.39</td>\n",
       "      <td>142.0</td>\n",
       "      <td>34.1</td>\n",
       "      <td>0.0</td>\n",
       "      <td>839.0</td>\n",
       "      <td>70.0</td>\n",
       "      <td>27.97</td>\n",
       "      <td>127.12</td>\n",
       "      <td>38.0</td>\n",
       "      <td>1338.0</td>\n",
       "      <td>47.0</td>\n",
       "      <td>28.47</td>\n",
       "      <td>8.12</td>\n",
       "      <td>21.11</td>\n",
       "      <td>200000.0</td>\n",
       "    </tr>\n",
       "    <tr>\n",
       "      <th>Chawla</th>\n",
       "      <td>1.0</td>\n",
       "      <td>64.0</td>\n",
       "      <td>3.0</td>\n",
       "      <td>38.0</td>\n",
       "      <td>65.51</td>\n",
       "      <td>32.0</td>\n",
       "      <td>41.0</td>\n",
       "      <td>0.0</td>\n",
       "      <td>337.0</td>\n",
       "      <td>24.0</td>\n",
       "      <td>13.48</td>\n",
       "      <td>113.09</td>\n",
       "      <td>9.0</td>\n",
       "      <td>1819.0</td>\n",
       "      <td>73.0</td>\n",
       "      <td>126.30</td>\n",
       "      <td>39.11</td>\n",
       "      <td>100.20</td>\n",
       "      <td>400000.0</td>\n",
       "    </tr>\n",
       "    <tr>\n",
       "      <th>Dilshan</th>\n",
       "      <td>2.0</td>\n",
       "      <td>4820.0</td>\n",
       "      <td>32.0</td>\n",
       "      <td>6455.0</td>\n",
       "      <td>86.80</td>\n",
       "      <td>67.0</td>\n",
       "      <td>58.3</td>\n",
       "      <td>1.0</td>\n",
       "      <td>1077.0</td>\n",
       "      <td>76.0</td>\n",
       "      <td>28.34</td>\n",
       "      <td>117.83</td>\n",
       "      <td>24.0</td>\n",
       "      <td>356.0</td>\n",
       "      <td>5.0</td>\n",
       "      <td>71.20</td>\n",
       "      <td>11.07</td>\n",
       "      <td>53.00</td>\n",
       "      <td>250000.0</td>\n",
       "    </tr>\n",
       "    <tr>\n",
       "      <th>...</th>\n",
       "      <th>...</th>\n",
       "      <td>...</td>\n",
       "      <td>...</td>\n",
       "      <td>...</td>\n",
       "      <td>...</td>\n",
       "      <td>...</td>\n",
       "      <td>...</td>\n",
       "      <td>...</td>\n",
       "      <td>...</td>\n",
       "      <td>...</td>\n",
       "      <td>...</td>\n",
       "      <td>...</td>\n",
       "      <td>...</td>\n",
       "      <td>...</td>\n",
       "      <td>...</td>\n",
       "      <td>...</td>\n",
       "      <td>...</td>\n",
       "      <td>...</td>\n",
       "      <td>...</td>\n",
       "      <td>...</td>\n",
       "    </tr>\n",
       "    <tr>\n",
       "      <th rowspan=\"5\" valign=\"top\">W. Keeper</th>\n",
       "      <th>Patel</th>\n",
       "      <td>2.0</td>\n",
       "      <td>781.0</td>\n",
       "      <td>0.0</td>\n",
       "      <td>736.0</td>\n",
       "      <td>76.50</td>\n",
       "      <td>0.0</td>\n",
       "      <td>0.0</td>\n",
       "      <td>0.0</td>\n",
       "      <td>912.0</td>\n",
       "      <td>57.0</td>\n",
       "      <td>20.27</td>\n",
       "      <td>107.29</td>\n",
       "      <td>13.0</td>\n",
       "      <td>0.0</td>\n",
       "      <td>0.0</td>\n",
       "      <td>0.00</td>\n",
       "      <td>2.00</td>\n",
       "      <td>0.00</td>\n",
       "      <td>325000.0</td>\n",
       "    </tr>\n",
       "    <tr>\n",
       "      <th>Saha</th>\n",
       "      <td>2.0</td>\n",
       "      <td>109.0</td>\n",
       "      <td>0.0</td>\n",
       "      <td>4.0</td>\n",
       "      <td>80.00</td>\n",
       "      <td>0.0</td>\n",
       "      <td>0.0</td>\n",
       "      <td>0.0</td>\n",
       "      <td>372.0</td>\n",
       "      <td>59.0</td>\n",
       "      <td>28.62</td>\n",
       "      <td>128.28</td>\n",
       "      <td>16.0</td>\n",
       "      <td>0.0</td>\n",
       "      <td>0.0</td>\n",
       "      <td>0.00</td>\n",
       "      <td>0.00</td>\n",
       "      <td>0.00</td>\n",
       "      <td>100000.0</td>\n",
       "    </tr>\n",
       "    <tr>\n",
       "      <th>Sangakkara</th>\n",
       "      <td>2.0</td>\n",
       "      <td>9443.0</td>\n",
       "      <td>0.0</td>\n",
       "      <td>10472.0</td>\n",
       "      <td>75.75</td>\n",
       "      <td>0.0</td>\n",
       "      <td>0.0</td>\n",
       "      <td>1.0</td>\n",
       "      <td>1567.0</td>\n",
       "      <td>94.0</td>\n",
       "      <td>27.98</td>\n",
       "      <td>124.76</td>\n",
       "      <td>27.0</td>\n",
       "      <td>0.0</td>\n",
       "      <td>0.0</td>\n",
       "      <td>0.00</td>\n",
       "      <td>0.00</td>\n",
       "      <td>0.00</td>\n",
       "      <td>700000.0</td>\n",
       "    </tr>\n",
       "    <tr>\n",
       "      <th>Taibu</th>\n",
       "      <td>2.0</td>\n",
       "      <td>1616.0</td>\n",
       "      <td>1.0</td>\n",
       "      <td>3393.0</td>\n",
       "      <td>67.58</td>\n",
       "      <td>2.0</td>\n",
       "      <td>42.0</td>\n",
       "      <td>1.0</td>\n",
       "      <td>31.0</td>\n",
       "      <td>15.0</td>\n",
       "      <td>10.33</td>\n",
       "      <td>119.23</td>\n",
       "      <td>0.0</td>\n",
       "      <td>0.0</td>\n",
       "      <td>0.0</td>\n",
       "      <td>0.00</td>\n",
       "      <td>0.00</td>\n",
       "      <td>0.00</td>\n",
       "      <td>125000.0</td>\n",
       "    </tr>\n",
       "    <tr>\n",
       "      <th>de Villiers</th>\n",
       "      <td>2.0</td>\n",
       "      <td>5545.0</td>\n",
       "      <td>2.0</td>\n",
       "      <td>4998.0</td>\n",
       "      <td>93.19</td>\n",
       "      <td>0.0</td>\n",
       "      <td>0.0</td>\n",
       "      <td>1.0</td>\n",
       "      <td>1302.0</td>\n",
       "      <td>105.0</td>\n",
       "      <td>34.26</td>\n",
       "      <td>128.53</td>\n",
       "      <td>42.0</td>\n",
       "      <td>0.0</td>\n",
       "      <td>0.0</td>\n",
       "      <td>0.00</td>\n",
       "      <td>2.00</td>\n",
       "      <td>0.00</td>\n",
       "      <td>300000.0</td>\n",
       "    </tr>\n",
       "  </tbody>\n",
       "</table>\n",
       "<p>128 rows × 19 columns</p>\n",
       "</div>"
      ],
      "text/plain": [
       "                          AGE  T-RUNS  T-WKTS  ODI-RUNS-S  ODI-SR-B  ODI-WKTS  \\\n",
       "PLAYING ROLE PLAYER NAME                                                        \n",
       "Allrounder   Abdulla      2.0     0.0     0.0         0.0      0.00       0.0   \n",
       "             Botha        2.0   133.0    17.0       609.0     85.77      72.0   \n",
       "             Bravo        2.0  2219.0    86.0      2004.0     81.39     142.0   \n",
       "             Chawla       1.0    64.0     3.0        38.0     65.51      32.0   \n",
       "             Dilshan      2.0  4820.0    32.0      6455.0     86.80      67.0   \n",
       "...                       ...     ...     ...         ...       ...       ...   \n",
       "W. Keeper    Patel        2.0   781.0     0.0       736.0     76.50       0.0   \n",
       "             Saha         2.0   109.0     0.0         4.0     80.00       0.0   \n",
       "             Sangakkara   2.0  9443.0     0.0     10472.0     75.75       0.0   \n",
       "             Taibu        2.0  1616.0     1.0      3393.0     67.58       2.0   \n",
       "             de Villiers  2.0  5545.0     2.0      4998.0     93.19       0.0   \n",
       "\n",
       "                          ODI-SR-BL  CAPTAINCY EXP  RUNS-S     HS    AVE  \\\n",
       "PLAYING ROLE PLAYER NAME                                                   \n",
       "Allrounder   Abdulla            0.0            0.0     0.0    0.0   0.00   \n",
       "             Botha             53.0            1.0   335.0   67.0  30.45   \n",
       "             Bravo             34.1            0.0   839.0   70.0  27.97   \n",
       "             Chawla            41.0            0.0   337.0   24.0  13.48   \n",
       "             Dilshan           58.3            1.0  1077.0   76.0  28.34   \n",
       "...                             ...            ...     ...    ...    ...   \n",
       "W. Keeper    Patel              0.0            0.0   912.0   57.0  20.27   \n",
       "             Saha               0.0            0.0   372.0   59.0  28.62   \n",
       "             Sangakkara         0.0            1.0  1567.0   94.0  27.98   \n",
       "             Taibu             42.0            1.0    31.0   15.0  10.33   \n",
       "             de Villiers        0.0            1.0  1302.0  105.0  34.26   \n",
       "\n",
       "                            SR-B  SIXERS  RUNS-C  WKTS  AVE-BL   ECON   SR-BL  \\\n",
       "PLAYING ROLE PLAYER NAME                                                        \n",
       "Allrounder   Abdulla        0.00     0.0   307.0  15.0   20.47   9.90   13.93   \n",
       "             Botha        114.73     3.0   610.0  11.0   32.11   9.85   28.11   \n",
       "             Bravo        127.12    38.0  1338.0  47.0   28.47   8.12   21.11   \n",
       "             Chawla       113.09     9.0  1819.0  73.0  126.30  39.11  100.20   \n",
       "             Dilshan      117.83    24.0   356.0   5.0   71.20  11.07   53.00   \n",
       "...                          ...     ...     ...   ...     ...    ...     ...   \n",
       "W. Keeper    Patel        107.29    13.0     0.0   0.0    0.00   2.00    0.00   \n",
       "             Saha         128.28    16.0     0.0   0.0    0.00   0.00    0.00   \n",
       "             Sangakkara   124.76    27.0     0.0   0.0    0.00   0.00    0.00   \n",
       "             Taibu        119.23     0.0     0.0   0.0    0.00   0.00    0.00   \n",
       "             de Villiers  128.53    42.0     0.0   0.0    0.00   2.00    0.00   \n",
       "\n",
       "                          SOLD PRICE  \n",
       "PLAYING ROLE PLAYER NAME              \n",
       "Allrounder   Abdulla         50000.0  \n",
       "             Botha          950000.0  \n",
       "             Bravo          200000.0  \n",
       "             Chawla         400000.0  \n",
       "             Dilshan        250000.0  \n",
       "...                              ...  \n",
       "W. Keeper    Patel          325000.0  \n",
       "             Saha           100000.0  \n",
       "             Sangakkara     700000.0  \n",
       "             Taibu          125000.0  \n",
       "             de Villiers    300000.0  \n",
       "\n",
       "[128 rows x 19 columns]"
      ]
     },
     "execution_count": 150,
     "metadata": {},
     "output_type": "execute_result"
    }
   ],
   "source": [
    "df_cric.groupby(['PLAYING ROLE','PLAYER NAME']).agg(np.mean)"
   ]
  },
  {
   "cell_type": "code",
   "execution_count": 182,
   "id": "d12cd3da",
   "metadata": {},
   "outputs": [
    {
     "data": {
      "text/html": [
       "<div>\n",
       "<style scoped>\n",
       "    .dataframe tbody tr th:only-of-type {\n",
       "        vertical-align: middle;\n",
       "    }\n",
       "\n",
       "    .dataframe tbody tr th {\n",
       "        vertical-align: top;\n",
       "    }\n",
       "\n",
       "    .dataframe thead th {\n",
       "        text-align: right;\n",
       "    }\n",
       "</style>\n",
       "<table border=\"1\" class=\"dataframe\">\n",
       "  <thead>\n",
       "    <tr style=\"text-align: right;\">\n",
       "      <th></th>\n",
       "      <th>PLAYER NAME</th>\n",
       "      <th>AGE</th>\n",
       "      <th>COUNTRY</th>\n",
       "      <th>PLAYING ROLE</th>\n",
       "      <th>T-RUNS</th>\n",
       "      <th>T-WKTS</th>\n",
       "      <th>ODI-RUNS-S</th>\n",
       "      <th>ODI-SR-B</th>\n",
       "      <th>ODI-WKTS</th>\n",
       "      <th>ODI-SR-BL</th>\n",
       "      <th>...</th>\n",
       "      <th>HS</th>\n",
       "      <th>AVE</th>\n",
       "      <th>SR-B</th>\n",
       "      <th>SIXERS</th>\n",
       "      <th>RUNS-C</th>\n",
       "      <th>WKTS</th>\n",
       "      <th>AVE-BL</th>\n",
       "      <th>ECON</th>\n",
       "      <th>SR-BL</th>\n",
       "      <th>SOLD PRICE</th>\n",
       "    </tr>\n",
       "  </thead>\n",
       "  <tbody>\n",
       "    <tr>\n",
       "      <th>50</th>\n",
       "      <td>Kohli</td>\n",
       "      <td>1</td>\n",
       "      <td>India</td>\n",
       "      <td>Batsman</td>\n",
       "      <td>548</td>\n",
       "      <td>0</td>\n",
       "      <td>3590</td>\n",
       "      <td>86.31</td>\n",
       "      <td>2</td>\n",
       "      <td>137.0</td>\n",
       "      <td>...</td>\n",
       "      <td>73</td>\n",
       "      <td>28.26</td>\n",
       "      <td>119.29</td>\n",
       "      <td>49</td>\n",
       "      <td>345</td>\n",
       "      <td>4</td>\n",
       "      <td>86.25</td>\n",
       "      <td>8.84</td>\n",
       "      <td>58.50</td>\n",
       "      <td>1800000</td>\n",
       "    </tr>\n",
       "    <tr>\n",
       "      <th>93</th>\n",
       "      <td>Sehwag</td>\n",
       "      <td>2</td>\n",
       "      <td>India</td>\n",
       "      <td>Batsman</td>\n",
       "      <td>8197</td>\n",
       "      <td>40</td>\n",
       "      <td>8090</td>\n",
       "      <td>104.68</td>\n",
       "      <td>95</td>\n",
       "      <td>45.4</td>\n",
       "      <td>...</td>\n",
       "      <td>119</td>\n",
       "      <td>30.31</td>\n",
       "      <td>167.32</td>\n",
       "      <td>79</td>\n",
       "      <td>226</td>\n",
       "      <td>6</td>\n",
       "      <td>37.67</td>\n",
       "      <td>13.56</td>\n",
       "      <td>21.67</td>\n",
       "      <td>1800000</td>\n",
       "    </tr>\n",
       "    <tr>\n",
       "      <th>111</th>\n",
       "      <td>Tendulkar</td>\n",
       "      <td>3</td>\n",
       "      <td>India</td>\n",
       "      <td>Batsman</td>\n",
       "      <td>15530</td>\n",
       "      <td>45</td>\n",
       "      <td>18426</td>\n",
       "      <td>86.23</td>\n",
       "      <td>154</td>\n",
       "      <td>52.2</td>\n",
       "      <td>...</td>\n",
       "      <td>100</td>\n",
       "      <td>37.91</td>\n",
       "      <td>119.22</td>\n",
       "      <td>24</td>\n",
       "      <td>58</td>\n",
       "      <td>0</td>\n",
       "      <td>0.00</td>\n",
       "      <td>10.67</td>\n",
       "      <td>0.00</td>\n",
       "      <td>1800000</td>\n",
       "    </tr>\n",
       "    <tr>\n",
       "      <th>127</th>\n",
       "      <td>Yuvraj Singh</td>\n",
       "      <td>2</td>\n",
       "      <td>India</td>\n",
       "      <td>Batsman</td>\n",
       "      <td>1785</td>\n",
       "      <td>9</td>\n",
       "      <td>8051</td>\n",
       "      <td>87.58</td>\n",
       "      <td>109</td>\n",
       "      <td>44.3</td>\n",
       "      <td>...</td>\n",
       "      <td>66</td>\n",
       "      <td>26.32</td>\n",
       "      <td>131.88</td>\n",
       "      <td>67</td>\n",
       "      <td>569</td>\n",
       "      <td>23</td>\n",
       "      <td>24.74</td>\n",
       "      <td>8.02</td>\n",
       "      <td>21.13</td>\n",
       "      <td>1800000</td>\n",
       "    </tr>\n",
       "    <tr>\n",
       "      <th>113</th>\n",
       "      <td>Tiwary</td>\n",
       "      <td>1</td>\n",
       "      <td>India</td>\n",
       "      <td>Batsman</td>\n",
       "      <td>47</td>\n",
       "      <td>0</td>\n",
       "      <td>49</td>\n",
       "      <td>87.50</td>\n",
       "      <td>0</td>\n",
       "      <td>0.0</td>\n",
       "      <td>...</td>\n",
       "      <td>42</td>\n",
       "      <td>25.33</td>\n",
       "      <td>119.60</td>\n",
       "      <td>32</td>\n",
       "      <td>0</td>\n",
       "      <td>0</td>\n",
       "      <td>0.00</td>\n",
       "      <td>3.00</td>\n",
       "      <td>0.00</td>\n",
       "      <td>1600000</td>\n",
       "    </tr>\n",
       "    <tr>\n",
       "      <th>23</th>\n",
       "      <td>Flintoff</td>\n",
       "      <td>2</td>\n",
       "      <td>England</td>\n",
       "      <td>Allrounder</td>\n",
       "      <td>3941</td>\n",
       "      <td>226</td>\n",
       "      <td>3394</td>\n",
       "      <td>88.82</td>\n",
       "      <td>169</td>\n",
       "      <td>33.2</td>\n",
       "      <td>...</td>\n",
       "      <td>24</td>\n",
       "      <td>31.00</td>\n",
       "      <td>116.98</td>\n",
       "      <td>2</td>\n",
       "      <td>105</td>\n",
       "      <td>2</td>\n",
       "      <td>52.50</td>\n",
       "      <td>12.55</td>\n",
       "      <td>33.00</td>\n",
       "      <td>1550000</td>\n",
       "    </tr>\n",
       "    <tr>\n",
       "      <th>83</th>\n",
       "      <td>Pietersen</td>\n",
       "      <td>2</td>\n",
       "      <td>England</td>\n",
       "      <td>Batsman</td>\n",
       "      <td>6679</td>\n",
       "      <td>5</td>\n",
       "      <td>4184</td>\n",
       "      <td>86.76</td>\n",
       "      <td>7</td>\n",
       "      <td>57.1</td>\n",
       "      <td>...</td>\n",
       "      <td>103</td>\n",
       "      <td>42.27</td>\n",
       "      <td>141.20</td>\n",
       "      <td>30</td>\n",
       "      <td>215</td>\n",
       "      <td>7</td>\n",
       "      <td>30.71</td>\n",
       "      <td>7.41</td>\n",
       "      <td>24.86</td>\n",
       "      <td>1550000</td>\n",
       "    </tr>\n",
       "    <tr>\n",
       "      <th>15</th>\n",
       "      <td>Dhoni</td>\n",
       "      <td>2</td>\n",
       "      <td>India</td>\n",
       "      <td>W. Keeper</td>\n",
       "      <td>3571</td>\n",
       "      <td>0</td>\n",
       "      <td>6773</td>\n",
       "      <td>88.19</td>\n",
       "      <td>1</td>\n",
       "      <td>12.0</td>\n",
       "      <td>...</td>\n",
       "      <td>70</td>\n",
       "      <td>37.13</td>\n",
       "      <td>136.45</td>\n",
       "      <td>64</td>\n",
       "      <td>0</td>\n",
       "      <td>0</td>\n",
       "      <td>0.00</td>\n",
       "      <td>2.00</td>\n",
       "      <td>0.00</td>\n",
       "      <td>1500000</td>\n",
       "    </tr>\n",
       "    <tr>\n",
       "      <th>108</th>\n",
       "      <td>Symonds</td>\n",
       "      <td>3</td>\n",
       "      <td>Australia</td>\n",
       "      <td>Allrounder</td>\n",
       "      <td>1472</td>\n",
       "      <td>24</td>\n",
       "      <td>5088</td>\n",
       "      <td>92.44</td>\n",
       "      <td>133</td>\n",
       "      <td>44.6</td>\n",
       "      <td>...</td>\n",
       "      <td>117</td>\n",
       "      <td>36.07</td>\n",
       "      <td>129.87</td>\n",
       "      <td>41</td>\n",
       "      <td>674</td>\n",
       "      <td>20</td>\n",
       "      <td>33.70</td>\n",
       "      <td>9.70</td>\n",
       "      <td>26.35</td>\n",
       "      <td>1350000</td>\n",
       "    </tr>\n",
       "    <tr>\n",
       "      <th>110</th>\n",
       "      <td>Taylor</td>\n",
       "      <td>2</td>\n",
       "      <td>New Zealand</td>\n",
       "      <td>Batsman</td>\n",
       "      <td>2833</td>\n",
       "      <td>2</td>\n",
       "      <td>3185</td>\n",
       "      <td>81.77</td>\n",
       "      <td>0</td>\n",
       "      <td>0.0</td>\n",
       "      <td>...</td>\n",
       "      <td>81</td>\n",
       "      <td>27.97</td>\n",
       "      <td>130.28</td>\n",
       "      <td>45</td>\n",
       "      <td>24</td>\n",
       "      <td>0</td>\n",
       "      <td>0.00</td>\n",
       "      <td>15.00</td>\n",
       "      <td>0.00</td>\n",
       "      <td>1000000</td>\n",
       "    </tr>\n",
       "    <tr>\n",
       "      <th>41</th>\n",
       "      <td>Jayasuriya</td>\n",
       "      <td>3</td>\n",
       "      <td>Sri Lanka</td>\n",
       "      <td>Allrounder</td>\n",
       "      <td>7066</td>\n",
       "      <td>98</td>\n",
       "      <td>13430</td>\n",
       "      <td>91.21</td>\n",
       "      <td>323</td>\n",
       "      <td>46.0</td>\n",
       "      <td>...</td>\n",
       "      <td>114</td>\n",
       "      <td>27.43</td>\n",
       "      <td>144.36</td>\n",
       "      <td>39</td>\n",
       "      <td>390</td>\n",
       "      <td>13</td>\n",
       "      <td>30.00</td>\n",
       "      <td>7.96</td>\n",
       "      <td>22.62</td>\n",
       "      <td>975000</td>\n",
       "    </tr>\n",
       "    <tr>\n",
       "      <th>8</th>\n",
       "      <td>Botha</td>\n",
       "      <td>2</td>\n",
       "      <td>South Africa</td>\n",
       "      <td>Allrounder</td>\n",
       "      <td>133</td>\n",
       "      <td>17</td>\n",
       "      <td>609</td>\n",
       "      <td>85.77</td>\n",
       "      <td>72</td>\n",
       "      <td>53.0</td>\n",
       "      <td>...</td>\n",
       "      <td>67</td>\n",
       "      <td>30.45</td>\n",
       "      <td>114.73</td>\n",
       "      <td>3</td>\n",
       "      <td>610</td>\n",
       "      <td>11</td>\n",
       "      <td>32.11</td>\n",
       "      <td>9.85</td>\n",
       "      <td>28.11</td>\n",
       "      <td>950000</td>\n",
       "    </tr>\n",
       "    <tr>\n",
       "      <th>39</th>\n",
       "      <td>Jadeja</td>\n",
       "      <td>1</td>\n",
       "      <td>India</td>\n",
       "      <td>Allrounder</td>\n",
       "      <td>11</td>\n",
       "      <td>0</td>\n",
       "      <td>860</td>\n",
       "      <td>78.61</td>\n",
       "      <td>57</td>\n",
       "      <td>46.2</td>\n",
       "      <td>...</td>\n",
       "      <td>48</td>\n",
       "      <td>23.18</td>\n",
       "      <td>120.86</td>\n",
       "      <td>35</td>\n",
       "      <td>750</td>\n",
       "      <td>26</td>\n",
       "      <td>28.85</td>\n",
       "      <td>7.33</td>\n",
       "      <td>23.65</td>\n",
       "      <td>950000</td>\n",
       "    </tr>\n",
       "    <tr>\n",
       "      <th>59</th>\n",
       "      <td>Mathews</td>\n",
       "      <td>1</td>\n",
       "      <td>Sri Lanka</td>\n",
       "      <td>Allrounder</td>\n",
       "      <td>1235</td>\n",
       "      <td>7</td>\n",
       "      <td>1447</td>\n",
       "      <td>82.59</td>\n",
       "      <td>42</td>\n",
       "      <td>43.0</td>\n",
       "      <td>...</td>\n",
       "      <td>65</td>\n",
       "      <td>25.07</td>\n",
       "      <td>123.28</td>\n",
       "      <td>12</td>\n",
       "      <td>537</td>\n",
       "      <td>15</td>\n",
       "      <td>35.80</td>\n",
       "      <td>8.20</td>\n",
       "      <td>26.33</td>\n",
       "      <td>950000</td>\n",
       "    </tr>\n",
       "    <tr>\n",
       "      <th>95</th>\n",
       "      <td>Sharma</td>\n",
       "      <td>1</td>\n",
       "      <td>India</td>\n",
       "      <td>Bowler</td>\n",
       "      <td>466</td>\n",
       "      <td>133</td>\n",
       "      <td>47</td>\n",
       "      <td>34.05</td>\n",
       "      <td>64</td>\n",
       "      <td>33.6</td>\n",
       "      <td>...</td>\n",
       "      <td>9</td>\n",
       "      <td>9.25</td>\n",
       "      <td>80.43</td>\n",
       "      <td>1</td>\n",
       "      <td>1176</td>\n",
       "      <td>36</td>\n",
       "      <td>32.67</td>\n",
       "      <td>8.63</td>\n",
       "      <td>23.61</td>\n",
       "      <td>950000</td>\n",
       "    </tr>\n",
       "    <tr>\n",
       "      <th>81</th>\n",
       "      <td>Pathan</td>\n",
       "      <td>2</td>\n",
       "      <td>India</td>\n",
       "      <td>Allrounder</td>\n",
       "      <td>1185</td>\n",
       "      <td>100</td>\n",
       "      <td>1468</td>\n",
       "      <td>78.96</td>\n",
       "      <td>165</td>\n",
       "      <td>34.0</td>\n",
       "      <td>...</td>\n",
       "      <td>60</td>\n",
       "      <td>23.82</td>\n",
       "      <td>128.31</td>\n",
       "      <td>34</td>\n",
       "      <td>1975</td>\n",
       "      <td>66</td>\n",
       "      <td>29.92</td>\n",
       "      <td>9.74</td>\n",
       "      <td>23.23</td>\n",
       "      <td>925000</td>\n",
       "    </tr>\n",
       "    <tr>\n",
       "      <th>44</th>\n",
       "      <td>Kallis</td>\n",
       "      <td>3</td>\n",
       "      <td>South Africa</td>\n",
       "      <td>Allrounder</td>\n",
       "      <td>12393</td>\n",
       "      <td>276</td>\n",
       "      <td>11498</td>\n",
       "      <td>72.97</td>\n",
       "      <td>270</td>\n",
       "      <td>39.3</td>\n",
       "      <td>...</td>\n",
       "      <td>89</td>\n",
       "      <td>30.70</td>\n",
       "      <td>110.95</td>\n",
       "      <td>37</td>\n",
       "      <td>1713</td>\n",
       "      <td>45</td>\n",
       "      <td>38.07</td>\n",
       "      <td>7.96</td>\n",
       "      <td>28.71</td>\n",
       "      <td>900000</td>\n",
       "    </tr>\n",
       "    <tr>\n",
       "      <th>55</th>\n",
       "      <td>Lee</td>\n",
       "      <td>2</td>\n",
       "      <td>Australia</td>\n",
       "      <td>Bowler</td>\n",
       "      <td>1478</td>\n",
       "      <td>310</td>\n",
       "      <td>1100</td>\n",
       "      <td>82.45</td>\n",
       "      <td>377</td>\n",
       "      <td>29.2</td>\n",
       "      <td>...</td>\n",
       "      <td>25</td>\n",
       "      <td>11.44</td>\n",
       "      <td>121.18</td>\n",
       "      <td>6</td>\n",
       "      <td>1009</td>\n",
       "      <td>21</td>\n",
       "      <td>48.05</td>\n",
       "      <td>8.56</td>\n",
       "      <td>38.24</td>\n",
       "      <td>900000</td>\n",
       "    </tr>\n",
       "    <tr>\n",
       "      <th>101</th>\n",
       "      <td>Singh</td>\n",
       "      <td>2</td>\n",
       "      <td>India</td>\n",
       "      <td>Bowler</td>\n",
       "      <td>144</td>\n",
       "      <td>40</td>\n",
       "      <td>104</td>\n",
       "      <td>42.97</td>\n",
       "      <td>69</td>\n",
       "      <td>37.1</td>\n",
       "      <td>...</td>\n",
       "      <td>10</td>\n",
       "      <td>3.47</td>\n",
       "      <td>68.42</td>\n",
       "      <td>1</td>\n",
       "      <td>1892</td>\n",
       "      <td>74</td>\n",
       "      <td>25.57</td>\n",
       "      <td>10.75</td>\n",
       "      <td>19.78</td>\n",
       "      <td>875000</td>\n",
       "    </tr>\n",
       "    <tr>\n",
       "      <th>3</th>\n",
       "      <td>Ashwin</td>\n",
       "      <td>1</td>\n",
       "      <td>India</td>\n",
       "      <td>Bowler</td>\n",
       "      <td>308</td>\n",
       "      <td>31</td>\n",
       "      <td>241</td>\n",
       "      <td>84.56</td>\n",
       "      <td>51</td>\n",
       "      <td>36.8</td>\n",
       "      <td>...</td>\n",
       "      <td>11</td>\n",
       "      <td>5.80</td>\n",
       "      <td>76.32</td>\n",
       "      <td>0</td>\n",
       "      <td>1125</td>\n",
       "      <td>49</td>\n",
       "      <td>22.96</td>\n",
       "      <td>8.23</td>\n",
       "      <td>22.14</td>\n",
       "      <td>850000</td>\n",
       "    </tr>\n",
       "    <tr>\n",
       "      <th>30</th>\n",
       "      <td>Harbhajan Singh</td>\n",
       "      <td>2</td>\n",
       "      <td>India</td>\n",
       "      <td>Bowler</td>\n",
       "      <td>2232</td>\n",
       "      <td>406</td>\n",
       "      <td>1190</td>\n",
       "      <td>80.51</td>\n",
       "      <td>259</td>\n",
       "      <td>46.5</td>\n",
       "      <td>...</td>\n",
       "      <td>49</td>\n",
       "      <td>16.54</td>\n",
       "      <td>151.41</td>\n",
       "      <td>22</td>\n",
       "      <td>1469</td>\n",
       "      <td>54</td>\n",
       "      <td>27.20</td>\n",
       "      <td>8.85</td>\n",
       "      <td>23.83</td>\n",
       "      <td>850000</td>\n",
       "    </tr>\n",
       "    <tr>\n",
       "      <th>72</th>\n",
       "      <td>Nehra</td>\n",
       "      <td>2</td>\n",
       "      <td>India</td>\n",
       "      <td>Bowler</td>\n",
       "      <td>119</td>\n",
       "      <td>44</td>\n",
       "      <td>141</td>\n",
       "      <td>57.31</td>\n",
       "      <td>157</td>\n",
       "      <td>36.6</td>\n",
       "      <td>...</td>\n",
       "      <td>22</td>\n",
       "      <td>19.00</td>\n",
       "      <td>82.61</td>\n",
       "      <td>1</td>\n",
       "      <td>1192</td>\n",
       "      <td>48</td>\n",
       "      <td>24.83</td>\n",
       "      <td>7.57</td>\n",
       "      <td>19.73</td>\n",
       "      <td>850000</td>\n",
       "    </tr>\n",
       "    <tr>\n",
       "      <th>4</th>\n",
       "      <td>Badrinath</td>\n",
       "      <td>2</td>\n",
       "      <td>India</td>\n",
       "      <td>Batsman</td>\n",
       "      <td>109</td>\n",
       "      <td>0</td>\n",
       "      <td>79</td>\n",
       "      <td>45.93</td>\n",
       "      <td>0</td>\n",
       "      <td>0.0</td>\n",
       "      <td>...</td>\n",
       "      <td>71</td>\n",
       "      <td>32.93</td>\n",
       "      <td>120.71</td>\n",
       "      <td>28</td>\n",
       "      <td>0</td>\n",
       "      <td>0</td>\n",
       "      <td>0.00</td>\n",
       "      <td>1.00</td>\n",
       "      <td>0.00</td>\n",
       "      <td>800000</td>\n",
       "    </tr>\n",
       "    <tr>\n",
       "      <th>26</th>\n",
       "      <td>Gayle</td>\n",
       "      <td>2</td>\n",
       "      <td>West Indies</td>\n",
       "      <td>Allrounder</td>\n",
       "      <td>6459</td>\n",
       "      <td>72</td>\n",
       "      <td>8087</td>\n",
       "      <td>83.95</td>\n",
       "      <td>156</td>\n",
       "      <td>44.4</td>\n",
       "      <td>...</td>\n",
       "      <td>128</td>\n",
       "      <td>50.11</td>\n",
       "      <td>161.79</td>\n",
       "      <td>129</td>\n",
       "      <td>606</td>\n",
       "      <td>13</td>\n",
       "      <td>46.62</td>\n",
       "      <td>11.05</td>\n",
       "      <td>34.85</td>\n",
       "      <td>800000</td>\n",
       "    </tr>\n",
       "    <tr>\n",
       "      <th>51</th>\n",
       "      <td>Kumar</td>\n",
       "      <td>1</td>\n",
       "      <td>India</td>\n",
       "      <td>Bowler</td>\n",
       "      <td>214</td>\n",
       "      <td>27</td>\n",
       "      <td>292</td>\n",
       "      <td>88.21</td>\n",
       "      <td>77</td>\n",
       "      <td>42.1</td>\n",
       "      <td>...</td>\n",
       "      <td>34</td>\n",
       "      <td>10.57</td>\n",
       "      <td>114.08</td>\n",
       "      <td>14</td>\n",
       "      <td>1919</td>\n",
       "      <td>53</td>\n",
       "      <td>36.21</td>\n",
       "      <td>10.73</td>\n",
       "      <td>28.11</td>\n",
       "      <td>800000</td>\n",
       "    </tr>\n",
       "    <tr>\n",
       "      <th>71</th>\n",
       "      <td>Nayar</td>\n",
       "      <td>2</td>\n",
       "      <td>India</td>\n",
       "      <td>Allrounder</td>\n",
       "      <td>28</td>\n",
       "      <td>0</td>\n",
       "      <td>0</td>\n",
       "      <td>0.00</td>\n",
       "      <td>0</td>\n",
       "      <td>0.0</td>\n",
       "      <td>...</td>\n",
       "      <td>35</td>\n",
       "      <td>19.41</td>\n",
       "      <td>123.19</td>\n",
       "      <td>19</td>\n",
       "      <td>263</td>\n",
       "      <td>7</td>\n",
       "      <td>37.57</td>\n",
       "      <td>8.74</td>\n",
       "      <td>25.86</td>\n",
       "      <td>800000</td>\n",
       "    </tr>\n",
       "    <tr>\n",
       "      <th>116</th>\n",
       "      <td>Uthappa</td>\n",
       "      <td>2</td>\n",
       "      <td>India</td>\n",
       "      <td>Batsman</td>\n",
       "      <td>42</td>\n",
       "      <td>0</td>\n",
       "      <td>786</td>\n",
       "      <td>91.92</td>\n",
       "      <td>0</td>\n",
       "      <td>0.0</td>\n",
       "      <td>...</td>\n",
       "      <td>69</td>\n",
       "      <td>26.98</td>\n",
       "      <td>126.17</td>\n",
       "      <td>59</td>\n",
       "      <td>0</td>\n",
       "      <td>0</td>\n",
       "      <td>0.00</td>\n",
       "      <td>0.00</td>\n",
       "      <td>0.00</td>\n",
       "      <td>800000</td>\n",
       "    </tr>\n",
       "    <tr>\n",
       "      <th>97</th>\n",
       "      <td>Sharma</td>\n",
       "      <td>1</td>\n",
       "      <td>India</td>\n",
       "      <td>Batsman</td>\n",
       "      <td>89</td>\n",
       "      <td>0</td>\n",
       "      <td>1961</td>\n",
       "      <td>78.85</td>\n",
       "      <td>8</td>\n",
       "      <td>59.1</td>\n",
       "      <td>...</td>\n",
       "      <td>109</td>\n",
       "      <td>31.35</td>\n",
       "      <td>129.17</td>\n",
       "      <td>82</td>\n",
       "      <td>408</td>\n",
       "      <td>14</td>\n",
       "      <td>29.14</td>\n",
       "      <td>11.00</td>\n",
       "      <td>21.86</td>\n",
       "      <td>750000</td>\n",
       "    </tr>\n",
       "    <tr>\n",
       "      <th>123</th>\n",
       "      <td>Warner</td>\n",
       "      <td>1</td>\n",
       "      <td>Australia</td>\n",
       "      <td>Batsman</td>\n",
       "      <td>562</td>\n",
       "      <td>2</td>\n",
       "      <td>876</td>\n",
       "      <td>85.79</td>\n",
       "      <td>0</td>\n",
       "      <td>0.0</td>\n",
       "      <td>...</td>\n",
       "      <td>109</td>\n",
       "      <td>27.70</td>\n",
       "      <td>135.76</td>\n",
       "      <td>44</td>\n",
       "      <td>0</td>\n",
       "      <td>0</td>\n",
       "      <td>0.00</td>\n",
       "      <td>1.00</td>\n",
       "      <td>0.00</td>\n",
       "      <td>750000</td>\n",
       "    </tr>\n",
       "    <tr>\n",
       "      <th>125</th>\n",
       "      <td>Yadav</td>\n",
       "      <td>2</td>\n",
       "      <td>India</td>\n",
       "      <td>Batsman</td>\n",
       "      <td>68</td>\n",
       "      <td>0</td>\n",
       "      <td>0</td>\n",
       "      <td>0.00</td>\n",
       "      <td>0</td>\n",
       "      <td>0.0</td>\n",
       "      <td>...</td>\n",
       "      <td>16</td>\n",
       "      <td>9.80</td>\n",
       "      <td>125.64</td>\n",
       "      <td>2</td>\n",
       "      <td>0</td>\n",
       "      <td>0</td>\n",
       "      <td>0.00</td>\n",
       "      <td>0.00</td>\n",
       "      <td>0.00</td>\n",
       "      <td>750000</td>\n",
       "    </tr>\n",
       "    <tr>\n",
       "      <th>24</th>\n",
       "      <td>Gambhir</td>\n",
       "      <td>2</td>\n",
       "      <td>India</td>\n",
       "      <td>Batsman</td>\n",
       "      <td>3791</td>\n",
       "      <td>0</td>\n",
       "      <td>4819</td>\n",
       "      <td>86.17</td>\n",
       "      <td>0</td>\n",
       "      <td>0.0</td>\n",
       "      <td>...</td>\n",
       "      <td>93</td>\n",
       "      <td>33.31</td>\n",
       "      <td>128.90</td>\n",
       "      <td>32</td>\n",
       "      <td>0</td>\n",
       "      <td>0</td>\n",
       "      <td>0.00</td>\n",
       "      <td>0.00</td>\n",
       "      <td>0.00</td>\n",
       "      <td>725000</td>\n",
       "    </tr>\n",
       "    <tr>\n",
       "      <th>7</th>\n",
       "      <td>Bollinger</td>\n",
       "      <td>2</td>\n",
       "      <td>Australia</td>\n",
       "      <td>Bowler</td>\n",
       "      <td>108</td>\n",
       "      <td>50</td>\n",
       "      <td>50</td>\n",
       "      <td>92.59</td>\n",
       "      <td>62</td>\n",
       "      <td>31.3</td>\n",
       "      <td>...</td>\n",
       "      <td>16</td>\n",
       "      <td>21.00</td>\n",
       "      <td>165.88</td>\n",
       "      <td>1</td>\n",
       "      <td>693</td>\n",
       "      <td>37</td>\n",
       "      <td>18.73</td>\n",
       "      <td>9.22</td>\n",
       "      <td>15.57</td>\n",
       "      <td>700000</td>\n",
       "    </tr>\n",
       "    <tr>\n",
       "      <th>28</th>\n",
       "      <td>Gilchrist</td>\n",
       "      <td>3</td>\n",
       "      <td>Australia</td>\n",
       "      <td>W. Keeper</td>\n",
       "      <td>5642</td>\n",
       "      <td>0</td>\n",
       "      <td>9619</td>\n",
       "      <td>96.94</td>\n",
       "      <td>0</td>\n",
       "      <td>0.0</td>\n",
       "      <td>...</td>\n",
       "      <td>109</td>\n",
       "      <td>27.73</td>\n",
       "      <td>140.21</td>\n",
       "      <td>86</td>\n",
       "      <td>0</td>\n",
       "      <td>0</td>\n",
       "      <td>0.00</td>\n",
       "      <td>0.00</td>\n",
       "      <td>0.00</td>\n",
       "      <td>700000</td>\n",
       "    </tr>\n",
       "    <tr>\n",
       "      <th>60</th>\n",
       "      <td>McCullum</td>\n",
       "      <td>2</td>\n",
       "      <td>New Zealand</td>\n",
       "      <td>W. Keeper</td>\n",
       "      <td>3795</td>\n",
       "      <td>0</td>\n",
       "      <td>4511</td>\n",
       "      <td>89.62</td>\n",
       "      <td>0</td>\n",
       "      <td>0.0</td>\n",
       "      <td>...</td>\n",
       "      <td>158</td>\n",
       "      <td>28.02</td>\n",
       "      <td>123.42</td>\n",
       "      <td>48</td>\n",
       "      <td>0</td>\n",
       "      <td>0</td>\n",
       "      <td>0.00</td>\n",
       "      <td>2.00</td>\n",
       "      <td>0.00</td>\n",
       "      <td>700000</td>\n",
       "    </tr>\n",
       "    <tr>\n",
       "      <th>91</th>\n",
       "      <td>Sangakkara</td>\n",
       "      <td>2</td>\n",
       "      <td>Sri Lanka</td>\n",
       "      <td>W. Keeper</td>\n",
       "      <td>9443</td>\n",
       "      <td>0</td>\n",
       "      <td>10472</td>\n",
       "      <td>75.75</td>\n",
       "      <td>0</td>\n",
       "      <td>0.0</td>\n",
       "      <td>...</td>\n",
       "      <td>94</td>\n",
       "      <td>27.98</td>\n",
       "      <td>124.76</td>\n",
       "      <td>27</td>\n",
       "      <td>0</td>\n",
       "      <td>0</td>\n",
       "      <td>0.00</td>\n",
       "      <td>0.00</td>\n",
       "      <td>0.00</td>\n",
       "      <td>700000</td>\n",
       "    </tr>\n",
       "    <tr>\n",
       "      <th>119</th>\n",
       "      <td>Venugopal Rao</td>\n",
       "      <td>2</td>\n",
       "      <td>India</td>\n",
       "      <td>Batsman</td>\n",
       "      <td>13</td>\n",
       "      <td>0</td>\n",
       "      <td>218</td>\n",
       "      <td>60.05</td>\n",
       "      <td>0</td>\n",
       "      <td>0.0</td>\n",
       "      <td>...</td>\n",
       "      <td>71</td>\n",
       "      <td>22.29</td>\n",
       "      <td>118.24</td>\n",
       "      <td>37</td>\n",
       "      <td>321</td>\n",
       "      <td>6</td>\n",
       "      <td>53.50</td>\n",
       "      <td>12.44</td>\n",
       "      <td>34.00</td>\n",
       "      <td>700000</td>\n",
       "    </tr>\n",
       "    <tr>\n",
       "      <th>43</th>\n",
       "      <td>Kaif</td>\n",
       "      <td>2</td>\n",
       "      <td>India</td>\n",
       "      <td>Batsman</td>\n",
       "      <td>696</td>\n",
       "      <td>0</td>\n",
       "      <td>2753</td>\n",
       "      <td>72.03</td>\n",
       "      <td>0</td>\n",
       "      <td>0.0</td>\n",
       "      <td>...</td>\n",
       "      <td>34</td>\n",
       "      <td>14.39</td>\n",
       "      <td>103.60</td>\n",
       "      <td>6</td>\n",
       "      <td>0</td>\n",
       "      <td>0</td>\n",
       "      <td>0.00</td>\n",
       "      <td>0.00</td>\n",
       "      <td>0.00</td>\n",
       "      <td>675000</td>\n",
       "    </tr>\n",
       "    <tr>\n",
       "      <th>67</th>\n",
       "      <td>Morkel</td>\n",
       "      <td>2</td>\n",
       "      <td>South Africa</td>\n",
       "      <td>Allrounder</td>\n",
       "      <td>97</td>\n",
       "      <td>1</td>\n",
       "      <td>782</td>\n",
       "      <td>100.25</td>\n",
       "      <td>50</td>\n",
       "      <td>41.4</td>\n",
       "      <td>...</td>\n",
       "      <td>71</td>\n",
       "      <td>24.41</td>\n",
       "      <td>146.25</td>\n",
       "      <td>45</td>\n",
       "      <td>1899</td>\n",
       "      <td>69</td>\n",
       "      <td>27.52</td>\n",
       "      <td>9.25</td>\n",
       "      <td>20.01</td>\n",
       "      <td>675000</td>\n",
       "    </tr>\n",
       "    <tr>\n",
       "      <th>77</th>\n",
       "      <td>Oram</td>\n",
       "      <td>2</td>\n",
       "      <td>New Zealand</td>\n",
       "      <td>Allrounder</td>\n",
       "      <td>1852</td>\n",
       "      <td>60</td>\n",
       "      <td>2377</td>\n",
       "      <td>87.16</td>\n",
       "      <td>168</td>\n",
       "      <td>39.7</td>\n",
       "      <td>...</td>\n",
       "      <td>41</td>\n",
       "      <td>13.25</td>\n",
       "      <td>98.15</td>\n",
       "      <td>5</td>\n",
       "      <td>327</td>\n",
       "      <td>9</td>\n",
       "      <td>36.33</td>\n",
       "      <td>10.26</td>\n",
       "      <td>23.67</td>\n",
       "      <td>675000</td>\n",
       "    </tr>\n",
       "    <tr>\n",
       "      <th>94</th>\n",
       "      <td>Shahid Afridi</td>\n",
       "      <td>2</td>\n",
       "      <td>Pakistan</td>\n",
       "      <td>Allrounder</td>\n",
       "      <td>1814</td>\n",
       "      <td>48</td>\n",
       "      <td>7040</td>\n",
       "      <td>113.87</td>\n",
       "      <td>344</td>\n",
       "      <td>43.4</td>\n",
       "      <td>...</td>\n",
       "      <td>33</td>\n",
       "      <td>10.12</td>\n",
       "      <td>176.08</td>\n",
       "      <td>6</td>\n",
       "      <td>225</td>\n",
       "      <td>9</td>\n",
       "      <td>25.00</td>\n",
       "      <td>10.50</td>\n",
       "      <td>20.00</td>\n",
       "      <td>675000</td>\n",
       "    </tr>\n",
       "    <tr>\n",
       "      <th>112</th>\n",
       "      <td>Tiwary</td>\n",
       "      <td>2</td>\n",
       "      <td>India</td>\n",
       "      <td>Batsman</td>\n",
       "      <td>38</td>\n",
       "      <td>0</td>\n",
       "      <td>165</td>\n",
       "      <td>75.68</td>\n",
       "      <td>1</td>\n",
       "      <td>60.0</td>\n",
       "      <td>...</td>\n",
       "      <td>75</td>\n",
       "      <td>31.26</td>\n",
       "      <td>113.33</td>\n",
       "      <td>22</td>\n",
       "      <td>45</td>\n",
       "      <td>1</td>\n",
       "      <td>45.00</td>\n",
       "      <td>11.25</td>\n",
       "      <td>24.00</td>\n",
       "      <td>675000</td>\n",
       "    </tr>\n",
       "    <tr>\n",
       "      <th>33</th>\n",
       "      <td>Henderson</td>\n",
       "      <td>3</td>\n",
       "      <td>South Africa</td>\n",
       "      <td>Allrounder</td>\n",
       "      <td>72</td>\n",
       "      <td>0</td>\n",
       "      <td>0</td>\n",
       "      <td>0.00</td>\n",
       "      <td>0</td>\n",
       "      <td>0.0</td>\n",
       "      <td>...</td>\n",
       "      <td>11</td>\n",
       "      <td>5.50</td>\n",
       "      <td>68.75</td>\n",
       "      <td>1</td>\n",
       "      <td>40</td>\n",
       "      <td>1</td>\n",
       "      <td>40.00</td>\n",
       "      <td>8.66</td>\n",
       "      <td>36.00</td>\n",
       "      <td>650000</td>\n",
       "    </tr>\n",
       "    <tr>\n",
       "      <th>66</th>\n",
       "      <td>Mohammad Asif</td>\n",
       "      <td>2</td>\n",
       "      <td>Pakistan</td>\n",
       "      <td>Bowler</td>\n",
       "      <td>233</td>\n",
       "      <td>106</td>\n",
       "      <td>34</td>\n",
       "      <td>34.00</td>\n",
       "      <td>46</td>\n",
       "      <td>42.1</td>\n",
       "      <td>...</td>\n",
       "      <td>3</td>\n",
       "      <td>1.50</td>\n",
       "      <td>50.00</td>\n",
       "      <td>0</td>\n",
       "      <td>296</td>\n",
       "      <td>8</td>\n",
       "      <td>37.00</td>\n",
       "      <td>12.25</td>\n",
       "      <td>24.00</td>\n",
       "      <td>650000</td>\n",
       "    </tr>\n",
       "    <tr>\n",
       "      <th>70</th>\n",
       "      <td>Nannes</td>\n",
       "      <td>3</td>\n",
       "      <td>Australia</td>\n",
       "      <td>Bowler</td>\n",
       "      <td>89</td>\n",
       "      <td>0</td>\n",
       "      <td>1</td>\n",
       "      <td>50.00</td>\n",
       "      <td>1</td>\n",
       "      <td>42.0</td>\n",
       "      <td>...</td>\n",
       "      <td>3</td>\n",
       "      <td>4.00</td>\n",
       "      <td>30.77</td>\n",
       "      <td>0</td>\n",
       "      <td>627</td>\n",
       "      <td>24</td>\n",
       "      <td>26.13</td>\n",
       "      <td>7.17</td>\n",
       "      <td>21.92</td>\n",
       "      <td>650000</td>\n",
       "    </tr>\n",
       "    <tr>\n",
       "      <th>88</th>\n",
       "      <td>Raina</td>\n",
       "      <td>1</td>\n",
       "      <td>India</td>\n",
       "      <td>Batsman</td>\n",
       "      <td>803</td>\n",
       "      <td>13</td>\n",
       "      <td>3525</td>\n",
       "      <td>92.71</td>\n",
       "      <td>16</td>\n",
       "      <td>61.9</td>\n",
       "      <td>...</td>\n",
       "      <td>98</td>\n",
       "      <td>33.64</td>\n",
       "      <td>139.39</td>\n",
       "      <td>97</td>\n",
       "      <td>678</td>\n",
       "      <td>20</td>\n",
       "      <td>33.90</td>\n",
       "      <td>9.05</td>\n",
       "      <td>28.90</td>\n",
       "      <td>650000</td>\n",
       "    </tr>\n",
       "    <tr>\n",
       "      <th>37</th>\n",
       "      <td>Hussey</td>\n",
       "      <td>2</td>\n",
       "      <td>Australia</td>\n",
       "      <td>Allrounder</td>\n",
       "      <td>50</td>\n",
       "      <td>0</td>\n",
       "      <td>1488</td>\n",
       "      <td>91.40</td>\n",
       "      <td>18</td>\n",
       "      <td>36.2</td>\n",
       "      <td>...</td>\n",
       "      <td>71</td>\n",
       "      <td>26.24</td>\n",
       "      <td>125.78</td>\n",
       "      <td>48</td>\n",
       "      <td>345</td>\n",
       "      <td>6</td>\n",
       "      <td>57.50</td>\n",
       "      <td>11.85</td>\n",
       "      <td>39.00</td>\n",
       "      <td>625000</td>\n",
       "    </tr>\n",
       "    <tr>\n",
       "      <th>105</th>\n",
       "      <td>Sreesanth</td>\n",
       "      <td>2</td>\n",
       "      <td>India</td>\n",
       "      <td>Bowler</td>\n",
       "      <td>300</td>\n",
       "      <td>87</td>\n",
       "      <td>44</td>\n",
       "      <td>36.36</td>\n",
       "      <td>75</td>\n",
       "      <td>33.0</td>\n",
       "      <td>...</td>\n",
       "      <td>15</td>\n",
       "      <td>11.00</td>\n",
       "      <td>64.71</td>\n",
       "      <td>0</td>\n",
       "      <td>1031</td>\n",
       "      <td>35</td>\n",
       "      <td>29.46</td>\n",
       "      <td>9.25</td>\n",
       "      <td>21.43</td>\n",
       "      <td>625000</td>\n",
       "    </tr>\n",
       "    <tr>\n",
       "      <th>120</th>\n",
       "      <td>Vettori</td>\n",
       "      <td>2</td>\n",
       "      <td>New Zealand</td>\n",
       "      <td>Allrounder</td>\n",
       "      <td>4521</td>\n",
       "      <td>359</td>\n",
       "      <td>2105</td>\n",
       "      <td>81.93</td>\n",
       "      <td>282</td>\n",
       "      <td>45.7</td>\n",
       "      <td>...</td>\n",
       "      <td>29</td>\n",
       "      <td>15.13</td>\n",
       "      <td>107.08</td>\n",
       "      <td>2</td>\n",
       "      <td>878</td>\n",
       "      <td>28</td>\n",
       "      <td>31.36</td>\n",
       "      <td>9.81</td>\n",
       "      <td>27.75</td>\n",
       "      <td>625000</td>\n",
       "    </tr>\n",
       "    <tr>\n",
       "      <th>69</th>\n",
       "      <td>Muralitharan</td>\n",
       "      <td>3</td>\n",
       "      <td>Sri Lanka</td>\n",
       "      <td>Bowler</td>\n",
       "      <td>1309</td>\n",
       "      <td>800</td>\n",
       "      <td>674</td>\n",
       "      <td>77.56</td>\n",
       "      <td>534</td>\n",
       "      <td>35.2</td>\n",
       "      <td>...</td>\n",
       "      <td>6</td>\n",
       "      <td>3.33</td>\n",
       "      <td>66.67</td>\n",
       "      <td>0</td>\n",
       "      <td>1395</td>\n",
       "      <td>57</td>\n",
       "      <td>24.47</td>\n",
       "      <td>8.49</td>\n",
       "      <td>22.63</td>\n",
       "      <td>600000</td>\n",
       "    </tr>\n",
       "    <tr>\n",
       "      <th>27</th>\n",
       "      <td>Gibbs</td>\n",
       "      <td>3</td>\n",
       "      <td>South Africa</td>\n",
       "      <td>Batsman</td>\n",
       "      <td>6215</td>\n",
       "      <td>0</td>\n",
       "      <td>8094</td>\n",
       "      <td>83.26</td>\n",
       "      <td>0</td>\n",
       "      <td>0.0</td>\n",
       "      <td>...</td>\n",
       "      <td>69</td>\n",
       "      <td>27.69</td>\n",
       "      <td>109.79</td>\n",
       "      <td>31</td>\n",
       "      <td>0</td>\n",
       "      <td>0</td>\n",
       "      <td>0.00</td>\n",
       "      <td>0.00</td>\n",
       "      <td>0.00</td>\n",
       "      <td>575000</td>\n",
       "    </tr>\n",
       "  </tbody>\n",
       "</table>\n",
       "<p>50 rows × 22 columns</p>\n",
       "</div>"
      ],
      "text/plain": [
       "         PLAYER NAME  AGE       COUNTRY PLAYING ROLE  T-RUNS  T-WKTS  \\\n",
       "50             Kohli    1         India      Batsman     548       0   \n",
       "93            Sehwag    2         India      Batsman    8197      40   \n",
       "111        Tendulkar    3         India      Batsman   15530      45   \n",
       "127     Yuvraj Singh    2         India      Batsman    1785       9   \n",
       "113           Tiwary    1         India      Batsman      47       0   \n",
       "23          Flintoff    2       England   Allrounder    3941     226   \n",
       "83         Pietersen    2       England      Batsman    6679       5   \n",
       "15             Dhoni    2         India    W. Keeper    3571       0   \n",
       "108          Symonds    3     Australia   Allrounder    1472      24   \n",
       "110           Taylor    2   New Zealand      Batsman    2833       2   \n",
       "41        Jayasuriya    3     Sri Lanka   Allrounder    7066      98   \n",
       "8              Botha    2  South Africa   Allrounder     133      17   \n",
       "39            Jadeja    1         India   Allrounder      11       0   \n",
       "59           Mathews    1     Sri Lanka   Allrounder    1235       7   \n",
       "95            Sharma    1         India       Bowler     466     133   \n",
       "81            Pathan    2         India   Allrounder    1185     100   \n",
       "44            Kallis    3  South Africa   Allrounder   12393     276   \n",
       "55               Lee    2     Australia       Bowler    1478     310   \n",
       "101            Singh    2         India       Bowler     144      40   \n",
       "3             Ashwin    1         India       Bowler     308      31   \n",
       "30   Harbhajan Singh    2         India       Bowler    2232     406   \n",
       "72             Nehra    2         India       Bowler     119      44   \n",
       "4          Badrinath    2         India      Batsman     109       0   \n",
       "26             Gayle    2   West Indies   Allrounder    6459      72   \n",
       "51             Kumar    1         India       Bowler     214      27   \n",
       "71             Nayar    2         India   Allrounder      28       0   \n",
       "116          Uthappa    2         India      Batsman      42       0   \n",
       "97            Sharma    1         India      Batsman      89       0   \n",
       "123           Warner    1     Australia      Batsman     562       2   \n",
       "125            Yadav    2         India      Batsman      68       0   \n",
       "24           Gambhir    2         India      Batsman    3791       0   \n",
       "7          Bollinger    2     Australia       Bowler     108      50   \n",
       "28         Gilchrist    3     Australia    W. Keeper    5642       0   \n",
       "60          McCullum    2   New Zealand    W. Keeper    3795       0   \n",
       "91        Sangakkara    2     Sri Lanka    W. Keeper    9443       0   \n",
       "119    Venugopal Rao    2         India      Batsman      13       0   \n",
       "43              Kaif    2         India      Batsman     696       0   \n",
       "67            Morkel    2  South Africa   Allrounder      97       1   \n",
       "77              Oram    2   New Zealand   Allrounder    1852      60   \n",
       "94     Shahid Afridi    2      Pakistan   Allrounder    1814      48   \n",
       "112           Tiwary    2         India      Batsman      38       0   \n",
       "33         Henderson    3  South Africa   Allrounder      72       0   \n",
       "66     Mohammad Asif    2      Pakistan       Bowler     233     106   \n",
       "70            Nannes    3     Australia       Bowler      89       0   \n",
       "88             Raina    1         India      Batsman     803      13   \n",
       "37            Hussey    2     Australia   Allrounder      50       0   \n",
       "105        Sreesanth    2         India       Bowler     300      87   \n",
       "120          Vettori    2   New Zealand   Allrounder    4521     359   \n",
       "69      Muralitharan    3     Sri Lanka       Bowler    1309     800   \n",
       "27             Gibbs    3  South Africa      Batsman    6215       0   \n",
       "\n",
       "     ODI-RUNS-S  ODI-SR-B  ODI-WKTS  ODI-SR-BL  ...   HS    AVE    SR-B  \\\n",
       "50         3590     86.31         2      137.0  ...   73  28.26  119.29   \n",
       "93         8090    104.68        95       45.4  ...  119  30.31  167.32   \n",
       "111       18426     86.23       154       52.2  ...  100  37.91  119.22   \n",
       "127        8051     87.58       109       44.3  ...   66  26.32  131.88   \n",
       "113          49     87.50         0        0.0  ...   42  25.33  119.60   \n",
       "23         3394     88.82       169       33.2  ...   24  31.00  116.98   \n",
       "83         4184     86.76         7       57.1  ...  103  42.27  141.20   \n",
       "15         6773     88.19         1       12.0  ...   70  37.13  136.45   \n",
       "108        5088     92.44       133       44.6  ...  117  36.07  129.87   \n",
       "110        3185     81.77         0        0.0  ...   81  27.97  130.28   \n",
       "41        13430     91.21       323       46.0  ...  114  27.43  144.36   \n",
       "8           609     85.77        72       53.0  ...   67  30.45  114.73   \n",
       "39          860     78.61        57       46.2  ...   48  23.18  120.86   \n",
       "59         1447     82.59        42       43.0  ...   65  25.07  123.28   \n",
       "95           47     34.05        64       33.6  ...    9   9.25   80.43   \n",
       "81         1468     78.96       165       34.0  ...   60  23.82  128.31   \n",
       "44        11498     72.97       270       39.3  ...   89  30.70  110.95   \n",
       "55         1100     82.45       377       29.2  ...   25  11.44  121.18   \n",
       "101         104     42.97        69       37.1  ...   10   3.47   68.42   \n",
       "3           241     84.56        51       36.8  ...   11   5.80   76.32   \n",
       "30         1190     80.51       259       46.5  ...   49  16.54  151.41   \n",
       "72          141     57.31       157       36.6  ...   22  19.00   82.61   \n",
       "4            79     45.93         0        0.0  ...   71  32.93  120.71   \n",
       "26         8087     83.95       156       44.4  ...  128  50.11  161.79   \n",
       "51          292     88.21        77       42.1  ...   34  10.57  114.08   \n",
       "71            0      0.00         0        0.0  ...   35  19.41  123.19   \n",
       "116         786     91.92         0        0.0  ...   69  26.98  126.17   \n",
       "97         1961     78.85         8       59.1  ...  109  31.35  129.17   \n",
       "123         876     85.79         0        0.0  ...  109  27.70  135.76   \n",
       "125           0      0.00         0        0.0  ...   16   9.80  125.64   \n",
       "24         4819     86.17         0        0.0  ...   93  33.31  128.90   \n",
       "7            50     92.59        62       31.3  ...   16  21.00  165.88   \n",
       "28         9619     96.94         0        0.0  ...  109  27.73  140.21   \n",
       "60         4511     89.62         0        0.0  ...  158  28.02  123.42   \n",
       "91        10472     75.75         0        0.0  ...   94  27.98  124.76   \n",
       "119         218     60.05         0        0.0  ...   71  22.29  118.24   \n",
       "43         2753     72.03         0        0.0  ...   34  14.39  103.60   \n",
       "67          782    100.25        50       41.4  ...   71  24.41  146.25   \n",
       "77         2377     87.16       168       39.7  ...   41  13.25   98.15   \n",
       "94         7040    113.87       344       43.4  ...   33  10.12  176.08   \n",
       "112         165     75.68         1       60.0  ...   75  31.26  113.33   \n",
       "33            0      0.00         0        0.0  ...   11   5.50   68.75   \n",
       "66           34     34.00        46       42.1  ...    3   1.50   50.00   \n",
       "70            1     50.00         1       42.0  ...    3   4.00   30.77   \n",
       "88         3525     92.71        16       61.9  ...   98  33.64  139.39   \n",
       "37         1488     91.40        18       36.2  ...   71  26.24  125.78   \n",
       "105          44     36.36        75       33.0  ...   15  11.00   64.71   \n",
       "120        2105     81.93       282       45.7  ...   29  15.13  107.08   \n",
       "69          674     77.56       534       35.2  ...    6   3.33   66.67   \n",
       "27         8094     83.26         0        0.0  ...   69  27.69  109.79   \n",
       "\n",
       "     SIXERS  RUNS-C  WKTS  AVE-BL   ECON  SR-BL  SOLD PRICE  \n",
       "50       49     345     4   86.25   8.84  58.50     1800000  \n",
       "93       79     226     6   37.67  13.56  21.67     1800000  \n",
       "111      24      58     0    0.00  10.67   0.00     1800000  \n",
       "127      67     569    23   24.74   8.02  21.13     1800000  \n",
       "113      32       0     0    0.00   3.00   0.00     1600000  \n",
       "23        2     105     2   52.50  12.55  33.00     1550000  \n",
       "83       30     215     7   30.71   7.41  24.86     1550000  \n",
       "15       64       0     0    0.00   2.00   0.00     1500000  \n",
       "108      41     674    20   33.70   9.70  26.35     1350000  \n",
       "110      45      24     0    0.00  15.00   0.00     1000000  \n",
       "41       39     390    13   30.00   7.96  22.62      975000  \n",
       "8         3     610    11   32.11   9.85  28.11      950000  \n",
       "39       35     750    26   28.85   7.33  23.65      950000  \n",
       "59       12     537    15   35.80   8.20  26.33      950000  \n",
       "95        1    1176    36   32.67   8.63  23.61      950000  \n",
       "81       34    1975    66   29.92   9.74  23.23      925000  \n",
       "44       37    1713    45   38.07   7.96  28.71      900000  \n",
       "55        6    1009    21   48.05   8.56  38.24      900000  \n",
       "101       1    1892    74   25.57  10.75  19.78      875000  \n",
       "3         0    1125    49   22.96   8.23  22.14      850000  \n",
       "30       22    1469    54   27.20   8.85  23.83      850000  \n",
       "72        1    1192    48   24.83   7.57  19.73      850000  \n",
       "4        28       0     0    0.00   1.00   0.00      800000  \n",
       "26      129     606    13   46.62  11.05  34.85      800000  \n",
       "51       14    1919    53   36.21  10.73  28.11      800000  \n",
       "71       19     263     7   37.57   8.74  25.86      800000  \n",
       "116      59       0     0    0.00   0.00   0.00      800000  \n",
       "97       82     408    14   29.14  11.00  21.86      750000  \n",
       "123      44       0     0    0.00   1.00   0.00      750000  \n",
       "125       2       0     0    0.00   0.00   0.00      750000  \n",
       "24       32       0     0    0.00   0.00   0.00      725000  \n",
       "7         1     693    37   18.73   9.22  15.57      700000  \n",
       "28       86       0     0    0.00   0.00   0.00      700000  \n",
       "60       48       0     0    0.00   2.00   0.00      700000  \n",
       "91       27       0     0    0.00   0.00   0.00      700000  \n",
       "119      37     321     6   53.50  12.44  34.00      700000  \n",
       "43        6       0     0    0.00   0.00   0.00      675000  \n",
       "67       45    1899    69   27.52   9.25  20.01      675000  \n",
       "77        5     327     9   36.33  10.26  23.67      675000  \n",
       "94        6     225     9   25.00  10.50  20.00      675000  \n",
       "112      22      45     1   45.00  11.25  24.00      675000  \n",
       "33        1      40     1   40.00   8.66  36.00      650000  \n",
       "66        0     296     8   37.00  12.25  24.00      650000  \n",
       "70        0     627    24   26.13   7.17  21.92      650000  \n",
       "88       97     678    20   33.90   9.05  28.90      650000  \n",
       "37       48     345     6   57.50  11.85  39.00      625000  \n",
       "105       0    1031    35   29.46   9.25  21.43      625000  \n",
       "120       2     878    28   31.36   9.81  27.75      625000  \n",
       "69        0    1395    57   24.47   8.49  22.63      600000  \n",
       "27       31       0     0    0.00   0.00   0.00      575000  \n",
       "\n",
       "[50 rows x 22 columns]"
      ]
     },
     "execution_count": 182,
     "metadata": {},
     "output_type": "execute_result"
    }
   ],
   "source": [
    "df_cric.sort_values(by=['SOLD PRICE','PLAYER NAME'],ascending=[False,True]).head(50)"
   ]
  },
  {
   "cell_type": "code",
   "execution_count": 189,
   "id": "99244149",
   "metadata": {},
   "outputs": [
    {
     "data": {
      "text/html": [
       "<div>\n",
       "<style scoped>\n",
       "    .dataframe tbody tr th:only-of-type {\n",
       "        vertical-align: middle;\n",
       "    }\n",
       "\n",
       "    .dataframe tbody tr th {\n",
       "        vertical-align: top;\n",
       "    }\n",
       "\n",
       "    .dataframe thead th {\n",
       "        text-align: right;\n",
       "    }\n",
       "</style>\n",
       "<table border=\"1\" class=\"dataframe\">\n",
       "  <thead>\n",
       "    <tr style=\"text-align: right;\">\n",
       "      <th></th>\n",
       "      <th>PLAYER NAME</th>\n",
       "      <th>AGE</th>\n",
       "      <th>COUNTRY</th>\n",
       "      <th>PLAYING ROLE</th>\n",
       "      <th>T-RUNS</th>\n",
       "      <th>T-WKTS</th>\n",
       "      <th>ODI-RUNS-S</th>\n",
       "      <th>ODI-SR-B</th>\n",
       "      <th>ODI-WKTS</th>\n",
       "      <th>ODI-SR-BL</th>\n",
       "      <th>...</th>\n",
       "      <th>HS</th>\n",
       "      <th>AVE</th>\n",
       "      <th>SR-B</th>\n",
       "      <th>SIXERS</th>\n",
       "      <th>RUNS-C</th>\n",
       "      <th>WKTS</th>\n",
       "      <th>AVE-BL</th>\n",
       "      <th>ECON</th>\n",
       "      <th>SR-BL</th>\n",
       "      <th>SOLD PRICE</th>\n",
       "    </tr>\n",
       "  </thead>\n",
       "  <tbody>\n",
       "    <tr>\n",
       "      <th>80</th>\n",
       "      <td>Patel</td>\n",
       "      <td>2</td>\n",
       "      <td>India</td>\n",
       "      <td>W. Keeper</td>\n",
       "      <td>781</td>\n",
       "      <td>0</td>\n",
       "      <td>736</td>\n",
       "      <td>76.50</td>\n",
       "      <td>0</td>\n",
       "      <td>0.0</td>\n",
       "      <td>...</td>\n",
       "      <td>57</td>\n",
       "      <td>20.27</td>\n",
       "      <td>107.29</td>\n",
       "      <td>13</td>\n",
       "      <td>0</td>\n",
       "      <td>0</td>\n",
       "      <td>0.00</td>\n",
       "      <td>2.00</td>\n",
       "      <td>0.00</td>\n",
       "      <td>325000</td>\n",
       "    </tr>\n",
       "    <tr>\n",
       "      <th>106</th>\n",
       "      <td>Steyn</td>\n",
       "      <td>2</td>\n",
       "      <td>South Africa</td>\n",
       "      <td>Bowler</td>\n",
       "      <td>816</td>\n",
       "      <td>272</td>\n",
       "      <td>142</td>\n",
       "      <td>73.57</td>\n",
       "      <td>91</td>\n",
       "      <td>33.7</td>\n",
       "      <td>...</td>\n",
       "      <td>13</td>\n",
       "      <td>4.67</td>\n",
       "      <td>86.42</td>\n",
       "      <td>1</td>\n",
       "      <td>1304</td>\n",
       "      <td>59</td>\n",
       "      <td>22.10</td>\n",
       "      <td>9.58</td>\n",
       "      <td>20.15</td>\n",
       "      <td>325000</td>\n",
       "    </tr>\n",
       "    <tr>\n",
       "      <th>14</th>\n",
       "      <td>Dhawan</td>\n",
       "      <td>2</td>\n",
       "      <td>India</td>\n",
       "      <td>Batsman</td>\n",
       "      <td>0</td>\n",
       "      <td>0</td>\n",
       "      <td>69</td>\n",
       "      <td>56.09</td>\n",
       "      <td>0</td>\n",
       "      <td>0.0</td>\n",
       "      <td>...</td>\n",
       "      <td>95</td>\n",
       "      <td>31.43</td>\n",
       "      <td>120.00</td>\n",
       "      <td>36</td>\n",
       "      <td>66</td>\n",
       "      <td>4</td>\n",
       "      <td>16.50</td>\n",
       "      <td>11.25</td>\n",
       "      <td>12.00</td>\n",
       "      <td>300000</td>\n",
       "    </tr>\n",
       "    <tr>\n",
       "      <th>19</th>\n",
       "      <td>Duminy</td>\n",
       "      <td>2</td>\n",
       "      <td>South Africa</td>\n",
       "      <td>Batsman</td>\n",
       "      <td>742</td>\n",
       "      <td>11</td>\n",
       "      <td>2536</td>\n",
       "      <td>84.00</td>\n",
       "      <td>25</td>\n",
       "      <td>47.6</td>\n",
       "      <td>...</td>\n",
       "      <td>74</td>\n",
       "      <td>36.22</td>\n",
       "      <td>119.27</td>\n",
       "      <td>35</td>\n",
       "      <td>377</td>\n",
       "      <td>10</td>\n",
       "      <td>37.70</td>\n",
       "      <td>8.11</td>\n",
       "      <td>31.80</td>\n",
       "      <td>300000</td>\n",
       "    </tr>\n",
       "    <tr>\n",
       "      <th>64</th>\n",
       "      <td>Mishra</td>\n",
       "      <td>2</td>\n",
       "      <td>India</td>\n",
       "      <td>Bowler</td>\n",
       "      <td>459</td>\n",
       "      <td>43</td>\n",
       "      <td>5</td>\n",
       "      <td>27.77</td>\n",
       "      <td>19</td>\n",
       "      <td>40.1</td>\n",
       "      <td>...</td>\n",
       "      <td>31</td>\n",
       "      <td>10.94</td>\n",
       "      <td>102.20</td>\n",
       "      <td>3</td>\n",
       "      <td>1530</td>\n",
       "      <td>74</td>\n",
       "      <td>20.68</td>\n",
       "      <td>8.11</td>\n",
       "      <td>17.46</td>\n",
       "      <td>300000</td>\n",
       "    </tr>\n",
       "    <tr>\n",
       "      <th>13</th>\n",
       "      <td>de Villiers</td>\n",
       "      <td>2</td>\n",
       "      <td>South Africa</td>\n",
       "      <td>W. Keeper</td>\n",
       "      <td>5545</td>\n",
       "      <td>2</td>\n",
       "      <td>4998</td>\n",
       "      <td>93.19</td>\n",
       "      <td>0</td>\n",
       "      <td>0.0</td>\n",
       "      <td>...</td>\n",
       "      <td>105</td>\n",
       "      <td>34.26</td>\n",
       "      <td>128.53</td>\n",
       "      <td>42</td>\n",
       "      <td>0</td>\n",
       "      <td>0</td>\n",
       "      <td>0.00</td>\n",
       "      <td>2.00</td>\n",
       "      <td>0.00</td>\n",
       "      <td>300000</td>\n",
       "    </tr>\n",
       "    <tr>\n",
       "      <th>29</th>\n",
       "      <td>Gony</td>\n",
       "      <td>2</td>\n",
       "      <td>India</td>\n",
       "      <td>Bowler</td>\n",
       "      <td>92</td>\n",
       "      <td>0</td>\n",
       "      <td>0</td>\n",
       "      <td>0.00</td>\n",
       "      <td>2</td>\n",
       "      <td>39.0</td>\n",
       "      <td>...</td>\n",
       "      <td>15</td>\n",
       "      <td>9.00</td>\n",
       "      <td>117.39</td>\n",
       "      <td>5</td>\n",
       "      <td>999</td>\n",
       "      <td>30</td>\n",
       "      <td>33.30</td>\n",
       "      <td>8.47</td>\n",
       "      <td>23.60</td>\n",
       "      <td>290000</td>\n",
       "    </tr>\n",
       "    <tr>\n",
       "      <th>79</th>\n",
       "      <td>Patel</td>\n",
       "      <td>2</td>\n",
       "      <td>India</td>\n",
       "      <td>Bowler</td>\n",
       "      <td>140</td>\n",
       "      <td>35</td>\n",
       "      <td>74</td>\n",
       "      <td>66.07</td>\n",
       "      <td>86</td>\n",
       "      <td>36.6</td>\n",
       "      <td>...</td>\n",
       "      <td>23</td>\n",
       "      <td>7.80</td>\n",
       "      <td>235.49</td>\n",
       "      <td>0</td>\n",
       "      <td>1504</td>\n",
       "      <td>70</td>\n",
       "      <td>21.49</td>\n",
       "      <td>7.39</td>\n",
       "      <td>17.47</td>\n",
       "      <td>275000</td>\n",
       "    </tr>\n",
       "    <tr>\n",
       "      <th>75</th>\n",
       "      <td>Ojha</td>\n",
       "      <td>2</td>\n",
       "      <td>India</td>\n",
       "      <td>W. Keeper</td>\n",
       "      <td>20</td>\n",
       "      <td>0</td>\n",
       "      <td>1</td>\n",
       "      <td>14.28</td>\n",
       "      <td>0</td>\n",
       "      <td>0.0</td>\n",
       "      <td>...</td>\n",
       "      <td>94</td>\n",
       "      <td>22.33</td>\n",
       "      <td>117.94</td>\n",
       "      <td>50</td>\n",
       "      <td>0</td>\n",
       "      <td>0</td>\n",
       "      <td>0.00</td>\n",
       "      <td>2.00</td>\n",
       "      <td>0.00</td>\n",
       "      <td>270000</td>\n",
       "    </tr>\n",
       "    <tr>\n",
       "      <th>65</th>\n",
       "      <td>Mithun</td>\n",
       "      <td>1</td>\n",
       "      <td>India</td>\n",
       "      <td>Bowler</td>\n",
       "      <td>152</td>\n",
       "      <td>9</td>\n",
       "      <td>51</td>\n",
       "      <td>92.72</td>\n",
       "      <td>3</td>\n",
       "      <td>60.0</td>\n",
       "      <td>...</td>\n",
       "      <td>11</td>\n",
       "      <td>8.00</td>\n",
       "      <td>133.33</td>\n",
       "      <td>1</td>\n",
       "      <td>435</td>\n",
       "      <td>6</td>\n",
       "      <td>72.50</td>\n",
       "      <td>12.89</td>\n",
       "      <td>44.00</td>\n",
       "      <td>260000</td>\n",
       "    </tr>\n",
       "    <tr>\n",
       "      <th>16</th>\n",
       "      <td>Dilshan</td>\n",
       "      <td>2</td>\n",
       "      <td>Sri Lanka</td>\n",
       "      <td>Allrounder</td>\n",
       "      <td>4820</td>\n",
       "      <td>32</td>\n",
       "      <td>6455</td>\n",
       "      <td>86.80</td>\n",
       "      <td>67</td>\n",
       "      <td>58.3</td>\n",
       "      <td>...</td>\n",
       "      <td>76</td>\n",
       "      <td>28.34</td>\n",
       "      <td>117.83</td>\n",
       "      <td>24</td>\n",
       "      <td>356</td>\n",
       "      <td>5</td>\n",
       "      <td>71.20</td>\n",
       "      <td>11.07</td>\n",
       "      <td>53.00</td>\n",
       "      <td>250000</td>\n",
       "    </tr>\n",
       "    <tr>\n",
       "      <th>38</th>\n",
       "      <td>Hussey</td>\n",
       "      <td>3</td>\n",
       "      <td>Australia</td>\n",
       "      <td>Batsman</td>\n",
       "      <td>5757</td>\n",
       "      <td>7</td>\n",
       "      <td>5262</td>\n",
       "      <td>86.97</td>\n",
       "      <td>2</td>\n",
       "      <td>117.0</td>\n",
       "      <td>...</td>\n",
       "      <td>116</td>\n",
       "      <td>39.92</td>\n",
       "      <td>120.65</td>\n",
       "      <td>25</td>\n",
       "      <td>0</td>\n",
       "      <td>0</td>\n",
       "      <td>0.00</td>\n",
       "      <td>0.00</td>\n",
       "      <td>0.00</td>\n",
       "      <td>250000</td>\n",
       "    </tr>\n",
       "    <tr>\n",
       "      <th>103</th>\n",
       "      <td>Smith</td>\n",
       "      <td>2</td>\n",
       "      <td>South Africa</td>\n",
       "      <td>Batsman</td>\n",
       "      <td>8075</td>\n",
       "      <td>8</td>\n",
       "      <td>6598</td>\n",
       "      <td>81.58</td>\n",
       "      <td>18</td>\n",
       "      <td>57.0</td>\n",
       "      <td>...</td>\n",
       "      <td>91</td>\n",
       "      <td>28.42</td>\n",
       "      <td>110.63</td>\n",
       "      <td>9</td>\n",
       "      <td>0</td>\n",
       "      <td>0</td>\n",
       "      <td>0.00</td>\n",
       "      <td>1.00</td>\n",
       "      <td>0.00</td>\n",
       "      <td>250000</td>\n",
       "    </tr>\n",
       "    <tr>\n",
       "      <th>114</th>\n",
       "      <td>Tyagi</td>\n",
       "      <td>1</td>\n",
       "      <td>India</td>\n",
       "      <td>Bowler</td>\n",
       "      <td>85</td>\n",
       "      <td>0</td>\n",
       "      <td>1</td>\n",
       "      <td>50.00</td>\n",
       "      <td>3</td>\n",
       "      <td>55.0</td>\n",
       "      <td>...</td>\n",
       "      <td>3</td>\n",
       "      <td>3.00</td>\n",
       "      <td>0.75</td>\n",
       "      <td>0</td>\n",
       "      <td>295</td>\n",
       "      <td>6</td>\n",
       "      <td>49.17</td>\n",
       "      <td>8.55</td>\n",
       "      <td>34.83</td>\n",
       "      <td>240000</td>\n",
       "    </tr>\n",
       "    <tr>\n",
       "      <th>56</th>\n",
       "      <td>Maharoof</td>\n",
       "      <td>2</td>\n",
       "      <td>Sri Lanka</td>\n",
       "      <td>Allrounder</td>\n",
       "      <td>640</td>\n",
       "      <td>25</td>\n",
       "      <td>1042</td>\n",
       "      <td>84.44</td>\n",
       "      <td>133</td>\n",
       "      <td>33.3</td>\n",
       "      <td>...</td>\n",
       "      <td>39</td>\n",
       "      <td>17.70</td>\n",
       "      <td>143.90</td>\n",
       "      <td>9</td>\n",
       "      <td>520</td>\n",
       "      <td>27</td>\n",
       "      <td>19.26</td>\n",
       "      <td>7.43</td>\n",
       "      <td>15.56</td>\n",
       "      <td>225000</td>\n",
       "    </tr>\n",
       "    <tr>\n",
       "      <th>92</th>\n",
       "      <td>Sarwan</td>\n",
       "      <td>2</td>\n",
       "      <td>West Indies</td>\n",
       "      <td>Batsman</td>\n",
       "      <td>5866</td>\n",
       "      <td>23</td>\n",
       "      <td>5644</td>\n",
       "      <td>75.76</td>\n",
       "      <td>16</td>\n",
       "      <td>36.3</td>\n",
       "      <td>...</td>\n",
       "      <td>31</td>\n",
       "      <td>18.25</td>\n",
       "      <td>97.33</td>\n",
       "      <td>1</td>\n",
       "      <td>0</td>\n",
       "      <td>0</td>\n",
       "      <td>0.00</td>\n",
       "      <td>0.00</td>\n",
       "      <td>0.00</td>\n",
       "      <td>225000</td>\n",
       "    </tr>\n",
       "    <tr>\n",
       "      <th>96</th>\n",
       "      <td>Sharma</td>\n",
       "      <td>2</td>\n",
       "      <td>India</td>\n",
       "      <td>Allrounder</td>\n",
       "      <td>71</td>\n",
       "      <td>0</td>\n",
       "      <td>35</td>\n",
       "      <td>116.66</td>\n",
       "      <td>1</td>\n",
       "      <td>150.0</td>\n",
       "      <td>...</td>\n",
       "      <td>16</td>\n",
       "      <td>9.00</td>\n",
       "      <td>120.00</td>\n",
       "      <td>2</td>\n",
       "      <td>419</td>\n",
       "      <td>12</td>\n",
       "      <td>34.92</td>\n",
       "      <td>12.88</td>\n",
       "      <td>21.33</td>\n",
       "      <td>225000</td>\n",
       "    </tr>\n",
       "    <tr>\n",
       "      <th>126</th>\n",
       "      <td>Younis Khan</td>\n",
       "      <td>2</td>\n",
       "      <td>Pakistan</td>\n",
       "      <td>Batsman</td>\n",
       "      <td>6488</td>\n",
       "      <td>7</td>\n",
       "      <td>6814</td>\n",
       "      <td>75.78</td>\n",
       "      <td>3</td>\n",
       "      <td>86.6</td>\n",
       "      <td>...</td>\n",
       "      <td>3</td>\n",
       "      <td>3.00</td>\n",
       "      <td>42.85</td>\n",
       "      <td>0</td>\n",
       "      <td>0</td>\n",
       "      <td>0</td>\n",
       "      <td>0.00</td>\n",
       "      <td>3.00</td>\n",
       "      <td>0.00</td>\n",
       "      <td>225000</td>\n",
       "    </tr>\n",
       "    <tr>\n",
       "      <th>10</th>\n",
       "      <td>Bravo</td>\n",
       "      <td>2</td>\n",
       "      <td>West Indies</td>\n",
       "      <td>Allrounder</td>\n",
       "      <td>2219</td>\n",
       "      <td>86</td>\n",
       "      <td>2004</td>\n",
       "      <td>81.39</td>\n",
       "      <td>142</td>\n",
       "      <td>34.1</td>\n",
       "      <td>...</td>\n",
       "      <td>70</td>\n",
       "      <td>27.97</td>\n",
       "      <td>127.12</td>\n",
       "      <td>38</td>\n",
       "      <td>1338</td>\n",
       "      <td>47</td>\n",
       "      <td>28.47</td>\n",
       "      <td>8.12</td>\n",
       "      <td>21.11</td>\n",
       "      <td>200000</td>\n",
       "    </tr>\n",
       "    <tr>\n",
       "      <th>11</th>\n",
       "      <td>Chanderpaul</td>\n",
       "      <td>3</td>\n",
       "      <td>West Indies</td>\n",
       "      <td>Batsman</td>\n",
       "      <td>9930</td>\n",
       "      <td>9</td>\n",
       "      <td>8778</td>\n",
       "      <td>88.20</td>\n",
       "      <td>14</td>\n",
       "      <td>52.8</td>\n",
       "      <td>...</td>\n",
       "      <td>16</td>\n",
       "      <td>8.33</td>\n",
       "      <td>80.64</td>\n",
       "      <td>0</td>\n",
       "      <td>0</td>\n",
       "      <td>0</td>\n",
       "      <td>0.00</td>\n",
       "      <td>3.00</td>\n",
       "      <td>0.00</td>\n",
       "      <td>200000</td>\n",
       "    </tr>\n",
       "    <tr>\n",
       "      <th>49</th>\n",
       "      <td>Katich</td>\n",
       "      <td>3</td>\n",
       "      <td>Australia</td>\n",
       "      <td>Batsman</td>\n",
       "      <td>4230</td>\n",
       "      <td>21</td>\n",
       "      <td>1324</td>\n",
       "      <td>68.74</td>\n",
       "      <td>0</td>\n",
       "      <td>0.0</td>\n",
       "      <td>...</td>\n",
       "      <td>75</td>\n",
       "      <td>24.10</td>\n",
       "      <td>129.57</td>\n",
       "      <td>8</td>\n",
       "      <td>0</td>\n",
       "      <td>0</td>\n",
       "      <td>0.00</td>\n",
       "      <td>0.00</td>\n",
       "      <td>0.00</td>\n",
       "      <td>200000</td>\n",
       "    </tr>\n",
       "    <tr>\n",
       "      <th>74</th>\n",
       "      <td>Ntini</td>\n",
       "      <td>2</td>\n",
       "      <td>South Africa</td>\n",
       "      <td>Bowler</td>\n",
       "      <td>781</td>\n",
       "      <td>390</td>\n",
       "      <td>199</td>\n",
       "      <td>66.77</td>\n",
       "      <td>266</td>\n",
       "      <td>32.6</td>\n",
       "      <td>...</td>\n",
       "      <td>11</td>\n",
       "      <td>11.00</td>\n",
       "      <td>61.11</td>\n",
       "      <td>0</td>\n",
       "      <td>242</td>\n",
       "      <td>7</td>\n",
       "      <td>34.57</td>\n",
       "      <td>6.91</td>\n",
       "      <td>30.00</td>\n",
       "      <td>200000</td>\n",
       "    </tr>\n",
       "    <tr>\n",
       "      <th>117</th>\n",
       "      <td>Vaas</td>\n",
       "      <td>3</td>\n",
       "      <td>Sri Lanka</td>\n",
       "      <td>Bowler</td>\n",
       "      <td>3137</td>\n",
       "      <td>355</td>\n",
       "      <td>2025</td>\n",
       "      <td>72.52</td>\n",
       "      <td>400</td>\n",
       "      <td>39.4</td>\n",
       "      <td>...</td>\n",
       "      <td>20</td>\n",
       "      <td>10.13</td>\n",
       "      <td>110.96</td>\n",
       "      <td>3</td>\n",
       "      <td>355</td>\n",
       "      <td>18</td>\n",
       "      <td>19.72</td>\n",
       "      <td>9.55</td>\n",
       "      <td>15.67</td>\n",
       "      <td>200000</td>\n",
       "    </tr>\n",
       "    <tr>\n",
       "      <th>107</th>\n",
       "      <td>Styris</td>\n",
       "      <td>3</td>\n",
       "      <td>New Zealand</td>\n",
       "      <td>Allrounder</td>\n",
       "      <td>1625</td>\n",
       "      <td>20</td>\n",
       "      <td>4483</td>\n",
       "      <td>79.41</td>\n",
       "      <td>137</td>\n",
       "      <td>44.6</td>\n",
       "      <td>...</td>\n",
       "      <td>36</td>\n",
       "      <td>18.71</td>\n",
       "      <td>98.50</td>\n",
       "      <td>3</td>\n",
       "      <td>276</td>\n",
       "      <td>8</td>\n",
       "      <td>34.50</td>\n",
       "      <td>10.67</td>\n",
       "      <td>27.00</td>\n",
       "      <td>175000</td>\n",
       "    </tr>\n",
       "    <tr>\n",
       "      <th>87</th>\n",
       "      <td>Powar</td>\n",
       "      <td>2</td>\n",
       "      <td>India</td>\n",
       "      <td>Bowler</td>\n",
       "      <td>26</td>\n",
       "      <td>6</td>\n",
       "      <td>163</td>\n",
       "      <td>62.69</td>\n",
       "      <td>34</td>\n",
       "      <td>45.1</td>\n",
       "      <td>...</td>\n",
       "      <td>28</td>\n",
       "      <td>22.33</td>\n",
       "      <td>104.69</td>\n",
       "      <td>1</td>\n",
       "      <td>527</td>\n",
       "      <td>13</td>\n",
       "      <td>40.54</td>\n",
       "      <td>8.42</td>\n",
       "      <td>32.77</td>\n",
       "      <td>170000</td>\n",
       "    </tr>\n",
       "    <tr>\n",
       "      <th>89</th>\n",
       "      <td>Ryder</td>\n",
       "      <td>2</td>\n",
       "      <td>New Zealand</td>\n",
       "      <td>Allrounder</td>\n",
       "      <td>1284</td>\n",
       "      <td>5</td>\n",
       "      <td>1100</td>\n",
       "      <td>89.72</td>\n",
       "      <td>11</td>\n",
       "      <td>34.8</td>\n",
       "      <td>...</td>\n",
       "      <td>86</td>\n",
       "      <td>21.57</td>\n",
       "      <td>131.88</td>\n",
       "      <td>19</td>\n",
       "      <td>303</td>\n",
       "      <td>8</td>\n",
       "      <td>37.88</td>\n",
       "      <td>8.73</td>\n",
       "      <td>29.50</td>\n",
       "      <td>160000</td>\n",
       "    </tr>\n",
       "    <tr>\n",
       "      <th>20</th>\n",
       "      <td>Edwards</td>\n",
       "      <td>2</td>\n",
       "      <td>West Indies</td>\n",
       "      <td>Bowler</td>\n",
       "      <td>429</td>\n",
       "      <td>157</td>\n",
       "      <td>73</td>\n",
       "      <td>45.62</td>\n",
       "      <td>60</td>\n",
       "      <td>35.6</td>\n",
       "      <td>...</td>\n",
       "      <td>3</td>\n",
       "      <td>4.00</td>\n",
       "      <td>80.00</td>\n",
       "      <td>0</td>\n",
       "      <td>154</td>\n",
       "      <td>5</td>\n",
       "      <td>20.00</td>\n",
       "      <td>9.60</td>\n",
       "      <td>28.00</td>\n",
       "      <td>150000</td>\n",
       "    </tr>\n",
       "    <tr>\n",
       "      <th>21</th>\n",
       "      <td>Fernando</td>\n",
       "      <td>2</td>\n",
       "      <td>Sri Lanka</td>\n",
       "      <td>Bowler</td>\n",
       "      <td>311</td>\n",
       "      <td>97</td>\n",
       "      <td>239</td>\n",
       "      <td>60.96</td>\n",
       "      <td>187</td>\n",
       "      <td>34.7</td>\n",
       "      <td>...</td>\n",
       "      <td>2</td>\n",
       "      <td>0.00</td>\n",
       "      <td>133.33</td>\n",
       "      <td>0</td>\n",
       "      <td>298</td>\n",
       "      <td>17</td>\n",
       "      <td>17.53</td>\n",
       "      <td>9.64</td>\n",
       "      <td>13.76</td>\n",
       "      <td>150000</td>\n",
       "    </tr>\n",
       "    <tr>\n",
       "      <th>40</th>\n",
       "      <td>Jaffer</td>\n",
       "      <td>2</td>\n",
       "      <td>India</td>\n",
       "      <td>Allrounder</td>\n",
       "      <td>1970</td>\n",
       "      <td>2</td>\n",
       "      <td>10</td>\n",
       "      <td>43.47</td>\n",
       "      <td>0</td>\n",
       "      <td>0.0</td>\n",
       "      <td>...</td>\n",
       "      <td>50</td>\n",
       "      <td>16.25</td>\n",
       "      <td>107.44</td>\n",
       "      <td>3</td>\n",
       "      <td>0</td>\n",
       "      <td>0</td>\n",
       "      <td>0.00</td>\n",
       "      <td>0.00</td>\n",
       "      <td>0.00</td>\n",
       "      <td>150000</td>\n",
       "    </tr>\n",
       "    <tr>\n",
       "      <th>45</th>\n",
       "      <td>Kamran Akmal</td>\n",
       "      <td>2</td>\n",
       "      <td>Pakistan</td>\n",
       "      <td>W. Keeper</td>\n",
       "      <td>2706</td>\n",
       "      <td>0</td>\n",
       "      <td>2924</td>\n",
       "      <td>84.31</td>\n",
       "      <td>0</td>\n",
       "      <td>0.0</td>\n",
       "      <td>...</td>\n",
       "      <td>53</td>\n",
       "      <td>25.60</td>\n",
       "      <td>164.10</td>\n",
       "      <td>8</td>\n",
       "      <td>0</td>\n",
       "      <td>0</td>\n",
       "      <td>0.00</td>\n",
       "      <td>3.00</td>\n",
       "      <td>0.00</td>\n",
       "      <td>150000</td>\n",
       "    </tr>\n",
       "    <tr>\n",
       "      <th>115</th>\n",
       "      <td>Umar Gul</td>\n",
       "      <td>2</td>\n",
       "      <td>Pakistan</td>\n",
       "      <td>Bowler</td>\n",
       "      <td>627</td>\n",
       "      <td>157</td>\n",
       "      <td>368</td>\n",
       "      <td>69.04</td>\n",
       "      <td>154</td>\n",
       "      <td>32.2</td>\n",
       "      <td>...</td>\n",
       "      <td>24</td>\n",
       "      <td>13.00</td>\n",
       "      <td>205.26</td>\n",
       "      <td>5</td>\n",
       "      <td>184</td>\n",
       "      <td>12</td>\n",
       "      <td>15.33</td>\n",
       "      <td>8.17</td>\n",
       "      <td>11.20</td>\n",
       "      <td>150000</td>\n",
       "    </tr>\n",
       "    <tr>\n",
       "      <th>53</th>\n",
       "      <td>Langeveldt</td>\n",
       "      <td>3</td>\n",
       "      <td>South Africa</td>\n",
       "      <td>Bowler</td>\n",
       "      <td>48</td>\n",
       "      <td>16</td>\n",
       "      <td>73</td>\n",
       "      <td>58.87</td>\n",
       "      <td>100</td>\n",
       "      <td>34.8</td>\n",
       "      <td>...</td>\n",
       "      <td>8</td>\n",
       "      <td>4.00</td>\n",
       "      <td>88.89</td>\n",
       "      <td>1</td>\n",
       "      <td>187</td>\n",
       "      <td>13</td>\n",
       "      <td>14.38</td>\n",
       "      <td>10.19</td>\n",
       "      <td>12.00</td>\n",
       "      <td>140000</td>\n",
       "    </tr>\n",
       "    <tr>\n",
       "      <th>109</th>\n",
       "      <td>Taibu</td>\n",
       "      <td>2</td>\n",
       "      <td>Zimbabwe</td>\n",
       "      <td>W. Keeper</td>\n",
       "      <td>1616</td>\n",
       "      <td>1</td>\n",
       "      <td>3393</td>\n",
       "      <td>67.58</td>\n",
       "      <td>2</td>\n",
       "      <td>42.0</td>\n",
       "      <td>...</td>\n",
       "      <td>15</td>\n",
       "      <td>10.33</td>\n",
       "      <td>119.23</td>\n",
       "      <td>0</td>\n",
       "      <td>0</td>\n",
       "      <td>0</td>\n",
       "      <td>0.00</td>\n",
       "      <td>0.00</td>\n",
       "      <td>0.00</td>\n",
       "      <td>125000</td>\n",
       "    </tr>\n",
       "    <tr>\n",
       "      <th>129</th>\n",
       "      <td>Zoysa</td>\n",
       "      <td>2</td>\n",
       "      <td>Sri Lanka</td>\n",
       "      <td>Bowler</td>\n",
       "      <td>328</td>\n",
       "      <td>64</td>\n",
       "      <td>343</td>\n",
       "      <td>95.81</td>\n",
       "      <td>108</td>\n",
       "      <td>39.4</td>\n",
       "      <td>...</td>\n",
       "      <td>10</td>\n",
       "      <td>11.00</td>\n",
       "      <td>122.22</td>\n",
       "      <td>0</td>\n",
       "      <td>99</td>\n",
       "      <td>2</td>\n",
       "      <td>49.50</td>\n",
       "      <td>11.00</td>\n",
       "      <td>33.00</td>\n",
       "      <td>110000</td>\n",
       "    </tr>\n",
       "    <tr>\n",
       "      <th>58</th>\n",
       "      <td>Mascarenhas</td>\n",
       "      <td>2</td>\n",
       "      <td>England</td>\n",
       "      <td>Allrounder</td>\n",
       "      <td>34</td>\n",
       "      <td>0</td>\n",
       "      <td>245</td>\n",
       "      <td>95.33</td>\n",
       "      <td>13</td>\n",
       "      <td>63.2</td>\n",
       "      <td>...</td>\n",
       "      <td>27</td>\n",
       "      <td>8.22</td>\n",
       "      <td>101.37</td>\n",
       "      <td>1</td>\n",
       "      <td>331</td>\n",
       "      <td>19</td>\n",
       "      <td>17.42</td>\n",
       "      <td>7.01</td>\n",
       "      <td>14.95</td>\n",
       "      <td>100000</td>\n",
       "    </tr>\n",
       "    <tr>\n",
       "      <th>63</th>\n",
       "      <td>Misbah-ul-Haq</td>\n",
       "      <td>3</td>\n",
       "      <td>Pakistan</td>\n",
       "      <td>Batsman</td>\n",
       "      <td>2218</td>\n",
       "      <td>0</td>\n",
       "      <td>2763</td>\n",
       "      <td>75.10</td>\n",
       "      <td>0</td>\n",
       "      <td>0.0</td>\n",
       "      <td>...</td>\n",
       "      <td>47</td>\n",
       "      <td>16.71</td>\n",
       "      <td>144.44</td>\n",
       "      <td>6</td>\n",
       "      <td>0</td>\n",
       "      <td>0</td>\n",
       "      <td>0.00</td>\n",
       "      <td>1.00</td>\n",
       "      <td>0.00</td>\n",
       "      <td>100000</td>\n",
       "    </tr>\n",
       "    <tr>\n",
       "      <th>90</th>\n",
       "      <td>Saha</td>\n",
       "      <td>2</td>\n",
       "      <td>India</td>\n",
       "      <td>W. Keeper</td>\n",
       "      <td>109</td>\n",
       "      <td>0</td>\n",
       "      <td>4</td>\n",
       "      <td>80.00</td>\n",
       "      <td>0</td>\n",
       "      <td>0.0</td>\n",
       "      <td>...</td>\n",
       "      <td>59</td>\n",
       "      <td>28.62</td>\n",
       "      <td>128.28</td>\n",
       "      <td>16</td>\n",
       "      <td>0</td>\n",
       "      <td>0</td>\n",
       "      <td>0.00</td>\n",
       "      <td>0.00</td>\n",
       "      <td>0.00</td>\n",
       "      <td>100000</td>\n",
       "    </tr>\n",
       "    <tr>\n",
       "      <th>100</th>\n",
       "      <td>Silva</td>\n",
       "      <td>2</td>\n",
       "      <td>Sri Lanka</td>\n",
       "      <td>Batsman</td>\n",
       "      <td>622</td>\n",
       "      <td>1</td>\n",
       "      <td>1587</td>\n",
       "      <td>70.40</td>\n",
       "      <td>1</td>\n",
       "      <td>42.0</td>\n",
       "      <td>...</td>\n",
       "      <td>23</td>\n",
       "      <td>20.00</td>\n",
       "      <td>153.84</td>\n",
       "      <td>1</td>\n",
       "      <td>21</td>\n",
       "      <td>0</td>\n",
       "      <td>0.00</td>\n",
       "      <td>23.00</td>\n",
       "      <td>0.00</td>\n",
       "      <td>100000</td>\n",
       "    </tr>\n",
       "    <tr>\n",
       "      <th>102</th>\n",
       "      <td>Smith</td>\n",
       "      <td>2</td>\n",
       "      <td>West Indies</td>\n",
       "      <td>Allrounder</td>\n",
       "      <td>339</td>\n",
       "      <td>7</td>\n",
       "      <td>925</td>\n",
       "      <td>97.26</td>\n",
       "      <td>56</td>\n",
       "      <td>44.8</td>\n",
       "      <td>...</td>\n",
       "      <td>87</td>\n",
       "      <td>25.82</td>\n",
       "      <td>148.81</td>\n",
       "      <td>24</td>\n",
       "      <td>338</td>\n",
       "      <td>9</td>\n",
       "      <td>37.56</td>\n",
       "      <td>11.14</td>\n",
       "      <td>27.89</td>\n",
       "      <td>100000</td>\n",
       "    </tr>\n",
       "    <tr>\n",
       "      <th>104</th>\n",
       "      <td>Sohail Tanvir</td>\n",
       "      <td>2</td>\n",
       "      <td>Pakistan</td>\n",
       "      <td>Bowler</td>\n",
       "      <td>77</td>\n",
       "      <td>5</td>\n",
       "      <td>268</td>\n",
       "      <td>94.03</td>\n",
       "      <td>55</td>\n",
       "      <td>37.4</td>\n",
       "      <td>...</td>\n",
       "      <td>13</td>\n",
       "      <td>12.00</td>\n",
       "      <td>124.13</td>\n",
       "      <td>1</td>\n",
       "      <td>266</td>\n",
       "      <td>22</td>\n",
       "      <td>12.09</td>\n",
       "      <td>7.46</td>\n",
       "      <td>11.20</td>\n",
       "      <td>100000</td>\n",
       "    </tr>\n",
       "    <tr>\n",
       "      <th>78</th>\n",
       "      <td>Pankaj Singh</td>\n",
       "      <td>2</td>\n",
       "      <td>India</td>\n",
       "      <td>Bowler</td>\n",
       "      <td>81</td>\n",
       "      <td>0</td>\n",
       "      <td>3</td>\n",
       "      <td>100.00</td>\n",
       "      <td>0</td>\n",
       "      <td>0.0</td>\n",
       "      <td>...</td>\n",
       "      <td>4</td>\n",
       "      <td>3.50</td>\n",
       "      <td>58.33</td>\n",
       "      <td>0</td>\n",
       "      <td>468</td>\n",
       "      <td>11</td>\n",
       "      <td>42.55</td>\n",
       "      <td>12.36</td>\n",
       "      <td>27.27</td>\n",
       "      <td>95000</td>\n",
       "    </tr>\n",
       "    <tr>\n",
       "      <th>61</th>\n",
       "      <td>McDonald</td>\n",
       "      <td>2</td>\n",
       "      <td>Australia</td>\n",
       "      <td>Allrounder</td>\n",
       "      <td>182</td>\n",
       "      <td>9</td>\n",
       "      <td>0</td>\n",
       "      <td>0.00</td>\n",
       "      <td>0</td>\n",
       "      <td>0.0</td>\n",
       "      <td>...</td>\n",
       "      <td>33</td>\n",
       "      <td>30.75</td>\n",
       "      <td>125.51</td>\n",
       "      <td>4</td>\n",
       "      <td>244</td>\n",
       "      <td>10</td>\n",
       "      <td>24.40</td>\n",
       "      <td>11.41</td>\n",
       "      <td>17.40</td>\n",
       "      <td>80000</td>\n",
       "    </tr>\n",
       "    <tr>\n",
       "      <th>0</th>\n",
       "      <td>Abdulla</td>\n",
       "      <td>2</td>\n",
       "      <td>South Africa</td>\n",
       "      <td>Allrounder</td>\n",
       "      <td>0</td>\n",
       "      <td>0</td>\n",
       "      <td>0</td>\n",
       "      <td>0.00</td>\n",
       "      <td>0</td>\n",
       "      <td>0.0</td>\n",
       "      <td>...</td>\n",
       "      <td>0</td>\n",
       "      <td>0.00</td>\n",
       "      <td>0.00</td>\n",
       "      <td>0</td>\n",
       "      <td>307</td>\n",
       "      <td>15</td>\n",
       "      <td>20.47</td>\n",
       "      <td>9.90</td>\n",
       "      <td>13.93</td>\n",
       "      <td>50000</td>\n",
       "    </tr>\n",
       "    <tr>\n",
       "      <th>1</th>\n",
       "      <td>Abdur Razzak</td>\n",
       "      <td>2</td>\n",
       "      <td>Bangladesh</td>\n",
       "      <td>Bowler</td>\n",
       "      <td>266</td>\n",
       "      <td>18</td>\n",
       "      <td>657</td>\n",
       "      <td>71.41</td>\n",
       "      <td>185</td>\n",
       "      <td>37.6</td>\n",
       "      <td>...</td>\n",
       "      <td>0</td>\n",
       "      <td>0.00</td>\n",
       "      <td>0.00</td>\n",
       "      <td>0</td>\n",
       "      <td>29</td>\n",
       "      <td>0</td>\n",
       "      <td>0.00</td>\n",
       "      <td>17.50</td>\n",
       "      <td>0.00</td>\n",
       "      <td>50000</td>\n",
       "    </tr>\n",
       "    <tr>\n",
       "      <th>5</th>\n",
       "      <td>Bailey</td>\n",
       "      <td>2</td>\n",
       "      <td>Australia</td>\n",
       "      <td>Batsman</td>\n",
       "      <td>0</td>\n",
       "      <td>0</td>\n",
       "      <td>172</td>\n",
       "      <td>72.26</td>\n",
       "      <td>0</td>\n",
       "      <td>0.0</td>\n",
       "      <td>...</td>\n",
       "      <td>48</td>\n",
       "      <td>21.00</td>\n",
       "      <td>95.45</td>\n",
       "      <td>0</td>\n",
       "      <td>0</td>\n",
       "      <td>0</td>\n",
       "      <td>0.00</td>\n",
       "      <td>1.00</td>\n",
       "      <td>0.00</td>\n",
       "      <td>50000</td>\n",
       "    </tr>\n",
       "    <tr>\n",
       "      <th>34</th>\n",
       "      <td>Henriques</td>\n",
       "      <td>1</td>\n",
       "      <td>Australia</td>\n",
       "      <td>Allrounder</td>\n",
       "      <td>79</td>\n",
       "      <td>0</td>\n",
       "      <td>18</td>\n",
       "      <td>60.00</td>\n",
       "      <td>1</td>\n",
       "      <td>90.0</td>\n",
       "      <td>...</td>\n",
       "      <td>30</td>\n",
       "      <td>16.33</td>\n",
       "      <td>108.89</td>\n",
       "      <td>1</td>\n",
       "      <td>142</td>\n",
       "      <td>3</td>\n",
       "      <td>47.33</td>\n",
       "      <td>8.82</td>\n",
       "      <td>32.33</td>\n",
       "      <td>50000</td>\n",
       "    </tr>\n",
       "    <tr>\n",
       "      <th>85</th>\n",
       "      <td>Pomersbach</td>\n",
       "      <td>2</td>\n",
       "      <td>Australia</td>\n",
       "      <td>Batsman</td>\n",
       "      <td>57</td>\n",
       "      <td>0</td>\n",
       "      <td>0</td>\n",
       "      <td>0.00</td>\n",
       "      <td>0</td>\n",
       "      <td>0.0</td>\n",
       "      <td>...</td>\n",
       "      <td>79</td>\n",
       "      <td>27.11</td>\n",
       "      <td>130.48</td>\n",
       "      <td>12</td>\n",
       "      <td>0</td>\n",
       "      <td>0</td>\n",
       "      <td>0.00</td>\n",
       "      <td>1.00</td>\n",
       "      <td>0.00</td>\n",
       "      <td>50000</td>\n",
       "    </tr>\n",
       "    <tr>\n",
       "      <th>118</th>\n",
       "      <td>Van der Merwe</td>\n",
       "      <td>2</td>\n",
       "      <td>South Africa</td>\n",
       "      <td>Allrounder</td>\n",
       "      <td>39</td>\n",
       "      <td>0</td>\n",
       "      <td>39</td>\n",
       "      <td>95.12</td>\n",
       "      <td>17</td>\n",
       "      <td>41.4</td>\n",
       "      <td>...</td>\n",
       "      <td>35</td>\n",
       "      <td>15.22</td>\n",
       "      <td>118.10</td>\n",
       "      <td>8</td>\n",
       "      <td>427</td>\n",
       "      <td>18</td>\n",
       "      <td>23.72</td>\n",
       "      <td>9.83</td>\n",
       "      <td>20.94</td>\n",
       "      <td>50000</td>\n",
       "    </tr>\n",
       "    <tr>\n",
       "      <th>46</th>\n",
       "      <td>Kamran Khan</td>\n",
       "      <td>1</td>\n",
       "      <td>India</td>\n",
       "      <td>Bowler</td>\n",
       "      <td>56</td>\n",
       "      <td>0</td>\n",
       "      <td>0</td>\n",
       "      <td>0.00</td>\n",
       "      <td>0</td>\n",
       "      <td>0.0</td>\n",
       "      <td>...</td>\n",
       "      <td>3</td>\n",
       "      <td>3.00</td>\n",
       "      <td>60.00</td>\n",
       "      <td>0</td>\n",
       "      <td>224</td>\n",
       "      <td>9</td>\n",
       "      <td>24.89</td>\n",
       "      <td>11.48</td>\n",
       "      <td>17.78</td>\n",
       "      <td>24000</td>\n",
       "    </tr>\n",
       "    <tr>\n",
       "      <th>73</th>\n",
       "      <td>Noffke</td>\n",
       "      <td>2</td>\n",
       "      <td>Australia</td>\n",
       "      <td>Allrounder</td>\n",
       "      <td>15</td>\n",
       "      <td>0</td>\n",
       "      <td>0</td>\n",
       "      <td>0.00</td>\n",
       "      <td>1</td>\n",
       "      <td>54.0</td>\n",
       "      <td>...</td>\n",
       "      <td>9</td>\n",
       "      <td>9.00</td>\n",
       "      <td>90.00</td>\n",
       "      <td>0</td>\n",
       "      <td>40</td>\n",
       "      <td>1</td>\n",
       "      <td>40.00</td>\n",
       "      <td>12.00</td>\n",
       "      <td>24.00</td>\n",
       "      <td>20000</td>\n",
       "    </tr>\n",
       "  </tbody>\n",
       "</table>\n",
       "<p>50 rows × 22 columns</p>\n",
       "</div>"
      ],
      "text/plain": [
       "       PLAYER NAME  AGE       COUNTRY PLAYING ROLE  T-RUNS  T-WKTS  \\\n",
       "80           Patel    2         India    W. Keeper     781       0   \n",
       "106          Steyn    2  South Africa       Bowler     816     272   \n",
       "14          Dhawan    2         India      Batsman       0       0   \n",
       "19          Duminy    2  South Africa      Batsman     742      11   \n",
       "64          Mishra    2         India       Bowler     459      43   \n",
       "13     de Villiers    2  South Africa    W. Keeper    5545       2   \n",
       "29            Gony    2         India       Bowler      92       0   \n",
       "79           Patel    2         India       Bowler     140      35   \n",
       "75            Ojha    2         India    W. Keeper      20       0   \n",
       "65          Mithun    1         India       Bowler     152       9   \n",
       "16         Dilshan    2     Sri Lanka   Allrounder    4820      32   \n",
       "38          Hussey    3     Australia      Batsman    5757       7   \n",
       "103          Smith    2  South Africa      Batsman    8075       8   \n",
       "114          Tyagi    1         India       Bowler      85       0   \n",
       "56        Maharoof    2     Sri Lanka   Allrounder     640      25   \n",
       "92          Sarwan    2   West Indies      Batsman    5866      23   \n",
       "96          Sharma    2         India   Allrounder      71       0   \n",
       "126    Younis Khan    2      Pakistan      Batsman    6488       7   \n",
       "10           Bravo    2   West Indies   Allrounder    2219      86   \n",
       "11     Chanderpaul    3   West Indies      Batsman    9930       9   \n",
       "49          Katich    3     Australia      Batsman    4230      21   \n",
       "74           Ntini    2  South Africa       Bowler     781     390   \n",
       "117           Vaas    3     Sri Lanka       Bowler    3137     355   \n",
       "107         Styris    3   New Zealand   Allrounder    1625      20   \n",
       "87           Powar    2         India       Bowler      26       6   \n",
       "89           Ryder    2   New Zealand   Allrounder    1284       5   \n",
       "20         Edwards    2   West Indies       Bowler     429     157   \n",
       "21        Fernando    2     Sri Lanka       Bowler     311      97   \n",
       "40          Jaffer    2         India   Allrounder    1970       2   \n",
       "45    Kamran Akmal    2      Pakistan    W. Keeper    2706       0   \n",
       "115       Umar Gul    2      Pakistan       Bowler     627     157   \n",
       "53      Langeveldt    3  South Africa       Bowler      48      16   \n",
       "109          Taibu    2      Zimbabwe    W. Keeper    1616       1   \n",
       "129          Zoysa    2     Sri Lanka       Bowler     328      64   \n",
       "58     Mascarenhas    2       England   Allrounder      34       0   \n",
       "63   Misbah-ul-Haq    3      Pakistan      Batsman    2218       0   \n",
       "90            Saha    2         India    W. Keeper     109       0   \n",
       "100          Silva    2     Sri Lanka      Batsman     622       1   \n",
       "102          Smith    2   West Indies   Allrounder     339       7   \n",
       "104  Sohail Tanvir    2      Pakistan       Bowler      77       5   \n",
       "78    Pankaj Singh    2         India       Bowler      81       0   \n",
       "61        McDonald    2     Australia   Allrounder     182       9   \n",
       "0          Abdulla    2  South Africa   Allrounder       0       0   \n",
       "1     Abdur Razzak    2    Bangladesh       Bowler     266      18   \n",
       "5           Bailey    2     Australia      Batsman       0       0   \n",
       "34       Henriques    1     Australia   Allrounder      79       0   \n",
       "85      Pomersbach    2     Australia      Batsman      57       0   \n",
       "118  Van der Merwe    2  South Africa   Allrounder      39       0   \n",
       "46     Kamran Khan    1         India       Bowler      56       0   \n",
       "73          Noffke    2     Australia   Allrounder      15       0   \n",
       "\n",
       "     ODI-RUNS-S  ODI-SR-B  ODI-WKTS  ODI-SR-BL  ...   HS    AVE    SR-B  \\\n",
       "80          736     76.50         0        0.0  ...   57  20.27  107.29   \n",
       "106         142     73.57        91       33.7  ...   13   4.67   86.42   \n",
       "14           69     56.09         0        0.0  ...   95  31.43  120.00   \n",
       "19         2536     84.00        25       47.6  ...   74  36.22  119.27   \n",
       "64            5     27.77        19       40.1  ...   31  10.94  102.20   \n",
       "13         4998     93.19         0        0.0  ...  105  34.26  128.53   \n",
       "29            0      0.00         2       39.0  ...   15   9.00  117.39   \n",
       "79           74     66.07        86       36.6  ...   23   7.80  235.49   \n",
       "75            1     14.28         0        0.0  ...   94  22.33  117.94   \n",
       "65           51     92.72         3       60.0  ...   11   8.00  133.33   \n",
       "16         6455     86.80        67       58.3  ...   76  28.34  117.83   \n",
       "38         5262     86.97         2      117.0  ...  116  39.92  120.65   \n",
       "103        6598     81.58        18       57.0  ...   91  28.42  110.63   \n",
       "114           1     50.00         3       55.0  ...    3   3.00    0.75   \n",
       "56         1042     84.44       133       33.3  ...   39  17.70  143.90   \n",
       "92         5644     75.76        16       36.3  ...   31  18.25   97.33   \n",
       "96           35    116.66         1      150.0  ...   16   9.00  120.00   \n",
       "126        6814     75.78         3       86.6  ...    3   3.00   42.85   \n",
       "10         2004     81.39       142       34.1  ...   70  27.97  127.12   \n",
       "11         8778     88.20        14       52.8  ...   16   8.33   80.64   \n",
       "49         1324     68.74         0        0.0  ...   75  24.10  129.57   \n",
       "74          199     66.77       266       32.6  ...   11  11.00   61.11   \n",
       "117        2025     72.52       400       39.4  ...   20  10.13  110.96   \n",
       "107        4483     79.41       137       44.6  ...   36  18.71   98.50   \n",
       "87          163     62.69        34       45.1  ...   28  22.33  104.69   \n",
       "89         1100     89.72        11       34.8  ...   86  21.57  131.88   \n",
       "20           73     45.62        60       35.6  ...    3   4.00   80.00   \n",
       "21          239     60.96       187       34.7  ...    2   0.00  133.33   \n",
       "40           10     43.47         0        0.0  ...   50  16.25  107.44   \n",
       "45         2924     84.31         0        0.0  ...   53  25.60  164.10   \n",
       "115         368     69.04       154       32.2  ...   24  13.00  205.26   \n",
       "53           73     58.87       100       34.8  ...    8   4.00   88.89   \n",
       "109        3393     67.58         2       42.0  ...   15  10.33  119.23   \n",
       "129         343     95.81       108       39.4  ...   10  11.00  122.22   \n",
       "58          245     95.33        13       63.2  ...   27   8.22  101.37   \n",
       "63         2763     75.10         0        0.0  ...   47  16.71  144.44   \n",
       "90            4     80.00         0        0.0  ...   59  28.62  128.28   \n",
       "100        1587     70.40         1       42.0  ...   23  20.00  153.84   \n",
       "102         925     97.26        56       44.8  ...   87  25.82  148.81   \n",
       "104         268     94.03        55       37.4  ...   13  12.00  124.13   \n",
       "78            3    100.00         0        0.0  ...    4   3.50   58.33   \n",
       "61            0      0.00         0        0.0  ...   33  30.75  125.51   \n",
       "0             0      0.00         0        0.0  ...    0   0.00    0.00   \n",
       "1           657     71.41       185       37.6  ...    0   0.00    0.00   \n",
       "5           172     72.26         0        0.0  ...   48  21.00   95.45   \n",
       "34           18     60.00         1       90.0  ...   30  16.33  108.89   \n",
       "85            0      0.00         0        0.0  ...   79  27.11  130.48   \n",
       "118          39     95.12        17       41.4  ...   35  15.22  118.10   \n",
       "46            0      0.00         0        0.0  ...    3   3.00   60.00   \n",
       "73            0      0.00         1       54.0  ...    9   9.00   90.00   \n",
       "\n",
       "     SIXERS  RUNS-C  WKTS  AVE-BL   ECON  SR-BL  SOLD PRICE  \n",
       "80       13       0     0    0.00   2.00   0.00      325000  \n",
       "106       1    1304    59   22.10   9.58  20.15      325000  \n",
       "14       36      66     4   16.50  11.25  12.00      300000  \n",
       "19       35     377    10   37.70   8.11  31.80      300000  \n",
       "64        3    1530    74   20.68   8.11  17.46      300000  \n",
       "13       42       0     0    0.00   2.00   0.00      300000  \n",
       "29        5     999    30   33.30   8.47  23.60      290000  \n",
       "79        0    1504    70   21.49   7.39  17.47      275000  \n",
       "75       50       0     0    0.00   2.00   0.00      270000  \n",
       "65        1     435     6   72.50  12.89  44.00      260000  \n",
       "16       24     356     5   71.20  11.07  53.00      250000  \n",
       "38       25       0     0    0.00   0.00   0.00      250000  \n",
       "103       9       0     0    0.00   1.00   0.00      250000  \n",
       "114       0     295     6   49.17   8.55  34.83      240000  \n",
       "56        9     520    27   19.26   7.43  15.56      225000  \n",
       "92        1       0     0    0.00   0.00   0.00      225000  \n",
       "96        2     419    12   34.92  12.88  21.33      225000  \n",
       "126       0       0     0    0.00   3.00   0.00      225000  \n",
       "10       38    1338    47   28.47   8.12  21.11      200000  \n",
       "11        0       0     0    0.00   3.00   0.00      200000  \n",
       "49        8       0     0    0.00   0.00   0.00      200000  \n",
       "74        0     242     7   34.57   6.91  30.00      200000  \n",
       "117       3     355    18   19.72   9.55  15.67      200000  \n",
       "107       3     276     8   34.50  10.67  27.00      175000  \n",
       "87        1     527    13   40.54   8.42  32.77      170000  \n",
       "89       19     303     8   37.88   8.73  29.50      160000  \n",
       "20        0     154     5   20.00   9.60  28.00      150000  \n",
       "21        0     298    17   17.53   9.64  13.76      150000  \n",
       "40        3       0     0    0.00   0.00   0.00      150000  \n",
       "45        8       0     0    0.00   3.00   0.00      150000  \n",
       "115       5     184    12   15.33   8.17  11.20      150000  \n",
       "53        1     187    13   14.38  10.19  12.00      140000  \n",
       "109       0       0     0    0.00   0.00   0.00      125000  \n",
       "129       0      99     2   49.50  11.00  33.00      110000  \n",
       "58        1     331    19   17.42   7.01  14.95      100000  \n",
       "63        6       0     0    0.00   1.00   0.00      100000  \n",
       "90       16       0     0    0.00   0.00   0.00      100000  \n",
       "100       1      21     0    0.00  23.00   0.00      100000  \n",
       "102      24     338     9   37.56  11.14  27.89      100000  \n",
       "104       1     266    22   12.09   7.46  11.20      100000  \n",
       "78        0     468    11   42.55  12.36  27.27       95000  \n",
       "61        4     244    10   24.40  11.41  17.40       80000  \n",
       "0         0     307    15   20.47   9.90  13.93       50000  \n",
       "1         0      29     0    0.00  17.50   0.00       50000  \n",
       "5         0       0     0    0.00   1.00   0.00       50000  \n",
       "34        1     142     3   47.33   8.82  32.33       50000  \n",
       "85       12       0     0    0.00   1.00   0.00       50000  \n",
       "118       8     427    18   23.72   9.83  20.94       50000  \n",
       "46        0     224     9   24.89  11.48  17.78       24000  \n",
       "73        0      40     1   40.00  12.00  24.00       20000  \n",
       "\n",
       "[50 rows x 22 columns]"
      ]
     },
     "execution_count": 189,
     "metadata": {},
     "output_type": "execute_result"
    }
   ],
   "source": [
    "df_cric.sort_values(by=['SOLD PRICE','PLAYER NAME'],ascending=[False,True]).tail(50)"
   ]
  },
  {
   "cell_type": "code",
   "execution_count": 193,
   "id": "f6d18ef9",
   "metadata": {},
   "outputs": [
    {
     "data": {
      "text/plain": [
       "India           53\n",
       "Australia       22\n",
       "South Africa    16\n",
       "Sri Lanka       12\n",
       "Pakistan         9\n",
       "New Zealand      7\n",
       "West Indies      6\n",
       "England          3\n",
       "Bangladesh       1\n",
       "Zimbabwe         1\n",
       "Name: COUNTRY, dtype: int64"
      ]
     },
     "execution_count": 193,
     "metadata": {},
     "output_type": "execute_result"
    }
   ],
   "source": [
    "df_cric['COUNTRY'].value_counts()"
   ]
  },
  {
   "cell_type": "code",
   "execution_count": 199,
   "id": "81dc6483",
   "metadata": {},
   "outputs": [
    {
     "name": "stdout",
     "output_type": "stream",
     "text": [
      "Requirement already satisfied: plotly in c:\\users\\baswa\\anaconda3\\lib\\site-packages (5.5.0)\n",
      "Requirement already satisfied: tenacity>=6.2.0 in c:\\users\\baswa\\anaconda3\\lib\\site-packages (from plotly) (8.0.1)\n",
      "Requirement already satisfied: six in c:\\users\\baswa\\anaconda3\\lib\\site-packages (from plotly) (1.16.0)\n",
      "Note: you may need to restart the kernel to use updated packages.\n"
     ]
    }
   ],
   "source": [
    "pip install plotly"
   ]
  },
  {
   "cell_type": "code",
   "execution_count": 202,
   "id": "f9292faf",
   "metadata": {},
   "outputs": [],
   "source": [
    "import plotly.express as px"
   ]
  },
  {
   "cell_type": "code",
   "execution_count": 213,
   "id": "a35ec21b",
   "metadata": {},
   "outputs": [
    {
     "data": {
      "application/vnd.plotly.v1+json": {
       "config": {
        "plotlyServerURL": "https://plot.ly"
       },
       "data": [
        {
         "alignmentgroup": "True",
         "hovertemplate": "PLAYER NAME=%{x}<br>SOLD PRICE=%{y}<extra></extra>",
         "legendgroup": "",
         "marker": {
          "color": "#636efa",
          "pattern": {
           "shape": ""
          }
         },
         "name": "",
         "offsetgroup": "",
         "orientation": "v",
         "showlegend": false,
         "textposition": "auto",
         "type": "bar",
         "x": [
          "Abdulla",
          "Abdur Razzak",
          "Agarkar",
          "Ashwin",
          "Badrinath",
          "Bailey",
          "Balaji",
          "Bollinger",
          "Botha",
          "Boucher",
          "Bravo",
          "Chanderpaul",
          "Chawla",
          "de Villiers",
          "Dhawan",
          "Dhoni",
          "Dilshan",
          "Dinda",
          "Dravid",
          "Duminy",
          "Edwards",
          "Fernando",
          "Fleming",
          "Flintoff",
          "Gambhir",
          "Ganguly",
          "Gayle",
          "Gibbs",
          "Gilchrist",
          "Gony",
          "Harbhajan Singh",
          "Harris",
          "Hayden",
          "Henderson",
          "Henriques",
          "Hodge",
          "Hopes",
          "Hussey",
          "Hussey",
          "Jadeja",
          "Jaffer",
          "Jayasuriya",
          "Jayawardena",
          "Kaif",
          "Kallis",
          "Kamran Akmal",
          "Kamran Khan",
          "Karthik",
          "Kartik",
          "Katich",
          "Kohli",
          "Kumar",
          "Kumble",
          "Langeveldt",
          "Laxman",
          "Lee",
          "Maharoof",
          "Malinga",
          "Mascarenhas",
          "Mathews",
          "McCullum",
          "McDonald",
          "McGrath",
          "Misbah-ul-Haq",
          "Mishra",
          "Mithun",
          "Mohammad Asif",
          "Morkel",
          "Morkel",
          "Muralitharan",
          "Nannes",
          "Nayar",
          "Nehra",
          "Noffke",
          "Ntini",
          "Ojha",
          "Ojha",
          "Oram",
          "Pankaj Singh",
          "Patel",
          "Patel",
          "Pathan",
          "Pathan",
          "Pietersen",
          "Pollock",
          "Pomersbach",
          "Ponting",
          "Powar",
          "Raina",
          "Ryder",
          "Saha",
          "Sangakkara",
          "Sarwan",
          "Sehwag",
          "Shahid Afridi",
          "Sharma",
          "Sharma",
          "Sharma",
          "Shoaib Akhtar",
          "Shoaib Malik",
          "Silva",
          "Singh",
          "Smith",
          "Smith",
          "Sohail Tanvir",
          "Sreesanth",
          "Steyn",
          "Styris",
          "Symonds",
          "Taibu",
          "Taylor",
          "Tendulkar",
          "Tiwary",
          "Tiwary",
          "Tyagi",
          "Umar Gul",
          "Uthappa",
          "Vaas",
          "Van der Merwe",
          "Venugopal Rao",
          "Vettori",
          "Vinay Kumar",
          "Warne",
          "Warner",
          "White",
          "Yadav",
          "Younis Khan",
          "Yuvraj Singh",
          "Zaheer Khan",
          "Zoysa"
         ],
         "xaxis": "x",
         "y": [
          50000,
          50000,
          350000,
          850000,
          800000,
          50000,
          500000,
          700000,
          950000,
          450000,
          200000,
          200000,
          400000,
          300000,
          300000,
          1500000,
          250000,
          375000,
          500000,
          300000,
          150000,
          150000,
          350000,
          1550000,
          725000,
          400000,
          800000,
          575000,
          700000,
          290000,
          850000,
          325000,
          375000,
          650000,
          50000,
          425000,
          350000,
          625000,
          250000,
          950000,
          150000,
          975000,
          475000,
          675000,
          900000,
          150000,
          24000,
          525000,
          425000,
          200000,
          1800000,
          800000,
          500000,
          140000,
          375000,
          900000,
          225000,
          350000,
          100000,
          950000,
          700000,
          80000,
          350000,
          100000,
          300000,
          260000,
          650000,
          675000,
          475000,
          600000,
          650000,
          800000,
          850000,
          20000,
          200000,
          270000,
          500000,
          675000,
          95000,
          275000,
          325000,
          925000,
          475000,
          1550000,
          550000,
          50000,
          400000,
          170000,
          650000,
          160000,
          100000,
          700000,
          225000,
          1800000,
          675000,
          950000,
          225000,
          750000,
          425000,
          500000,
          100000,
          875000,
          100000,
          250000,
          100000,
          625000,
          325000,
          175000,
          1350000,
          125000,
          1000000,
          1800000,
          675000,
          1600000,
          240000,
          150000,
          800000,
          200000,
          50000,
          700000,
          625000,
          475000,
          450000,
          750000,
          500000,
          750000,
          225000,
          1800000,
          450000,
          110000
         ],
         "yaxis": "y"
        }
       ],
       "layout": {
        "barmode": "relative",
        "legend": {
         "tracegroupgap": 0
        },
        "margin": {
         "t": 60
        },
        "template": {
         "data": {
          "bar": [
           {
            "error_x": {
             "color": "#2a3f5f"
            },
            "error_y": {
             "color": "#2a3f5f"
            },
            "marker": {
             "line": {
              "color": "#E5ECF6",
              "width": 0.5
             },
             "pattern": {
              "fillmode": "overlay",
              "size": 10,
              "solidity": 0.2
             }
            },
            "type": "bar"
           }
          ],
          "barpolar": [
           {
            "marker": {
             "line": {
              "color": "#E5ECF6",
              "width": 0.5
             },
             "pattern": {
              "fillmode": "overlay",
              "size": 10,
              "solidity": 0.2
             }
            },
            "type": "barpolar"
           }
          ],
          "carpet": [
           {
            "aaxis": {
             "endlinecolor": "#2a3f5f",
             "gridcolor": "white",
             "linecolor": "white",
             "minorgridcolor": "white",
             "startlinecolor": "#2a3f5f"
            },
            "baxis": {
             "endlinecolor": "#2a3f5f",
             "gridcolor": "white",
             "linecolor": "white",
             "minorgridcolor": "white",
             "startlinecolor": "#2a3f5f"
            },
            "type": "carpet"
           }
          ],
          "choropleth": [
           {
            "colorbar": {
             "outlinewidth": 0,
             "ticks": ""
            },
            "type": "choropleth"
           }
          ],
          "contour": [
           {
            "colorbar": {
             "outlinewidth": 0,
             "ticks": ""
            },
            "colorscale": [
             [
              0,
              "#0d0887"
             ],
             [
              0.1111111111111111,
              "#46039f"
             ],
             [
              0.2222222222222222,
              "#7201a8"
             ],
             [
              0.3333333333333333,
              "#9c179e"
             ],
             [
              0.4444444444444444,
              "#bd3786"
             ],
             [
              0.5555555555555556,
              "#d8576b"
             ],
             [
              0.6666666666666666,
              "#ed7953"
             ],
             [
              0.7777777777777778,
              "#fb9f3a"
             ],
             [
              0.8888888888888888,
              "#fdca26"
             ],
             [
              1,
              "#f0f921"
             ]
            ],
            "type": "contour"
           }
          ],
          "contourcarpet": [
           {
            "colorbar": {
             "outlinewidth": 0,
             "ticks": ""
            },
            "type": "contourcarpet"
           }
          ],
          "heatmap": [
           {
            "colorbar": {
             "outlinewidth": 0,
             "ticks": ""
            },
            "colorscale": [
             [
              0,
              "#0d0887"
             ],
             [
              0.1111111111111111,
              "#46039f"
             ],
             [
              0.2222222222222222,
              "#7201a8"
             ],
             [
              0.3333333333333333,
              "#9c179e"
             ],
             [
              0.4444444444444444,
              "#bd3786"
             ],
             [
              0.5555555555555556,
              "#d8576b"
             ],
             [
              0.6666666666666666,
              "#ed7953"
             ],
             [
              0.7777777777777778,
              "#fb9f3a"
             ],
             [
              0.8888888888888888,
              "#fdca26"
             ],
             [
              1,
              "#f0f921"
             ]
            ],
            "type": "heatmap"
           }
          ],
          "heatmapgl": [
           {
            "colorbar": {
             "outlinewidth": 0,
             "ticks": ""
            },
            "colorscale": [
             [
              0,
              "#0d0887"
             ],
             [
              0.1111111111111111,
              "#46039f"
             ],
             [
              0.2222222222222222,
              "#7201a8"
             ],
             [
              0.3333333333333333,
              "#9c179e"
             ],
             [
              0.4444444444444444,
              "#bd3786"
             ],
             [
              0.5555555555555556,
              "#d8576b"
             ],
             [
              0.6666666666666666,
              "#ed7953"
             ],
             [
              0.7777777777777778,
              "#fb9f3a"
             ],
             [
              0.8888888888888888,
              "#fdca26"
             ],
             [
              1,
              "#f0f921"
             ]
            ],
            "type": "heatmapgl"
           }
          ],
          "histogram": [
           {
            "marker": {
             "pattern": {
              "fillmode": "overlay",
              "size": 10,
              "solidity": 0.2
             }
            },
            "type": "histogram"
           }
          ],
          "histogram2d": [
           {
            "colorbar": {
             "outlinewidth": 0,
             "ticks": ""
            },
            "colorscale": [
             [
              0,
              "#0d0887"
             ],
             [
              0.1111111111111111,
              "#46039f"
             ],
             [
              0.2222222222222222,
              "#7201a8"
             ],
             [
              0.3333333333333333,
              "#9c179e"
             ],
             [
              0.4444444444444444,
              "#bd3786"
             ],
             [
              0.5555555555555556,
              "#d8576b"
             ],
             [
              0.6666666666666666,
              "#ed7953"
             ],
             [
              0.7777777777777778,
              "#fb9f3a"
             ],
             [
              0.8888888888888888,
              "#fdca26"
             ],
             [
              1,
              "#f0f921"
             ]
            ],
            "type": "histogram2d"
           }
          ],
          "histogram2dcontour": [
           {
            "colorbar": {
             "outlinewidth": 0,
             "ticks": ""
            },
            "colorscale": [
             [
              0,
              "#0d0887"
             ],
             [
              0.1111111111111111,
              "#46039f"
             ],
             [
              0.2222222222222222,
              "#7201a8"
             ],
             [
              0.3333333333333333,
              "#9c179e"
             ],
             [
              0.4444444444444444,
              "#bd3786"
             ],
             [
              0.5555555555555556,
              "#d8576b"
             ],
             [
              0.6666666666666666,
              "#ed7953"
             ],
             [
              0.7777777777777778,
              "#fb9f3a"
             ],
             [
              0.8888888888888888,
              "#fdca26"
             ],
             [
              1,
              "#f0f921"
             ]
            ],
            "type": "histogram2dcontour"
           }
          ],
          "mesh3d": [
           {
            "colorbar": {
             "outlinewidth": 0,
             "ticks": ""
            },
            "type": "mesh3d"
           }
          ],
          "parcoords": [
           {
            "line": {
             "colorbar": {
              "outlinewidth": 0,
              "ticks": ""
             }
            },
            "type": "parcoords"
           }
          ],
          "pie": [
           {
            "automargin": true,
            "type": "pie"
           }
          ],
          "scatter": [
           {
            "marker": {
             "colorbar": {
              "outlinewidth": 0,
              "ticks": ""
             }
            },
            "type": "scatter"
           }
          ],
          "scatter3d": [
           {
            "line": {
             "colorbar": {
              "outlinewidth": 0,
              "ticks": ""
             }
            },
            "marker": {
             "colorbar": {
              "outlinewidth": 0,
              "ticks": ""
             }
            },
            "type": "scatter3d"
           }
          ],
          "scattercarpet": [
           {
            "marker": {
             "colorbar": {
              "outlinewidth": 0,
              "ticks": ""
             }
            },
            "type": "scattercarpet"
           }
          ],
          "scattergeo": [
           {
            "marker": {
             "colorbar": {
              "outlinewidth": 0,
              "ticks": ""
             }
            },
            "type": "scattergeo"
           }
          ],
          "scattergl": [
           {
            "marker": {
             "colorbar": {
              "outlinewidth": 0,
              "ticks": ""
             }
            },
            "type": "scattergl"
           }
          ],
          "scattermapbox": [
           {
            "marker": {
             "colorbar": {
              "outlinewidth": 0,
              "ticks": ""
             }
            },
            "type": "scattermapbox"
           }
          ],
          "scatterpolar": [
           {
            "marker": {
             "colorbar": {
              "outlinewidth": 0,
              "ticks": ""
             }
            },
            "type": "scatterpolar"
           }
          ],
          "scatterpolargl": [
           {
            "marker": {
             "colorbar": {
              "outlinewidth": 0,
              "ticks": ""
             }
            },
            "type": "scatterpolargl"
           }
          ],
          "scatterternary": [
           {
            "marker": {
             "colorbar": {
              "outlinewidth": 0,
              "ticks": ""
             }
            },
            "type": "scatterternary"
           }
          ],
          "surface": [
           {
            "colorbar": {
             "outlinewidth": 0,
             "ticks": ""
            },
            "colorscale": [
             [
              0,
              "#0d0887"
             ],
             [
              0.1111111111111111,
              "#46039f"
             ],
             [
              0.2222222222222222,
              "#7201a8"
             ],
             [
              0.3333333333333333,
              "#9c179e"
             ],
             [
              0.4444444444444444,
              "#bd3786"
             ],
             [
              0.5555555555555556,
              "#d8576b"
             ],
             [
              0.6666666666666666,
              "#ed7953"
             ],
             [
              0.7777777777777778,
              "#fb9f3a"
             ],
             [
              0.8888888888888888,
              "#fdca26"
             ],
             [
              1,
              "#f0f921"
             ]
            ],
            "type": "surface"
           }
          ],
          "table": [
           {
            "cells": {
             "fill": {
              "color": "#EBF0F8"
             },
             "line": {
              "color": "white"
             }
            },
            "header": {
             "fill": {
              "color": "#C8D4E3"
             },
             "line": {
              "color": "white"
             }
            },
            "type": "table"
           }
          ]
         },
         "layout": {
          "annotationdefaults": {
           "arrowcolor": "#2a3f5f",
           "arrowhead": 0,
           "arrowwidth": 1
          },
          "autotypenumbers": "strict",
          "coloraxis": {
           "colorbar": {
            "outlinewidth": 0,
            "ticks": ""
           }
          },
          "colorscale": {
           "diverging": [
            [
             0,
             "#8e0152"
            ],
            [
             0.1,
             "#c51b7d"
            ],
            [
             0.2,
             "#de77ae"
            ],
            [
             0.3,
             "#f1b6da"
            ],
            [
             0.4,
             "#fde0ef"
            ],
            [
             0.5,
             "#f7f7f7"
            ],
            [
             0.6,
             "#e6f5d0"
            ],
            [
             0.7,
             "#b8e186"
            ],
            [
             0.8,
             "#7fbc41"
            ],
            [
             0.9,
             "#4d9221"
            ],
            [
             1,
             "#276419"
            ]
           ],
           "sequential": [
            [
             0,
             "#0d0887"
            ],
            [
             0.1111111111111111,
             "#46039f"
            ],
            [
             0.2222222222222222,
             "#7201a8"
            ],
            [
             0.3333333333333333,
             "#9c179e"
            ],
            [
             0.4444444444444444,
             "#bd3786"
            ],
            [
             0.5555555555555556,
             "#d8576b"
            ],
            [
             0.6666666666666666,
             "#ed7953"
            ],
            [
             0.7777777777777778,
             "#fb9f3a"
            ],
            [
             0.8888888888888888,
             "#fdca26"
            ],
            [
             1,
             "#f0f921"
            ]
           ],
           "sequentialminus": [
            [
             0,
             "#0d0887"
            ],
            [
             0.1111111111111111,
             "#46039f"
            ],
            [
             0.2222222222222222,
             "#7201a8"
            ],
            [
             0.3333333333333333,
             "#9c179e"
            ],
            [
             0.4444444444444444,
             "#bd3786"
            ],
            [
             0.5555555555555556,
             "#d8576b"
            ],
            [
             0.6666666666666666,
             "#ed7953"
            ],
            [
             0.7777777777777778,
             "#fb9f3a"
            ],
            [
             0.8888888888888888,
             "#fdca26"
            ],
            [
             1,
             "#f0f921"
            ]
           ]
          },
          "colorway": [
           "#636efa",
           "#EF553B",
           "#00cc96",
           "#ab63fa",
           "#FFA15A",
           "#19d3f3",
           "#FF6692",
           "#B6E880",
           "#FF97FF",
           "#FECB52"
          ],
          "font": {
           "color": "#2a3f5f"
          },
          "geo": {
           "bgcolor": "white",
           "lakecolor": "white",
           "landcolor": "#E5ECF6",
           "showlakes": true,
           "showland": true,
           "subunitcolor": "white"
          },
          "hoverlabel": {
           "align": "left"
          },
          "hovermode": "closest",
          "mapbox": {
           "style": "light"
          },
          "paper_bgcolor": "white",
          "plot_bgcolor": "#E5ECF6",
          "polar": {
           "angularaxis": {
            "gridcolor": "white",
            "linecolor": "white",
            "ticks": ""
           },
           "bgcolor": "#E5ECF6",
           "radialaxis": {
            "gridcolor": "white",
            "linecolor": "white",
            "ticks": ""
           }
          },
          "scene": {
           "xaxis": {
            "backgroundcolor": "#E5ECF6",
            "gridcolor": "white",
            "gridwidth": 2,
            "linecolor": "white",
            "showbackground": true,
            "ticks": "",
            "zerolinecolor": "white"
           },
           "yaxis": {
            "backgroundcolor": "#E5ECF6",
            "gridcolor": "white",
            "gridwidth": 2,
            "linecolor": "white",
            "showbackground": true,
            "ticks": "",
            "zerolinecolor": "white"
           },
           "zaxis": {
            "backgroundcolor": "#E5ECF6",
            "gridcolor": "white",
            "gridwidth": 2,
            "linecolor": "white",
            "showbackground": true,
            "ticks": "",
            "zerolinecolor": "white"
           }
          },
          "shapedefaults": {
           "line": {
            "color": "#2a3f5f"
           }
          },
          "ternary": {
           "aaxis": {
            "gridcolor": "white",
            "linecolor": "white",
            "ticks": ""
           },
           "baxis": {
            "gridcolor": "white",
            "linecolor": "white",
            "ticks": ""
           },
           "bgcolor": "#E5ECF6",
           "caxis": {
            "gridcolor": "white",
            "linecolor": "white",
            "ticks": ""
           }
          },
          "title": {
           "x": 0.05
          },
          "xaxis": {
           "automargin": true,
           "gridcolor": "white",
           "linecolor": "white",
           "ticks": "",
           "title": {
            "standoff": 15
           },
           "zerolinecolor": "white",
           "zerolinewidth": 2
          },
          "yaxis": {
           "automargin": true,
           "gridcolor": "white",
           "linecolor": "white",
           "ticks": "",
           "title": {
            "standoff": 15
           },
           "zerolinecolor": "white",
           "zerolinewidth": 2
          }
         }
        },
        "xaxis": {
         "anchor": "y",
         "domain": [
          0,
          1
         ],
         "title": {
          "text": "PLAYER NAME"
         }
        },
        "yaxis": {
         "anchor": "x",
         "domain": [
          0,
          1
         ],
         "title": {
          "text": "SOLD PRICE"
         }
        }
       }
      },
      "text/html": [
       "<div>                            <div id=\"e4051b24-4889-4ad6-aa63-20ca51fc2abe\" class=\"plotly-graph-div\" style=\"height:525px; width:100%;\"></div>            <script type=\"text/javascript\">                require([\"plotly\"], function(Plotly) {                    window.PLOTLYENV=window.PLOTLYENV || {};                                    if (document.getElementById(\"e4051b24-4889-4ad6-aa63-20ca51fc2abe\")) {                    Plotly.newPlot(                        \"e4051b24-4889-4ad6-aa63-20ca51fc2abe\",                        [{\"alignmentgroup\":\"True\",\"hovertemplate\":\"PLAYER NAME=%{x}<br>SOLD PRICE=%{y}<extra></extra>\",\"legendgroup\":\"\",\"marker\":{\"color\":\"#636efa\",\"pattern\":{\"shape\":\"\"}},\"name\":\"\",\"offsetgroup\":\"\",\"orientation\":\"v\",\"showlegend\":false,\"textposition\":\"auto\",\"x\":[\"Abdulla\",\"Abdur Razzak\",\"Agarkar\",\"Ashwin\",\"Badrinath\",\"Bailey\",\"Balaji\",\"Bollinger\",\"Botha\",\"Boucher\",\"Bravo\",\"Chanderpaul\",\"Chawla\",\"de Villiers\",\"Dhawan\",\"Dhoni\",\"Dilshan\",\"Dinda\",\"Dravid\",\"Duminy\",\"Edwards\",\"Fernando\",\"Fleming\",\"Flintoff\",\"Gambhir\",\"Ganguly\",\"Gayle\",\"Gibbs\",\"Gilchrist\",\"Gony\",\"Harbhajan Singh\",\"Harris\",\"Hayden\",\"Henderson\",\"Henriques\",\"Hodge\",\"Hopes\",\"Hussey\",\"Hussey\",\"Jadeja\",\"Jaffer\",\"Jayasuriya\",\"Jayawardena\",\"Kaif\",\"Kallis\",\"Kamran Akmal\",\"Kamran Khan\",\"Karthik\",\"Kartik\",\"Katich\",\"Kohli\",\"Kumar\",\"Kumble\",\"Langeveldt\",\"Laxman\",\"Lee\",\"Maharoof\",\"Malinga\",\"Mascarenhas\",\"Mathews\",\"McCullum\",\"McDonald\",\"McGrath\",\"Misbah-ul-Haq\",\"Mishra\",\"Mithun\",\"Mohammad Asif\",\"Morkel\",\"Morkel\",\"Muralitharan\",\"Nannes\",\"Nayar\",\"Nehra\",\"Noffke\",\"Ntini\",\"Ojha\",\"Ojha\",\"Oram\",\"Pankaj Singh\",\"Patel\",\"Patel\",\"Pathan\",\"Pathan\",\"Pietersen\",\"Pollock\",\"Pomersbach\",\"Ponting\",\"Powar\",\"Raina\",\"Ryder\",\"Saha\",\"Sangakkara\",\"Sarwan\",\"Sehwag\",\"Shahid Afridi\",\"Sharma\",\"Sharma\",\"Sharma\",\"Shoaib Akhtar\",\"Shoaib Malik\",\"Silva\",\"Singh\",\"Smith\",\"Smith\",\"Sohail Tanvir\",\"Sreesanth\",\"Steyn\",\"Styris\",\"Symonds\",\"Taibu\",\"Taylor\",\"Tendulkar\",\"Tiwary\",\"Tiwary\",\"Tyagi\",\"Umar Gul\",\"Uthappa\",\"Vaas\",\"Van der Merwe\",\"Venugopal Rao\",\"Vettori\",\"Vinay Kumar\",\"Warne\",\"Warner\",\"White\",\"Yadav\",\"Younis Khan\",\"Yuvraj Singh\",\"Zaheer Khan\",\"Zoysa\"],\"xaxis\":\"x\",\"y\":[50000,50000,350000,850000,800000,50000,500000,700000,950000,450000,200000,200000,400000,300000,300000,1500000,250000,375000,500000,300000,150000,150000,350000,1550000,725000,400000,800000,575000,700000,290000,850000,325000,375000,650000,50000,425000,350000,625000,250000,950000,150000,975000,475000,675000,900000,150000,24000,525000,425000,200000,1800000,800000,500000,140000,375000,900000,225000,350000,100000,950000,700000,80000,350000,100000,300000,260000,650000,675000,475000,600000,650000,800000,850000,20000,200000,270000,500000,675000,95000,275000,325000,925000,475000,1550000,550000,50000,400000,170000,650000,160000,100000,700000,225000,1800000,675000,950000,225000,750000,425000,500000,100000,875000,100000,250000,100000,625000,325000,175000,1350000,125000,1000000,1800000,675000,1600000,240000,150000,800000,200000,50000,700000,625000,475000,450000,750000,500000,750000,225000,1800000,450000,110000],\"yaxis\":\"y\",\"type\":\"bar\"}],                        {\"template\":{\"data\":{\"bar\":[{\"error_x\":{\"color\":\"#2a3f5f\"},\"error_y\":{\"color\":\"#2a3f5f\"},\"marker\":{\"line\":{\"color\":\"#E5ECF6\",\"width\":0.5},\"pattern\":{\"fillmode\":\"overlay\",\"size\":10,\"solidity\":0.2}},\"type\":\"bar\"}],\"barpolar\":[{\"marker\":{\"line\":{\"color\":\"#E5ECF6\",\"width\":0.5},\"pattern\":{\"fillmode\":\"overlay\",\"size\":10,\"solidity\":0.2}},\"type\":\"barpolar\"}],\"carpet\":[{\"aaxis\":{\"endlinecolor\":\"#2a3f5f\",\"gridcolor\":\"white\",\"linecolor\":\"white\",\"minorgridcolor\":\"white\",\"startlinecolor\":\"#2a3f5f\"},\"baxis\":{\"endlinecolor\":\"#2a3f5f\",\"gridcolor\":\"white\",\"linecolor\":\"white\",\"minorgridcolor\":\"white\",\"startlinecolor\":\"#2a3f5f\"},\"type\":\"carpet\"}],\"choropleth\":[{\"colorbar\":{\"outlinewidth\":0,\"ticks\":\"\"},\"type\":\"choropleth\"}],\"contour\":[{\"colorbar\":{\"outlinewidth\":0,\"ticks\":\"\"},\"colorscale\":[[0.0,\"#0d0887\"],[0.1111111111111111,\"#46039f\"],[0.2222222222222222,\"#7201a8\"],[0.3333333333333333,\"#9c179e\"],[0.4444444444444444,\"#bd3786\"],[0.5555555555555556,\"#d8576b\"],[0.6666666666666666,\"#ed7953\"],[0.7777777777777778,\"#fb9f3a\"],[0.8888888888888888,\"#fdca26\"],[1.0,\"#f0f921\"]],\"type\":\"contour\"}],\"contourcarpet\":[{\"colorbar\":{\"outlinewidth\":0,\"ticks\":\"\"},\"type\":\"contourcarpet\"}],\"heatmap\":[{\"colorbar\":{\"outlinewidth\":0,\"ticks\":\"\"},\"colorscale\":[[0.0,\"#0d0887\"],[0.1111111111111111,\"#46039f\"],[0.2222222222222222,\"#7201a8\"],[0.3333333333333333,\"#9c179e\"],[0.4444444444444444,\"#bd3786\"],[0.5555555555555556,\"#d8576b\"],[0.6666666666666666,\"#ed7953\"],[0.7777777777777778,\"#fb9f3a\"],[0.8888888888888888,\"#fdca26\"],[1.0,\"#f0f921\"]],\"type\":\"heatmap\"}],\"heatmapgl\":[{\"colorbar\":{\"outlinewidth\":0,\"ticks\":\"\"},\"colorscale\":[[0.0,\"#0d0887\"],[0.1111111111111111,\"#46039f\"],[0.2222222222222222,\"#7201a8\"],[0.3333333333333333,\"#9c179e\"],[0.4444444444444444,\"#bd3786\"],[0.5555555555555556,\"#d8576b\"],[0.6666666666666666,\"#ed7953\"],[0.7777777777777778,\"#fb9f3a\"],[0.8888888888888888,\"#fdca26\"],[1.0,\"#f0f921\"]],\"type\":\"heatmapgl\"}],\"histogram\":[{\"marker\":{\"pattern\":{\"fillmode\":\"overlay\",\"size\":10,\"solidity\":0.2}},\"type\":\"histogram\"}],\"histogram2d\":[{\"colorbar\":{\"outlinewidth\":0,\"ticks\":\"\"},\"colorscale\":[[0.0,\"#0d0887\"],[0.1111111111111111,\"#46039f\"],[0.2222222222222222,\"#7201a8\"],[0.3333333333333333,\"#9c179e\"],[0.4444444444444444,\"#bd3786\"],[0.5555555555555556,\"#d8576b\"],[0.6666666666666666,\"#ed7953\"],[0.7777777777777778,\"#fb9f3a\"],[0.8888888888888888,\"#fdca26\"],[1.0,\"#f0f921\"]],\"type\":\"histogram2d\"}],\"histogram2dcontour\":[{\"colorbar\":{\"outlinewidth\":0,\"ticks\":\"\"},\"colorscale\":[[0.0,\"#0d0887\"],[0.1111111111111111,\"#46039f\"],[0.2222222222222222,\"#7201a8\"],[0.3333333333333333,\"#9c179e\"],[0.4444444444444444,\"#bd3786\"],[0.5555555555555556,\"#d8576b\"],[0.6666666666666666,\"#ed7953\"],[0.7777777777777778,\"#fb9f3a\"],[0.8888888888888888,\"#fdca26\"],[1.0,\"#f0f921\"]],\"type\":\"histogram2dcontour\"}],\"mesh3d\":[{\"colorbar\":{\"outlinewidth\":0,\"ticks\":\"\"},\"type\":\"mesh3d\"}],\"parcoords\":[{\"line\":{\"colorbar\":{\"outlinewidth\":0,\"ticks\":\"\"}},\"type\":\"parcoords\"}],\"pie\":[{\"automargin\":true,\"type\":\"pie\"}],\"scatter\":[{\"marker\":{\"colorbar\":{\"outlinewidth\":0,\"ticks\":\"\"}},\"type\":\"scatter\"}],\"scatter3d\":[{\"line\":{\"colorbar\":{\"outlinewidth\":0,\"ticks\":\"\"}},\"marker\":{\"colorbar\":{\"outlinewidth\":0,\"ticks\":\"\"}},\"type\":\"scatter3d\"}],\"scattercarpet\":[{\"marker\":{\"colorbar\":{\"outlinewidth\":0,\"ticks\":\"\"}},\"type\":\"scattercarpet\"}],\"scattergeo\":[{\"marker\":{\"colorbar\":{\"outlinewidth\":0,\"ticks\":\"\"}},\"type\":\"scattergeo\"}],\"scattergl\":[{\"marker\":{\"colorbar\":{\"outlinewidth\":0,\"ticks\":\"\"}},\"type\":\"scattergl\"}],\"scattermapbox\":[{\"marker\":{\"colorbar\":{\"outlinewidth\":0,\"ticks\":\"\"}},\"type\":\"scattermapbox\"}],\"scatterpolar\":[{\"marker\":{\"colorbar\":{\"outlinewidth\":0,\"ticks\":\"\"}},\"type\":\"scatterpolar\"}],\"scatterpolargl\":[{\"marker\":{\"colorbar\":{\"outlinewidth\":0,\"ticks\":\"\"}},\"type\":\"scatterpolargl\"}],\"scatterternary\":[{\"marker\":{\"colorbar\":{\"outlinewidth\":0,\"ticks\":\"\"}},\"type\":\"scatterternary\"}],\"surface\":[{\"colorbar\":{\"outlinewidth\":0,\"ticks\":\"\"},\"colorscale\":[[0.0,\"#0d0887\"],[0.1111111111111111,\"#46039f\"],[0.2222222222222222,\"#7201a8\"],[0.3333333333333333,\"#9c179e\"],[0.4444444444444444,\"#bd3786\"],[0.5555555555555556,\"#d8576b\"],[0.6666666666666666,\"#ed7953\"],[0.7777777777777778,\"#fb9f3a\"],[0.8888888888888888,\"#fdca26\"],[1.0,\"#f0f921\"]],\"type\":\"surface\"}],\"table\":[{\"cells\":{\"fill\":{\"color\":\"#EBF0F8\"},\"line\":{\"color\":\"white\"}},\"header\":{\"fill\":{\"color\":\"#C8D4E3\"},\"line\":{\"color\":\"white\"}},\"type\":\"table\"}]},\"layout\":{\"annotationdefaults\":{\"arrowcolor\":\"#2a3f5f\",\"arrowhead\":0,\"arrowwidth\":1},\"autotypenumbers\":\"strict\",\"coloraxis\":{\"colorbar\":{\"outlinewidth\":0,\"ticks\":\"\"}},\"colorscale\":{\"diverging\":[[0,\"#8e0152\"],[0.1,\"#c51b7d\"],[0.2,\"#de77ae\"],[0.3,\"#f1b6da\"],[0.4,\"#fde0ef\"],[0.5,\"#f7f7f7\"],[0.6,\"#e6f5d0\"],[0.7,\"#b8e186\"],[0.8,\"#7fbc41\"],[0.9,\"#4d9221\"],[1,\"#276419\"]],\"sequential\":[[0.0,\"#0d0887\"],[0.1111111111111111,\"#46039f\"],[0.2222222222222222,\"#7201a8\"],[0.3333333333333333,\"#9c179e\"],[0.4444444444444444,\"#bd3786\"],[0.5555555555555556,\"#d8576b\"],[0.6666666666666666,\"#ed7953\"],[0.7777777777777778,\"#fb9f3a\"],[0.8888888888888888,\"#fdca26\"],[1.0,\"#f0f921\"]],\"sequentialminus\":[[0.0,\"#0d0887\"],[0.1111111111111111,\"#46039f\"],[0.2222222222222222,\"#7201a8\"],[0.3333333333333333,\"#9c179e\"],[0.4444444444444444,\"#bd3786\"],[0.5555555555555556,\"#d8576b\"],[0.6666666666666666,\"#ed7953\"],[0.7777777777777778,\"#fb9f3a\"],[0.8888888888888888,\"#fdca26\"],[1.0,\"#f0f921\"]]},\"colorway\":[\"#636efa\",\"#EF553B\",\"#00cc96\",\"#ab63fa\",\"#FFA15A\",\"#19d3f3\",\"#FF6692\",\"#B6E880\",\"#FF97FF\",\"#FECB52\"],\"font\":{\"color\":\"#2a3f5f\"},\"geo\":{\"bgcolor\":\"white\",\"lakecolor\":\"white\",\"landcolor\":\"#E5ECF6\",\"showlakes\":true,\"showland\":true,\"subunitcolor\":\"white\"},\"hoverlabel\":{\"align\":\"left\"},\"hovermode\":\"closest\",\"mapbox\":{\"style\":\"light\"},\"paper_bgcolor\":\"white\",\"plot_bgcolor\":\"#E5ECF6\",\"polar\":{\"angularaxis\":{\"gridcolor\":\"white\",\"linecolor\":\"white\",\"ticks\":\"\"},\"bgcolor\":\"#E5ECF6\",\"radialaxis\":{\"gridcolor\":\"white\",\"linecolor\":\"white\",\"ticks\":\"\"}},\"scene\":{\"xaxis\":{\"backgroundcolor\":\"#E5ECF6\",\"gridcolor\":\"white\",\"gridwidth\":2,\"linecolor\":\"white\",\"showbackground\":true,\"ticks\":\"\",\"zerolinecolor\":\"white\"},\"yaxis\":{\"backgroundcolor\":\"#E5ECF6\",\"gridcolor\":\"white\",\"gridwidth\":2,\"linecolor\":\"white\",\"showbackground\":true,\"ticks\":\"\",\"zerolinecolor\":\"white\"},\"zaxis\":{\"backgroundcolor\":\"#E5ECF6\",\"gridcolor\":\"white\",\"gridwidth\":2,\"linecolor\":\"white\",\"showbackground\":true,\"ticks\":\"\",\"zerolinecolor\":\"white\"}},\"shapedefaults\":{\"line\":{\"color\":\"#2a3f5f\"}},\"ternary\":{\"aaxis\":{\"gridcolor\":\"white\",\"linecolor\":\"white\",\"ticks\":\"\"},\"baxis\":{\"gridcolor\":\"white\",\"linecolor\":\"white\",\"ticks\":\"\"},\"bgcolor\":\"#E5ECF6\",\"caxis\":{\"gridcolor\":\"white\",\"linecolor\":\"white\",\"ticks\":\"\"}},\"title\":{\"x\":0.05},\"xaxis\":{\"automargin\":true,\"gridcolor\":\"white\",\"linecolor\":\"white\",\"ticks\":\"\",\"title\":{\"standoff\":15},\"zerolinecolor\":\"white\",\"zerolinewidth\":2},\"yaxis\":{\"automargin\":true,\"gridcolor\":\"white\",\"linecolor\":\"white\",\"ticks\":\"\",\"title\":{\"standoff\":15},\"zerolinecolor\":\"white\",\"zerolinewidth\":2}}},\"xaxis\":{\"anchor\":\"y\",\"domain\":[0.0,1.0],\"title\":{\"text\":\"PLAYER NAME\"}},\"yaxis\":{\"anchor\":\"x\",\"domain\":[0.0,1.0],\"title\":{\"text\":\"SOLD PRICE\"}},\"legend\":{\"tracegroupgap\":0},\"margin\":{\"t\":60},\"barmode\":\"relative\"},                        {\"responsive\": true}                    ).then(function(){\n",
       "                            \n",
       "var gd = document.getElementById('e4051b24-4889-4ad6-aa63-20ca51fc2abe');\n",
       "var x = new MutationObserver(function (mutations, observer) {{\n",
       "        var display = window.getComputedStyle(gd).display;\n",
       "        if (!display || display === 'none') {{\n",
       "            console.log([gd, 'removed!']);\n",
       "            Plotly.purge(gd);\n",
       "            observer.disconnect();\n",
       "        }}\n",
       "}});\n",
       "\n",
       "// Listen for the removal of the full notebook cells\n",
       "var notebookContainer = gd.closest('#notebook-container');\n",
       "if (notebookContainer) {{\n",
       "    x.observe(notebookContainer, {childList: true});\n",
       "}}\n",
       "\n",
       "// Listen for the clearing of the current output cell\n",
       "var outputEl = gd.closest('.output');\n",
       "if (outputEl) {{\n",
       "    x.observe(outputEl, {childList: true});\n",
       "}}\n",
       "\n",
       "                        })                };                });            </script>        </div>"
      ]
     },
     "metadata": {},
     "output_type": "display_data"
    }
   ],
   "source": [
    "px.bar(df_cric,x='PLAYER NAME',y='SOLD PRICE')"
   ]
  },
  {
   "cell_type": "code",
   "execution_count": 216,
   "id": "0cef16ec",
   "metadata": {},
   "outputs": [
    {
     "data": {
      "application/vnd.plotly.v1+json": {
       "config": {
        "plotlyServerURL": "https://plot.ly"
       },
       "data": [
        {
         "alignmentgroup": "True",
         "hovertemplate": "COUNTRY=%{x}<br>HS=%{y}<extra></extra>",
         "legendgroup": "",
         "marker": {
          "color": "#636efa",
          "pattern": {
           "shape": ""
          }
         },
         "name": "",
         "offsetgroup": "",
         "orientation": "v",
         "showlegend": false,
         "textposition": "auto",
         "type": "bar",
         "x": [
          "South Africa",
          "Bangladesh",
          "India",
          "India",
          "India",
          "Australia",
          "India",
          "Australia",
          "South Africa",
          "South Africa",
          "West Indies",
          "West Indies",
          "India",
          "South Africa",
          "India",
          "India",
          "Sri Lanka",
          "India",
          "India",
          "South Africa",
          "West Indies",
          "Sri Lanka",
          "New Zealand",
          "England",
          "India",
          "India",
          "West Indies",
          "South Africa",
          "Australia",
          "India",
          "India",
          "Australia",
          "Australia",
          "South Africa",
          "Australia",
          "Australia",
          "Australia",
          "Australia",
          "Australia",
          "India",
          "India",
          "Sri Lanka",
          "Sri Lanka",
          "India",
          "South Africa",
          "Pakistan",
          "India",
          "India",
          "India",
          "Australia",
          "India",
          "India",
          "India",
          "South Africa",
          "India",
          "Australia",
          "Sri Lanka",
          "Sri Lanka",
          "England",
          "Sri Lanka",
          "New Zealand",
          "Australia",
          "Australia",
          "Pakistan",
          "India",
          "India",
          "Pakistan",
          "South Africa",
          "South Africa",
          "Sri Lanka",
          "Australia",
          "India",
          "India",
          "Australia",
          "South Africa",
          "India",
          "India",
          "New Zealand",
          "India",
          "India",
          "India",
          "India",
          "India",
          "England",
          "South Africa",
          "Australia",
          "Australia",
          "India",
          "India",
          "New Zealand",
          "India",
          "Sri Lanka",
          "West Indies",
          "India",
          "Pakistan",
          "India",
          "India",
          "India",
          "Pakistan",
          "Pakistan",
          "Sri Lanka",
          "India",
          "West Indies",
          "South Africa",
          "Pakistan",
          "India",
          "South Africa",
          "New Zealand",
          "Australia",
          "Zimbabwe",
          "New Zealand",
          "India",
          "India",
          "India",
          "India",
          "Pakistan",
          "India",
          "Sri Lanka",
          "South Africa",
          "India",
          "New Zealand",
          "India",
          "Australia",
          "Australia",
          "Australia",
          "India",
          "Pakistan",
          "India",
          "India",
          "Sri Lanka"
         ],
         "xaxis": "x",
         "y": [
          0,
          0,
          39,
          11,
          71,
          48,
          15,
          16,
          67,
          50,
          70,
          16,
          24,
          105,
          95,
          70,
          76,
          2,
          75,
          74,
          3,
          2,
          45,
          24,
          93,
          91,
          128,
          69,
          109,
          15,
          49,
          17,
          93,
          11,
          30,
          73,
          71,
          71,
          116,
          48,
          50,
          114,
          110,
          34,
          89,
          53,
          3,
          69,
          21,
          75,
          73,
          34,
          8,
          8,
          52,
          25,
          39,
          17,
          27,
          65,
          158,
          33,
          4,
          47,
          31,
          11,
          3,
          71,
          16,
          6,
          3,
          35,
          22,
          9,
          11,
          94,
          3,
          41,
          4,
          23,
          57,
          60,
          100,
          103,
          33,
          79,
          20,
          28,
          98,
          86,
          59,
          94,
          31,
          119,
          33,
          9,
          16,
          109,
          2,
          24,
          23,
          10,
          87,
          91,
          13,
          15,
          13,
          36,
          117,
          15,
          81,
          100,
          75,
          42,
          3,
          24,
          69,
          20,
          35,
          71,
          29,
          25,
          34,
          109,
          78,
          16,
          3,
          66,
          23,
          10
         ],
         "yaxis": "y"
        }
       ],
       "layout": {
        "barmode": "relative",
        "legend": {
         "tracegroupgap": 0
        },
        "margin": {
         "t": 60
        },
        "template": {
         "data": {
          "bar": [
           {
            "error_x": {
             "color": "#2a3f5f"
            },
            "error_y": {
             "color": "#2a3f5f"
            },
            "marker": {
             "line": {
              "color": "#E5ECF6",
              "width": 0.5
             },
             "pattern": {
              "fillmode": "overlay",
              "size": 10,
              "solidity": 0.2
             }
            },
            "type": "bar"
           }
          ],
          "barpolar": [
           {
            "marker": {
             "line": {
              "color": "#E5ECF6",
              "width": 0.5
             },
             "pattern": {
              "fillmode": "overlay",
              "size": 10,
              "solidity": 0.2
             }
            },
            "type": "barpolar"
           }
          ],
          "carpet": [
           {
            "aaxis": {
             "endlinecolor": "#2a3f5f",
             "gridcolor": "white",
             "linecolor": "white",
             "minorgridcolor": "white",
             "startlinecolor": "#2a3f5f"
            },
            "baxis": {
             "endlinecolor": "#2a3f5f",
             "gridcolor": "white",
             "linecolor": "white",
             "minorgridcolor": "white",
             "startlinecolor": "#2a3f5f"
            },
            "type": "carpet"
           }
          ],
          "choropleth": [
           {
            "colorbar": {
             "outlinewidth": 0,
             "ticks": ""
            },
            "type": "choropleth"
           }
          ],
          "contour": [
           {
            "colorbar": {
             "outlinewidth": 0,
             "ticks": ""
            },
            "colorscale": [
             [
              0,
              "#0d0887"
             ],
             [
              0.1111111111111111,
              "#46039f"
             ],
             [
              0.2222222222222222,
              "#7201a8"
             ],
             [
              0.3333333333333333,
              "#9c179e"
             ],
             [
              0.4444444444444444,
              "#bd3786"
             ],
             [
              0.5555555555555556,
              "#d8576b"
             ],
             [
              0.6666666666666666,
              "#ed7953"
             ],
             [
              0.7777777777777778,
              "#fb9f3a"
             ],
             [
              0.8888888888888888,
              "#fdca26"
             ],
             [
              1,
              "#f0f921"
             ]
            ],
            "type": "contour"
           }
          ],
          "contourcarpet": [
           {
            "colorbar": {
             "outlinewidth": 0,
             "ticks": ""
            },
            "type": "contourcarpet"
           }
          ],
          "heatmap": [
           {
            "colorbar": {
             "outlinewidth": 0,
             "ticks": ""
            },
            "colorscale": [
             [
              0,
              "#0d0887"
             ],
             [
              0.1111111111111111,
              "#46039f"
             ],
             [
              0.2222222222222222,
              "#7201a8"
             ],
             [
              0.3333333333333333,
              "#9c179e"
             ],
             [
              0.4444444444444444,
              "#bd3786"
             ],
             [
              0.5555555555555556,
              "#d8576b"
             ],
             [
              0.6666666666666666,
              "#ed7953"
             ],
             [
              0.7777777777777778,
              "#fb9f3a"
             ],
             [
              0.8888888888888888,
              "#fdca26"
             ],
             [
              1,
              "#f0f921"
             ]
            ],
            "type": "heatmap"
           }
          ],
          "heatmapgl": [
           {
            "colorbar": {
             "outlinewidth": 0,
             "ticks": ""
            },
            "colorscale": [
             [
              0,
              "#0d0887"
             ],
             [
              0.1111111111111111,
              "#46039f"
             ],
             [
              0.2222222222222222,
              "#7201a8"
             ],
             [
              0.3333333333333333,
              "#9c179e"
             ],
             [
              0.4444444444444444,
              "#bd3786"
             ],
             [
              0.5555555555555556,
              "#d8576b"
             ],
             [
              0.6666666666666666,
              "#ed7953"
             ],
             [
              0.7777777777777778,
              "#fb9f3a"
             ],
             [
              0.8888888888888888,
              "#fdca26"
             ],
             [
              1,
              "#f0f921"
             ]
            ],
            "type": "heatmapgl"
           }
          ],
          "histogram": [
           {
            "marker": {
             "pattern": {
              "fillmode": "overlay",
              "size": 10,
              "solidity": 0.2
             }
            },
            "type": "histogram"
           }
          ],
          "histogram2d": [
           {
            "colorbar": {
             "outlinewidth": 0,
             "ticks": ""
            },
            "colorscale": [
             [
              0,
              "#0d0887"
             ],
             [
              0.1111111111111111,
              "#46039f"
             ],
             [
              0.2222222222222222,
              "#7201a8"
             ],
             [
              0.3333333333333333,
              "#9c179e"
             ],
             [
              0.4444444444444444,
              "#bd3786"
             ],
             [
              0.5555555555555556,
              "#d8576b"
             ],
             [
              0.6666666666666666,
              "#ed7953"
             ],
             [
              0.7777777777777778,
              "#fb9f3a"
             ],
             [
              0.8888888888888888,
              "#fdca26"
             ],
             [
              1,
              "#f0f921"
             ]
            ],
            "type": "histogram2d"
           }
          ],
          "histogram2dcontour": [
           {
            "colorbar": {
             "outlinewidth": 0,
             "ticks": ""
            },
            "colorscale": [
             [
              0,
              "#0d0887"
             ],
             [
              0.1111111111111111,
              "#46039f"
             ],
             [
              0.2222222222222222,
              "#7201a8"
             ],
             [
              0.3333333333333333,
              "#9c179e"
             ],
             [
              0.4444444444444444,
              "#bd3786"
             ],
             [
              0.5555555555555556,
              "#d8576b"
             ],
             [
              0.6666666666666666,
              "#ed7953"
             ],
             [
              0.7777777777777778,
              "#fb9f3a"
             ],
             [
              0.8888888888888888,
              "#fdca26"
             ],
             [
              1,
              "#f0f921"
             ]
            ],
            "type": "histogram2dcontour"
           }
          ],
          "mesh3d": [
           {
            "colorbar": {
             "outlinewidth": 0,
             "ticks": ""
            },
            "type": "mesh3d"
           }
          ],
          "parcoords": [
           {
            "line": {
             "colorbar": {
              "outlinewidth": 0,
              "ticks": ""
             }
            },
            "type": "parcoords"
           }
          ],
          "pie": [
           {
            "automargin": true,
            "type": "pie"
           }
          ],
          "scatter": [
           {
            "marker": {
             "colorbar": {
              "outlinewidth": 0,
              "ticks": ""
             }
            },
            "type": "scatter"
           }
          ],
          "scatter3d": [
           {
            "line": {
             "colorbar": {
              "outlinewidth": 0,
              "ticks": ""
             }
            },
            "marker": {
             "colorbar": {
              "outlinewidth": 0,
              "ticks": ""
             }
            },
            "type": "scatter3d"
           }
          ],
          "scattercarpet": [
           {
            "marker": {
             "colorbar": {
              "outlinewidth": 0,
              "ticks": ""
             }
            },
            "type": "scattercarpet"
           }
          ],
          "scattergeo": [
           {
            "marker": {
             "colorbar": {
              "outlinewidth": 0,
              "ticks": ""
             }
            },
            "type": "scattergeo"
           }
          ],
          "scattergl": [
           {
            "marker": {
             "colorbar": {
              "outlinewidth": 0,
              "ticks": ""
             }
            },
            "type": "scattergl"
           }
          ],
          "scattermapbox": [
           {
            "marker": {
             "colorbar": {
              "outlinewidth": 0,
              "ticks": ""
             }
            },
            "type": "scattermapbox"
           }
          ],
          "scatterpolar": [
           {
            "marker": {
             "colorbar": {
              "outlinewidth": 0,
              "ticks": ""
             }
            },
            "type": "scatterpolar"
           }
          ],
          "scatterpolargl": [
           {
            "marker": {
             "colorbar": {
              "outlinewidth": 0,
              "ticks": ""
             }
            },
            "type": "scatterpolargl"
           }
          ],
          "scatterternary": [
           {
            "marker": {
             "colorbar": {
              "outlinewidth": 0,
              "ticks": ""
             }
            },
            "type": "scatterternary"
           }
          ],
          "surface": [
           {
            "colorbar": {
             "outlinewidth": 0,
             "ticks": ""
            },
            "colorscale": [
             [
              0,
              "#0d0887"
             ],
             [
              0.1111111111111111,
              "#46039f"
             ],
             [
              0.2222222222222222,
              "#7201a8"
             ],
             [
              0.3333333333333333,
              "#9c179e"
             ],
             [
              0.4444444444444444,
              "#bd3786"
             ],
             [
              0.5555555555555556,
              "#d8576b"
             ],
             [
              0.6666666666666666,
              "#ed7953"
             ],
             [
              0.7777777777777778,
              "#fb9f3a"
             ],
             [
              0.8888888888888888,
              "#fdca26"
             ],
             [
              1,
              "#f0f921"
             ]
            ],
            "type": "surface"
           }
          ],
          "table": [
           {
            "cells": {
             "fill": {
              "color": "#EBF0F8"
             },
             "line": {
              "color": "white"
             }
            },
            "header": {
             "fill": {
              "color": "#C8D4E3"
             },
             "line": {
              "color": "white"
             }
            },
            "type": "table"
           }
          ]
         },
         "layout": {
          "annotationdefaults": {
           "arrowcolor": "#2a3f5f",
           "arrowhead": 0,
           "arrowwidth": 1
          },
          "autotypenumbers": "strict",
          "coloraxis": {
           "colorbar": {
            "outlinewidth": 0,
            "ticks": ""
           }
          },
          "colorscale": {
           "diverging": [
            [
             0,
             "#8e0152"
            ],
            [
             0.1,
             "#c51b7d"
            ],
            [
             0.2,
             "#de77ae"
            ],
            [
             0.3,
             "#f1b6da"
            ],
            [
             0.4,
             "#fde0ef"
            ],
            [
             0.5,
             "#f7f7f7"
            ],
            [
             0.6,
             "#e6f5d0"
            ],
            [
             0.7,
             "#b8e186"
            ],
            [
             0.8,
             "#7fbc41"
            ],
            [
             0.9,
             "#4d9221"
            ],
            [
             1,
             "#276419"
            ]
           ],
           "sequential": [
            [
             0,
             "#0d0887"
            ],
            [
             0.1111111111111111,
             "#46039f"
            ],
            [
             0.2222222222222222,
             "#7201a8"
            ],
            [
             0.3333333333333333,
             "#9c179e"
            ],
            [
             0.4444444444444444,
             "#bd3786"
            ],
            [
             0.5555555555555556,
             "#d8576b"
            ],
            [
             0.6666666666666666,
             "#ed7953"
            ],
            [
             0.7777777777777778,
             "#fb9f3a"
            ],
            [
             0.8888888888888888,
             "#fdca26"
            ],
            [
             1,
             "#f0f921"
            ]
           ],
           "sequentialminus": [
            [
             0,
             "#0d0887"
            ],
            [
             0.1111111111111111,
             "#46039f"
            ],
            [
             0.2222222222222222,
             "#7201a8"
            ],
            [
             0.3333333333333333,
             "#9c179e"
            ],
            [
             0.4444444444444444,
             "#bd3786"
            ],
            [
             0.5555555555555556,
             "#d8576b"
            ],
            [
             0.6666666666666666,
             "#ed7953"
            ],
            [
             0.7777777777777778,
             "#fb9f3a"
            ],
            [
             0.8888888888888888,
             "#fdca26"
            ],
            [
             1,
             "#f0f921"
            ]
           ]
          },
          "colorway": [
           "#636efa",
           "#EF553B",
           "#00cc96",
           "#ab63fa",
           "#FFA15A",
           "#19d3f3",
           "#FF6692",
           "#B6E880",
           "#FF97FF",
           "#FECB52"
          ],
          "font": {
           "color": "#2a3f5f"
          },
          "geo": {
           "bgcolor": "white",
           "lakecolor": "white",
           "landcolor": "#E5ECF6",
           "showlakes": true,
           "showland": true,
           "subunitcolor": "white"
          },
          "hoverlabel": {
           "align": "left"
          },
          "hovermode": "closest",
          "mapbox": {
           "style": "light"
          },
          "paper_bgcolor": "white",
          "plot_bgcolor": "#E5ECF6",
          "polar": {
           "angularaxis": {
            "gridcolor": "white",
            "linecolor": "white",
            "ticks": ""
           },
           "bgcolor": "#E5ECF6",
           "radialaxis": {
            "gridcolor": "white",
            "linecolor": "white",
            "ticks": ""
           }
          },
          "scene": {
           "xaxis": {
            "backgroundcolor": "#E5ECF6",
            "gridcolor": "white",
            "gridwidth": 2,
            "linecolor": "white",
            "showbackground": true,
            "ticks": "",
            "zerolinecolor": "white"
           },
           "yaxis": {
            "backgroundcolor": "#E5ECF6",
            "gridcolor": "white",
            "gridwidth": 2,
            "linecolor": "white",
            "showbackground": true,
            "ticks": "",
            "zerolinecolor": "white"
           },
           "zaxis": {
            "backgroundcolor": "#E5ECF6",
            "gridcolor": "white",
            "gridwidth": 2,
            "linecolor": "white",
            "showbackground": true,
            "ticks": "",
            "zerolinecolor": "white"
           }
          },
          "shapedefaults": {
           "line": {
            "color": "#2a3f5f"
           }
          },
          "ternary": {
           "aaxis": {
            "gridcolor": "white",
            "linecolor": "white",
            "ticks": ""
           },
           "baxis": {
            "gridcolor": "white",
            "linecolor": "white",
            "ticks": ""
           },
           "bgcolor": "#E5ECF6",
           "caxis": {
            "gridcolor": "white",
            "linecolor": "white",
            "ticks": ""
           }
          },
          "title": {
           "x": 0.05
          },
          "xaxis": {
           "automargin": true,
           "gridcolor": "white",
           "linecolor": "white",
           "ticks": "",
           "title": {
            "standoff": 15
           },
           "zerolinecolor": "white",
           "zerolinewidth": 2
          },
          "yaxis": {
           "automargin": true,
           "gridcolor": "white",
           "linecolor": "white",
           "ticks": "",
           "title": {
            "standoff": 15
           },
           "zerolinecolor": "white",
           "zerolinewidth": 2
          }
         }
        },
        "xaxis": {
         "anchor": "y",
         "domain": [
          0,
          1
         ],
         "title": {
          "text": "COUNTRY"
         }
        },
        "yaxis": {
         "anchor": "x",
         "domain": [
          0,
          1
         ],
         "title": {
          "text": "HS"
         }
        }
       }
      },
      "text/html": [
       "<div>                            <div id=\"784181e8-1646-43d6-968a-91496d421f41\" class=\"plotly-graph-div\" style=\"height:525px; width:100%;\"></div>            <script type=\"text/javascript\">                require([\"plotly\"], function(Plotly) {                    window.PLOTLYENV=window.PLOTLYENV || {};                                    if (document.getElementById(\"784181e8-1646-43d6-968a-91496d421f41\")) {                    Plotly.newPlot(                        \"784181e8-1646-43d6-968a-91496d421f41\",                        [{\"alignmentgroup\":\"True\",\"hovertemplate\":\"COUNTRY=%{x}<br>HS=%{y}<extra></extra>\",\"legendgroup\":\"\",\"marker\":{\"color\":\"#636efa\",\"pattern\":{\"shape\":\"\"}},\"name\":\"\",\"offsetgroup\":\"\",\"orientation\":\"v\",\"showlegend\":false,\"textposition\":\"auto\",\"x\":[\"South Africa\",\"Bangladesh\",\"India\",\"India\",\"India\",\"Australia\",\"India\",\"Australia\",\"South Africa\",\"South Africa\",\"West Indies\",\"West Indies\",\"India\",\"South Africa\",\"India\",\"India\",\"Sri Lanka\",\"India\",\"India\",\"South Africa\",\"West Indies\",\"Sri Lanka\",\"New Zealand\",\"England\",\"India\",\"India\",\"West Indies\",\"South Africa\",\"Australia\",\"India\",\"India\",\"Australia\",\"Australia\",\"South Africa\",\"Australia\",\"Australia\",\"Australia\",\"Australia\",\"Australia\",\"India\",\"India\",\"Sri Lanka\",\"Sri Lanka\",\"India\",\"South Africa\",\"Pakistan\",\"India\",\"India\",\"India\",\"Australia\",\"India\",\"India\",\"India\",\"South Africa\",\"India\",\"Australia\",\"Sri Lanka\",\"Sri Lanka\",\"England\",\"Sri Lanka\",\"New Zealand\",\"Australia\",\"Australia\",\"Pakistan\",\"India\",\"India\",\"Pakistan\",\"South Africa\",\"South Africa\",\"Sri Lanka\",\"Australia\",\"India\",\"India\",\"Australia\",\"South Africa\",\"India\",\"India\",\"New Zealand\",\"India\",\"India\",\"India\",\"India\",\"India\",\"England\",\"South Africa\",\"Australia\",\"Australia\",\"India\",\"India\",\"New Zealand\",\"India\",\"Sri Lanka\",\"West Indies\",\"India\",\"Pakistan\",\"India\",\"India\",\"India\",\"Pakistan\",\"Pakistan\",\"Sri Lanka\",\"India\",\"West Indies\",\"South Africa\",\"Pakistan\",\"India\",\"South Africa\",\"New Zealand\",\"Australia\",\"Zimbabwe\",\"New Zealand\",\"India\",\"India\",\"India\",\"India\",\"Pakistan\",\"India\",\"Sri Lanka\",\"South Africa\",\"India\",\"New Zealand\",\"India\",\"Australia\",\"Australia\",\"Australia\",\"India\",\"Pakistan\",\"India\",\"India\",\"Sri Lanka\"],\"xaxis\":\"x\",\"y\":[0,0,39,11,71,48,15,16,67,50,70,16,24,105,95,70,76,2,75,74,3,2,45,24,93,91,128,69,109,15,49,17,93,11,30,73,71,71,116,48,50,114,110,34,89,53,3,69,21,75,73,34,8,8,52,25,39,17,27,65,158,33,4,47,31,11,3,71,16,6,3,35,22,9,11,94,3,41,4,23,57,60,100,103,33,79,20,28,98,86,59,94,31,119,33,9,16,109,2,24,23,10,87,91,13,15,13,36,117,15,81,100,75,42,3,24,69,20,35,71,29,25,34,109,78,16,3,66,23,10],\"yaxis\":\"y\",\"type\":\"bar\"}],                        {\"template\":{\"data\":{\"bar\":[{\"error_x\":{\"color\":\"#2a3f5f\"},\"error_y\":{\"color\":\"#2a3f5f\"},\"marker\":{\"line\":{\"color\":\"#E5ECF6\",\"width\":0.5},\"pattern\":{\"fillmode\":\"overlay\",\"size\":10,\"solidity\":0.2}},\"type\":\"bar\"}],\"barpolar\":[{\"marker\":{\"line\":{\"color\":\"#E5ECF6\",\"width\":0.5},\"pattern\":{\"fillmode\":\"overlay\",\"size\":10,\"solidity\":0.2}},\"type\":\"barpolar\"}],\"carpet\":[{\"aaxis\":{\"endlinecolor\":\"#2a3f5f\",\"gridcolor\":\"white\",\"linecolor\":\"white\",\"minorgridcolor\":\"white\",\"startlinecolor\":\"#2a3f5f\"},\"baxis\":{\"endlinecolor\":\"#2a3f5f\",\"gridcolor\":\"white\",\"linecolor\":\"white\",\"minorgridcolor\":\"white\",\"startlinecolor\":\"#2a3f5f\"},\"type\":\"carpet\"}],\"choropleth\":[{\"colorbar\":{\"outlinewidth\":0,\"ticks\":\"\"},\"type\":\"choropleth\"}],\"contour\":[{\"colorbar\":{\"outlinewidth\":0,\"ticks\":\"\"},\"colorscale\":[[0.0,\"#0d0887\"],[0.1111111111111111,\"#46039f\"],[0.2222222222222222,\"#7201a8\"],[0.3333333333333333,\"#9c179e\"],[0.4444444444444444,\"#bd3786\"],[0.5555555555555556,\"#d8576b\"],[0.6666666666666666,\"#ed7953\"],[0.7777777777777778,\"#fb9f3a\"],[0.8888888888888888,\"#fdca26\"],[1.0,\"#f0f921\"]],\"type\":\"contour\"}],\"contourcarpet\":[{\"colorbar\":{\"outlinewidth\":0,\"ticks\":\"\"},\"type\":\"contourcarpet\"}],\"heatmap\":[{\"colorbar\":{\"outlinewidth\":0,\"ticks\":\"\"},\"colorscale\":[[0.0,\"#0d0887\"],[0.1111111111111111,\"#46039f\"],[0.2222222222222222,\"#7201a8\"],[0.3333333333333333,\"#9c179e\"],[0.4444444444444444,\"#bd3786\"],[0.5555555555555556,\"#d8576b\"],[0.6666666666666666,\"#ed7953\"],[0.7777777777777778,\"#fb9f3a\"],[0.8888888888888888,\"#fdca26\"],[1.0,\"#f0f921\"]],\"type\":\"heatmap\"}],\"heatmapgl\":[{\"colorbar\":{\"outlinewidth\":0,\"ticks\":\"\"},\"colorscale\":[[0.0,\"#0d0887\"],[0.1111111111111111,\"#46039f\"],[0.2222222222222222,\"#7201a8\"],[0.3333333333333333,\"#9c179e\"],[0.4444444444444444,\"#bd3786\"],[0.5555555555555556,\"#d8576b\"],[0.6666666666666666,\"#ed7953\"],[0.7777777777777778,\"#fb9f3a\"],[0.8888888888888888,\"#fdca26\"],[1.0,\"#f0f921\"]],\"type\":\"heatmapgl\"}],\"histogram\":[{\"marker\":{\"pattern\":{\"fillmode\":\"overlay\",\"size\":10,\"solidity\":0.2}},\"type\":\"histogram\"}],\"histogram2d\":[{\"colorbar\":{\"outlinewidth\":0,\"ticks\":\"\"},\"colorscale\":[[0.0,\"#0d0887\"],[0.1111111111111111,\"#46039f\"],[0.2222222222222222,\"#7201a8\"],[0.3333333333333333,\"#9c179e\"],[0.4444444444444444,\"#bd3786\"],[0.5555555555555556,\"#d8576b\"],[0.6666666666666666,\"#ed7953\"],[0.7777777777777778,\"#fb9f3a\"],[0.8888888888888888,\"#fdca26\"],[1.0,\"#f0f921\"]],\"type\":\"histogram2d\"}],\"histogram2dcontour\":[{\"colorbar\":{\"outlinewidth\":0,\"ticks\":\"\"},\"colorscale\":[[0.0,\"#0d0887\"],[0.1111111111111111,\"#46039f\"],[0.2222222222222222,\"#7201a8\"],[0.3333333333333333,\"#9c179e\"],[0.4444444444444444,\"#bd3786\"],[0.5555555555555556,\"#d8576b\"],[0.6666666666666666,\"#ed7953\"],[0.7777777777777778,\"#fb9f3a\"],[0.8888888888888888,\"#fdca26\"],[1.0,\"#f0f921\"]],\"type\":\"histogram2dcontour\"}],\"mesh3d\":[{\"colorbar\":{\"outlinewidth\":0,\"ticks\":\"\"},\"type\":\"mesh3d\"}],\"parcoords\":[{\"line\":{\"colorbar\":{\"outlinewidth\":0,\"ticks\":\"\"}},\"type\":\"parcoords\"}],\"pie\":[{\"automargin\":true,\"type\":\"pie\"}],\"scatter\":[{\"marker\":{\"colorbar\":{\"outlinewidth\":0,\"ticks\":\"\"}},\"type\":\"scatter\"}],\"scatter3d\":[{\"line\":{\"colorbar\":{\"outlinewidth\":0,\"ticks\":\"\"}},\"marker\":{\"colorbar\":{\"outlinewidth\":0,\"ticks\":\"\"}},\"type\":\"scatter3d\"}],\"scattercarpet\":[{\"marker\":{\"colorbar\":{\"outlinewidth\":0,\"ticks\":\"\"}},\"type\":\"scattercarpet\"}],\"scattergeo\":[{\"marker\":{\"colorbar\":{\"outlinewidth\":0,\"ticks\":\"\"}},\"type\":\"scattergeo\"}],\"scattergl\":[{\"marker\":{\"colorbar\":{\"outlinewidth\":0,\"ticks\":\"\"}},\"type\":\"scattergl\"}],\"scattermapbox\":[{\"marker\":{\"colorbar\":{\"outlinewidth\":0,\"ticks\":\"\"}},\"type\":\"scattermapbox\"}],\"scatterpolar\":[{\"marker\":{\"colorbar\":{\"outlinewidth\":0,\"ticks\":\"\"}},\"type\":\"scatterpolar\"}],\"scatterpolargl\":[{\"marker\":{\"colorbar\":{\"outlinewidth\":0,\"ticks\":\"\"}},\"type\":\"scatterpolargl\"}],\"scatterternary\":[{\"marker\":{\"colorbar\":{\"outlinewidth\":0,\"ticks\":\"\"}},\"type\":\"scatterternary\"}],\"surface\":[{\"colorbar\":{\"outlinewidth\":0,\"ticks\":\"\"},\"colorscale\":[[0.0,\"#0d0887\"],[0.1111111111111111,\"#46039f\"],[0.2222222222222222,\"#7201a8\"],[0.3333333333333333,\"#9c179e\"],[0.4444444444444444,\"#bd3786\"],[0.5555555555555556,\"#d8576b\"],[0.6666666666666666,\"#ed7953\"],[0.7777777777777778,\"#fb9f3a\"],[0.8888888888888888,\"#fdca26\"],[1.0,\"#f0f921\"]],\"type\":\"surface\"}],\"table\":[{\"cells\":{\"fill\":{\"color\":\"#EBF0F8\"},\"line\":{\"color\":\"white\"}},\"header\":{\"fill\":{\"color\":\"#C8D4E3\"},\"line\":{\"color\":\"white\"}},\"type\":\"table\"}]},\"layout\":{\"annotationdefaults\":{\"arrowcolor\":\"#2a3f5f\",\"arrowhead\":0,\"arrowwidth\":1},\"autotypenumbers\":\"strict\",\"coloraxis\":{\"colorbar\":{\"outlinewidth\":0,\"ticks\":\"\"}},\"colorscale\":{\"diverging\":[[0,\"#8e0152\"],[0.1,\"#c51b7d\"],[0.2,\"#de77ae\"],[0.3,\"#f1b6da\"],[0.4,\"#fde0ef\"],[0.5,\"#f7f7f7\"],[0.6,\"#e6f5d0\"],[0.7,\"#b8e186\"],[0.8,\"#7fbc41\"],[0.9,\"#4d9221\"],[1,\"#276419\"]],\"sequential\":[[0.0,\"#0d0887\"],[0.1111111111111111,\"#46039f\"],[0.2222222222222222,\"#7201a8\"],[0.3333333333333333,\"#9c179e\"],[0.4444444444444444,\"#bd3786\"],[0.5555555555555556,\"#d8576b\"],[0.6666666666666666,\"#ed7953\"],[0.7777777777777778,\"#fb9f3a\"],[0.8888888888888888,\"#fdca26\"],[1.0,\"#f0f921\"]],\"sequentialminus\":[[0.0,\"#0d0887\"],[0.1111111111111111,\"#46039f\"],[0.2222222222222222,\"#7201a8\"],[0.3333333333333333,\"#9c179e\"],[0.4444444444444444,\"#bd3786\"],[0.5555555555555556,\"#d8576b\"],[0.6666666666666666,\"#ed7953\"],[0.7777777777777778,\"#fb9f3a\"],[0.8888888888888888,\"#fdca26\"],[1.0,\"#f0f921\"]]},\"colorway\":[\"#636efa\",\"#EF553B\",\"#00cc96\",\"#ab63fa\",\"#FFA15A\",\"#19d3f3\",\"#FF6692\",\"#B6E880\",\"#FF97FF\",\"#FECB52\"],\"font\":{\"color\":\"#2a3f5f\"},\"geo\":{\"bgcolor\":\"white\",\"lakecolor\":\"white\",\"landcolor\":\"#E5ECF6\",\"showlakes\":true,\"showland\":true,\"subunitcolor\":\"white\"},\"hoverlabel\":{\"align\":\"left\"},\"hovermode\":\"closest\",\"mapbox\":{\"style\":\"light\"},\"paper_bgcolor\":\"white\",\"plot_bgcolor\":\"#E5ECF6\",\"polar\":{\"angularaxis\":{\"gridcolor\":\"white\",\"linecolor\":\"white\",\"ticks\":\"\"},\"bgcolor\":\"#E5ECF6\",\"radialaxis\":{\"gridcolor\":\"white\",\"linecolor\":\"white\",\"ticks\":\"\"}},\"scene\":{\"xaxis\":{\"backgroundcolor\":\"#E5ECF6\",\"gridcolor\":\"white\",\"gridwidth\":2,\"linecolor\":\"white\",\"showbackground\":true,\"ticks\":\"\",\"zerolinecolor\":\"white\"},\"yaxis\":{\"backgroundcolor\":\"#E5ECF6\",\"gridcolor\":\"white\",\"gridwidth\":2,\"linecolor\":\"white\",\"showbackground\":true,\"ticks\":\"\",\"zerolinecolor\":\"white\"},\"zaxis\":{\"backgroundcolor\":\"#E5ECF6\",\"gridcolor\":\"white\",\"gridwidth\":2,\"linecolor\":\"white\",\"showbackground\":true,\"ticks\":\"\",\"zerolinecolor\":\"white\"}},\"shapedefaults\":{\"line\":{\"color\":\"#2a3f5f\"}},\"ternary\":{\"aaxis\":{\"gridcolor\":\"white\",\"linecolor\":\"white\",\"ticks\":\"\"},\"baxis\":{\"gridcolor\":\"white\",\"linecolor\":\"white\",\"ticks\":\"\"},\"bgcolor\":\"#E5ECF6\",\"caxis\":{\"gridcolor\":\"white\",\"linecolor\":\"white\",\"ticks\":\"\"}},\"title\":{\"x\":0.05},\"xaxis\":{\"automargin\":true,\"gridcolor\":\"white\",\"linecolor\":\"white\",\"ticks\":\"\",\"title\":{\"standoff\":15},\"zerolinecolor\":\"white\",\"zerolinewidth\":2},\"yaxis\":{\"automargin\":true,\"gridcolor\":\"white\",\"linecolor\":\"white\",\"ticks\":\"\",\"title\":{\"standoff\":15},\"zerolinecolor\":\"white\",\"zerolinewidth\":2}}},\"xaxis\":{\"anchor\":\"y\",\"domain\":[0.0,1.0],\"title\":{\"text\":\"COUNTRY\"}},\"yaxis\":{\"anchor\":\"x\",\"domain\":[0.0,1.0],\"title\":{\"text\":\"HS\"}},\"legend\":{\"tracegroupgap\":0},\"margin\":{\"t\":60},\"barmode\":\"relative\"},                        {\"responsive\": true}                    ).then(function(){\n",
       "                            \n",
       "var gd = document.getElementById('784181e8-1646-43d6-968a-91496d421f41');\n",
       "var x = new MutationObserver(function (mutations, observer) {{\n",
       "        var display = window.getComputedStyle(gd).display;\n",
       "        if (!display || display === 'none') {{\n",
       "            console.log([gd, 'removed!']);\n",
       "            Plotly.purge(gd);\n",
       "            observer.disconnect();\n",
       "        }}\n",
       "}});\n",
       "\n",
       "// Listen for the removal of the full notebook cells\n",
       "var notebookContainer = gd.closest('#notebook-container');\n",
       "if (notebookContainer) {{\n",
       "    x.observe(notebookContainer, {childList: true});\n",
       "}}\n",
       "\n",
       "// Listen for the clearing of the current output cell\n",
       "var outputEl = gd.closest('.output');\n",
       "if (outputEl) {{\n",
       "    x.observe(outputEl, {childList: true});\n",
       "}}\n",
       "\n",
       "                        })                };                });            </script>        </div>"
      ]
     },
     "metadata": {},
     "output_type": "display_data"
    }
   ],
   "source": [
    "px.bar(df_cric,x='COUNTRY',y='HS')"
   ]
  },
  {
   "cell_type": "code",
   "execution_count": 223,
   "id": "ec92851a",
   "metadata": {},
   "outputs": [
    {
     "data": {
      "application/vnd.plotly.v1+json": {
       "config": {
        "plotlyServerURL": "https://plot.ly"
       },
       "data": [
        {
         "alignmentgroup": "True",
         "hovertemplate": "PLAYER NAME=Abdulla<br>COUNTRY=%{x}<br>SOLD PRICE=%{y}<extra></extra>",
         "legendgroup": "Abdulla",
         "marker": {
          "color": "#636efa",
          "pattern": {
           "shape": ""
          }
         },
         "name": "Abdulla",
         "offsetgroup": "Abdulla",
         "orientation": "v",
         "showlegend": true,
         "textposition": "auto",
         "type": "bar",
         "x": [
          "South Africa"
         ],
         "xaxis": "x",
         "y": [
          50000
         ],
         "yaxis": "y"
        },
        {
         "alignmentgroup": "True",
         "hovertemplate": "PLAYER NAME=Abdur Razzak<br>COUNTRY=%{x}<br>SOLD PRICE=%{y}<extra></extra>",
         "legendgroup": "Abdur Razzak",
         "marker": {
          "color": "#EF553B",
          "pattern": {
           "shape": ""
          }
         },
         "name": "Abdur Razzak",
         "offsetgroup": "Abdur Razzak",
         "orientation": "v",
         "showlegend": true,
         "textposition": "auto",
         "type": "bar",
         "x": [
          "Bangladesh"
         ],
         "xaxis": "x",
         "y": [
          50000
         ],
         "yaxis": "y"
        },
        {
         "alignmentgroup": "True",
         "hovertemplate": "PLAYER NAME=Agarkar<br>COUNTRY=%{x}<br>SOLD PRICE=%{y}<extra></extra>",
         "legendgroup": "Agarkar",
         "marker": {
          "color": "#00cc96",
          "pattern": {
           "shape": ""
          }
         },
         "name": "Agarkar",
         "offsetgroup": "Agarkar",
         "orientation": "v",
         "showlegend": true,
         "textposition": "auto",
         "type": "bar",
         "x": [
          "India"
         ],
         "xaxis": "x",
         "y": [
          350000
         ],
         "yaxis": "y"
        },
        {
         "alignmentgroup": "True",
         "hovertemplate": "PLAYER NAME=Ashwin<br>COUNTRY=%{x}<br>SOLD PRICE=%{y}<extra></extra>",
         "legendgroup": "Ashwin",
         "marker": {
          "color": "#ab63fa",
          "pattern": {
           "shape": ""
          }
         },
         "name": "Ashwin",
         "offsetgroup": "Ashwin",
         "orientation": "v",
         "showlegend": true,
         "textposition": "auto",
         "type": "bar",
         "x": [
          "India"
         ],
         "xaxis": "x",
         "y": [
          850000
         ],
         "yaxis": "y"
        },
        {
         "alignmentgroup": "True",
         "hovertemplate": "PLAYER NAME=Badrinath<br>COUNTRY=%{x}<br>SOLD PRICE=%{y}<extra></extra>",
         "legendgroup": "Badrinath",
         "marker": {
          "color": "#FFA15A",
          "pattern": {
           "shape": ""
          }
         },
         "name": "Badrinath",
         "offsetgroup": "Badrinath",
         "orientation": "v",
         "showlegend": true,
         "textposition": "auto",
         "type": "bar",
         "x": [
          "India"
         ],
         "xaxis": "x",
         "y": [
          800000
         ],
         "yaxis": "y"
        },
        {
         "alignmentgroup": "True",
         "hovertemplate": "PLAYER NAME=Bailey<br>COUNTRY=%{x}<br>SOLD PRICE=%{y}<extra></extra>",
         "legendgroup": "Bailey",
         "marker": {
          "color": "#19d3f3",
          "pattern": {
           "shape": ""
          }
         },
         "name": "Bailey",
         "offsetgroup": "Bailey",
         "orientation": "v",
         "showlegend": true,
         "textposition": "auto",
         "type": "bar",
         "x": [
          "Australia"
         ],
         "xaxis": "x",
         "y": [
          50000
         ],
         "yaxis": "y"
        },
        {
         "alignmentgroup": "True",
         "hovertemplate": "PLAYER NAME=Balaji<br>COUNTRY=%{x}<br>SOLD PRICE=%{y}<extra></extra>",
         "legendgroup": "Balaji",
         "marker": {
          "color": "#FF6692",
          "pattern": {
           "shape": ""
          }
         },
         "name": "Balaji",
         "offsetgroup": "Balaji",
         "orientation": "v",
         "showlegend": true,
         "textposition": "auto",
         "type": "bar",
         "x": [
          "India"
         ],
         "xaxis": "x",
         "y": [
          500000
         ],
         "yaxis": "y"
        },
        {
         "alignmentgroup": "True",
         "hovertemplate": "PLAYER NAME=Bollinger<br>COUNTRY=%{x}<br>SOLD PRICE=%{y}<extra></extra>",
         "legendgroup": "Bollinger",
         "marker": {
          "color": "#B6E880",
          "pattern": {
           "shape": ""
          }
         },
         "name": "Bollinger",
         "offsetgroup": "Bollinger",
         "orientation": "v",
         "showlegend": true,
         "textposition": "auto",
         "type": "bar",
         "x": [
          "Australia"
         ],
         "xaxis": "x",
         "y": [
          700000
         ],
         "yaxis": "y"
        },
        {
         "alignmentgroup": "True",
         "hovertemplate": "PLAYER NAME=Botha<br>COUNTRY=%{x}<br>SOLD PRICE=%{y}<extra></extra>",
         "legendgroup": "Botha",
         "marker": {
          "color": "#FF97FF",
          "pattern": {
           "shape": ""
          }
         },
         "name": "Botha",
         "offsetgroup": "Botha",
         "orientation": "v",
         "showlegend": true,
         "textposition": "auto",
         "type": "bar",
         "x": [
          "South Africa"
         ],
         "xaxis": "x",
         "y": [
          950000
         ],
         "yaxis": "y"
        },
        {
         "alignmentgroup": "True",
         "hovertemplate": "PLAYER NAME=Boucher<br>COUNTRY=%{x}<br>SOLD PRICE=%{y}<extra></extra>",
         "legendgroup": "Boucher",
         "marker": {
          "color": "#FECB52",
          "pattern": {
           "shape": ""
          }
         },
         "name": "Boucher",
         "offsetgroup": "Boucher",
         "orientation": "v",
         "showlegend": true,
         "textposition": "auto",
         "type": "bar",
         "x": [
          "South Africa"
         ],
         "xaxis": "x",
         "y": [
          450000
         ],
         "yaxis": "y"
        },
        {
         "alignmentgroup": "True",
         "hovertemplate": "PLAYER NAME=Bravo<br>COUNTRY=%{x}<br>SOLD PRICE=%{y}<extra></extra>",
         "legendgroup": "Bravo",
         "marker": {
          "color": "#636efa",
          "pattern": {
           "shape": ""
          }
         },
         "name": "Bravo",
         "offsetgroup": "Bravo",
         "orientation": "v",
         "showlegend": true,
         "textposition": "auto",
         "type": "bar",
         "x": [
          "West Indies"
         ],
         "xaxis": "x",
         "y": [
          200000
         ],
         "yaxis": "y"
        },
        {
         "alignmentgroup": "True",
         "hovertemplate": "PLAYER NAME=Chanderpaul<br>COUNTRY=%{x}<br>SOLD PRICE=%{y}<extra></extra>",
         "legendgroup": "Chanderpaul",
         "marker": {
          "color": "#EF553B",
          "pattern": {
           "shape": ""
          }
         },
         "name": "Chanderpaul",
         "offsetgroup": "Chanderpaul",
         "orientation": "v",
         "showlegend": true,
         "textposition": "auto",
         "type": "bar",
         "x": [
          "West Indies"
         ],
         "xaxis": "x",
         "y": [
          200000
         ],
         "yaxis": "y"
        },
        {
         "alignmentgroup": "True",
         "hovertemplate": "PLAYER NAME=Chawla<br>COUNTRY=%{x}<br>SOLD PRICE=%{y}<extra></extra>",
         "legendgroup": "Chawla",
         "marker": {
          "color": "#00cc96",
          "pattern": {
           "shape": ""
          }
         },
         "name": "Chawla",
         "offsetgroup": "Chawla",
         "orientation": "v",
         "showlegend": true,
         "textposition": "auto",
         "type": "bar",
         "x": [
          "India"
         ],
         "xaxis": "x",
         "y": [
          400000
         ],
         "yaxis": "y"
        },
        {
         "alignmentgroup": "True",
         "hovertemplate": "PLAYER NAME=de Villiers<br>COUNTRY=%{x}<br>SOLD PRICE=%{y}<extra></extra>",
         "legendgroup": "de Villiers",
         "marker": {
          "color": "#ab63fa",
          "pattern": {
           "shape": ""
          }
         },
         "name": "de Villiers",
         "offsetgroup": "de Villiers",
         "orientation": "v",
         "showlegend": true,
         "textposition": "auto",
         "type": "bar",
         "x": [
          "South Africa"
         ],
         "xaxis": "x",
         "y": [
          300000
         ],
         "yaxis": "y"
        },
        {
         "alignmentgroup": "True",
         "hovertemplate": "PLAYER NAME=Dhawan<br>COUNTRY=%{x}<br>SOLD PRICE=%{y}<extra></extra>",
         "legendgroup": "Dhawan",
         "marker": {
          "color": "#FFA15A",
          "pattern": {
           "shape": ""
          }
         },
         "name": "Dhawan",
         "offsetgroup": "Dhawan",
         "orientation": "v",
         "showlegend": true,
         "textposition": "auto",
         "type": "bar",
         "x": [
          "India"
         ],
         "xaxis": "x",
         "y": [
          300000
         ],
         "yaxis": "y"
        },
        {
         "alignmentgroup": "True",
         "hovertemplate": "PLAYER NAME=Dhoni<br>COUNTRY=%{x}<br>SOLD PRICE=%{y}<extra></extra>",
         "legendgroup": "Dhoni",
         "marker": {
          "color": "#19d3f3",
          "pattern": {
           "shape": ""
          }
         },
         "name": "Dhoni",
         "offsetgroup": "Dhoni",
         "orientation": "v",
         "showlegend": true,
         "textposition": "auto",
         "type": "bar",
         "x": [
          "India"
         ],
         "xaxis": "x",
         "y": [
          1500000
         ],
         "yaxis": "y"
        },
        {
         "alignmentgroup": "True",
         "hovertemplate": "PLAYER NAME=Dilshan<br>COUNTRY=%{x}<br>SOLD PRICE=%{y}<extra></extra>",
         "legendgroup": "Dilshan",
         "marker": {
          "color": "#FF6692",
          "pattern": {
           "shape": ""
          }
         },
         "name": "Dilshan",
         "offsetgroup": "Dilshan",
         "orientation": "v",
         "showlegend": true,
         "textposition": "auto",
         "type": "bar",
         "x": [
          "Sri Lanka"
         ],
         "xaxis": "x",
         "y": [
          250000
         ],
         "yaxis": "y"
        },
        {
         "alignmentgroup": "True",
         "hovertemplate": "PLAYER NAME=Dinda<br>COUNTRY=%{x}<br>SOLD PRICE=%{y}<extra></extra>",
         "legendgroup": "Dinda",
         "marker": {
          "color": "#B6E880",
          "pattern": {
           "shape": ""
          }
         },
         "name": "Dinda",
         "offsetgroup": "Dinda",
         "orientation": "v",
         "showlegend": true,
         "textposition": "auto",
         "type": "bar",
         "x": [
          "India"
         ],
         "xaxis": "x",
         "y": [
          375000
         ],
         "yaxis": "y"
        },
        {
         "alignmentgroup": "True",
         "hovertemplate": "PLAYER NAME=Dravid<br>COUNTRY=%{x}<br>SOLD PRICE=%{y}<extra></extra>",
         "legendgroup": "Dravid",
         "marker": {
          "color": "#FF97FF",
          "pattern": {
           "shape": ""
          }
         },
         "name": "Dravid",
         "offsetgroup": "Dravid",
         "orientation": "v",
         "showlegend": true,
         "textposition": "auto",
         "type": "bar",
         "x": [
          "India"
         ],
         "xaxis": "x",
         "y": [
          500000
         ],
         "yaxis": "y"
        },
        {
         "alignmentgroup": "True",
         "hovertemplate": "PLAYER NAME=Duminy<br>COUNTRY=%{x}<br>SOLD PRICE=%{y}<extra></extra>",
         "legendgroup": "Duminy",
         "marker": {
          "color": "#FECB52",
          "pattern": {
           "shape": ""
          }
         },
         "name": "Duminy",
         "offsetgroup": "Duminy",
         "orientation": "v",
         "showlegend": true,
         "textposition": "auto",
         "type": "bar",
         "x": [
          "South Africa"
         ],
         "xaxis": "x",
         "y": [
          300000
         ],
         "yaxis": "y"
        },
        {
         "alignmentgroup": "True",
         "hovertemplate": "PLAYER NAME=Edwards<br>COUNTRY=%{x}<br>SOLD PRICE=%{y}<extra></extra>",
         "legendgroup": "Edwards",
         "marker": {
          "color": "#636efa",
          "pattern": {
           "shape": ""
          }
         },
         "name": "Edwards",
         "offsetgroup": "Edwards",
         "orientation": "v",
         "showlegend": true,
         "textposition": "auto",
         "type": "bar",
         "x": [
          "West Indies"
         ],
         "xaxis": "x",
         "y": [
          150000
         ],
         "yaxis": "y"
        },
        {
         "alignmentgroup": "True",
         "hovertemplate": "PLAYER NAME=Fernando<br>COUNTRY=%{x}<br>SOLD PRICE=%{y}<extra></extra>",
         "legendgroup": "Fernando",
         "marker": {
          "color": "#EF553B",
          "pattern": {
           "shape": ""
          }
         },
         "name": "Fernando",
         "offsetgroup": "Fernando",
         "orientation": "v",
         "showlegend": true,
         "textposition": "auto",
         "type": "bar",
         "x": [
          "Sri Lanka"
         ],
         "xaxis": "x",
         "y": [
          150000
         ],
         "yaxis": "y"
        },
        {
         "alignmentgroup": "True",
         "hovertemplate": "PLAYER NAME=Fleming<br>COUNTRY=%{x}<br>SOLD PRICE=%{y}<extra></extra>",
         "legendgroup": "Fleming",
         "marker": {
          "color": "#00cc96",
          "pattern": {
           "shape": ""
          }
         },
         "name": "Fleming",
         "offsetgroup": "Fleming",
         "orientation": "v",
         "showlegend": true,
         "textposition": "auto",
         "type": "bar",
         "x": [
          "New Zealand"
         ],
         "xaxis": "x",
         "y": [
          350000
         ],
         "yaxis": "y"
        },
        {
         "alignmentgroup": "True",
         "hovertemplate": "PLAYER NAME=Flintoff<br>COUNTRY=%{x}<br>SOLD PRICE=%{y}<extra></extra>",
         "legendgroup": "Flintoff",
         "marker": {
          "color": "#ab63fa",
          "pattern": {
           "shape": ""
          }
         },
         "name": "Flintoff",
         "offsetgroup": "Flintoff",
         "orientation": "v",
         "showlegend": true,
         "textposition": "auto",
         "type": "bar",
         "x": [
          "England"
         ],
         "xaxis": "x",
         "y": [
          1550000
         ],
         "yaxis": "y"
        },
        {
         "alignmentgroup": "True",
         "hovertemplate": "PLAYER NAME=Gambhir<br>COUNTRY=%{x}<br>SOLD PRICE=%{y}<extra></extra>",
         "legendgroup": "Gambhir",
         "marker": {
          "color": "#FFA15A",
          "pattern": {
           "shape": ""
          }
         },
         "name": "Gambhir",
         "offsetgroup": "Gambhir",
         "orientation": "v",
         "showlegend": true,
         "textposition": "auto",
         "type": "bar",
         "x": [
          "India"
         ],
         "xaxis": "x",
         "y": [
          725000
         ],
         "yaxis": "y"
        },
        {
         "alignmentgroup": "True",
         "hovertemplate": "PLAYER NAME=Ganguly<br>COUNTRY=%{x}<br>SOLD PRICE=%{y}<extra></extra>",
         "legendgroup": "Ganguly",
         "marker": {
          "color": "#19d3f3",
          "pattern": {
           "shape": ""
          }
         },
         "name": "Ganguly",
         "offsetgroup": "Ganguly",
         "orientation": "v",
         "showlegend": true,
         "textposition": "auto",
         "type": "bar",
         "x": [
          "India"
         ],
         "xaxis": "x",
         "y": [
          400000
         ],
         "yaxis": "y"
        },
        {
         "alignmentgroup": "True",
         "hovertemplate": "PLAYER NAME=Gayle<br>COUNTRY=%{x}<br>SOLD PRICE=%{y}<extra></extra>",
         "legendgroup": "Gayle",
         "marker": {
          "color": "#FF6692",
          "pattern": {
           "shape": ""
          }
         },
         "name": "Gayle",
         "offsetgroup": "Gayle",
         "orientation": "v",
         "showlegend": true,
         "textposition": "auto",
         "type": "bar",
         "x": [
          "West Indies"
         ],
         "xaxis": "x",
         "y": [
          800000
         ],
         "yaxis": "y"
        },
        {
         "alignmentgroup": "True",
         "hovertemplate": "PLAYER NAME=Gibbs<br>COUNTRY=%{x}<br>SOLD PRICE=%{y}<extra></extra>",
         "legendgroup": "Gibbs",
         "marker": {
          "color": "#B6E880",
          "pattern": {
           "shape": ""
          }
         },
         "name": "Gibbs",
         "offsetgroup": "Gibbs",
         "orientation": "v",
         "showlegend": true,
         "textposition": "auto",
         "type": "bar",
         "x": [
          "South Africa"
         ],
         "xaxis": "x",
         "y": [
          575000
         ],
         "yaxis": "y"
        },
        {
         "alignmentgroup": "True",
         "hovertemplate": "PLAYER NAME=Gilchrist<br>COUNTRY=%{x}<br>SOLD PRICE=%{y}<extra></extra>",
         "legendgroup": "Gilchrist",
         "marker": {
          "color": "#FF97FF",
          "pattern": {
           "shape": ""
          }
         },
         "name": "Gilchrist",
         "offsetgroup": "Gilchrist",
         "orientation": "v",
         "showlegend": true,
         "textposition": "auto",
         "type": "bar",
         "x": [
          "Australia"
         ],
         "xaxis": "x",
         "y": [
          700000
         ],
         "yaxis": "y"
        },
        {
         "alignmentgroup": "True",
         "hovertemplate": "PLAYER NAME=Gony<br>COUNTRY=%{x}<br>SOLD PRICE=%{y}<extra></extra>",
         "legendgroup": "Gony",
         "marker": {
          "color": "#FECB52",
          "pattern": {
           "shape": ""
          }
         },
         "name": "Gony",
         "offsetgroup": "Gony",
         "orientation": "v",
         "showlegend": true,
         "textposition": "auto",
         "type": "bar",
         "x": [
          "India"
         ],
         "xaxis": "x",
         "y": [
          290000
         ],
         "yaxis": "y"
        },
        {
         "alignmentgroup": "True",
         "hovertemplate": "PLAYER NAME=Harbhajan Singh<br>COUNTRY=%{x}<br>SOLD PRICE=%{y}<extra></extra>",
         "legendgroup": "Harbhajan Singh",
         "marker": {
          "color": "#636efa",
          "pattern": {
           "shape": ""
          }
         },
         "name": "Harbhajan Singh",
         "offsetgroup": "Harbhajan Singh",
         "orientation": "v",
         "showlegend": true,
         "textposition": "auto",
         "type": "bar",
         "x": [
          "India"
         ],
         "xaxis": "x",
         "y": [
          850000
         ],
         "yaxis": "y"
        },
        {
         "alignmentgroup": "True",
         "hovertemplate": "PLAYER NAME=Harris<br>COUNTRY=%{x}<br>SOLD PRICE=%{y}<extra></extra>",
         "legendgroup": "Harris",
         "marker": {
          "color": "#EF553B",
          "pattern": {
           "shape": ""
          }
         },
         "name": "Harris",
         "offsetgroup": "Harris",
         "orientation": "v",
         "showlegend": true,
         "textposition": "auto",
         "type": "bar",
         "x": [
          "Australia"
         ],
         "xaxis": "x",
         "y": [
          325000
         ],
         "yaxis": "y"
        },
        {
         "alignmentgroup": "True",
         "hovertemplate": "PLAYER NAME=Hayden<br>COUNTRY=%{x}<br>SOLD PRICE=%{y}<extra></extra>",
         "legendgroup": "Hayden",
         "marker": {
          "color": "#00cc96",
          "pattern": {
           "shape": ""
          }
         },
         "name": "Hayden",
         "offsetgroup": "Hayden",
         "orientation": "v",
         "showlegend": true,
         "textposition": "auto",
         "type": "bar",
         "x": [
          "Australia"
         ],
         "xaxis": "x",
         "y": [
          375000
         ],
         "yaxis": "y"
        },
        {
         "alignmentgroup": "True",
         "hovertemplate": "PLAYER NAME=Henderson<br>COUNTRY=%{x}<br>SOLD PRICE=%{y}<extra></extra>",
         "legendgroup": "Henderson",
         "marker": {
          "color": "#ab63fa",
          "pattern": {
           "shape": ""
          }
         },
         "name": "Henderson",
         "offsetgroup": "Henderson",
         "orientation": "v",
         "showlegend": true,
         "textposition": "auto",
         "type": "bar",
         "x": [
          "South Africa"
         ],
         "xaxis": "x",
         "y": [
          650000
         ],
         "yaxis": "y"
        },
        {
         "alignmentgroup": "True",
         "hovertemplate": "PLAYER NAME=Henriques<br>COUNTRY=%{x}<br>SOLD PRICE=%{y}<extra></extra>",
         "legendgroup": "Henriques",
         "marker": {
          "color": "#FFA15A",
          "pattern": {
           "shape": ""
          }
         },
         "name": "Henriques",
         "offsetgroup": "Henriques",
         "orientation": "v",
         "showlegend": true,
         "textposition": "auto",
         "type": "bar",
         "x": [
          "Australia"
         ],
         "xaxis": "x",
         "y": [
          50000
         ],
         "yaxis": "y"
        },
        {
         "alignmentgroup": "True",
         "hovertemplate": "PLAYER NAME=Hodge<br>COUNTRY=%{x}<br>SOLD PRICE=%{y}<extra></extra>",
         "legendgroup": "Hodge",
         "marker": {
          "color": "#19d3f3",
          "pattern": {
           "shape": ""
          }
         },
         "name": "Hodge",
         "offsetgroup": "Hodge",
         "orientation": "v",
         "showlegend": true,
         "textposition": "auto",
         "type": "bar",
         "x": [
          "Australia"
         ],
         "xaxis": "x",
         "y": [
          425000
         ],
         "yaxis": "y"
        },
        {
         "alignmentgroup": "True",
         "hovertemplate": "PLAYER NAME=Hopes<br>COUNTRY=%{x}<br>SOLD PRICE=%{y}<extra></extra>",
         "legendgroup": "Hopes",
         "marker": {
          "color": "#FF6692",
          "pattern": {
           "shape": ""
          }
         },
         "name": "Hopes",
         "offsetgroup": "Hopes",
         "orientation": "v",
         "showlegend": true,
         "textposition": "auto",
         "type": "bar",
         "x": [
          "Australia"
         ],
         "xaxis": "x",
         "y": [
          350000
         ],
         "yaxis": "y"
        },
        {
         "alignmentgroup": "True",
         "hovertemplate": "PLAYER NAME=Hussey<br>COUNTRY=%{x}<br>SOLD PRICE=%{y}<extra></extra>",
         "legendgroup": "Hussey",
         "marker": {
          "color": "#B6E880",
          "pattern": {
           "shape": ""
          }
         },
         "name": "Hussey",
         "offsetgroup": "Hussey",
         "orientation": "v",
         "showlegend": true,
         "textposition": "auto",
         "type": "bar",
         "x": [
          "Australia",
          "Australia"
         ],
         "xaxis": "x",
         "y": [
          625000,
          250000
         ],
         "yaxis": "y"
        },
        {
         "alignmentgroup": "True",
         "hovertemplate": "PLAYER NAME=Jadeja<br>COUNTRY=%{x}<br>SOLD PRICE=%{y}<extra></extra>",
         "legendgroup": "Jadeja",
         "marker": {
          "color": "#FF97FF",
          "pattern": {
           "shape": ""
          }
         },
         "name": "Jadeja",
         "offsetgroup": "Jadeja",
         "orientation": "v",
         "showlegend": true,
         "textposition": "auto",
         "type": "bar",
         "x": [
          "India"
         ],
         "xaxis": "x",
         "y": [
          950000
         ],
         "yaxis": "y"
        },
        {
         "alignmentgroup": "True",
         "hovertemplate": "PLAYER NAME=Jaffer<br>COUNTRY=%{x}<br>SOLD PRICE=%{y}<extra></extra>",
         "legendgroup": "Jaffer",
         "marker": {
          "color": "#FECB52",
          "pattern": {
           "shape": ""
          }
         },
         "name": "Jaffer",
         "offsetgroup": "Jaffer",
         "orientation": "v",
         "showlegend": true,
         "textposition": "auto",
         "type": "bar",
         "x": [
          "India"
         ],
         "xaxis": "x",
         "y": [
          150000
         ],
         "yaxis": "y"
        },
        {
         "alignmentgroup": "True",
         "hovertemplate": "PLAYER NAME=Jayasuriya<br>COUNTRY=%{x}<br>SOLD PRICE=%{y}<extra></extra>",
         "legendgroup": "Jayasuriya",
         "marker": {
          "color": "#636efa",
          "pattern": {
           "shape": ""
          }
         },
         "name": "Jayasuriya",
         "offsetgroup": "Jayasuriya",
         "orientation": "v",
         "showlegend": true,
         "textposition": "auto",
         "type": "bar",
         "x": [
          "Sri Lanka"
         ],
         "xaxis": "x",
         "y": [
          975000
         ],
         "yaxis": "y"
        },
        {
         "alignmentgroup": "True",
         "hovertemplate": "PLAYER NAME=Jayawardena<br>COUNTRY=%{x}<br>SOLD PRICE=%{y}<extra></extra>",
         "legendgroup": "Jayawardena",
         "marker": {
          "color": "#EF553B",
          "pattern": {
           "shape": ""
          }
         },
         "name": "Jayawardena",
         "offsetgroup": "Jayawardena",
         "orientation": "v",
         "showlegend": true,
         "textposition": "auto",
         "type": "bar",
         "x": [
          "Sri Lanka"
         ],
         "xaxis": "x",
         "y": [
          475000
         ],
         "yaxis": "y"
        },
        {
         "alignmentgroup": "True",
         "hovertemplate": "PLAYER NAME=Kaif<br>COUNTRY=%{x}<br>SOLD PRICE=%{y}<extra></extra>",
         "legendgroup": "Kaif",
         "marker": {
          "color": "#00cc96",
          "pattern": {
           "shape": ""
          }
         },
         "name": "Kaif",
         "offsetgroup": "Kaif",
         "orientation": "v",
         "showlegend": true,
         "textposition": "auto",
         "type": "bar",
         "x": [
          "India"
         ],
         "xaxis": "x",
         "y": [
          675000
         ],
         "yaxis": "y"
        },
        {
         "alignmentgroup": "True",
         "hovertemplate": "PLAYER NAME=Kallis<br>COUNTRY=%{x}<br>SOLD PRICE=%{y}<extra></extra>",
         "legendgroup": "Kallis",
         "marker": {
          "color": "#ab63fa",
          "pattern": {
           "shape": ""
          }
         },
         "name": "Kallis",
         "offsetgroup": "Kallis",
         "orientation": "v",
         "showlegend": true,
         "textposition": "auto",
         "type": "bar",
         "x": [
          "South Africa"
         ],
         "xaxis": "x",
         "y": [
          900000
         ],
         "yaxis": "y"
        },
        {
         "alignmentgroup": "True",
         "hovertemplate": "PLAYER NAME=Kamran Akmal<br>COUNTRY=%{x}<br>SOLD PRICE=%{y}<extra></extra>",
         "legendgroup": "Kamran Akmal",
         "marker": {
          "color": "#FFA15A",
          "pattern": {
           "shape": ""
          }
         },
         "name": "Kamran Akmal",
         "offsetgroup": "Kamran Akmal",
         "orientation": "v",
         "showlegend": true,
         "textposition": "auto",
         "type": "bar",
         "x": [
          "Pakistan"
         ],
         "xaxis": "x",
         "y": [
          150000
         ],
         "yaxis": "y"
        },
        {
         "alignmentgroup": "True",
         "hovertemplate": "PLAYER NAME=Kamran Khan<br>COUNTRY=%{x}<br>SOLD PRICE=%{y}<extra></extra>",
         "legendgroup": "Kamran Khan",
         "marker": {
          "color": "#19d3f3",
          "pattern": {
           "shape": ""
          }
         },
         "name": "Kamran Khan",
         "offsetgroup": "Kamran Khan",
         "orientation": "v",
         "showlegend": true,
         "textposition": "auto",
         "type": "bar",
         "x": [
          "India"
         ],
         "xaxis": "x",
         "y": [
          24000
         ],
         "yaxis": "y"
        },
        {
         "alignmentgroup": "True",
         "hovertemplate": "PLAYER NAME=Karthik<br>COUNTRY=%{x}<br>SOLD PRICE=%{y}<extra></extra>",
         "legendgroup": "Karthik",
         "marker": {
          "color": "#FF6692",
          "pattern": {
           "shape": ""
          }
         },
         "name": "Karthik",
         "offsetgroup": "Karthik",
         "orientation": "v",
         "showlegend": true,
         "textposition": "auto",
         "type": "bar",
         "x": [
          "India"
         ],
         "xaxis": "x",
         "y": [
          525000
         ],
         "yaxis": "y"
        },
        {
         "alignmentgroup": "True",
         "hovertemplate": "PLAYER NAME=Kartik<br>COUNTRY=%{x}<br>SOLD PRICE=%{y}<extra></extra>",
         "legendgroup": "Kartik",
         "marker": {
          "color": "#B6E880",
          "pattern": {
           "shape": ""
          }
         },
         "name": "Kartik",
         "offsetgroup": "Kartik",
         "orientation": "v",
         "showlegend": true,
         "textposition": "auto",
         "type": "bar",
         "x": [
          "India"
         ],
         "xaxis": "x",
         "y": [
          425000
         ],
         "yaxis": "y"
        },
        {
         "alignmentgroup": "True",
         "hovertemplate": "PLAYER NAME=Katich<br>COUNTRY=%{x}<br>SOLD PRICE=%{y}<extra></extra>",
         "legendgroup": "Katich",
         "marker": {
          "color": "#FF97FF",
          "pattern": {
           "shape": ""
          }
         },
         "name": "Katich",
         "offsetgroup": "Katich",
         "orientation": "v",
         "showlegend": true,
         "textposition": "auto",
         "type": "bar",
         "x": [
          "Australia"
         ],
         "xaxis": "x",
         "y": [
          200000
         ],
         "yaxis": "y"
        },
        {
         "alignmentgroup": "True",
         "hovertemplate": "PLAYER NAME=Kohli<br>COUNTRY=%{x}<br>SOLD PRICE=%{y}<extra></extra>",
         "legendgroup": "Kohli",
         "marker": {
          "color": "#FECB52",
          "pattern": {
           "shape": ""
          }
         },
         "name": "Kohli",
         "offsetgroup": "Kohli",
         "orientation": "v",
         "showlegend": true,
         "textposition": "auto",
         "type": "bar",
         "x": [
          "India"
         ],
         "xaxis": "x",
         "y": [
          1800000
         ],
         "yaxis": "y"
        },
        {
         "alignmentgroup": "True",
         "hovertemplate": "PLAYER NAME=Kumar<br>COUNTRY=%{x}<br>SOLD PRICE=%{y}<extra></extra>",
         "legendgroup": "Kumar",
         "marker": {
          "color": "#636efa",
          "pattern": {
           "shape": ""
          }
         },
         "name": "Kumar",
         "offsetgroup": "Kumar",
         "orientation": "v",
         "showlegend": true,
         "textposition": "auto",
         "type": "bar",
         "x": [
          "India"
         ],
         "xaxis": "x",
         "y": [
          800000
         ],
         "yaxis": "y"
        },
        {
         "alignmentgroup": "True",
         "hovertemplate": "PLAYER NAME=Kumble<br>COUNTRY=%{x}<br>SOLD PRICE=%{y}<extra></extra>",
         "legendgroup": "Kumble",
         "marker": {
          "color": "#EF553B",
          "pattern": {
           "shape": ""
          }
         },
         "name": "Kumble",
         "offsetgroup": "Kumble",
         "orientation": "v",
         "showlegend": true,
         "textposition": "auto",
         "type": "bar",
         "x": [
          "India"
         ],
         "xaxis": "x",
         "y": [
          500000
         ],
         "yaxis": "y"
        },
        {
         "alignmentgroup": "True",
         "hovertemplate": "PLAYER NAME=Langeveldt<br>COUNTRY=%{x}<br>SOLD PRICE=%{y}<extra></extra>",
         "legendgroup": "Langeveldt",
         "marker": {
          "color": "#00cc96",
          "pattern": {
           "shape": ""
          }
         },
         "name": "Langeveldt",
         "offsetgroup": "Langeveldt",
         "orientation": "v",
         "showlegend": true,
         "textposition": "auto",
         "type": "bar",
         "x": [
          "South Africa"
         ],
         "xaxis": "x",
         "y": [
          140000
         ],
         "yaxis": "y"
        },
        {
         "alignmentgroup": "True",
         "hovertemplate": "PLAYER NAME=Laxman<br>COUNTRY=%{x}<br>SOLD PRICE=%{y}<extra></extra>",
         "legendgroup": "Laxman",
         "marker": {
          "color": "#ab63fa",
          "pattern": {
           "shape": ""
          }
         },
         "name": "Laxman",
         "offsetgroup": "Laxman",
         "orientation": "v",
         "showlegend": true,
         "textposition": "auto",
         "type": "bar",
         "x": [
          "India"
         ],
         "xaxis": "x",
         "y": [
          375000
         ],
         "yaxis": "y"
        },
        {
         "alignmentgroup": "True",
         "hovertemplate": "PLAYER NAME=Lee<br>COUNTRY=%{x}<br>SOLD PRICE=%{y}<extra></extra>",
         "legendgroup": "Lee",
         "marker": {
          "color": "#FFA15A",
          "pattern": {
           "shape": ""
          }
         },
         "name": "Lee",
         "offsetgroup": "Lee",
         "orientation": "v",
         "showlegend": true,
         "textposition": "auto",
         "type": "bar",
         "x": [
          "Australia"
         ],
         "xaxis": "x",
         "y": [
          900000
         ],
         "yaxis": "y"
        },
        {
         "alignmentgroup": "True",
         "hovertemplate": "PLAYER NAME=Maharoof<br>COUNTRY=%{x}<br>SOLD PRICE=%{y}<extra></extra>",
         "legendgroup": "Maharoof",
         "marker": {
          "color": "#19d3f3",
          "pattern": {
           "shape": ""
          }
         },
         "name": "Maharoof",
         "offsetgroup": "Maharoof",
         "orientation": "v",
         "showlegend": true,
         "textposition": "auto",
         "type": "bar",
         "x": [
          "Sri Lanka"
         ],
         "xaxis": "x",
         "y": [
          225000
         ],
         "yaxis": "y"
        },
        {
         "alignmentgroup": "True",
         "hovertemplate": "PLAYER NAME=Malinga<br>COUNTRY=%{x}<br>SOLD PRICE=%{y}<extra></extra>",
         "legendgroup": "Malinga",
         "marker": {
          "color": "#FF6692",
          "pattern": {
           "shape": ""
          }
         },
         "name": "Malinga",
         "offsetgroup": "Malinga",
         "orientation": "v",
         "showlegend": true,
         "textposition": "auto",
         "type": "bar",
         "x": [
          "Sri Lanka"
         ],
         "xaxis": "x",
         "y": [
          350000
         ],
         "yaxis": "y"
        },
        {
         "alignmentgroup": "True",
         "hovertemplate": "PLAYER NAME=Mascarenhas<br>COUNTRY=%{x}<br>SOLD PRICE=%{y}<extra></extra>",
         "legendgroup": "Mascarenhas",
         "marker": {
          "color": "#B6E880",
          "pattern": {
           "shape": ""
          }
         },
         "name": "Mascarenhas",
         "offsetgroup": "Mascarenhas",
         "orientation": "v",
         "showlegend": true,
         "textposition": "auto",
         "type": "bar",
         "x": [
          "England"
         ],
         "xaxis": "x",
         "y": [
          100000
         ],
         "yaxis": "y"
        },
        {
         "alignmentgroup": "True",
         "hovertemplate": "PLAYER NAME=Mathews<br>COUNTRY=%{x}<br>SOLD PRICE=%{y}<extra></extra>",
         "legendgroup": "Mathews",
         "marker": {
          "color": "#FF97FF",
          "pattern": {
           "shape": ""
          }
         },
         "name": "Mathews",
         "offsetgroup": "Mathews",
         "orientation": "v",
         "showlegend": true,
         "textposition": "auto",
         "type": "bar",
         "x": [
          "Sri Lanka"
         ],
         "xaxis": "x",
         "y": [
          950000
         ],
         "yaxis": "y"
        },
        {
         "alignmentgroup": "True",
         "hovertemplate": "PLAYER NAME=McCullum<br>COUNTRY=%{x}<br>SOLD PRICE=%{y}<extra></extra>",
         "legendgroup": "McCullum",
         "marker": {
          "color": "#FECB52",
          "pattern": {
           "shape": ""
          }
         },
         "name": "McCullum",
         "offsetgroup": "McCullum",
         "orientation": "v",
         "showlegend": true,
         "textposition": "auto",
         "type": "bar",
         "x": [
          "New Zealand"
         ],
         "xaxis": "x",
         "y": [
          700000
         ],
         "yaxis": "y"
        },
        {
         "alignmentgroup": "True",
         "hovertemplate": "PLAYER NAME=McDonald<br>COUNTRY=%{x}<br>SOLD PRICE=%{y}<extra></extra>",
         "legendgroup": "McDonald",
         "marker": {
          "color": "#636efa",
          "pattern": {
           "shape": ""
          }
         },
         "name": "McDonald",
         "offsetgroup": "McDonald",
         "orientation": "v",
         "showlegend": true,
         "textposition": "auto",
         "type": "bar",
         "x": [
          "Australia"
         ],
         "xaxis": "x",
         "y": [
          80000
         ],
         "yaxis": "y"
        },
        {
         "alignmentgroup": "True",
         "hovertemplate": "PLAYER NAME=McGrath<br>COUNTRY=%{x}<br>SOLD PRICE=%{y}<extra></extra>",
         "legendgroup": "McGrath",
         "marker": {
          "color": "#EF553B",
          "pattern": {
           "shape": ""
          }
         },
         "name": "McGrath",
         "offsetgroup": "McGrath",
         "orientation": "v",
         "showlegend": true,
         "textposition": "auto",
         "type": "bar",
         "x": [
          "Australia"
         ],
         "xaxis": "x",
         "y": [
          350000
         ],
         "yaxis": "y"
        },
        {
         "alignmentgroup": "True",
         "hovertemplate": "PLAYER NAME=Misbah-ul-Haq<br>COUNTRY=%{x}<br>SOLD PRICE=%{y}<extra></extra>",
         "legendgroup": "Misbah-ul-Haq",
         "marker": {
          "color": "#00cc96",
          "pattern": {
           "shape": ""
          }
         },
         "name": "Misbah-ul-Haq",
         "offsetgroup": "Misbah-ul-Haq",
         "orientation": "v",
         "showlegend": true,
         "textposition": "auto",
         "type": "bar",
         "x": [
          "Pakistan"
         ],
         "xaxis": "x",
         "y": [
          100000
         ],
         "yaxis": "y"
        },
        {
         "alignmentgroup": "True",
         "hovertemplate": "PLAYER NAME=Mishra<br>COUNTRY=%{x}<br>SOLD PRICE=%{y}<extra></extra>",
         "legendgroup": "Mishra",
         "marker": {
          "color": "#ab63fa",
          "pattern": {
           "shape": ""
          }
         },
         "name": "Mishra",
         "offsetgroup": "Mishra",
         "orientation": "v",
         "showlegend": true,
         "textposition": "auto",
         "type": "bar",
         "x": [
          "India"
         ],
         "xaxis": "x",
         "y": [
          300000
         ],
         "yaxis": "y"
        },
        {
         "alignmentgroup": "True",
         "hovertemplate": "PLAYER NAME=Mithun<br>COUNTRY=%{x}<br>SOLD PRICE=%{y}<extra></extra>",
         "legendgroup": "Mithun",
         "marker": {
          "color": "#FFA15A",
          "pattern": {
           "shape": ""
          }
         },
         "name": "Mithun",
         "offsetgroup": "Mithun",
         "orientation": "v",
         "showlegend": true,
         "textposition": "auto",
         "type": "bar",
         "x": [
          "India"
         ],
         "xaxis": "x",
         "y": [
          260000
         ],
         "yaxis": "y"
        },
        {
         "alignmentgroup": "True",
         "hovertemplate": "PLAYER NAME=Mohammad Asif<br>COUNTRY=%{x}<br>SOLD PRICE=%{y}<extra></extra>",
         "legendgroup": "Mohammad Asif",
         "marker": {
          "color": "#19d3f3",
          "pattern": {
           "shape": ""
          }
         },
         "name": "Mohammad Asif",
         "offsetgroup": "Mohammad Asif",
         "orientation": "v",
         "showlegend": true,
         "textposition": "auto",
         "type": "bar",
         "x": [
          "Pakistan"
         ],
         "xaxis": "x",
         "y": [
          650000
         ],
         "yaxis": "y"
        },
        {
         "alignmentgroup": "True",
         "hovertemplate": "PLAYER NAME=Morkel<br>COUNTRY=%{x}<br>SOLD PRICE=%{y}<extra></extra>",
         "legendgroup": "Morkel",
         "marker": {
          "color": "#FF6692",
          "pattern": {
           "shape": ""
          }
         },
         "name": "Morkel",
         "offsetgroup": "Morkel",
         "orientation": "v",
         "showlegend": true,
         "textposition": "auto",
         "type": "bar",
         "x": [
          "South Africa",
          "South Africa"
         ],
         "xaxis": "x",
         "y": [
          675000,
          475000
         ],
         "yaxis": "y"
        },
        {
         "alignmentgroup": "True",
         "hovertemplate": "PLAYER NAME=Muralitharan<br>COUNTRY=%{x}<br>SOLD PRICE=%{y}<extra></extra>",
         "legendgroup": "Muralitharan",
         "marker": {
          "color": "#B6E880",
          "pattern": {
           "shape": ""
          }
         },
         "name": "Muralitharan",
         "offsetgroup": "Muralitharan",
         "orientation": "v",
         "showlegend": true,
         "textposition": "auto",
         "type": "bar",
         "x": [
          "Sri Lanka"
         ],
         "xaxis": "x",
         "y": [
          600000
         ],
         "yaxis": "y"
        },
        {
         "alignmentgroup": "True",
         "hovertemplate": "PLAYER NAME=Nannes<br>COUNTRY=%{x}<br>SOLD PRICE=%{y}<extra></extra>",
         "legendgroup": "Nannes",
         "marker": {
          "color": "#FF97FF",
          "pattern": {
           "shape": ""
          }
         },
         "name": "Nannes",
         "offsetgroup": "Nannes",
         "orientation": "v",
         "showlegend": true,
         "textposition": "auto",
         "type": "bar",
         "x": [
          "Australia"
         ],
         "xaxis": "x",
         "y": [
          650000
         ],
         "yaxis": "y"
        },
        {
         "alignmentgroup": "True",
         "hovertemplate": "PLAYER NAME=Nayar<br>COUNTRY=%{x}<br>SOLD PRICE=%{y}<extra></extra>",
         "legendgroup": "Nayar",
         "marker": {
          "color": "#FECB52",
          "pattern": {
           "shape": ""
          }
         },
         "name": "Nayar",
         "offsetgroup": "Nayar",
         "orientation": "v",
         "showlegend": true,
         "textposition": "auto",
         "type": "bar",
         "x": [
          "India"
         ],
         "xaxis": "x",
         "y": [
          800000
         ],
         "yaxis": "y"
        },
        {
         "alignmentgroup": "True",
         "hovertemplate": "PLAYER NAME=Nehra<br>COUNTRY=%{x}<br>SOLD PRICE=%{y}<extra></extra>",
         "legendgroup": "Nehra",
         "marker": {
          "color": "#636efa",
          "pattern": {
           "shape": ""
          }
         },
         "name": "Nehra",
         "offsetgroup": "Nehra",
         "orientation": "v",
         "showlegend": true,
         "textposition": "auto",
         "type": "bar",
         "x": [
          "India"
         ],
         "xaxis": "x",
         "y": [
          850000
         ],
         "yaxis": "y"
        },
        {
         "alignmentgroup": "True",
         "hovertemplate": "PLAYER NAME=Noffke<br>COUNTRY=%{x}<br>SOLD PRICE=%{y}<extra></extra>",
         "legendgroup": "Noffke",
         "marker": {
          "color": "#EF553B",
          "pattern": {
           "shape": ""
          }
         },
         "name": "Noffke",
         "offsetgroup": "Noffke",
         "orientation": "v",
         "showlegend": true,
         "textposition": "auto",
         "type": "bar",
         "x": [
          "Australia"
         ],
         "xaxis": "x",
         "y": [
          20000
         ],
         "yaxis": "y"
        },
        {
         "alignmentgroup": "True",
         "hovertemplate": "PLAYER NAME=Ntini<br>COUNTRY=%{x}<br>SOLD PRICE=%{y}<extra></extra>",
         "legendgroup": "Ntini",
         "marker": {
          "color": "#00cc96",
          "pattern": {
           "shape": ""
          }
         },
         "name": "Ntini",
         "offsetgroup": "Ntini",
         "orientation": "v",
         "showlegend": true,
         "textposition": "auto",
         "type": "bar",
         "x": [
          "South Africa"
         ],
         "xaxis": "x",
         "y": [
          200000
         ],
         "yaxis": "y"
        },
        {
         "alignmentgroup": "True",
         "hovertemplate": "PLAYER NAME=Ojha<br>COUNTRY=%{x}<br>SOLD PRICE=%{y}<extra></extra>",
         "legendgroup": "Ojha",
         "marker": {
          "color": "#ab63fa",
          "pattern": {
           "shape": ""
          }
         },
         "name": "Ojha",
         "offsetgroup": "Ojha",
         "orientation": "v",
         "showlegend": true,
         "textposition": "auto",
         "type": "bar",
         "x": [
          "India",
          "India"
         ],
         "xaxis": "x",
         "y": [
          270000,
          500000
         ],
         "yaxis": "y"
        },
        {
         "alignmentgroup": "True",
         "hovertemplate": "PLAYER NAME=Oram<br>COUNTRY=%{x}<br>SOLD PRICE=%{y}<extra></extra>",
         "legendgroup": "Oram",
         "marker": {
          "color": "#FFA15A",
          "pattern": {
           "shape": ""
          }
         },
         "name": "Oram",
         "offsetgroup": "Oram",
         "orientation": "v",
         "showlegend": true,
         "textposition": "auto",
         "type": "bar",
         "x": [
          "New Zealand"
         ],
         "xaxis": "x",
         "y": [
          675000
         ],
         "yaxis": "y"
        },
        {
         "alignmentgroup": "True",
         "hovertemplate": "PLAYER NAME=Pankaj Singh<br>COUNTRY=%{x}<br>SOLD PRICE=%{y}<extra></extra>",
         "legendgroup": "Pankaj Singh",
         "marker": {
          "color": "#19d3f3",
          "pattern": {
           "shape": ""
          }
         },
         "name": "Pankaj Singh",
         "offsetgroup": "Pankaj Singh",
         "orientation": "v",
         "showlegend": true,
         "textposition": "auto",
         "type": "bar",
         "x": [
          "India"
         ],
         "xaxis": "x",
         "y": [
          95000
         ],
         "yaxis": "y"
        },
        {
         "alignmentgroup": "True",
         "hovertemplate": "PLAYER NAME=Patel<br>COUNTRY=%{x}<br>SOLD PRICE=%{y}<extra></extra>",
         "legendgroup": "Patel",
         "marker": {
          "color": "#FF6692",
          "pattern": {
           "shape": ""
          }
         },
         "name": "Patel",
         "offsetgroup": "Patel",
         "orientation": "v",
         "showlegend": true,
         "textposition": "auto",
         "type": "bar",
         "x": [
          "India",
          "India"
         ],
         "xaxis": "x",
         "y": [
          275000,
          325000
         ],
         "yaxis": "y"
        },
        {
         "alignmentgroup": "True",
         "hovertemplate": "PLAYER NAME=Pathan<br>COUNTRY=%{x}<br>SOLD PRICE=%{y}<extra></extra>",
         "legendgroup": "Pathan",
         "marker": {
          "color": "#B6E880",
          "pattern": {
           "shape": ""
          }
         },
         "name": "Pathan",
         "offsetgroup": "Pathan",
         "orientation": "v",
         "showlegend": true,
         "textposition": "auto",
         "type": "bar",
         "x": [
          "India",
          "India"
         ],
         "xaxis": "x",
         "y": [
          925000,
          475000
         ],
         "yaxis": "y"
        },
        {
         "alignmentgroup": "True",
         "hovertemplate": "PLAYER NAME=Pietersen<br>COUNTRY=%{x}<br>SOLD PRICE=%{y}<extra></extra>",
         "legendgroup": "Pietersen",
         "marker": {
          "color": "#FF97FF",
          "pattern": {
           "shape": ""
          }
         },
         "name": "Pietersen",
         "offsetgroup": "Pietersen",
         "orientation": "v",
         "showlegend": true,
         "textposition": "auto",
         "type": "bar",
         "x": [
          "England"
         ],
         "xaxis": "x",
         "y": [
          1550000
         ],
         "yaxis": "y"
        },
        {
         "alignmentgroup": "True",
         "hovertemplate": "PLAYER NAME=Pollock<br>COUNTRY=%{x}<br>SOLD PRICE=%{y}<extra></extra>",
         "legendgroup": "Pollock",
         "marker": {
          "color": "#FECB52",
          "pattern": {
           "shape": ""
          }
         },
         "name": "Pollock",
         "offsetgroup": "Pollock",
         "orientation": "v",
         "showlegend": true,
         "textposition": "auto",
         "type": "bar",
         "x": [
          "South Africa"
         ],
         "xaxis": "x",
         "y": [
          550000
         ],
         "yaxis": "y"
        },
        {
         "alignmentgroup": "True",
         "hovertemplate": "PLAYER NAME=Pomersbach<br>COUNTRY=%{x}<br>SOLD PRICE=%{y}<extra></extra>",
         "legendgroup": "Pomersbach",
         "marker": {
          "color": "#636efa",
          "pattern": {
           "shape": ""
          }
         },
         "name": "Pomersbach",
         "offsetgroup": "Pomersbach",
         "orientation": "v",
         "showlegend": true,
         "textposition": "auto",
         "type": "bar",
         "x": [
          "Australia"
         ],
         "xaxis": "x",
         "y": [
          50000
         ],
         "yaxis": "y"
        },
        {
         "alignmentgroup": "True",
         "hovertemplate": "PLAYER NAME=Ponting<br>COUNTRY=%{x}<br>SOLD PRICE=%{y}<extra></extra>",
         "legendgroup": "Ponting",
         "marker": {
          "color": "#EF553B",
          "pattern": {
           "shape": ""
          }
         },
         "name": "Ponting",
         "offsetgroup": "Ponting",
         "orientation": "v",
         "showlegend": true,
         "textposition": "auto",
         "type": "bar",
         "x": [
          "Australia"
         ],
         "xaxis": "x",
         "y": [
          400000
         ],
         "yaxis": "y"
        },
        {
         "alignmentgroup": "True",
         "hovertemplate": "PLAYER NAME=Powar<br>COUNTRY=%{x}<br>SOLD PRICE=%{y}<extra></extra>",
         "legendgroup": "Powar",
         "marker": {
          "color": "#00cc96",
          "pattern": {
           "shape": ""
          }
         },
         "name": "Powar",
         "offsetgroup": "Powar",
         "orientation": "v",
         "showlegend": true,
         "textposition": "auto",
         "type": "bar",
         "x": [
          "India"
         ],
         "xaxis": "x",
         "y": [
          170000
         ],
         "yaxis": "y"
        },
        {
         "alignmentgroup": "True",
         "hovertemplate": "PLAYER NAME=Raina<br>COUNTRY=%{x}<br>SOLD PRICE=%{y}<extra></extra>",
         "legendgroup": "Raina",
         "marker": {
          "color": "#ab63fa",
          "pattern": {
           "shape": ""
          }
         },
         "name": "Raina",
         "offsetgroup": "Raina",
         "orientation": "v",
         "showlegend": true,
         "textposition": "auto",
         "type": "bar",
         "x": [
          "India"
         ],
         "xaxis": "x",
         "y": [
          650000
         ],
         "yaxis": "y"
        },
        {
         "alignmentgroup": "True",
         "hovertemplate": "PLAYER NAME=Ryder<br>COUNTRY=%{x}<br>SOLD PRICE=%{y}<extra></extra>",
         "legendgroup": "Ryder",
         "marker": {
          "color": "#FFA15A",
          "pattern": {
           "shape": ""
          }
         },
         "name": "Ryder",
         "offsetgroup": "Ryder",
         "orientation": "v",
         "showlegend": true,
         "textposition": "auto",
         "type": "bar",
         "x": [
          "New Zealand"
         ],
         "xaxis": "x",
         "y": [
          160000
         ],
         "yaxis": "y"
        },
        {
         "alignmentgroup": "True",
         "hovertemplate": "PLAYER NAME=Saha<br>COUNTRY=%{x}<br>SOLD PRICE=%{y}<extra></extra>",
         "legendgroup": "Saha",
         "marker": {
          "color": "#19d3f3",
          "pattern": {
           "shape": ""
          }
         },
         "name": "Saha",
         "offsetgroup": "Saha",
         "orientation": "v",
         "showlegend": true,
         "textposition": "auto",
         "type": "bar",
         "x": [
          "India"
         ],
         "xaxis": "x",
         "y": [
          100000
         ],
         "yaxis": "y"
        },
        {
         "alignmentgroup": "True",
         "hovertemplate": "PLAYER NAME=Sangakkara<br>COUNTRY=%{x}<br>SOLD PRICE=%{y}<extra></extra>",
         "legendgroup": "Sangakkara",
         "marker": {
          "color": "#FF6692",
          "pattern": {
           "shape": ""
          }
         },
         "name": "Sangakkara",
         "offsetgroup": "Sangakkara",
         "orientation": "v",
         "showlegend": true,
         "textposition": "auto",
         "type": "bar",
         "x": [
          "Sri Lanka"
         ],
         "xaxis": "x",
         "y": [
          700000
         ],
         "yaxis": "y"
        },
        {
         "alignmentgroup": "True",
         "hovertemplate": "PLAYER NAME=Sarwan<br>COUNTRY=%{x}<br>SOLD PRICE=%{y}<extra></extra>",
         "legendgroup": "Sarwan",
         "marker": {
          "color": "#B6E880",
          "pattern": {
           "shape": ""
          }
         },
         "name": "Sarwan",
         "offsetgroup": "Sarwan",
         "orientation": "v",
         "showlegend": true,
         "textposition": "auto",
         "type": "bar",
         "x": [
          "West Indies"
         ],
         "xaxis": "x",
         "y": [
          225000
         ],
         "yaxis": "y"
        },
        {
         "alignmentgroup": "True",
         "hovertemplate": "PLAYER NAME=Sehwag<br>COUNTRY=%{x}<br>SOLD PRICE=%{y}<extra></extra>",
         "legendgroup": "Sehwag",
         "marker": {
          "color": "#FF97FF",
          "pattern": {
           "shape": ""
          }
         },
         "name": "Sehwag",
         "offsetgroup": "Sehwag",
         "orientation": "v",
         "showlegend": true,
         "textposition": "auto",
         "type": "bar",
         "x": [
          "India"
         ],
         "xaxis": "x",
         "y": [
          1800000
         ],
         "yaxis": "y"
        },
        {
         "alignmentgroup": "True",
         "hovertemplate": "PLAYER NAME=Shahid Afridi<br>COUNTRY=%{x}<br>SOLD PRICE=%{y}<extra></extra>",
         "legendgroup": "Shahid Afridi",
         "marker": {
          "color": "#FECB52",
          "pattern": {
           "shape": ""
          }
         },
         "name": "Shahid Afridi",
         "offsetgroup": "Shahid Afridi",
         "orientation": "v",
         "showlegend": true,
         "textposition": "auto",
         "type": "bar",
         "x": [
          "Pakistan"
         ],
         "xaxis": "x",
         "y": [
          675000
         ],
         "yaxis": "y"
        },
        {
         "alignmentgroup": "True",
         "hovertemplate": "PLAYER NAME=Sharma<br>COUNTRY=%{x}<br>SOLD PRICE=%{y}<extra></extra>",
         "legendgroup": "Sharma",
         "marker": {
          "color": "#636efa",
          "pattern": {
           "shape": ""
          }
         },
         "name": "Sharma",
         "offsetgroup": "Sharma",
         "orientation": "v",
         "showlegend": true,
         "textposition": "auto",
         "type": "bar",
         "x": [
          "India",
          "India",
          "India"
         ],
         "xaxis": "x",
         "y": [
          950000,
          225000,
          750000
         ],
         "yaxis": "y"
        },
        {
         "alignmentgroup": "True",
         "hovertemplate": "PLAYER NAME=Shoaib Akhtar<br>COUNTRY=%{x}<br>SOLD PRICE=%{y}<extra></extra>",
         "legendgroup": "Shoaib Akhtar",
         "marker": {
          "color": "#EF553B",
          "pattern": {
           "shape": ""
          }
         },
         "name": "Shoaib Akhtar",
         "offsetgroup": "Shoaib Akhtar",
         "orientation": "v",
         "showlegend": true,
         "textposition": "auto",
         "type": "bar",
         "x": [
          "Pakistan"
         ],
         "xaxis": "x",
         "y": [
          425000
         ],
         "yaxis": "y"
        },
        {
         "alignmentgroup": "True",
         "hovertemplate": "PLAYER NAME=Shoaib Malik<br>COUNTRY=%{x}<br>SOLD PRICE=%{y}<extra></extra>",
         "legendgroup": "Shoaib Malik",
         "marker": {
          "color": "#00cc96",
          "pattern": {
           "shape": ""
          }
         },
         "name": "Shoaib Malik",
         "offsetgroup": "Shoaib Malik",
         "orientation": "v",
         "showlegend": true,
         "textposition": "auto",
         "type": "bar",
         "x": [
          "Pakistan"
         ],
         "xaxis": "x",
         "y": [
          500000
         ],
         "yaxis": "y"
        },
        {
         "alignmentgroup": "True",
         "hovertemplate": "PLAYER NAME=Silva<br>COUNTRY=%{x}<br>SOLD PRICE=%{y}<extra></extra>",
         "legendgroup": "Silva",
         "marker": {
          "color": "#ab63fa",
          "pattern": {
           "shape": ""
          }
         },
         "name": "Silva",
         "offsetgroup": "Silva",
         "orientation": "v",
         "showlegend": true,
         "textposition": "auto",
         "type": "bar",
         "x": [
          "Sri Lanka"
         ],
         "xaxis": "x",
         "y": [
          100000
         ],
         "yaxis": "y"
        },
        {
         "alignmentgroup": "True",
         "hovertemplate": "PLAYER NAME=Singh<br>COUNTRY=%{x}<br>SOLD PRICE=%{y}<extra></extra>",
         "legendgroup": "Singh",
         "marker": {
          "color": "#FFA15A",
          "pattern": {
           "shape": ""
          }
         },
         "name": "Singh",
         "offsetgroup": "Singh",
         "orientation": "v",
         "showlegend": true,
         "textposition": "auto",
         "type": "bar",
         "x": [
          "India"
         ],
         "xaxis": "x",
         "y": [
          875000
         ],
         "yaxis": "y"
        },
        {
         "alignmentgroup": "True",
         "hovertemplate": "PLAYER NAME=Smith<br>COUNTRY=%{x}<br>SOLD PRICE=%{y}<extra></extra>",
         "legendgroup": "Smith",
         "marker": {
          "color": "#19d3f3",
          "pattern": {
           "shape": ""
          }
         },
         "name": "Smith",
         "offsetgroup": "Smith",
         "orientation": "v",
         "showlegend": true,
         "textposition": "auto",
         "type": "bar",
         "x": [
          "West Indies",
          "South Africa"
         ],
         "xaxis": "x",
         "y": [
          100000,
          250000
         ],
         "yaxis": "y"
        },
        {
         "alignmentgroup": "True",
         "hovertemplate": "PLAYER NAME=Sohail Tanvir<br>COUNTRY=%{x}<br>SOLD PRICE=%{y}<extra></extra>",
         "legendgroup": "Sohail Tanvir",
         "marker": {
          "color": "#FF6692",
          "pattern": {
           "shape": ""
          }
         },
         "name": "Sohail Tanvir",
         "offsetgroup": "Sohail Tanvir",
         "orientation": "v",
         "showlegend": true,
         "textposition": "auto",
         "type": "bar",
         "x": [
          "Pakistan"
         ],
         "xaxis": "x",
         "y": [
          100000
         ],
         "yaxis": "y"
        },
        {
         "alignmentgroup": "True",
         "hovertemplate": "PLAYER NAME=Sreesanth<br>COUNTRY=%{x}<br>SOLD PRICE=%{y}<extra></extra>",
         "legendgroup": "Sreesanth",
         "marker": {
          "color": "#B6E880",
          "pattern": {
           "shape": ""
          }
         },
         "name": "Sreesanth",
         "offsetgroup": "Sreesanth",
         "orientation": "v",
         "showlegend": true,
         "textposition": "auto",
         "type": "bar",
         "x": [
          "India"
         ],
         "xaxis": "x",
         "y": [
          625000
         ],
         "yaxis": "y"
        },
        {
         "alignmentgroup": "True",
         "hovertemplate": "PLAYER NAME=Steyn<br>COUNTRY=%{x}<br>SOLD PRICE=%{y}<extra></extra>",
         "legendgroup": "Steyn",
         "marker": {
          "color": "#FF97FF",
          "pattern": {
           "shape": ""
          }
         },
         "name": "Steyn",
         "offsetgroup": "Steyn",
         "orientation": "v",
         "showlegend": true,
         "textposition": "auto",
         "type": "bar",
         "x": [
          "South Africa"
         ],
         "xaxis": "x",
         "y": [
          325000
         ],
         "yaxis": "y"
        },
        {
         "alignmentgroup": "True",
         "hovertemplate": "PLAYER NAME=Styris<br>COUNTRY=%{x}<br>SOLD PRICE=%{y}<extra></extra>",
         "legendgroup": "Styris",
         "marker": {
          "color": "#FECB52",
          "pattern": {
           "shape": ""
          }
         },
         "name": "Styris",
         "offsetgroup": "Styris",
         "orientation": "v",
         "showlegend": true,
         "textposition": "auto",
         "type": "bar",
         "x": [
          "New Zealand"
         ],
         "xaxis": "x",
         "y": [
          175000
         ],
         "yaxis": "y"
        },
        {
         "alignmentgroup": "True",
         "hovertemplate": "PLAYER NAME=Symonds<br>COUNTRY=%{x}<br>SOLD PRICE=%{y}<extra></extra>",
         "legendgroup": "Symonds",
         "marker": {
          "color": "#636efa",
          "pattern": {
           "shape": ""
          }
         },
         "name": "Symonds",
         "offsetgroup": "Symonds",
         "orientation": "v",
         "showlegend": true,
         "textposition": "auto",
         "type": "bar",
         "x": [
          "Australia"
         ],
         "xaxis": "x",
         "y": [
          1350000
         ],
         "yaxis": "y"
        },
        {
         "alignmentgroup": "True",
         "hovertemplate": "PLAYER NAME=Taibu<br>COUNTRY=%{x}<br>SOLD PRICE=%{y}<extra></extra>",
         "legendgroup": "Taibu",
         "marker": {
          "color": "#EF553B",
          "pattern": {
           "shape": ""
          }
         },
         "name": "Taibu",
         "offsetgroup": "Taibu",
         "orientation": "v",
         "showlegend": true,
         "textposition": "auto",
         "type": "bar",
         "x": [
          "Zimbabwe"
         ],
         "xaxis": "x",
         "y": [
          125000
         ],
         "yaxis": "y"
        },
        {
         "alignmentgroup": "True",
         "hovertemplate": "PLAYER NAME=Taylor<br>COUNTRY=%{x}<br>SOLD PRICE=%{y}<extra></extra>",
         "legendgroup": "Taylor",
         "marker": {
          "color": "#00cc96",
          "pattern": {
           "shape": ""
          }
         },
         "name": "Taylor",
         "offsetgroup": "Taylor",
         "orientation": "v",
         "showlegend": true,
         "textposition": "auto",
         "type": "bar",
         "x": [
          "New Zealand"
         ],
         "xaxis": "x",
         "y": [
          1000000
         ],
         "yaxis": "y"
        },
        {
         "alignmentgroup": "True",
         "hovertemplate": "PLAYER NAME=Tendulkar<br>COUNTRY=%{x}<br>SOLD PRICE=%{y}<extra></extra>",
         "legendgroup": "Tendulkar",
         "marker": {
          "color": "#ab63fa",
          "pattern": {
           "shape": ""
          }
         },
         "name": "Tendulkar",
         "offsetgroup": "Tendulkar",
         "orientation": "v",
         "showlegend": true,
         "textposition": "auto",
         "type": "bar",
         "x": [
          "India"
         ],
         "xaxis": "x",
         "y": [
          1800000
         ],
         "yaxis": "y"
        },
        {
         "alignmentgroup": "True",
         "hovertemplate": "PLAYER NAME=Tiwary<br>COUNTRY=%{x}<br>SOLD PRICE=%{y}<extra></extra>",
         "legendgroup": "Tiwary",
         "marker": {
          "color": "#FFA15A",
          "pattern": {
           "shape": ""
          }
         },
         "name": "Tiwary",
         "offsetgroup": "Tiwary",
         "orientation": "v",
         "showlegend": true,
         "textposition": "auto",
         "type": "bar",
         "x": [
          "India",
          "India"
         ],
         "xaxis": "x",
         "y": [
          675000,
          1600000
         ],
         "yaxis": "y"
        },
        {
         "alignmentgroup": "True",
         "hovertemplate": "PLAYER NAME=Tyagi<br>COUNTRY=%{x}<br>SOLD PRICE=%{y}<extra></extra>",
         "legendgroup": "Tyagi",
         "marker": {
          "color": "#19d3f3",
          "pattern": {
           "shape": ""
          }
         },
         "name": "Tyagi",
         "offsetgroup": "Tyagi",
         "orientation": "v",
         "showlegend": true,
         "textposition": "auto",
         "type": "bar",
         "x": [
          "India"
         ],
         "xaxis": "x",
         "y": [
          240000
         ],
         "yaxis": "y"
        },
        {
         "alignmentgroup": "True",
         "hovertemplate": "PLAYER NAME=Umar Gul<br>COUNTRY=%{x}<br>SOLD PRICE=%{y}<extra></extra>",
         "legendgroup": "Umar Gul",
         "marker": {
          "color": "#FF6692",
          "pattern": {
           "shape": ""
          }
         },
         "name": "Umar Gul",
         "offsetgroup": "Umar Gul",
         "orientation": "v",
         "showlegend": true,
         "textposition": "auto",
         "type": "bar",
         "x": [
          "Pakistan"
         ],
         "xaxis": "x",
         "y": [
          150000
         ],
         "yaxis": "y"
        },
        {
         "alignmentgroup": "True",
         "hovertemplate": "PLAYER NAME=Uthappa<br>COUNTRY=%{x}<br>SOLD PRICE=%{y}<extra></extra>",
         "legendgroup": "Uthappa",
         "marker": {
          "color": "#B6E880",
          "pattern": {
           "shape": ""
          }
         },
         "name": "Uthappa",
         "offsetgroup": "Uthappa",
         "orientation": "v",
         "showlegend": true,
         "textposition": "auto",
         "type": "bar",
         "x": [
          "India"
         ],
         "xaxis": "x",
         "y": [
          800000
         ],
         "yaxis": "y"
        },
        {
         "alignmentgroup": "True",
         "hovertemplate": "PLAYER NAME=Vaas<br>COUNTRY=%{x}<br>SOLD PRICE=%{y}<extra></extra>",
         "legendgroup": "Vaas",
         "marker": {
          "color": "#FF97FF",
          "pattern": {
           "shape": ""
          }
         },
         "name": "Vaas",
         "offsetgroup": "Vaas",
         "orientation": "v",
         "showlegend": true,
         "textposition": "auto",
         "type": "bar",
         "x": [
          "Sri Lanka"
         ],
         "xaxis": "x",
         "y": [
          200000
         ],
         "yaxis": "y"
        },
        {
         "alignmentgroup": "True",
         "hovertemplate": "PLAYER NAME=Van der Merwe<br>COUNTRY=%{x}<br>SOLD PRICE=%{y}<extra></extra>",
         "legendgroup": "Van der Merwe",
         "marker": {
          "color": "#FECB52",
          "pattern": {
           "shape": ""
          }
         },
         "name": "Van der Merwe",
         "offsetgroup": "Van der Merwe",
         "orientation": "v",
         "showlegend": true,
         "textposition": "auto",
         "type": "bar",
         "x": [
          "South Africa"
         ],
         "xaxis": "x",
         "y": [
          50000
         ],
         "yaxis": "y"
        },
        {
         "alignmentgroup": "True",
         "hovertemplate": "PLAYER NAME=Venugopal Rao<br>COUNTRY=%{x}<br>SOLD PRICE=%{y}<extra></extra>",
         "legendgroup": "Venugopal Rao",
         "marker": {
          "color": "#636efa",
          "pattern": {
           "shape": ""
          }
         },
         "name": "Venugopal Rao",
         "offsetgroup": "Venugopal Rao",
         "orientation": "v",
         "showlegend": true,
         "textposition": "auto",
         "type": "bar",
         "x": [
          "India"
         ],
         "xaxis": "x",
         "y": [
          700000
         ],
         "yaxis": "y"
        },
        {
         "alignmentgroup": "True",
         "hovertemplate": "PLAYER NAME=Vettori<br>COUNTRY=%{x}<br>SOLD PRICE=%{y}<extra></extra>",
         "legendgroup": "Vettori",
         "marker": {
          "color": "#EF553B",
          "pattern": {
           "shape": ""
          }
         },
         "name": "Vettori",
         "offsetgroup": "Vettori",
         "orientation": "v",
         "showlegend": true,
         "textposition": "auto",
         "type": "bar",
         "x": [
          "New Zealand"
         ],
         "xaxis": "x",
         "y": [
          625000
         ],
         "yaxis": "y"
        },
        {
         "alignmentgroup": "True",
         "hovertemplate": "PLAYER NAME=Vinay Kumar<br>COUNTRY=%{x}<br>SOLD PRICE=%{y}<extra></extra>",
         "legendgroup": "Vinay Kumar",
         "marker": {
          "color": "#00cc96",
          "pattern": {
           "shape": ""
          }
         },
         "name": "Vinay Kumar",
         "offsetgroup": "Vinay Kumar",
         "orientation": "v",
         "showlegend": true,
         "textposition": "auto",
         "type": "bar",
         "x": [
          "India"
         ],
         "xaxis": "x",
         "y": [
          475000
         ],
         "yaxis": "y"
        },
        {
         "alignmentgroup": "True",
         "hovertemplate": "PLAYER NAME=Warne<br>COUNTRY=%{x}<br>SOLD PRICE=%{y}<extra></extra>",
         "legendgroup": "Warne",
         "marker": {
          "color": "#ab63fa",
          "pattern": {
           "shape": ""
          }
         },
         "name": "Warne",
         "offsetgroup": "Warne",
         "orientation": "v",
         "showlegend": true,
         "textposition": "auto",
         "type": "bar",
         "x": [
          "Australia"
         ],
         "xaxis": "x",
         "y": [
          450000
         ],
         "yaxis": "y"
        },
        {
         "alignmentgroup": "True",
         "hovertemplate": "PLAYER NAME=Warner<br>COUNTRY=%{x}<br>SOLD PRICE=%{y}<extra></extra>",
         "legendgroup": "Warner",
         "marker": {
          "color": "#FFA15A",
          "pattern": {
           "shape": ""
          }
         },
         "name": "Warner",
         "offsetgroup": "Warner",
         "orientation": "v",
         "showlegend": true,
         "textposition": "auto",
         "type": "bar",
         "x": [
          "Australia"
         ],
         "xaxis": "x",
         "y": [
          750000
         ],
         "yaxis": "y"
        },
        {
         "alignmentgroup": "True",
         "hovertemplate": "PLAYER NAME=White<br>COUNTRY=%{x}<br>SOLD PRICE=%{y}<extra></extra>",
         "legendgroup": "White",
         "marker": {
          "color": "#19d3f3",
          "pattern": {
           "shape": ""
          }
         },
         "name": "White",
         "offsetgroup": "White",
         "orientation": "v",
         "showlegend": true,
         "textposition": "auto",
         "type": "bar",
         "x": [
          "Australia"
         ],
         "xaxis": "x",
         "y": [
          500000
         ],
         "yaxis": "y"
        },
        {
         "alignmentgroup": "True",
         "hovertemplate": "PLAYER NAME=Yadav<br>COUNTRY=%{x}<br>SOLD PRICE=%{y}<extra></extra>",
         "legendgroup": "Yadav",
         "marker": {
          "color": "#FF6692",
          "pattern": {
           "shape": ""
          }
         },
         "name": "Yadav",
         "offsetgroup": "Yadav",
         "orientation": "v",
         "showlegend": true,
         "textposition": "auto",
         "type": "bar",
         "x": [
          "India"
         ],
         "xaxis": "x",
         "y": [
          750000
         ],
         "yaxis": "y"
        },
        {
         "alignmentgroup": "True",
         "hovertemplate": "PLAYER NAME=Younis Khan<br>COUNTRY=%{x}<br>SOLD PRICE=%{y}<extra></extra>",
         "legendgroup": "Younis Khan",
         "marker": {
          "color": "#B6E880",
          "pattern": {
           "shape": ""
          }
         },
         "name": "Younis Khan",
         "offsetgroup": "Younis Khan",
         "orientation": "v",
         "showlegend": true,
         "textposition": "auto",
         "type": "bar",
         "x": [
          "Pakistan"
         ],
         "xaxis": "x",
         "y": [
          225000
         ],
         "yaxis": "y"
        },
        {
         "alignmentgroup": "True",
         "hovertemplate": "PLAYER NAME=Yuvraj Singh<br>COUNTRY=%{x}<br>SOLD PRICE=%{y}<extra></extra>",
         "legendgroup": "Yuvraj Singh",
         "marker": {
          "color": "#FF97FF",
          "pattern": {
           "shape": ""
          }
         },
         "name": "Yuvraj Singh",
         "offsetgroup": "Yuvraj Singh",
         "orientation": "v",
         "showlegend": true,
         "textposition": "auto",
         "type": "bar",
         "x": [
          "India"
         ],
         "xaxis": "x",
         "y": [
          1800000
         ],
         "yaxis": "y"
        },
        {
         "alignmentgroup": "True",
         "hovertemplate": "PLAYER NAME=Zaheer Khan<br>COUNTRY=%{x}<br>SOLD PRICE=%{y}<extra></extra>",
         "legendgroup": "Zaheer Khan",
         "marker": {
          "color": "#FECB52",
          "pattern": {
           "shape": ""
          }
         },
         "name": "Zaheer Khan",
         "offsetgroup": "Zaheer Khan",
         "orientation": "v",
         "showlegend": true,
         "textposition": "auto",
         "type": "bar",
         "x": [
          "India"
         ],
         "xaxis": "x",
         "y": [
          450000
         ],
         "yaxis": "y"
        },
        {
         "alignmentgroup": "True",
         "hovertemplate": "PLAYER NAME=Zoysa<br>COUNTRY=%{x}<br>SOLD PRICE=%{y}<extra></extra>",
         "legendgroup": "Zoysa",
         "marker": {
          "color": "#636efa",
          "pattern": {
           "shape": ""
          }
         },
         "name": "Zoysa",
         "offsetgroup": "Zoysa",
         "orientation": "v",
         "showlegend": true,
         "textposition": "auto",
         "type": "bar",
         "x": [
          "Sri Lanka"
         ],
         "xaxis": "x",
         "y": [
          110000
         ],
         "yaxis": "y"
        }
       ],
       "layout": {
        "barmode": "relative",
        "legend": {
         "title": {
          "text": "PLAYER NAME"
         },
         "tracegroupgap": 0
        },
        "margin": {
         "t": 60
        },
        "template": {
         "data": {
          "bar": [
           {
            "error_x": {
             "color": "#2a3f5f"
            },
            "error_y": {
             "color": "#2a3f5f"
            },
            "marker": {
             "line": {
              "color": "#E5ECF6",
              "width": 0.5
             },
             "pattern": {
              "fillmode": "overlay",
              "size": 10,
              "solidity": 0.2
             }
            },
            "type": "bar"
           }
          ],
          "barpolar": [
           {
            "marker": {
             "line": {
              "color": "#E5ECF6",
              "width": 0.5
             },
             "pattern": {
              "fillmode": "overlay",
              "size": 10,
              "solidity": 0.2
             }
            },
            "type": "barpolar"
           }
          ],
          "carpet": [
           {
            "aaxis": {
             "endlinecolor": "#2a3f5f",
             "gridcolor": "white",
             "linecolor": "white",
             "minorgridcolor": "white",
             "startlinecolor": "#2a3f5f"
            },
            "baxis": {
             "endlinecolor": "#2a3f5f",
             "gridcolor": "white",
             "linecolor": "white",
             "minorgridcolor": "white",
             "startlinecolor": "#2a3f5f"
            },
            "type": "carpet"
           }
          ],
          "choropleth": [
           {
            "colorbar": {
             "outlinewidth": 0,
             "ticks": ""
            },
            "type": "choropleth"
           }
          ],
          "contour": [
           {
            "colorbar": {
             "outlinewidth": 0,
             "ticks": ""
            },
            "colorscale": [
             [
              0,
              "#0d0887"
             ],
             [
              0.1111111111111111,
              "#46039f"
             ],
             [
              0.2222222222222222,
              "#7201a8"
             ],
             [
              0.3333333333333333,
              "#9c179e"
             ],
             [
              0.4444444444444444,
              "#bd3786"
             ],
             [
              0.5555555555555556,
              "#d8576b"
             ],
             [
              0.6666666666666666,
              "#ed7953"
             ],
             [
              0.7777777777777778,
              "#fb9f3a"
             ],
             [
              0.8888888888888888,
              "#fdca26"
             ],
             [
              1,
              "#f0f921"
             ]
            ],
            "type": "contour"
           }
          ],
          "contourcarpet": [
           {
            "colorbar": {
             "outlinewidth": 0,
             "ticks": ""
            },
            "type": "contourcarpet"
           }
          ],
          "heatmap": [
           {
            "colorbar": {
             "outlinewidth": 0,
             "ticks": ""
            },
            "colorscale": [
             [
              0,
              "#0d0887"
             ],
             [
              0.1111111111111111,
              "#46039f"
             ],
             [
              0.2222222222222222,
              "#7201a8"
             ],
             [
              0.3333333333333333,
              "#9c179e"
             ],
             [
              0.4444444444444444,
              "#bd3786"
             ],
             [
              0.5555555555555556,
              "#d8576b"
             ],
             [
              0.6666666666666666,
              "#ed7953"
             ],
             [
              0.7777777777777778,
              "#fb9f3a"
             ],
             [
              0.8888888888888888,
              "#fdca26"
             ],
             [
              1,
              "#f0f921"
             ]
            ],
            "type": "heatmap"
           }
          ],
          "heatmapgl": [
           {
            "colorbar": {
             "outlinewidth": 0,
             "ticks": ""
            },
            "colorscale": [
             [
              0,
              "#0d0887"
             ],
             [
              0.1111111111111111,
              "#46039f"
             ],
             [
              0.2222222222222222,
              "#7201a8"
             ],
             [
              0.3333333333333333,
              "#9c179e"
             ],
             [
              0.4444444444444444,
              "#bd3786"
             ],
             [
              0.5555555555555556,
              "#d8576b"
             ],
             [
              0.6666666666666666,
              "#ed7953"
             ],
             [
              0.7777777777777778,
              "#fb9f3a"
             ],
             [
              0.8888888888888888,
              "#fdca26"
             ],
             [
              1,
              "#f0f921"
             ]
            ],
            "type": "heatmapgl"
           }
          ],
          "histogram": [
           {
            "marker": {
             "pattern": {
              "fillmode": "overlay",
              "size": 10,
              "solidity": 0.2
             }
            },
            "type": "histogram"
           }
          ],
          "histogram2d": [
           {
            "colorbar": {
             "outlinewidth": 0,
             "ticks": ""
            },
            "colorscale": [
             [
              0,
              "#0d0887"
             ],
             [
              0.1111111111111111,
              "#46039f"
             ],
             [
              0.2222222222222222,
              "#7201a8"
             ],
             [
              0.3333333333333333,
              "#9c179e"
             ],
             [
              0.4444444444444444,
              "#bd3786"
             ],
             [
              0.5555555555555556,
              "#d8576b"
             ],
             [
              0.6666666666666666,
              "#ed7953"
             ],
             [
              0.7777777777777778,
              "#fb9f3a"
             ],
             [
              0.8888888888888888,
              "#fdca26"
             ],
             [
              1,
              "#f0f921"
             ]
            ],
            "type": "histogram2d"
           }
          ],
          "histogram2dcontour": [
           {
            "colorbar": {
             "outlinewidth": 0,
             "ticks": ""
            },
            "colorscale": [
             [
              0,
              "#0d0887"
             ],
             [
              0.1111111111111111,
              "#46039f"
             ],
             [
              0.2222222222222222,
              "#7201a8"
             ],
             [
              0.3333333333333333,
              "#9c179e"
             ],
             [
              0.4444444444444444,
              "#bd3786"
             ],
             [
              0.5555555555555556,
              "#d8576b"
             ],
             [
              0.6666666666666666,
              "#ed7953"
             ],
             [
              0.7777777777777778,
              "#fb9f3a"
             ],
             [
              0.8888888888888888,
              "#fdca26"
             ],
             [
              1,
              "#f0f921"
             ]
            ],
            "type": "histogram2dcontour"
           }
          ],
          "mesh3d": [
           {
            "colorbar": {
             "outlinewidth": 0,
             "ticks": ""
            },
            "type": "mesh3d"
           }
          ],
          "parcoords": [
           {
            "line": {
             "colorbar": {
              "outlinewidth": 0,
              "ticks": ""
             }
            },
            "type": "parcoords"
           }
          ],
          "pie": [
           {
            "automargin": true,
            "type": "pie"
           }
          ],
          "scatter": [
           {
            "marker": {
             "colorbar": {
              "outlinewidth": 0,
              "ticks": ""
             }
            },
            "type": "scatter"
           }
          ],
          "scatter3d": [
           {
            "line": {
             "colorbar": {
              "outlinewidth": 0,
              "ticks": ""
             }
            },
            "marker": {
             "colorbar": {
              "outlinewidth": 0,
              "ticks": ""
             }
            },
            "type": "scatter3d"
           }
          ],
          "scattercarpet": [
           {
            "marker": {
             "colorbar": {
              "outlinewidth": 0,
              "ticks": ""
             }
            },
            "type": "scattercarpet"
           }
          ],
          "scattergeo": [
           {
            "marker": {
             "colorbar": {
              "outlinewidth": 0,
              "ticks": ""
             }
            },
            "type": "scattergeo"
           }
          ],
          "scattergl": [
           {
            "marker": {
             "colorbar": {
              "outlinewidth": 0,
              "ticks": ""
             }
            },
            "type": "scattergl"
           }
          ],
          "scattermapbox": [
           {
            "marker": {
             "colorbar": {
              "outlinewidth": 0,
              "ticks": ""
             }
            },
            "type": "scattermapbox"
           }
          ],
          "scatterpolar": [
           {
            "marker": {
             "colorbar": {
              "outlinewidth": 0,
              "ticks": ""
             }
            },
            "type": "scatterpolar"
           }
          ],
          "scatterpolargl": [
           {
            "marker": {
             "colorbar": {
              "outlinewidth": 0,
              "ticks": ""
             }
            },
            "type": "scatterpolargl"
           }
          ],
          "scatterternary": [
           {
            "marker": {
             "colorbar": {
              "outlinewidth": 0,
              "ticks": ""
             }
            },
            "type": "scatterternary"
           }
          ],
          "surface": [
           {
            "colorbar": {
             "outlinewidth": 0,
             "ticks": ""
            },
            "colorscale": [
             [
              0,
              "#0d0887"
             ],
             [
              0.1111111111111111,
              "#46039f"
             ],
             [
              0.2222222222222222,
              "#7201a8"
             ],
             [
              0.3333333333333333,
              "#9c179e"
             ],
             [
              0.4444444444444444,
              "#bd3786"
             ],
             [
              0.5555555555555556,
              "#d8576b"
             ],
             [
              0.6666666666666666,
              "#ed7953"
             ],
             [
              0.7777777777777778,
              "#fb9f3a"
             ],
             [
              0.8888888888888888,
              "#fdca26"
             ],
             [
              1,
              "#f0f921"
             ]
            ],
            "type": "surface"
           }
          ],
          "table": [
           {
            "cells": {
             "fill": {
              "color": "#EBF0F8"
             },
             "line": {
              "color": "white"
             }
            },
            "header": {
             "fill": {
              "color": "#C8D4E3"
             },
             "line": {
              "color": "white"
             }
            },
            "type": "table"
           }
          ]
         },
         "layout": {
          "annotationdefaults": {
           "arrowcolor": "#2a3f5f",
           "arrowhead": 0,
           "arrowwidth": 1
          },
          "autotypenumbers": "strict",
          "coloraxis": {
           "colorbar": {
            "outlinewidth": 0,
            "ticks": ""
           }
          },
          "colorscale": {
           "diverging": [
            [
             0,
             "#8e0152"
            ],
            [
             0.1,
             "#c51b7d"
            ],
            [
             0.2,
             "#de77ae"
            ],
            [
             0.3,
             "#f1b6da"
            ],
            [
             0.4,
             "#fde0ef"
            ],
            [
             0.5,
             "#f7f7f7"
            ],
            [
             0.6,
             "#e6f5d0"
            ],
            [
             0.7,
             "#b8e186"
            ],
            [
             0.8,
             "#7fbc41"
            ],
            [
             0.9,
             "#4d9221"
            ],
            [
             1,
             "#276419"
            ]
           ],
           "sequential": [
            [
             0,
             "#0d0887"
            ],
            [
             0.1111111111111111,
             "#46039f"
            ],
            [
             0.2222222222222222,
             "#7201a8"
            ],
            [
             0.3333333333333333,
             "#9c179e"
            ],
            [
             0.4444444444444444,
             "#bd3786"
            ],
            [
             0.5555555555555556,
             "#d8576b"
            ],
            [
             0.6666666666666666,
             "#ed7953"
            ],
            [
             0.7777777777777778,
             "#fb9f3a"
            ],
            [
             0.8888888888888888,
             "#fdca26"
            ],
            [
             1,
             "#f0f921"
            ]
           ],
           "sequentialminus": [
            [
             0,
             "#0d0887"
            ],
            [
             0.1111111111111111,
             "#46039f"
            ],
            [
             0.2222222222222222,
             "#7201a8"
            ],
            [
             0.3333333333333333,
             "#9c179e"
            ],
            [
             0.4444444444444444,
             "#bd3786"
            ],
            [
             0.5555555555555556,
             "#d8576b"
            ],
            [
             0.6666666666666666,
             "#ed7953"
            ],
            [
             0.7777777777777778,
             "#fb9f3a"
            ],
            [
             0.8888888888888888,
             "#fdca26"
            ],
            [
             1,
             "#f0f921"
            ]
           ]
          },
          "colorway": [
           "#636efa",
           "#EF553B",
           "#00cc96",
           "#ab63fa",
           "#FFA15A",
           "#19d3f3",
           "#FF6692",
           "#B6E880",
           "#FF97FF",
           "#FECB52"
          ],
          "font": {
           "color": "#2a3f5f"
          },
          "geo": {
           "bgcolor": "white",
           "lakecolor": "white",
           "landcolor": "#E5ECF6",
           "showlakes": true,
           "showland": true,
           "subunitcolor": "white"
          },
          "hoverlabel": {
           "align": "left"
          },
          "hovermode": "closest",
          "mapbox": {
           "style": "light"
          },
          "paper_bgcolor": "white",
          "plot_bgcolor": "#E5ECF6",
          "polar": {
           "angularaxis": {
            "gridcolor": "white",
            "linecolor": "white",
            "ticks": ""
           },
           "bgcolor": "#E5ECF6",
           "radialaxis": {
            "gridcolor": "white",
            "linecolor": "white",
            "ticks": ""
           }
          },
          "scene": {
           "xaxis": {
            "backgroundcolor": "#E5ECF6",
            "gridcolor": "white",
            "gridwidth": 2,
            "linecolor": "white",
            "showbackground": true,
            "ticks": "",
            "zerolinecolor": "white"
           },
           "yaxis": {
            "backgroundcolor": "#E5ECF6",
            "gridcolor": "white",
            "gridwidth": 2,
            "linecolor": "white",
            "showbackground": true,
            "ticks": "",
            "zerolinecolor": "white"
           },
           "zaxis": {
            "backgroundcolor": "#E5ECF6",
            "gridcolor": "white",
            "gridwidth": 2,
            "linecolor": "white",
            "showbackground": true,
            "ticks": "",
            "zerolinecolor": "white"
           }
          },
          "shapedefaults": {
           "line": {
            "color": "#2a3f5f"
           }
          },
          "ternary": {
           "aaxis": {
            "gridcolor": "white",
            "linecolor": "white",
            "ticks": ""
           },
           "baxis": {
            "gridcolor": "white",
            "linecolor": "white",
            "ticks": ""
           },
           "bgcolor": "#E5ECF6",
           "caxis": {
            "gridcolor": "white",
            "linecolor": "white",
            "ticks": ""
           }
          },
          "title": {
           "x": 0.05
          },
          "xaxis": {
           "automargin": true,
           "gridcolor": "white",
           "linecolor": "white",
           "ticks": "",
           "title": {
            "standoff": 15
           },
           "zerolinecolor": "white",
           "zerolinewidth": 2
          },
          "yaxis": {
           "automargin": true,
           "gridcolor": "white",
           "linecolor": "white",
           "ticks": "",
           "title": {
            "standoff": 15
           },
           "zerolinecolor": "white",
           "zerolinewidth": 2
          }
         }
        },
        "xaxis": {
         "anchor": "y",
         "domain": [
          0,
          1
         ],
         "title": {
          "text": "COUNTRY"
         }
        },
        "yaxis": {
         "anchor": "x",
         "domain": [
          0,
          1
         ],
         "title": {
          "text": "SOLD PRICE"
         }
        }
       }
      },
      "text/html": [
       "<div>                            <div id=\"ca1b8055-ed63-4d30-934d-3ef8f1f919b0\" class=\"plotly-graph-div\" style=\"height:525px; width:100%;\"></div>            <script type=\"text/javascript\">                require([\"plotly\"], function(Plotly) {                    window.PLOTLYENV=window.PLOTLYENV || {};                                    if (document.getElementById(\"ca1b8055-ed63-4d30-934d-3ef8f1f919b0\")) {                    Plotly.newPlot(                        \"ca1b8055-ed63-4d30-934d-3ef8f1f919b0\",                        [{\"alignmentgroup\":\"True\",\"hovertemplate\":\"PLAYER NAME=Abdulla<br>COUNTRY=%{x}<br>SOLD PRICE=%{y}<extra></extra>\",\"legendgroup\":\"Abdulla\",\"marker\":{\"color\":\"#636efa\",\"pattern\":{\"shape\":\"\"}},\"name\":\"Abdulla\",\"offsetgroup\":\"Abdulla\",\"orientation\":\"v\",\"showlegend\":true,\"textposition\":\"auto\",\"x\":[\"South Africa\"],\"xaxis\":\"x\",\"y\":[50000],\"yaxis\":\"y\",\"type\":\"bar\"},{\"alignmentgroup\":\"True\",\"hovertemplate\":\"PLAYER NAME=Abdur Razzak<br>COUNTRY=%{x}<br>SOLD PRICE=%{y}<extra></extra>\",\"legendgroup\":\"Abdur Razzak\",\"marker\":{\"color\":\"#EF553B\",\"pattern\":{\"shape\":\"\"}},\"name\":\"Abdur Razzak\",\"offsetgroup\":\"Abdur Razzak\",\"orientation\":\"v\",\"showlegend\":true,\"textposition\":\"auto\",\"x\":[\"Bangladesh\"],\"xaxis\":\"x\",\"y\":[50000],\"yaxis\":\"y\",\"type\":\"bar\"},{\"alignmentgroup\":\"True\",\"hovertemplate\":\"PLAYER NAME=Agarkar<br>COUNTRY=%{x}<br>SOLD PRICE=%{y}<extra></extra>\",\"legendgroup\":\"Agarkar\",\"marker\":{\"color\":\"#00cc96\",\"pattern\":{\"shape\":\"\"}},\"name\":\"Agarkar\",\"offsetgroup\":\"Agarkar\",\"orientation\":\"v\",\"showlegend\":true,\"textposition\":\"auto\",\"x\":[\"India\"],\"xaxis\":\"x\",\"y\":[350000],\"yaxis\":\"y\",\"type\":\"bar\"},{\"alignmentgroup\":\"True\",\"hovertemplate\":\"PLAYER NAME=Ashwin<br>COUNTRY=%{x}<br>SOLD PRICE=%{y}<extra></extra>\",\"legendgroup\":\"Ashwin\",\"marker\":{\"color\":\"#ab63fa\",\"pattern\":{\"shape\":\"\"}},\"name\":\"Ashwin\",\"offsetgroup\":\"Ashwin\",\"orientation\":\"v\",\"showlegend\":true,\"textposition\":\"auto\",\"x\":[\"India\"],\"xaxis\":\"x\",\"y\":[850000],\"yaxis\":\"y\",\"type\":\"bar\"},{\"alignmentgroup\":\"True\",\"hovertemplate\":\"PLAYER NAME=Badrinath<br>COUNTRY=%{x}<br>SOLD PRICE=%{y}<extra></extra>\",\"legendgroup\":\"Badrinath\",\"marker\":{\"color\":\"#FFA15A\",\"pattern\":{\"shape\":\"\"}},\"name\":\"Badrinath\",\"offsetgroup\":\"Badrinath\",\"orientation\":\"v\",\"showlegend\":true,\"textposition\":\"auto\",\"x\":[\"India\"],\"xaxis\":\"x\",\"y\":[800000],\"yaxis\":\"y\",\"type\":\"bar\"},{\"alignmentgroup\":\"True\",\"hovertemplate\":\"PLAYER NAME=Bailey<br>COUNTRY=%{x}<br>SOLD PRICE=%{y}<extra></extra>\",\"legendgroup\":\"Bailey\",\"marker\":{\"color\":\"#19d3f3\",\"pattern\":{\"shape\":\"\"}},\"name\":\"Bailey\",\"offsetgroup\":\"Bailey\",\"orientation\":\"v\",\"showlegend\":true,\"textposition\":\"auto\",\"x\":[\"Australia\"],\"xaxis\":\"x\",\"y\":[50000],\"yaxis\":\"y\",\"type\":\"bar\"},{\"alignmentgroup\":\"True\",\"hovertemplate\":\"PLAYER NAME=Balaji<br>COUNTRY=%{x}<br>SOLD PRICE=%{y}<extra></extra>\",\"legendgroup\":\"Balaji\",\"marker\":{\"color\":\"#FF6692\",\"pattern\":{\"shape\":\"\"}},\"name\":\"Balaji\",\"offsetgroup\":\"Balaji\",\"orientation\":\"v\",\"showlegend\":true,\"textposition\":\"auto\",\"x\":[\"India\"],\"xaxis\":\"x\",\"y\":[500000],\"yaxis\":\"y\",\"type\":\"bar\"},{\"alignmentgroup\":\"True\",\"hovertemplate\":\"PLAYER NAME=Bollinger<br>COUNTRY=%{x}<br>SOLD PRICE=%{y}<extra></extra>\",\"legendgroup\":\"Bollinger\",\"marker\":{\"color\":\"#B6E880\",\"pattern\":{\"shape\":\"\"}},\"name\":\"Bollinger\",\"offsetgroup\":\"Bollinger\",\"orientation\":\"v\",\"showlegend\":true,\"textposition\":\"auto\",\"x\":[\"Australia\"],\"xaxis\":\"x\",\"y\":[700000],\"yaxis\":\"y\",\"type\":\"bar\"},{\"alignmentgroup\":\"True\",\"hovertemplate\":\"PLAYER NAME=Botha<br>COUNTRY=%{x}<br>SOLD PRICE=%{y}<extra></extra>\",\"legendgroup\":\"Botha\",\"marker\":{\"color\":\"#FF97FF\",\"pattern\":{\"shape\":\"\"}},\"name\":\"Botha\",\"offsetgroup\":\"Botha\",\"orientation\":\"v\",\"showlegend\":true,\"textposition\":\"auto\",\"x\":[\"South Africa\"],\"xaxis\":\"x\",\"y\":[950000],\"yaxis\":\"y\",\"type\":\"bar\"},{\"alignmentgroup\":\"True\",\"hovertemplate\":\"PLAYER NAME=Boucher<br>COUNTRY=%{x}<br>SOLD PRICE=%{y}<extra></extra>\",\"legendgroup\":\"Boucher\",\"marker\":{\"color\":\"#FECB52\",\"pattern\":{\"shape\":\"\"}},\"name\":\"Boucher\",\"offsetgroup\":\"Boucher\",\"orientation\":\"v\",\"showlegend\":true,\"textposition\":\"auto\",\"x\":[\"South Africa\"],\"xaxis\":\"x\",\"y\":[450000],\"yaxis\":\"y\",\"type\":\"bar\"},{\"alignmentgroup\":\"True\",\"hovertemplate\":\"PLAYER NAME=Bravo<br>COUNTRY=%{x}<br>SOLD PRICE=%{y}<extra></extra>\",\"legendgroup\":\"Bravo\",\"marker\":{\"color\":\"#636efa\",\"pattern\":{\"shape\":\"\"}},\"name\":\"Bravo\",\"offsetgroup\":\"Bravo\",\"orientation\":\"v\",\"showlegend\":true,\"textposition\":\"auto\",\"x\":[\"West Indies\"],\"xaxis\":\"x\",\"y\":[200000],\"yaxis\":\"y\",\"type\":\"bar\"},{\"alignmentgroup\":\"True\",\"hovertemplate\":\"PLAYER NAME=Chanderpaul<br>COUNTRY=%{x}<br>SOLD PRICE=%{y}<extra></extra>\",\"legendgroup\":\"Chanderpaul\",\"marker\":{\"color\":\"#EF553B\",\"pattern\":{\"shape\":\"\"}},\"name\":\"Chanderpaul\",\"offsetgroup\":\"Chanderpaul\",\"orientation\":\"v\",\"showlegend\":true,\"textposition\":\"auto\",\"x\":[\"West Indies\"],\"xaxis\":\"x\",\"y\":[200000],\"yaxis\":\"y\",\"type\":\"bar\"},{\"alignmentgroup\":\"True\",\"hovertemplate\":\"PLAYER NAME=Chawla<br>COUNTRY=%{x}<br>SOLD PRICE=%{y}<extra></extra>\",\"legendgroup\":\"Chawla\",\"marker\":{\"color\":\"#00cc96\",\"pattern\":{\"shape\":\"\"}},\"name\":\"Chawla\",\"offsetgroup\":\"Chawla\",\"orientation\":\"v\",\"showlegend\":true,\"textposition\":\"auto\",\"x\":[\"India\"],\"xaxis\":\"x\",\"y\":[400000],\"yaxis\":\"y\",\"type\":\"bar\"},{\"alignmentgroup\":\"True\",\"hovertemplate\":\"PLAYER NAME=de Villiers<br>COUNTRY=%{x}<br>SOLD PRICE=%{y}<extra></extra>\",\"legendgroup\":\"de Villiers\",\"marker\":{\"color\":\"#ab63fa\",\"pattern\":{\"shape\":\"\"}},\"name\":\"de Villiers\",\"offsetgroup\":\"de Villiers\",\"orientation\":\"v\",\"showlegend\":true,\"textposition\":\"auto\",\"x\":[\"South Africa\"],\"xaxis\":\"x\",\"y\":[300000],\"yaxis\":\"y\",\"type\":\"bar\"},{\"alignmentgroup\":\"True\",\"hovertemplate\":\"PLAYER NAME=Dhawan<br>COUNTRY=%{x}<br>SOLD PRICE=%{y}<extra></extra>\",\"legendgroup\":\"Dhawan\",\"marker\":{\"color\":\"#FFA15A\",\"pattern\":{\"shape\":\"\"}},\"name\":\"Dhawan\",\"offsetgroup\":\"Dhawan\",\"orientation\":\"v\",\"showlegend\":true,\"textposition\":\"auto\",\"x\":[\"India\"],\"xaxis\":\"x\",\"y\":[300000],\"yaxis\":\"y\",\"type\":\"bar\"},{\"alignmentgroup\":\"True\",\"hovertemplate\":\"PLAYER NAME=Dhoni<br>COUNTRY=%{x}<br>SOLD PRICE=%{y}<extra></extra>\",\"legendgroup\":\"Dhoni\",\"marker\":{\"color\":\"#19d3f3\",\"pattern\":{\"shape\":\"\"}},\"name\":\"Dhoni\",\"offsetgroup\":\"Dhoni\",\"orientation\":\"v\",\"showlegend\":true,\"textposition\":\"auto\",\"x\":[\"India\"],\"xaxis\":\"x\",\"y\":[1500000],\"yaxis\":\"y\",\"type\":\"bar\"},{\"alignmentgroup\":\"True\",\"hovertemplate\":\"PLAYER NAME=Dilshan<br>COUNTRY=%{x}<br>SOLD PRICE=%{y}<extra></extra>\",\"legendgroup\":\"Dilshan\",\"marker\":{\"color\":\"#FF6692\",\"pattern\":{\"shape\":\"\"}},\"name\":\"Dilshan\",\"offsetgroup\":\"Dilshan\",\"orientation\":\"v\",\"showlegend\":true,\"textposition\":\"auto\",\"x\":[\"Sri Lanka\"],\"xaxis\":\"x\",\"y\":[250000],\"yaxis\":\"y\",\"type\":\"bar\"},{\"alignmentgroup\":\"True\",\"hovertemplate\":\"PLAYER NAME=Dinda<br>COUNTRY=%{x}<br>SOLD PRICE=%{y}<extra></extra>\",\"legendgroup\":\"Dinda\",\"marker\":{\"color\":\"#B6E880\",\"pattern\":{\"shape\":\"\"}},\"name\":\"Dinda\",\"offsetgroup\":\"Dinda\",\"orientation\":\"v\",\"showlegend\":true,\"textposition\":\"auto\",\"x\":[\"India\"],\"xaxis\":\"x\",\"y\":[375000],\"yaxis\":\"y\",\"type\":\"bar\"},{\"alignmentgroup\":\"True\",\"hovertemplate\":\"PLAYER NAME=Dravid<br>COUNTRY=%{x}<br>SOLD PRICE=%{y}<extra></extra>\",\"legendgroup\":\"Dravid\",\"marker\":{\"color\":\"#FF97FF\",\"pattern\":{\"shape\":\"\"}},\"name\":\"Dravid\",\"offsetgroup\":\"Dravid\",\"orientation\":\"v\",\"showlegend\":true,\"textposition\":\"auto\",\"x\":[\"India\"],\"xaxis\":\"x\",\"y\":[500000],\"yaxis\":\"y\",\"type\":\"bar\"},{\"alignmentgroup\":\"True\",\"hovertemplate\":\"PLAYER NAME=Duminy<br>COUNTRY=%{x}<br>SOLD PRICE=%{y}<extra></extra>\",\"legendgroup\":\"Duminy\",\"marker\":{\"color\":\"#FECB52\",\"pattern\":{\"shape\":\"\"}},\"name\":\"Duminy\",\"offsetgroup\":\"Duminy\",\"orientation\":\"v\",\"showlegend\":true,\"textposition\":\"auto\",\"x\":[\"South Africa\"],\"xaxis\":\"x\",\"y\":[300000],\"yaxis\":\"y\",\"type\":\"bar\"},{\"alignmentgroup\":\"True\",\"hovertemplate\":\"PLAYER NAME=Edwards<br>COUNTRY=%{x}<br>SOLD PRICE=%{y}<extra></extra>\",\"legendgroup\":\"Edwards\",\"marker\":{\"color\":\"#636efa\",\"pattern\":{\"shape\":\"\"}},\"name\":\"Edwards\",\"offsetgroup\":\"Edwards\",\"orientation\":\"v\",\"showlegend\":true,\"textposition\":\"auto\",\"x\":[\"West Indies\"],\"xaxis\":\"x\",\"y\":[150000],\"yaxis\":\"y\",\"type\":\"bar\"},{\"alignmentgroup\":\"True\",\"hovertemplate\":\"PLAYER NAME=Fernando<br>COUNTRY=%{x}<br>SOLD PRICE=%{y}<extra></extra>\",\"legendgroup\":\"Fernando\",\"marker\":{\"color\":\"#EF553B\",\"pattern\":{\"shape\":\"\"}},\"name\":\"Fernando\",\"offsetgroup\":\"Fernando\",\"orientation\":\"v\",\"showlegend\":true,\"textposition\":\"auto\",\"x\":[\"Sri Lanka\"],\"xaxis\":\"x\",\"y\":[150000],\"yaxis\":\"y\",\"type\":\"bar\"},{\"alignmentgroup\":\"True\",\"hovertemplate\":\"PLAYER NAME=Fleming<br>COUNTRY=%{x}<br>SOLD PRICE=%{y}<extra></extra>\",\"legendgroup\":\"Fleming\",\"marker\":{\"color\":\"#00cc96\",\"pattern\":{\"shape\":\"\"}},\"name\":\"Fleming\",\"offsetgroup\":\"Fleming\",\"orientation\":\"v\",\"showlegend\":true,\"textposition\":\"auto\",\"x\":[\"New Zealand\"],\"xaxis\":\"x\",\"y\":[350000],\"yaxis\":\"y\",\"type\":\"bar\"},{\"alignmentgroup\":\"True\",\"hovertemplate\":\"PLAYER NAME=Flintoff<br>COUNTRY=%{x}<br>SOLD PRICE=%{y}<extra></extra>\",\"legendgroup\":\"Flintoff\",\"marker\":{\"color\":\"#ab63fa\",\"pattern\":{\"shape\":\"\"}},\"name\":\"Flintoff\",\"offsetgroup\":\"Flintoff\",\"orientation\":\"v\",\"showlegend\":true,\"textposition\":\"auto\",\"x\":[\"England\"],\"xaxis\":\"x\",\"y\":[1550000],\"yaxis\":\"y\",\"type\":\"bar\"},{\"alignmentgroup\":\"True\",\"hovertemplate\":\"PLAYER NAME=Gambhir<br>COUNTRY=%{x}<br>SOLD PRICE=%{y}<extra></extra>\",\"legendgroup\":\"Gambhir\",\"marker\":{\"color\":\"#FFA15A\",\"pattern\":{\"shape\":\"\"}},\"name\":\"Gambhir\",\"offsetgroup\":\"Gambhir\",\"orientation\":\"v\",\"showlegend\":true,\"textposition\":\"auto\",\"x\":[\"India\"],\"xaxis\":\"x\",\"y\":[725000],\"yaxis\":\"y\",\"type\":\"bar\"},{\"alignmentgroup\":\"True\",\"hovertemplate\":\"PLAYER NAME=Ganguly<br>COUNTRY=%{x}<br>SOLD PRICE=%{y}<extra></extra>\",\"legendgroup\":\"Ganguly\",\"marker\":{\"color\":\"#19d3f3\",\"pattern\":{\"shape\":\"\"}},\"name\":\"Ganguly\",\"offsetgroup\":\"Ganguly\",\"orientation\":\"v\",\"showlegend\":true,\"textposition\":\"auto\",\"x\":[\"India\"],\"xaxis\":\"x\",\"y\":[400000],\"yaxis\":\"y\",\"type\":\"bar\"},{\"alignmentgroup\":\"True\",\"hovertemplate\":\"PLAYER NAME=Gayle<br>COUNTRY=%{x}<br>SOLD PRICE=%{y}<extra></extra>\",\"legendgroup\":\"Gayle\",\"marker\":{\"color\":\"#FF6692\",\"pattern\":{\"shape\":\"\"}},\"name\":\"Gayle\",\"offsetgroup\":\"Gayle\",\"orientation\":\"v\",\"showlegend\":true,\"textposition\":\"auto\",\"x\":[\"West Indies\"],\"xaxis\":\"x\",\"y\":[800000],\"yaxis\":\"y\",\"type\":\"bar\"},{\"alignmentgroup\":\"True\",\"hovertemplate\":\"PLAYER NAME=Gibbs<br>COUNTRY=%{x}<br>SOLD PRICE=%{y}<extra></extra>\",\"legendgroup\":\"Gibbs\",\"marker\":{\"color\":\"#B6E880\",\"pattern\":{\"shape\":\"\"}},\"name\":\"Gibbs\",\"offsetgroup\":\"Gibbs\",\"orientation\":\"v\",\"showlegend\":true,\"textposition\":\"auto\",\"x\":[\"South Africa\"],\"xaxis\":\"x\",\"y\":[575000],\"yaxis\":\"y\",\"type\":\"bar\"},{\"alignmentgroup\":\"True\",\"hovertemplate\":\"PLAYER NAME=Gilchrist<br>COUNTRY=%{x}<br>SOLD PRICE=%{y}<extra></extra>\",\"legendgroup\":\"Gilchrist\",\"marker\":{\"color\":\"#FF97FF\",\"pattern\":{\"shape\":\"\"}},\"name\":\"Gilchrist\",\"offsetgroup\":\"Gilchrist\",\"orientation\":\"v\",\"showlegend\":true,\"textposition\":\"auto\",\"x\":[\"Australia\"],\"xaxis\":\"x\",\"y\":[700000],\"yaxis\":\"y\",\"type\":\"bar\"},{\"alignmentgroup\":\"True\",\"hovertemplate\":\"PLAYER NAME=Gony<br>COUNTRY=%{x}<br>SOLD PRICE=%{y}<extra></extra>\",\"legendgroup\":\"Gony\",\"marker\":{\"color\":\"#FECB52\",\"pattern\":{\"shape\":\"\"}},\"name\":\"Gony\",\"offsetgroup\":\"Gony\",\"orientation\":\"v\",\"showlegend\":true,\"textposition\":\"auto\",\"x\":[\"India\"],\"xaxis\":\"x\",\"y\":[290000],\"yaxis\":\"y\",\"type\":\"bar\"},{\"alignmentgroup\":\"True\",\"hovertemplate\":\"PLAYER NAME=Harbhajan Singh<br>COUNTRY=%{x}<br>SOLD PRICE=%{y}<extra></extra>\",\"legendgroup\":\"Harbhajan Singh\",\"marker\":{\"color\":\"#636efa\",\"pattern\":{\"shape\":\"\"}},\"name\":\"Harbhajan Singh\",\"offsetgroup\":\"Harbhajan Singh\",\"orientation\":\"v\",\"showlegend\":true,\"textposition\":\"auto\",\"x\":[\"India\"],\"xaxis\":\"x\",\"y\":[850000],\"yaxis\":\"y\",\"type\":\"bar\"},{\"alignmentgroup\":\"True\",\"hovertemplate\":\"PLAYER NAME=Harris<br>COUNTRY=%{x}<br>SOLD PRICE=%{y}<extra></extra>\",\"legendgroup\":\"Harris\",\"marker\":{\"color\":\"#EF553B\",\"pattern\":{\"shape\":\"\"}},\"name\":\"Harris\",\"offsetgroup\":\"Harris\",\"orientation\":\"v\",\"showlegend\":true,\"textposition\":\"auto\",\"x\":[\"Australia\"],\"xaxis\":\"x\",\"y\":[325000],\"yaxis\":\"y\",\"type\":\"bar\"},{\"alignmentgroup\":\"True\",\"hovertemplate\":\"PLAYER NAME=Hayden<br>COUNTRY=%{x}<br>SOLD PRICE=%{y}<extra></extra>\",\"legendgroup\":\"Hayden\",\"marker\":{\"color\":\"#00cc96\",\"pattern\":{\"shape\":\"\"}},\"name\":\"Hayden\",\"offsetgroup\":\"Hayden\",\"orientation\":\"v\",\"showlegend\":true,\"textposition\":\"auto\",\"x\":[\"Australia\"],\"xaxis\":\"x\",\"y\":[375000],\"yaxis\":\"y\",\"type\":\"bar\"},{\"alignmentgroup\":\"True\",\"hovertemplate\":\"PLAYER NAME=Henderson<br>COUNTRY=%{x}<br>SOLD PRICE=%{y}<extra></extra>\",\"legendgroup\":\"Henderson\",\"marker\":{\"color\":\"#ab63fa\",\"pattern\":{\"shape\":\"\"}},\"name\":\"Henderson\",\"offsetgroup\":\"Henderson\",\"orientation\":\"v\",\"showlegend\":true,\"textposition\":\"auto\",\"x\":[\"South Africa\"],\"xaxis\":\"x\",\"y\":[650000],\"yaxis\":\"y\",\"type\":\"bar\"},{\"alignmentgroup\":\"True\",\"hovertemplate\":\"PLAYER NAME=Henriques<br>COUNTRY=%{x}<br>SOLD PRICE=%{y}<extra></extra>\",\"legendgroup\":\"Henriques\",\"marker\":{\"color\":\"#FFA15A\",\"pattern\":{\"shape\":\"\"}},\"name\":\"Henriques\",\"offsetgroup\":\"Henriques\",\"orientation\":\"v\",\"showlegend\":true,\"textposition\":\"auto\",\"x\":[\"Australia\"],\"xaxis\":\"x\",\"y\":[50000],\"yaxis\":\"y\",\"type\":\"bar\"},{\"alignmentgroup\":\"True\",\"hovertemplate\":\"PLAYER NAME=Hodge<br>COUNTRY=%{x}<br>SOLD PRICE=%{y}<extra></extra>\",\"legendgroup\":\"Hodge\",\"marker\":{\"color\":\"#19d3f3\",\"pattern\":{\"shape\":\"\"}},\"name\":\"Hodge\",\"offsetgroup\":\"Hodge\",\"orientation\":\"v\",\"showlegend\":true,\"textposition\":\"auto\",\"x\":[\"Australia\"],\"xaxis\":\"x\",\"y\":[425000],\"yaxis\":\"y\",\"type\":\"bar\"},{\"alignmentgroup\":\"True\",\"hovertemplate\":\"PLAYER NAME=Hopes<br>COUNTRY=%{x}<br>SOLD PRICE=%{y}<extra></extra>\",\"legendgroup\":\"Hopes\",\"marker\":{\"color\":\"#FF6692\",\"pattern\":{\"shape\":\"\"}},\"name\":\"Hopes\",\"offsetgroup\":\"Hopes\",\"orientation\":\"v\",\"showlegend\":true,\"textposition\":\"auto\",\"x\":[\"Australia\"],\"xaxis\":\"x\",\"y\":[350000],\"yaxis\":\"y\",\"type\":\"bar\"},{\"alignmentgroup\":\"True\",\"hovertemplate\":\"PLAYER NAME=Hussey<br>COUNTRY=%{x}<br>SOLD PRICE=%{y}<extra></extra>\",\"legendgroup\":\"Hussey\",\"marker\":{\"color\":\"#B6E880\",\"pattern\":{\"shape\":\"\"}},\"name\":\"Hussey\",\"offsetgroup\":\"Hussey\",\"orientation\":\"v\",\"showlegend\":true,\"textposition\":\"auto\",\"x\":[\"Australia\",\"Australia\"],\"xaxis\":\"x\",\"y\":[625000,250000],\"yaxis\":\"y\",\"type\":\"bar\"},{\"alignmentgroup\":\"True\",\"hovertemplate\":\"PLAYER NAME=Jadeja<br>COUNTRY=%{x}<br>SOLD PRICE=%{y}<extra></extra>\",\"legendgroup\":\"Jadeja\",\"marker\":{\"color\":\"#FF97FF\",\"pattern\":{\"shape\":\"\"}},\"name\":\"Jadeja\",\"offsetgroup\":\"Jadeja\",\"orientation\":\"v\",\"showlegend\":true,\"textposition\":\"auto\",\"x\":[\"India\"],\"xaxis\":\"x\",\"y\":[950000],\"yaxis\":\"y\",\"type\":\"bar\"},{\"alignmentgroup\":\"True\",\"hovertemplate\":\"PLAYER NAME=Jaffer<br>COUNTRY=%{x}<br>SOLD PRICE=%{y}<extra></extra>\",\"legendgroup\":\"Jaffer\",\"marker\":{\"color\":\"#FECB52\",\"pattern\":{\"shape\":\"\"}},\"name\":\"Jaffer\",\"offsetgroup\":\"Jaffer\",\"orientation\":\"v\",\"showlegend\":true,\"textposition\":\"auto\",\"x\":[\"India\"],\"xaxis\":\"x\",\"y\":[150000],\"yaxis\":\"y\",\"type\":\"bar\"},{\"alignmentgroup\":\"True\",\"hovertemplate\":\"PLAYER NAME=Jayasuriya<br>COUNTRY=%{x}<br>SOLD PRICE=%{y}<extra></extra>\",\"legendgroup\":\"Jayasuriya\",\"marker\":{\"color\":\"#636efa\",\"pattern\":{\"shape\":\"\"}},\"name\":\"Jayasuriya\",\"offsetgroup\":\"Jayasuriya\",\"orientation\":\"v\",\"showlegend\":true,\"textposition\":\"auto\",\"x\":[\"Sri Lanka\"],\"xaxis\":\"x\",\"y\":[975000],\"yaxis\":\"y\",\"type\":\"bar\"},{\"alignmentgroup\":\"True\",\"hovertemplate\":\"PLAYER NAME=Jayawardena<br>COUNTRY=%{x}<br>SOLD PRICE=%{y}<extra></extra>\",\"legendgroup\":\"Jayawardena\",\"marker\":{\"color\":\"#EF553B\",\"pattern\":{\"shape\":\"\"}},\"name\":\"Jayawardena\",\"offsetgroup\":\"Jayawardena\",\"orientation\":\"v\",\"showlegend\":true,\"textposition\":\"auto\",\"x\":[\"Sri Lanka\"],\"xaxis\":\"x\",\"y\":[475000],\"yaxis\":\"y\",\"type\":\"bar\"},{\"alignmentgroup\":\"True\",\"hovertemplate\":\"PLAYER NAME=Kaif<br>COUNTRY=%{x}<br>SOLD PRICE=%{y}<extra></extra>\",\"legendgroup\":\"Kaif\",\"marker\":{\"color\":\"#00cc96\",\"pattern\":{\"shape\":\"\"}},\"name\":\"Kaif\",\"offsetgroup\":\"Kaif\",\"orientation\":\"v\",\"showlegend\":true,\"textposition\":\"auto\",\"x\":[\"India\"],\"xaxis\":\"x\",\"y\":[675000],\"yaxis\":\"y\",\"type\":\"bar\"},{\"alignmentgroup\":\"True\",\"hovertemplate\":\"PLAYER NAME=Kallis<br>COUNTRY=%{x}<br>SOLD PRICE=%{y}<extra></extra>\",\"legendgroup\":\"Kallis\",\"marker\":{\"color\":\"#ab63fa\",\"pattern\":{\"shape\":\"\"}},\"name\":\"Kallis\",\"offsetgroup\":\"Kallis\",\"orientation\":\"v\",\"showlegend\":true,\"textposition\":\"auto\",\"x\":[\"South Africa\"],\"xaxis\":\"x\",\"y\":[900000],\"yaxis\":\"y\",\"type\":\"bar\"},{\"alignmentgroup\":\"True\",\"hovertemplate\":\"PLAYER NAME=Kamran Akmal<br>COUNTRY=%{x}<br>SOLD PRICE=%{y}<extra></extra>\",\"legendgroup\":\"Kamran Akmal\",\"marker\":{\"color\":\"#FFA15A\",\"pattern\":{\"shape\":\"\"}},\"name\":\"Kamran Akmal\",\"offsetgroup\":\"Kamran Akmal\",\"orientation\":\"v\",\"showlegend\":true,\"textposition\":\"auto\",\"x\":[\"Pakistan\"],\"xaxis\":\"x\",\"y\":[150000],\"yaxis\":\"y\",\"type\":\"bar\"},{\"alignmentgroup\":\"True\",\"hovertemplate\":\"PLAYER NAME=Kamran Khan<br>COUNTRY=%{x}<br>SOLD PRICE=%{y}<extra></extra>\",\"legendgroup\":\"Kamran Khan\",\"marker\":{\"color\":\"#19d3f3\",\"pattern\":{\"shape\":\"\"}},\"name\":\"Kamran Khan\",\"offsetgroup\":\"Kamran Khan\",\"orientation\":\"v\",\"showlegend\":true,\"textposition\":\"auto\",\"x\":[\"India\"],\"xaxis\":\"x\",\"y\":[24000],\"yaxis\":\"y\",\"type\":\"bar\"},{\"alignmentgroup\":\"True\",\"hovertemplate\":\"PLAYER NAME=Karthik<br>COUNTRY=%{x}<br>SOLD PRICE=%{y}<extra></extra>\",\"legendgroup\":\"Karthik\",\"marker\":{\"color\":\"#FF6692\",\"pattern\":{\"shape\":\"\"}},\"name\":\"Karthik\",\"offsetgroup\":\"Karthik\",\"orientation\":\"v\",\"showlegend\":true,\"textposition\":\"auto\",\"x\":[\"India\"],\"xaxis\":\"x\",\"y\":[525000],\"yaxis\":\"y\",\"type\":\"bar\"},{\"alignmentgroup\":\"True\",\"hovertemplate\":\"PLAYER NAME=Kartik<br>COUNTRY=%{x}<br>SOLD PRICE=%{y}<extra></extra>\",\"legendgroup\":\"Kartik\",\"marker\":{\"color\":\"#B6E880\",\"pattern\":{\"shape\":\"\"}},\"name\":\"Kartik\",\"offsetgroup\":\"Kartik\",\"orientation\":\"v\",\"showlegend\":true,\"textposition\":\"auto\",\"x\":[\"India\"],\"xaxis\":\"x\",\"y\":[425000],\"yaxis\":\"y\",\"type\":\"bar\"},{\"alignmentgroup\":\"True\",\"hovertemplate\":\"PLAYER NAME=Katich<br>COUNTRY=%{x}<br>SOLD PRICE=%{y}<extra></extra>\",\"legendgroup\":\"Katich\",\"marker\":{\"color\":\"#FF97FF\",\"pattern\":{\"shape\":\"\"}},\"name\":\"Katich\",\"offsetgroup\":\"Katich\",\"orientation\":\"v\",\"showlegend\":true,\"textposition\":\"auto\",\"x\":[\"Australia\"],\"xaxis\":\"x\",\"y\":[200000],\"yaxis\":\"y\",\"type\":\"bar\"},{\"alignmentgroup\":\"True\",\"hovertemplate\":\"PLAYER NAME=Kohli<br>COUNTRY=%{x}<br>SOLD PRICE=%{y}<extra></extra>\",\"legendgroup\":\"Kohli\",\"marker\":{\"color\":\"#FECB52\",\"pattern\":{\"shape\":\"\"}},\"name\":\"Kohli\",\"offsetgroup\":\"Kohli\",\"orientation\":\"v\",\"showlegend\":true,\"textposition\":\"auto\",\"x\":[\"India\"],\"xaxis\":\"x\",\"y\":[1800000],\"yaxis\":\"y\",\"type\":\"bar\"},{\"alignmentgroup\":\"True\",\"hovertemplate\":\"PLAYER NAME=Kumar<br>COUNTRY=%{x}<br>SOLD PRICE=%{y}<extra></extra>\",\"legendgroup\":\"Kumar\",\"marker\":{\"color\":\"#636efa\",\"pattern\":{\"shape\":\"\"}},\"name\":\"Kumar\",\"offsetgroup\":\"Kumar\",\"orientation\":\"v\",\"showlegend\":true,\"textposition\":\"auto\",\"x\":[\"India\"],\"xaxis\":\"x\",\"y\":[800000],\"yaxis\":\"y\",\"type\":\"bar\"},{\"alignmentgroup\":\"True\",\"hovertemplate\":\"PLAYER NAME=Kumble<br>COUNTRY=%{x}<br>SOLD PRICE=%{y}<extra></extra>\",\"legendgroup\":\"Kumble\",\"marker\":{\"color\":\"#EF553B\",\"pattern\":{\"shape\":\"\"}},\"name\":\"Kumble\",\"offsetgroup\":\"Kumble\",\"orientation\":\"v\",\"showlegend\":true,\"textposition\":\"auto\",\"x\":[\"India\"],\"xaxis\":\"x\",\"y\":[500000],\"yaxis\":\"y\",\"type\":\"bar\"},{\"alignmentgroup\":\"True\",\"hovertemplate\":\"PLAYER NAME=Langeveldt<br>COUNTRY=%{x}<br>SOLD PRICE=%{y}<extra></extra>\",\"legendgroup\":\"Langeveldt\",\"marker\":{\"color\":\"#00cc96\",\"pattern\":{\"shape\":\"\"}},\"name\":\"Langeveldt\",\"offsetgroup\":\"Langeveldt\",\"orientation\":\"v\",\"showlegend\":true,\"textposition\":\"auto\",\"x\":[\"South Africa\"],\"xaxis\":\"x\",\"y\":[140000],\"yaxis\":\"y\",\"type\":\"bar\"},{\"alignmentgroup\":\"True\",\"hovertemplate\":\"PLAYER NAME=Laxman<br>COUNTRY=%{x}<br>SOLD PRICE=%{y}<extra></extra>\",\"legendgroup\":\"Laxman\",\"marker\":{\"color\":\"#ab63fa\",\"pattern\":{\"shape\":\"\"}},\"name\":\"Laxman\",\"offsetgroup\":\"Laxman\",\"orientation\":\"v\",\"showlegend\":true,\"textposition\":\"auto\",\"x\":[\"India\"],\"xaxis\":\"x\",\"y\":[375000],\"yaxis\":\"y\",\"type\":\"bar\"},{\"alignmentgroup\":\"True\",\"hovertemplate\":\"PLAYER NAME=Lee<br>COUNTRY=%{x}<br>SOLD PRICE=%{y}<extra></extra>\",\"legendgroup\":\"Lee\",\"marker\":{\"color\":\"#FFA15A\",\"pattern\":{\"shape\":\"\"}},\"name\":\"Lee\",\"offsetgroup\":\"Lee\",\"orientation\":\"v\",\"showlegend\":true,\"textposition\":\"auto\",\"x\":[\"Australia\"],\"xaxis\":\"x\",\"y\":[900000],\"yaxis\":\"y\",\"type\":\"bar\"},{\"alignmentgroup\":\"True\",\"hovertemplate\":\"PLAYER NAME=Maharoof<br>COUNTRY=%{x}<br>SOLD PRICE=%{y}<extra></extra>\",\"legendgroup\":\"Maharoof\",\"marker\":{\"color\":\"#19d3f3\",\"pattern\":{\"shape\":\"\"}},\"name\":\"Maharoof\",\"offsetgroup\":\"Maharoof\",\"orientation\":\"v\",\"showlegend\":true,\"textposition\":\"auto\",\"x\":[\"Sri Lanka\"],\"xaxis\":\"x\",\"y\":[225000],\"yaxis\":\"y\",\"type\":\"bar\"},{\"alignmentgroup\":\"True\",\"hovertemplate\":\"PLAYER NAME=Malinga<br>COUNTRY=%{x}<br>SOLD PRICE=%{y}<extra></extra>\",\"legendgroup\":\"Malinga\",\"marker\":{\"color\":\"#FF6692\",\"pattern\":{\"shape\":\"\"}},\"name\":\"Malinga\",\"offsetgroup\":\"Malinga\",\"orientation\":\"v\",\"showlegend\":true,\"textposition\":\"auto\",\"x\":[\"Sri Lanka\"],\"xaxis\":\"x\",\"y\":[350000],\"yaxis\":\"y\",\"type\":\"bar\"},{\"alignmentgroup\":\"True\",\"hovertemplate\":\"PLAYER NAME=Mascarenhas<br>COUNTRY=%{x}<br>SOLD PRICE=%{y}<extra></extra>\",\"legendgroup\":\"Mascarenhas\",\"marker\":{\"color\":\"#B6E880\",\"pattern\":{\"shape\":\"\"}},\"name\":\"Mascarenhas\",\"offsetgroup\":\"Mascarenhas\",\"orientation\":\"v\",\"showlegend\":true,\"textposition\":\"auto\",\"x\":[\"England\"],\"xaxis\":\"x\",\"y\":[100000],\"yaxis\":\"y\",\"type\":\"bar\"},{\"alignmentgroup\":\"True\",\"hovertemplate\":\"PLAYER NAME=Mathews<br>COUNTRY=%{x}<br>SOLD PRICE=%{y}<extra></extra>\",\"legendgroup\":\"Mathews\",\"marker\":{\"color\":\"#FF97FF\",\"pattern\":{\"shape\":\"\"}},\"name\":\"Mathews\",\"offsetgroup\":\"Mathews\",\"orientation\":\"v\",\"showlegend\":true,\"textposition\":\"auto\",\"x\":[\"Sri Lanka\"],\"xaxis\":\"x\",\"y\":[950000],\"yaxis\":\"y\",\"type\":\"bar\"},{\"alignmentgroup\":\"True\",\"hovertemplate\":\"PLAYER NAME=McCullum<br>COUNTRY=%{x}<br>SOLD PRICE=%{y}<extra></extra>\",\"legendgroup\":\"McCullum\",\"marker\":{\"color\":\"#FECB52\",\"pattern\":{\"shape\":\"\"}},\"name\":\"McCullum\",\"offsetgroup\":\"McCullum\",\"orientation\":\"v\",\"showlegend\":true,\"textposition\":\"auto\",\"x\":[\"New Zealand\"],\"xaxis\":\"x\",\"y\":[700000],\"yaxis\":\"y\",\"type\":\"bar\"},{\"alignmentgroup\":\"True\",\"hovertemplate\":\"PLAYER NAME=McDonald<br>COUNTRY=%{x}<br>SOLD PRICE=%{y}<extra></extra>\",\"legendgroup\":\"McDonald\",\"marker\":{\"color\":\"#636efa\",\"pattern\":{\"shape\":\"\"}},\"name\":\"McDonald\",\"offsetgroup\":\"McDonald\",\"orientation\":\"v\",\"showlegend\":true,\"textposition\":\"auto\",\"x\":[\"Australia\"],\"xaxis\":\"x\",\"y\":[80000],\"yaxis\":\"y\",\"type\":\"bar\"},{\"alignmentgroup\":\"True\",\"hovertemplate\":\"PLAYER NAME=McGrath<br>COUNTRY=%{x}<br>SOLD PRICE=%{y}<extra></extra>\",\"legendgroup\":\"McGrath\",\"marker\":{\"color\":\"#EF553B\",\"pattern\":{\"shape\":\"\"}},\"name\":\"McGrath\",\"offsetgroup\":\"McGrath\",\"orientation\":\"v\",\"showlegend\":true,\"textposition\":\"auto\",\"x\":[\"Australia\"],\"xaxis\":\"x\",\"y\":[350000],\"yaxis\":\"y\",\"type\":\"bar\"},{\"alignmentgroup\":\"True\",\"hovertemplate\":\"PLAYER NAME=Misbah-ul-Haq<br>COUNTRY=%{x}<br>SOLD PRICE=%{y}<extra></extra>\",\"legendgroup\":\"Misbah-ul-Haq\",\"marker\":{\"color\":\"#00cc96\",\"pattern\":{\"shape\":\"\"}},\"name\":\"Misbah-ul-Haq\",\"offsetgroup\":\"Misbah-ul-Haq\",\"orientation\":\"v\",\"showlegend\":true,\"textposition\":\"auto\",\"x\":[\"Pakistan\"],\"xaxis\":\"x\",\"y\":[100000],\"yaxis\":\"y\",\"type\":\"bar\"},{\"alignmentgroup\":\"True\",\"hovertemplate\":\"PLAYER NAME=Mishra<br>COUNTRY=%{x}<br>SOLD PRICE=%{y}<extra></extra>\",\"legendgroup\":\"Mishra\",\"marker\":{\"color\":\"#ab63fa\",\"pattern\":{\"shape\":\"\"}},\"name\":\"Mishra\",\"offsetgroup\":\"Mishra\",\"orientation\":\"v\",\"showlegend\":true,\"textposition\":\"auto\",\"x\":[\"India\"],\"xaxis\":\"x\",\"y\":[300000],\"yaxis\":\"y\",\"type\":\"bar\"},{\"alignmentgroup\":\"True\",\"hovertemplate\":\"PLAYER NAME=Mithun<br>COUNTRY=%{x}<br>SOLD PRICE=%{y}<extra></extra>\",\"legendgroup\":\"Mithun\",\"marker\":{\"color\":\"#FFA15A\",\"pattern\":{\"shape\":\"\"}},\"name\":\"Mithun\",\"offsetgroup\":\"Mithun\",\"orientation\":\"v\",\"showlegend\":true,\"textposition\":\"auto\",\"x\":[\"India\"],\"xaxis\":\"x\",\"y\":[260000],\"yaxis\":\"y\",\"type\":\"bar\"},{\"alignmentgroup\":\"True\",\"hovertemplate\":\"PLAYER NAME=Mohammad Asif<br>COUNTRY=%{x}<br>SOLD PRICE=%{y}<extra></extra>\",\"legendgroup\":\"Mohammad Asif\",\"marker\":{\"color\":\"#19d3f3\",\"pattern\":{\"shape\":\"\"}},\"name\":\"Mohammad Asif\",\"offsetgroup\":\"Mohammad Asif\",\"orientation\":\"v\",\"showlegend\":true,\"textposition\":\"auto\",\"x\":[\"Pakistan\"],\"xaxis\":\"x\",\"y\":[650000],\"yaxis\":\"y\",\"type\":\"bar\"},{\"alignmentgroup\":\"True\",\"hovertemplate\":\"PLAYER NAME=Morkel<br>COUNTRY=%{x}<br>SOLD PRICE=%{y}<extra></extra>\",\"legendgroup\":\"Morkel\",\"marker\":{\"color\":\"#FF6692\",\"pattern\":{\"shape\":\"\"}},\"name\":\"Morkel\",\"offsetgroup\":\"Morkel\",\"orientation\":\"v\",\"showlegend\":true,\"textposition\":\"auto\",\"x\":[\"South Africa\",\"South Africa\"],\"xaxis\":\"x\",\"y\":[675000,475000],\"yaxis\":\"y\",\"type\":\"bar\"},{\"alignmentgroup\":\"True\",\"hovertemplate\":\"PLAYER NAME=Muralitharan<br>COUNTRY=%{x}<br>SOLD PRICE=%{y}<extra></extra>\",\"legendgroup\":\"Muralitharan\",\"marker\":{\"color\":\"#B6E880\",\"pattern\":{\"shape\":\"\"}},\"name\":\"Muralitharan\",\"offsetgroup\":\"Muralitharan\",\"orientation\":\"v\",\"showlegend\":true,\"textposition\":\"auto\",\"x\":[\"Sri Lanka\"],\"xaxis\":\"x\",\"y\":[600000],\"yaxis\":\"y\",\"type\":\"bar\"},{\"alignmentgroup\":\"True\",\"hovertemplate\":\"PLAYER NAME=Nannes<br>COUNTRY=%{x}<br>SOLD PRICE=%{y}<extra></extra>\",\"legendgroup\":\"Nannes\",\"marker\":{\"color\":\"#FF97FF\",\"pattern\":{\"shape\":\"\"}},\"name\":\"Nannes\",\"offsetgroup\":\"Nannes\",\"orientation\":\"v\",\"showlegend\":true,\"textposition\":\"auto\",\"x\":[\"Australia\"],\"xaxis\":\"x\",\"y\":[650000],\"yaxis\":\"y\",\"type\":\"bar\"},{\"alignmentgroup\":\"True\",\"hovertemplate\":\"PLAYER NAME=Nayar<br>COUNTRY=%{x}<br>SOLD PRICE=%{y}<extra></extra>\",\"legendgroup\":\"Nayar\",\"marker\":{\"color\":\"#FECB52\",\"pattern\":{\"shape\":\"\"}},\"name\":\"Nayar\",\"offsetgroup\":\"Nayar\",\"orientation\":\"v\",\"showlegend\":true,\"textposition\":\"auto\",\"x\":[\"India\"],\"xaxis\":\"x\",\"y\":[800000],\"yaxis\":\"y\",\"type\":\"bar\"},{\"alignmentgroup\":\"True\",\"hovertemplate\":\"PLAYER NAME=Nehra<br>COUNTRY=%{x}<br>SOLD PRICE=%{y}<extra></extra>\",\"legendgroup\":\"Nehra\",\"marker\":{\"color\":\"#636efa\",\"pattern\":{\"shape\":\"\"}},\"name\":\"Nehra\",\"offsetgroup\":\"Nehra\",\"orientation\":\"v\",\"showlegend\":true,\"textposition\":\"auto\",\"x\":[\"India\"],\"xaxis\":\"x\",\"y\":[850000],\"yaxis\":\"y\",\"type\":\"bar\"},{\"alignmentgroup\":\"True\",\"hovertemplate\":\"PLAYER NAME=Noffke<br>COUNTRY=%{x}<br>SOLD PRICE=%{y}<extra></extra>\",\"legendgroup\":\"Noffke\",\"marker\":{\"color\":\"#EF553B\",\"pattern\":{\"shape\":\"\"}},\"name\":\"Noffke\",\"offsetgroup\":\"Noffke\",\"orientation\":\"v\",\"showlegend\":true,\"textposition\":\"auto\",\"x\":[\"Australia\"],\"xaxis\":\"x\",\"y\":[20000],\"yaxis\":\"y\",\"type\":\"bar\"},{\"alignmentgroup\":\"True\",\"hovertemplate\":\"PLAYER NAME=Ntini<br>COUNTRY=%{x}<br>SOLD PRICE=%{y}<extra></extra>\",\"legendgroup\":\"Ntini\",\"marker\":{\"color\":\"#00cc96\",\"pattern\":{\"shape\":\"\"}},\"name\":\"Ntini\",\"offsetgroup\":\"Ntini\",\"orientation\":\"v\",\"showlegend\":true,\"textposition\":\"auto\",\"x\":[\"South Africa\"],\"xaxis\":\"x\",\"y\":[200000],\"yaxis\":\"y\",\"type\":\"bar\"},{\"alignmentgroup\":\"True\",\"hovertemplate\":\"PLAYER NAME=Ojha<br>COUNTRY=%{x}<br>SOLD PRICE=%{y}<extra></extra>\",\"legendgroup\":\"Ojha\",\"marker\":{\"color\":\"#ab63fa\",\"pattern\":{\"shape\":\"\"}},\"name\":\"Ojha\",\"offsetgroup\":\"Ojha\",\"orientation\":\"v\",\"showlegend\":true,\"textposition\":\"auto\",\"x\":[\"India\",\"India\"],\"xaxis\":\"x\",\"y\":[270000,500000],\"yaxis\":\"y\",\"type\":\"bar\"},{\"alignmentgroup\":\"True\",\"hovertemplate\":\"PLAYER NAME=Oram<br>COUNTRY=%{x}<br>SOLD PRICE=%{y}<extra></extra>\",\"legendgroup\":\"Oram\",\"marker\":{\"color\":\"#FFA15A\",\"pattern\":{\"shape\":\"\"}},\"name\":\"Oram\",\"offsetgroup\":\"Oram\",\"orientation\":\"v\",\"showlegend\":true,\"textposition\":\"auto\",\"x\":[\"New Zealand\"],\"xaxis\":\"x\",\"y\":[675000],\"yaxis\":\"y\",\"type\":\"bar\"},{\"alignmentgroup\":\"True\",\"hovertemplate\":\"PLAYER NAME=Pankaj Singh<br>COUNTRY=%{x}<br>SOLD PRICE=%{y}<extra></extra>\",\"legendgroup\":\"Pankaj Singh\",\"marker\":{\"color\":\"#19d3f3\",\"pattern\":{\"shape\":\"\"}},\"name\":\"Pankaj Singh\",\"offsetgroup\":\"Pankaj Singh\",\"orientation\":\"v\",\"showlegend\":true,\"textposition\":\"auto\",\"x\":[\"India\"],\"xaxis\":\"x\",\"y\":[95000],\"yaxis\":\"y\",\"type\":\"bar\"},{\"alignmentgroup\":\"True\",\"hovertemplate\":\"PLAYER NAME=Patel<br>COUNTRY=%{x}<br>SOLD PRICE=%{y}<extra></extra>\",\"legendgroup\":\"Patel\",\"marker\":{\"color\":\"#FF6692\",\"pattern\":{\"shape\":\"\"}},\"name\":\"Patel\",\"offsetgroup\":\"Patel\",\"orientation\":\"v\",\"showlegend\":true,\"textposition\":\"auto\",\"x\":[\"India\",\"India\"],\"xaxis\":\"x\",\"y\":[275000,325000],\"yaxis\":\"y\",\"type\":\"bar\"},{\"alignmentgroup\":\"True\",\"hovertemplate\":\"PLAYER NAME=Pathan<br>COUNTRY=%{x}<br>SOLD PRICE=%{y}<extra></extra>\",\"legendgroup\":\"Pathan\",\"marker\":{\"color\":\"#B6E880\",\"pattern\":{\"shape\":\"\"}},\"name\":\"Pathan\",\"offsetgroup\":\"Pathan\",\"orientation\":\"v\",\"showlegend\":true,\"textposition\":\"auto\",\"x\":[\"India\",\"India\"],\"xaxis\":\"x\",\"y\":[925000,475000],\"yaxis\":\"y\",\"type\":\"bar\"},{\"alignmentgroup\":\"True\",\"hovertemplate\":\"PLAYER NAME=Pietersen<br>COUNTRY=%{x}<br>SOLD PRICE=%{y}<extra></extra>\",\"legendgroup\":\"Pietersen\",\"marker\":{\"color\":\"#FF97FF\",\"pattern\":{\"shape\":\"\"}},\"name\":\"Pietersen\",\"offsetgroup\":\"Pietersen\",\"orientation\":\"v\",\"showlegend\":true,\"textposition\":\"auto\",\"x\":[\"England\"],\"xaxis\":\"x\",\"y\":[1550000],\"yaxis\":\"y\",\"type\":\"bar\"},{\"alignmentgroup\":\"True\",\"hovertemplate\":\"PLAYER NAME=Pollock<br>COUNTRY=%{x}<br>SOLD PRICE=%{y}<extra></extra>\",\"legendgroup\":\"Pollock\",\"marker\":{\"color\":\"#FECB52\",\"pattern\":{\"shape\":\"\"}},\"name\":\"Pollock\",\"offsetgroup\":\"Pollock\",\"orientation\":\"v\",\"showlegend\":true,\"textposition\":\"auto\",\"x\":[\"South Africa\"],\"xaxis\":\"x\",\"y\":[550000],\"yaxis\":\"y\",\"type\":\"bar\"},{\"alignmentgroup\":\"True\",\"hovertemplate\":\"PLAYER NAME=Pomersbach<br>COUNTRY=%{x}<br>SOLD PRICE=%{y}<extra></extra>\",\"legendgroup\":\"Pomersbach\",\"marker\":{\"color\":\"#636efa\",\"pattern\":{\"shape\":\"\"}},\"name\":\"Pomersbach\",\"offsetgroup\":\"Pomersbach\",\"orientation\":\"v\",\"showlegend\":true,\"textposition\":\"auto\",\"x\":[\"Australia\"],\"xaxis\":\"x\",\"y\":[50000],\"yaxis\":\"y\",\"type\":\"bar\"},{\"alignmentgroup\":\"True\",\"hovertemplate\":\"PLAYER NAME=Ponting<br>COUNTRY=%{x}<br>SOLD PRICE=%{y}<extra></extra>\",\"legendgroup\":\"Ponting\",\"marker\":{\"color\":\"#EF553B\",\"pattern\":{\"shape\":\"\"}},\"name\":\"Ponting\",\"offsetgroup\":\"Ponting\",\"orientation\":\"v\",\"showlegend\":true,\"textposition\":\"auto\",\"x\":[\"Australia\"],\"xaxis\":\"x\",\"y\":[400000],\"yaxis\":\"y\",\"type\":\"bar\"},{\"alignmentgroup\":\"True\",\"hovertemplate\":\"PLAYER NAME=Powar<br>COUNTRY=%{x}<br>SOLD PRICE=%{y}<extra></extra>\",\"legendgroup\":\"Powar\",\"marker\":{\"color\":\"#00cc96\",\"pattern\":{\"shape\":\"\"}},\"name\":\"Powar\",\"offsetgroup\":\"Powar\",\"orientation\":\"v\",\"showlegend\":true,\"textposition\":\"auto\",\"x\":[\"India\"],\"xaxis\":\"x\",\"y\":[170000],\"yaxis\":\"y\",\"type\":\"bar\"},{\"alignmentgroup\":\"True\",\"hovertemplate\":\"PLAYER NAME=Raina<br>COUNTRY=%{x}<br>SOLD PRICE=%{y}<extra></extra>\",\"legendgroup\":\"Raina\",\"marker\":{\"color\":\"#ab63fa\",\"pattern\":{\"shape\":\"\"}},\"name\":\"Raina\",\"offsetgroup\":\"Raina\",\"orientation\":\"v\",\"showlegend\":true,\"textposition\":\"auto\",\"x\":[\"India\"],\"xaxis\":\"x\",\"y\":[650000],\"yaxis\":\"y\",\"type\":\"bar\"},{\"alignmentgroup\":\"True\",\"hovertemplate\":\"PLAYER NAME=Ryder<br>COUNTRY=%{x}<br>SOLD PRICE=%{y}<extra></extra>\",\"legendgroup\":\"Ryder\",\"marker\":{\"color\":\"#FFA15A\",\"pattern\":{\"shape\":\"\"}},\"name\":\"Ryder\",\"offsetgroup\":\"Ryder\",\"orientation\":\"v\",\"showlegend\":true,\"textposition\":\"auto\",\"x\":[\"New Zealand\"],\"xaxis\":\"x\",\"y\":[160000],\"yaxis\":\"y\",\"type\":\"bar\"},{\"alignmentgroup\":\"True\",\"hovertemplate\":\"PLAYER NAME=Saha<br>COUNTRY=%{x}<br>SOLD PRICE=%{y}<extra></extra>\",\"legendgroup\":\"Saha\",\"marker\":{\"color\":\"#19d3f3\",\"pattern\":{\"shape\":\"\"}},\"name\":\"Saha\",\"offsetgroup\":\"Saha\",\"orientation\":\"v\",\"showlegend\":true,\"textposition\":\"auto\",\"x\":[\"India\"],\"xaxis\":\"x\",\"y\":[100000],\"yaxis\":\"y\",\"type\":\"bar\"},{\"alignmentgroup\":\"True\",\"hovertemplate\":\"PLAYER NAME=Sangakkara<br>COUNTRY=%{x}<br>SOLD PRICE=%{y}<extra></extra>\",\"legendgroup\":\"Sangakkara\",\"marker\":{\"color\":\"#FF6692\",\"pattern\":{\"shape\":\"\"}},\"name\":\"Sangakkara\",\"offsetgroup\":\"Sangakkara\",\"orientation\":\"v\",\"showlegend\":true,\"textposition\":\"auto\",\"x\":[\"Sri Lanka\"],\"xaxis\":\"x\",\"y\":[700000],\"yaxis\":\"y\",\"type\":\"bar\"},{\"alignmentgroup\":\"True\",\"hovertemplate\":\"PLAYER NAME=Sarwan<br>COUNTRY=%{x}<br>SOLD PRICE=%{y}<extra></extra>\",\"legendgroup\":\"Sarwan\",\"marker\":{\"color\":\"#B6E880\",\"pattern\":{\"shape\":\"\"}},\"name\":\"Sarwan\",\"offsetgroup\":\"Sarwan\",\"orientation\":\"v\",\"showlegend\":true,\"textposition\":\"auto\",\"x\":[\"West Indies\"],\"xaxis\":\"x\",\"y\":[225000],\"yaxis\":\"y\",\"type\":\"bar\"},{\"alignmentgroup\":\"True\",\"hovertemplate\":\"PLAYER NAME=Sehwag<br>COUNTRY=%{x}<br>SOLD PRICE=%{y}<extra></extra>\",\"legendgroup\":\"Sehwag\",\"marker\":{\"color\":\"#FF97FF\",\"pattern\":{\"shape\":\"\"}},\"name\":\"Sehwag\",\"offsetgroup\":\"Sehwag\",\"orientation\":\"v\",\"showlegend\":true,\"textposition\":\"auto\",\"x\":[\"India\"],\"xaxis\":\"x\",\"y\":[1800000],\"yaxis\":\"y\",\"type\":\"bar\"},{\"alignmentgroup\":\"True\",\"hovertemplate\":\"PLAYER NAME=Shahid Afridi<br>COUNTRY=%{x}<br>SOLD PRICE=%{y}<extra></extra>\",\"legendgroup\":\"Shahid Afridi\",\"marker\":{\"color\":\"#FECB52\",\"pattern\":{\"shape\":\"\"}},\"name\":\"Shahid Afridi\",\"offsetgroup\":\"Shahid Afridi\",\"orientation\":\"v\",\"showlegend\":true,\"textposition\":\"auto\",\"x\":[\"Pakistan\"],\"xaxis\":\"x\",\"y\":[675000],\"yaxis\":\"y\",\"type\":\"bar\"},{\"alignmentgroup\":\"True\",\"hovertemplate\":\"PLAYER NAME=Sharma<br>COUNTRY=%{x}<br>SOLD PRICE=%{y}<extra></extra>\",\"legendgroup\":\"Sharma\",\"marker\":{\"color\":\"#636efa\",\"pattern\":{\"shape\":\"\"}},\"name\":\"Sharma\",\"offsetgroup\":\"Sharma\",\"orientation\":\"v\",\"showlegend\":true,\"textposition\":\"auto\",\"x\":[\"India\",\"India\",\"India\"],\"xaxis\":\"x\",\"y\":[950000,225000,750000],\"yaxis\":\"y\",\"type\":\"bar\"},{\"alignmentgroup\":\"True\",\"hovertemplate\":\"PLAYER NAME=Shoaib Akhtar<br>COUNTRY=%{x}<br>SOLD PRICE=%{y}<extra></extra>\",\"legendgroup\":\"Shoaib Akhtar\",\"marker\":{\"color\":\"#EF553B\",\"pattern\":{\"shape\":\"\"}},\"name\":\"Shoaib Akhtar\",\"offsetgroup\":\"Shoaib Akhtar\",\"orientation\":\"v\",\"showlegend\":true,\"textposition\":\"auto\",\"x\":[\"Pakistan\"],\"xaxis\":\"x\",\"y\":[425000],\"yaxis\":\"y\",\"type\":\"bar\"},{\"alignmentgroup\":\"True\",\"hovertemplate\":\"PLAYER NAME=Shoaib Malik<br>COUNTRY=%{x}<br>SOLD PRICE=%{y}<extra></extra>\",\"legendgroup\":\"Shoaib Malik\",\"marker\":{\"color\":\"#00cc96\",\"pattern\":{\"shape\":\"\"}},\"name\":\"Shoaib Malik\",\"offsetgroup\":\"Shoaib Malik\",\"orientation\":\"v\",\"showlegend\":true,\"textposition\":\"auto\",\"x\":[\"Pakistan\"],\"xaxis\":\"x\",\"y\":[500000],\"yaxis\":\"y\",\"type\":\"bar\"},{\"alignmentgroup\":\"True\",\"hovertemplate\":\"PLAYER NAME=Silva<br>COUNTRY=%{x}<br>SOLD PRICE=%{y}<extra></extra>\",\"legendgroup\":\"Silva\",\"marker\":{\"color\":\"#ab63fa\",\"pattern\":{\"shape\":\"\"}},\"name\":\"Silva\",\"offsetgroup\":\"Silva\",\"orientation\":\"v\",\"showlegend\":true,\"textposition\":\"auto\",\"x\":[\"Sri Lanka\"],\"xaxis\":\"x\",\"y\":[100000],\"yaxis\":\"y\",\"type\":\"bar\"},{\"alignmentgroup\":\"True\",\"hovertemplate\":\"PLAYER NAME=Singh<br>COUNTRY=%{x}<br>SOLD PRICE=%{y}<extra></extra>\",\"legendgroup\":\"Singh\",\"marker\":{\"color\":\"#FFA15A\",\"pattern\":{\"shape\":\"\"}},\"name\":\"Singh\",\"offsetgroup\":\"Singh\",\"orientation\":\"v\",\"showlegend\":true,\"textposition\":\"auto\",\"x\":[\"India\"],\"xaxis\":\"x\",\"y\":[875000],\"yaxis\":\"y\",\"type\":\"bar\"},{\"alignmentgroup\":\"True\",\"hovertemplate\":\"PLAYER NAME=Smith<br>COUNTRY=%{x}<br>SOLD PRICE=%{y}<extra></extra>\",\"legendgroup\":\"Smith\",\"marker\":{\"color\":\"#19d3f3\",\"pattern\":{\"shape\":\"\"}},\"name\":\"Smith\",\"offsetgroup\":\"Smith\",\"orientation\":\"v\",\"showlegend\":true,\"textposition\":\"auto\",\"x\":[\"West Indies\",\"South Africa\"],\"xaxis\":\"x\",\"y\":[100000,250000],\"yaxis\":\"y\",\"type\":\"bar\"},{\"alignmentgroup\":\"True\",\"hovertemplate\":\"PLAYER NAME=Sohail Tanvir<br>COUNTRY=%{x}<br>SOLD PRICE=%{y}<extra></extra>\",\"legendgroup\":\"Sohail Tanvir\",\"marker\":{\"color\":\"#FF6692\",\"pattern\":{\"shape\":\"\"}},\"name\":\"Sohail Tanvir\",\"offsetgroup\":\"Sohail Tanvir\",\"orientation\":\"v\",\"showlegend\":true,\"textposition\":\"auto\",\"x\":[\"Pakistan\"],\"xaxis\":\"x\",\"y\":[100000],\"yaxis\":\"y\",\"type\":\"bar\"},{\"alignmentgroup\":\"True\",\"hovertemplate\":\"PLAYER NAME=Sreesanth<br>COUNTRY=%{x}<br>SOLD PRICE=%{y}<extra></extra>\",\"legendgroup\":\"Sreesanth\",\"marker\":{\"color\":\"#B6E880\",\"pattern\":{\"shape\":\"\"}},\"name\":\"Sreesanth\",\"offsetgroup\":\"Sreesanth\",\"orientation\":\"v\",\"showlegend\":true,\"textposition\":\"auto\",\"x\":[\"India\"],\"xaxis\":\"x\",\"y\":[625000],\"yaxis\":\"y\",\"type\":\"bar\"},{\"alignmentgroup\":\"True\",\"hovertemplate\":\"PLAYER NAME=Steyn<br>COUNTRY=%{x}<br>SOLD PRICE=%{y}<extra></extra>\",\"legendgroup\":\"Steyn\",\"marker\":{\"color\":\"#FF97FF\",\"pattern\":{\"shape\":\"\"}},\"name\":\"Steyn\",\"offsetgroup\":\"Steyn\",\"orientation\":\"v\",\"showlegend\":true,\"textposition\":\"auto\",\"x\":[\"South Africa\"],\"xaxis\":\"x\",\"y\":[325000],\"yaxis\":\"y\",\"type\":\"bar\"},{\"alignmentgroup\":\"True\",\"hovertemplate\":\"PLAYER NAME=Styris<br>COUNTRY=%{x}<br>SOLD PRICE=%{y}<extra></extra>\",\"legendgroup\":\"Styris\",\"marker\":{\"color\":\"#FECB52\",\"pattern\":{\"shape\":\"\"}},\"name\":\"Styris\",\"offsetgroup\":\"Styris\",\"orientation\":\"v\",\"showlegend\":true,\"textposition\":\"auto\",\"x\":[\"New Zealand\"],\"xaxis\":\"x\",\"y\":[175000],\"yaxis\":\"y\",\"type\":\"bar\"},{\"alignmentgroup\":\"True\",\"hovertemplate\":\"PLAYER NAME=Symonds<br>COUNTRY=%{x}<br>SOLD PRICE=%{y}<extra></extra>\",\"legendgroup\":\"Symonds\",\"marker\":{\"color\":\"#636efa\",\"pattern\":{\"shape\":\"\"}},\"name\":\"Symonds\",\"offsetgroup\":\"Symonds\",\"orientation\":\"v\",\"showlegend\":true,\"textposition\":\"auto\",\"x\":[\"Australia\"],\"xaxis\":\"x\",\"y\":[1350000],\"yaxis\":\"y\",\"type\":\"bar\"},{\"alignmentgroup\":\"True\",\"hovertemplate\":\"PLAYER NAME=Taibu<br>COUNTRY=%{x}<br>SOLD PRICE=%{y}<extra></extra>\",\"legendgroup\":\"Taibu\",\"marker\":{\"color\":\"#EF553B\",\"pattern\":{\"shape\":\"\"}},\"name\":\"Taibu\",\"offsetgroup\":\"Taibu\",\"orientation\":\"v\",\"showlegend\":true,\"textposition\":\"auto\",\"x\":[\"Zimbabwe\"],\"xaxis\":\"x\",\"y\":[125000],\"yaxis\":\"y\",\"type\":\"bar\"},{\"alignmentgroup\":\"True\",\"hovertemplate\":\"PLAYER NAME=Taylor<br>COUNTRY=%{x}<br>SOLD PRICE=%{y}<extra></extra>\",\"legendgroup\":\"Taylor\",\"marker\":{\"color\":\"#00cc96\",\"pattern\":{\"shape\":\"\"}},\"name\":\"Taylor\",\"offsetgroup\":\"Taylor\",\"orientation\":\"v\",\"showlegend\":true,\"textposition\":\"auto\",\"x\":[\"New Zealand\"],\"xaxis\":\"x\",\"y\":[1000000],\"yaxis\":\"y\",\"type\":\"bar\"},{\"alignmentgroup\":\"True\",\"hovertemplate\":\"PLAYER NAME=Tendulkar<br>COUNTRY=%{x}<br>SOLD PRICE=%{y}<extra></extra>\",\"legendgroup\":\"Tendulkar\",\"marker\":{\"color\":\"#ab63fa\",\"pattern\":{\"shape\":\"\"}},\"name\":\"Tendulkar\",\"offsetgroup\":\"Tendulkar\",\"orientation\":\"v\",\"showlegend\":true,\"textposition\":\"auto\",\"x\":[\"India\"],\"xaxis\":\"x\",\"y\":[1800000],\"yaxis\":\"y\",\"type\":\"bar\"},{\"alignmentgroup\":\"True\",\"hovertemplate\":\"PLAYER NAME=Tiwary<br>COUNTRY=%{x}<br>SOLD PRICE=%{y}<extra></extra>\",\"legendgroup\":\"Tiwary\",\"marker\":{\"color\":\"#FFA15A\",\"pattern\":{\"shape\":\"\"}},\"name\":\"Tiwary\",\"offsetgroup\":\"Tiwary\",\"orientation\":\"v\",\"showlegend\":true,\"textposition\":\"auto\",\"x\":[\"India\",\"India\"],\"xaxis\":\"x\",\"y\":[675000,1600000],\"yaxis\":\"y\",\"type\":\"bar\"},{\"alignmentgroup\":\"True\",\"hovertemplate\":\"PLAYER NAME=Tyagi<br>COUNTRY=%{x}<br>SOLD PRICE=%{y}<extra></extra>\",\"legendgroup\":\"Tyagi\",\"marker\":{\"color\":\"#19d3f3\",\"pattern\":{\"shape\":\"\"}},\"name\":\"Tyagi\",\"offsetgroup\":\"Tyagi\",\"orientation\":\"v\",\"showlegend\":true,\"textposition\":\"auto\",\"x\":[\"India\"],\"xaxis\":\"x\",\"y\":[240000],\"yaxis\":\"y\",\"type\":\"bar\"},{\"alignmentgroup\":\"True\",\"hovertemplate\":\"PLAYER NAME=Umar Gul<br>COUNTRY=%{x}<br>SOLD PRICE=%{y}<extra></extra>\",\"legendgroup\":\"Umar Gul\",\"marker\":{\"color\":\"#FF6692\",\"pattern\":{\"shape\":\"\"}},\"name\":\"Umar Gul\",\"offsetgroup\":\"Umar Gul\",\"orientation\":\"v\",\"showlegend\":true,\"textposition\":\"auto\",\"x\":[\"Pakistan\"],\"xaxis\":\"x\",\"y\":[150000],\"yaxis\":\"y\",\"type\":\"bar\"},{\"alignmentgroup\":\"True\",\"hovertemplate\":\"PLAYER NAME=Uthappa<br>COUNTRY=%{x}<br>SOLD PRICE=%{y}<extra></extra>\",\"legendgroup\":\"Uthappa\",\"marker\":{\"color\":\"#B6E880\",\"pattern\":{\"shape\":\"\"}},\"name\":\"Uthappa\",\"offsetgroup\":\"Uthappa\",\"orientation\":\"v\",\"showlegend\":true,\"textposition\":\"auto\",\"x\":[\"India\"],\"xaxis\":\"x\",\"y\":[800000],\"yaxis\":\"y\",\"type\":\"bar\"},{\"alignmentgroup\":\"True\",\"hovertemplate\":\"PLAYER NAME=Vaas<br>COUNTRY=%{x}<br>SOLD PRICE=%{y}<extra></extra>\",\"legendgroup\":\"Vaas\",\"marker\":{\"color\":\"#FF97FF\",\"pattern\":{\"shape\":\"\"}},\"name\":\"Vaas\",\"offsetgroup\":\"Vaas\",\"orientation\":\"v\",\"showlegend\":true,\"textposition\":\"auto\",\"x\":[\"Sri Lanka\"],\"xaxis\":\"x\",\"y\":[200000],\"yaxis\":\"y\",\"type\":\"bar\"},{\"alignmentgroup\":\"True\",\"hovertemplate\":\"PLAYER NAME=Van der Merwe<br>COUNTRY=%{x}<br>SOLD PRICE=%{y}<extra></extra>\",\"legendgroup\":\"Van der Merwe\",\"marker\":{\"color\":\"#FECB52\",\"pattern\":{\"shape\":\"\"}},\"name\":\"Van der Merwe\",\"offsetgroup\":\"Van der Merwe\",\"orientation\":\"v\",\"showlegend\":true,\"textposition\":\"auto\",\"x\":[\"South Africa\"],\"xaxis\":\"x\",\"y\":[50000],\"yaxis\":\"y\",\"type\":\"bar\"},{\"alignmentgroup\":\"True\",\"hovertemplate\":\"PLAYER NAME=Venugopal Rao<br>COUNTRY=%{x}<br>SOLD PRICE=%{y}<extra></extra>\",\"legendgroup\":\"Venugopal Rao\",\"marker\":{\"color\":\"#636efa\",\"pattern\":{\"shape\":\"\"}},\"name\":\"Venugopal Rao\",\"offsetgroup\":\"Venugopal Rao\",\"orientation\":\"v\",\"showlegend\":true,\"textposition\":\"auto\",\"x\":[\"India\"],\"xaxis\":\"x\",\"y\":[700000],\"yaxis\":\"y\",\"type\":\"bar\"},{\"alignmentgroup\":\"True\",\"hovertemplate\":\"PLAYER NAME=Vettori<br>COUNTRY=%{x}<br>SOLD PRICE=%{y}<extra></extra>\",\"legendgroup\":\"Vettori\",\"marker\":{\"color\":\"#EF553B\",\"pattern\":{\"shape\":\"\"}},\"name\":\"Vettori\",\"offsetgroup\":\"Vettori\",\"orientation\":\"v\",\"showlegend\":true,\"textposition\":\"auto\",\"x\":[\"New Zealand\"],\"xaxis\":\"x\",\"y\":[625000],\"yaxis\":\"y\",\"type\":\"bar\"},{\"alignmentgroup\":\"True\",\"hovertemplate\":\"PLAYER NAME=Vinay Kumar<br>COUNTRY=%{x}<br>SOLD PRICE=%{y}<extra></extra>\",\"legendgroup\":\"Vinay Kumar\",\"marker\":{\"color\":\"#00cc96\",\"pattern\":{\"shape\":\"\"}},\"name\":\"Vinay Kumar\",\"offsetgroup\":\"Vinay Kumar\",\"orientation\":\"v\",\"showlegend\":true,\"textposition\":\"auto\",\"x\":[\"India\"],\"xaxis\":\"x\",\"y\":[475000],\"yaxis\":\"y\",\"type\":\"bar\"},{\"alignmentgroup\":\"True\",\"hovertemplate\":\"PLAYER NAME=Warne<br>COUNTRY=%{x}<br>SOLD PRICE=%{y}<extra></extra>\",\"legendgroup\":\"Warne\",\"marker\":{\"color\":\"#ab63fa\",\"pattern\":{\"shape\":\"\"}},\"name\":\"Warne\",\"offsetgroup\":\"Warne\",\"orientation\":\"v\",\"showlegend\":true,\"textposition\":\"auto\",\"x\":[\"Australia\"],\"xaxis\":\"x\",\"y\":[450000],\"yaxis\":\"y\",\"type\":\"bar\"},{\"alignmentgroup\":\"True\",\"hovertemplate\":\"PLAYER NAME=Warner<br>COUNTRY=%{x}<br>SOLD PRICE=%{y}<extra></extra>\",\"legendgroup\":\"Warner\",\"marker\":{\"color\":\"#FFA15A\",\"pattern\":{\"shape\":\"\"}},\"name\":\"Warner\",\"offsetgroup\":\"Warner\",\"orientation\":\"v\",\"showlegend\":true,\"textposition\":\"auto\",\"x\":[\"Australia\"],\"xaxis\":\"x\",\"y\":[750000],\"yaxis\":\"y\",\"type\":\"bar\"},{\"alignmentgroup\":\"True\",\"hovertemplate\":\"PLAYER NAME=White<br>COUNTRY=%{x}<br>SOLD PRICE=%{y}<extra></extra>\",\"legendgroup\":\"White\",\"marker\":{\"color\":\"#19d3f3\",\"pattern\":{\"shape\":\"\"}},\"name\":\"White\",\"offsetgroup\":\"White\",\"orientation\":\"v\",\"showlegend\":true,\"textposition\":\"auto\",\"x\":[\"Australia\"],\"xaxis\":\"x\",\"y\":[500000],\"yaxis\":\"y\",\"type\":\"bar\"},{\"alignmentgroup\":\"True\",\"hovertemplate\":\"PLAYER NAME=Yadav<br>COUNTRY=%{x}<br>SOLD PRICE=%{y}<extra></extra>\",\"legendgroup\":\"Yadav\",\"marker\":{\"color\":\"#FF6692\",\"pattern\":{\"shape\":\"\"}},\"name\":\"Yadav\",\"offsetgroup\":\"Yadav\",\"orientation\":\"v\",\"showlegend\":true,\"textposition\":\"auto\",\"x\":[\"India\"],\"xaxis\":\"x\",\"y\":[750000],\"yaxis\":\"y\",\"type\":\"bar\"},{\"alignmentgroup\":\"True\",\"hovertemplate\":\"PLAYER NAME=Younis Khan<br>COUNTRY=%{x}<br>SOLD PRICE=%{y}<extra></extra>\",\"legendgroup\":\"Younis Khan\",\"marker\":{\"color\":\"#B6E880\",\"pattern\":{\"shape\":\"\"}},\"name\":\"Younis Khan\",\"offsetgroup\":\"Younis Khan\",\"orientation\":\"v\",\"showlegend\":true,\"textposition\":\"auto\",\"x\":[\"Pakistan\"],\"xaxis\":\"x\",\"y\":[225000],\"yaxis\":\"y\",\"type\":\"bar\"},{\"alignmentgroup\":\"True\",\"hovertemplate\":\"PLAYER NAME=Yuvraj Singh<br>COUNTRY=%{x}<br>SOLD PRICE=%{y}<extra></extra>\",\"legendgroup\":\"Yuvraj Singh\",\"marker\":{\"color\":\"#FF97FF\",\"pattern\":{\"shape\":\"\"}},\"name\":\"Yuvraj Singh\",\"offsetgroup\":\"Yuvraj Singh\",\"orientation\":\"v\",\"showlegend\":true,\"textposition\":\"auto\",\"x\":[\"India\"],\"xaxis\":\"x\",\"y\":[1800000],\"yaxis\":\"y\",\"type\":\"bar\"},{\"alignmentgroup\":\"True\",\"hovertemplate\":\"PLAYER NAME=Zaheer Khan<br>COUNTRY=%{x}<br>SOLD PRICE=%{y}<extra></extra>\",\"legendgroup\":\"Zaheer Khan\",\"marker\":{\"color\":\"#FECB52\",\"pattern\":{\"shape\":\"\"}},\"name\":\"Zaheer Khan\",\"offsetgroup\":\"Zaheer Khan\",\"orientation\":\"v\",\"showlegend\":true,\"textposition\":\"auto\",\"x\":[\"India\"],\"xaxis\":\"x\",\"y\":[450000],\"yaxis\":\"y\",\"type\":\"bar\"},{\"alignmentgroup\":\"True\",\"hovertemplate\":\"PLAYER NAME=Zoysa<br>COUNTRY=%{x}<br>SOLD PRICE=%{y}<extra></extra>\",\"legendgroup\":\"Zoysa\",\"marker\":{\"color\":\"#636efa\",\"pattern\":{\"shape\":\"\"}},\"name\":\"Zoysa\",\"offsetgroup\":\"Zoysa\",\"orientation\":\"v\",\"showlegend\":true,\"textposition\":\"auto\",\"x\":[\"Sri Lanka\"],\"xaxis\":\"x\",\"y\":[110000],\"yaxis\":\"y\",\"type\":\"bar\"}],                        {\"template\":{\"data\":{\"bar\":[{\"error_x\":{\"color\":\"#2a3f5f\"},\"error_y\":{\"color\":\"#2a3f5f\"},\"marker\":{\"line\":{\"color\":\"#E5ECF6\",\"width\":0.5},\"pattern\":{\"fillmode\":\"overlay\",\"size\":10,\"solidity\":0.2}},\"type\":\"bar\"}],\"barpolar\":[{\"marker\":{\"line\":{\"color\":\"#E5ECF6\",\"width\":0.5},\"pattern\":{\"fillmode\":\"overlay\",\"size\":10,\"solidity\":0.2}},\"type\":\"barpolar\"}],\"carpet\":[{\"aaxis\":{\"endlinecolor\":\"#2a3f5f\",\"gridcolor\":\"white\",\"linecolor\":\"white\",\"minorgridcolor\":\"white\",\"startlinecolor\":\"#2a3f5f\"},\"baxis\":{\"endlinecolor\":\"#2a3f5f\",\"gridcolor\":\"white\",\"linecolor\":\"white\",\"minorgridcolor\":\"white\",\"startlinecolor\":\"#2a3f5f\"},\"type\":\"carpet\"}],\"choropleth\":[{\"colorbar\":{\"outlinewidth\":0,\"ticks\":\"\"},\"type\":\"choropleth\"}],\"contour\":[{\"colorbar\":{\"outlinewidth\":0,\"ticks\":\"\"},\"colorscale\":[[0.0,\"#0d0887\"],[0.1111111111111111,\"#46039f\"],[0.2222222222222222,\"#7201a8\"],[0.3333333333333333,\"#9c179e\"],[0.4444444444444444,\"#bd3786\"],[0.5555555555555556,\"#d8576b\"],[0.6666666666666666,\"#ed7953\"],[0.7777777777777778,\"#fb9f3a\"],[0.8888888888888888,\"#fdca26\"],[1.0,\"#f0f921\"]],\"type\":\"contour\"}],\"contourcarpet\":[{\"colorbar\":{\"outlinewidth\":0,\"ticks\":\"\"},\"type\":\"contourcarpet\"}],\"heatmap\":[{\"colorbar\":{\"outlinewidth\":0,\"ticks\":\"\"},\"colorscale\":[[0.0,\"#0d0887\"],[0.1111111111111111,\"#46039f\"],[0.2222222222222222,\"#7201a8\"],[0.3333333333333333,\"#9c179e\"],[0.4444444444444444,\"#bd3786\"],[0.5555555555555556,\"#d8576b\"],[0.6666666666666666,\"#ed7953\"],[0.7777777777777778,\"#fb9f3a\"],[0.8888888888888888,\"#fdca26\"],[1.0,\"#f0f921\"]],\"type\":\"heatmap\"}],\"heatmapgl\":[{\"colorbar\":{\"outlinewidth\":0,\"ticks\":\"\"},\"colorscale\":[[0.0,\"#0d0887\"],[0.1111111111111111,\"#46039f\"],[0.2222222222222222,\"#7201a8\"],[0.3333333333333333,\"#9c179e\"],[0.4444444444444444,\"#bd3786\"],[0.5555555555555556,\"#d8576b\"],[0.6666666666666666,\"#ed7953\"],[0.7777777777777778,\"#fb9f3a\"],[0.8888888888888888,\"#fdca26\"],[1.0,\"#f0f921\"]],\"type\":\"heatmapgl\"}],\"histogram\":[{\"marker\":{\"pattern\":{\"fillmode\":\"overlay\",\"size\":10,\"solidity\":0.2}},\"type\":\"histogram\"}],\"histogram2d\":[{\"colorbar\":{\"outlinewidth\":0,\"ticks\":\"\"},\"colorscale\":[[0.0,\"#0d0887\"],[0.1111111111111111,\"#46039f\"],[0.2222222222222222,\"#7201a8\"],[0.3333333333333333,\"#9c179e\"],[0.4444444444444444,\"#bd3786\"],[0.5555555555555556,\"#d8576b\"],[0.6666666666666666,\"#ed7953\"],[0.7777777777777778,\"#fb9f3a\"],[0.8888888888888888,\"#fdca26\"],[1.0,\"#f0f921\"]],\"type\":\"histogram2d\"}],\"histogram2dcontour\":[{\"colorbar\":{\"outlinewidth\":0,\"ticks\":\"\"},\"colorscale\":[[0.0,\"#0d0887\"],[0.1111111111111111,\"#46039f\"],[0.2222222222222222,\"#7201a8\"],[0.3333333333333333,\"#9c179e\"],[0.4444444444444444,\"#bd3786\"],[0.5555555555555556,\"#d8576b\"],[0.6666666666666666,\"#ed7953\"],[0.7777777777777778,\"#fb9f3a\"],[0.8888888888888888,\"#fdca26\"],[1.0,\"#f0f921\"]],\"type\":\"histogram2dcontour\"}],\"mesh3d\":[{\"colorbar\":{\"outlinewidth\":0,\"ticks\":\"\"},\"type\":\"mesh3d\"}],\"parcoords\":[{\"line\":{\"colorbar\":{\"outlinewidth\":0,\"ticks\":\"\"}},\"type\":\"parcoords\"}],\"pie\":[{\"automargin\":true,\"type\":\"pie\"}],\"scatter\":[{\"marker\":{\"colorbar\":{\"outlinewidth\":0,\"ticks\":\"\"}},\"type\":\"scatter\"}],\"scatter3d\":[{\"line\":{\"colorbar\":{\"outlinewidth\":0,\"ticks\":\"\"}},\"marker\":{\"colorbar\":{\"outlinewidth\":0,\"ticks\":\"\"}},\"type\":\"scatter3d\"}],\"scattercarpet\":[{\"marker\":{\"colorbar\":{\"outlinewidth\":0,\"ticks\":\"\"}},\"type\":\"scattercarpet\"}],\"scattergeo\":[{\"marker\":{\"colorbar\":{\"outlinewidth\":0,\"ticks\":\"\"}},\"type\":\"scattergeo\"}],\"scattergl\":[{\"marker\":{\"colorbar\":{\"outlinewidth\":0,\"ticks\":\"\"}},\"type\":\"scattergl\"}],\"scattermapbox\":[{\"marker\":{\"colorbar\":{\"outlinewidth\":0,\"ticks\":\"\"}},\"type\":\"scattermapbox\"}],\"scatterpolar\":[{\"marker\":{\"colorbar\":{\"outlinewidth\":0,\"ticks\":\"\"}},\"type\":\"scatterpolar\"}],\"scatterpolargl\":[{\"marker\":{\"colorbar\":{\"outlinewidth\":0,\"ticks\":\"\"}},\"type\":\"scatterpolargl\"}],\"scatterternary\":[{\"marker\":{\"colorbar\":{\"outlinewidth\":0,\"ticks\":\"\"}},\"type\":\"scatterternary\"}],\"surface\":[{\"colorbar\":{\"outlinewidth\":0,\"ticks\":\"\"},\"colorscale\":[[0.0,\"#0d0887\"],[0.1111111111111111,\"#46039f\"],[0.2222222222222222,\"#7201a8\"],[0.3333333333333333,\"#9c179e\"],[0.4444444444444444,\"#bd3786\"],[0.5555555555555556,\"#d8576b\"],[0.6666666666666666,\"#ed7953\"],[0.7777777777777778,\"#fb9f3a\"],[0.8888888888888888,\"#fdca26\"],[1.0,\"#f0f921\"]],\"type\":\"surface\"}],\"table\":[{\"cells\":{\"fill\":{\"color\":\"#EBF0F8\"},\"line\":{\"color\":\"white\"}},\"header\":{\"fill\":{\"color\":\"#C8D4E3\"},\"line\":{\"color\":\"white\"}},\"type\":\"table\"}]},\"layout\":{\"annotationdefaults\":{\"arrowcolor\":\"#2a3f5f\",\"arrowhead\":0,\"arrowwidth\":1},\"autotypenumbers\":\"strict\",\"coloraxis\":{\"colorbar\":{\"outlinewidth\":0,\"ticks\":\"\"}},\"colorscale\":{\"diverging\":[[0,\"#8e0152\"],[0.1,\"#c51b7d\"],[0.2,\"#de77ae\"],[0.3,\"#f1b6da\"],[0.4,\"#fde0ef\"],[0.5,\"#f7f7f7\"],[0.6,\"#e6f5d0\"],[0.7,\"#b8e186\"],[0.8,\"#7fbc41\"],[0.9,\"#4d9221\"],[1,\"#276419\"]],\"sequential\":[[0.0,\"#0d0887\"],[0.1111111111111111,\"#46039f\"],[0.2222222222222222,\"#7201a8\"],[0.3333333333333333,\"#9c179e\"],[0.4444444444444444,\"#bd3786\"],[0.5555555555555556,\"#d8576b\"],[0.6666666666666666,\"#ed7953\"],[0.7777777777777778,\"#fb9f3a\"],[0.8888888888888888,\"#fdca26\"],[1.0,\"#f0f921\"]],\"sequentialminus\":[[0.0,\"#0d0887\"],[0.1111111111111111,\"#46039f\"],[0.2222222222222222,\"#7201a8\"],[0.3333333333333333,\"#9c179e\"],[0.4444444444444444,\"#bd3786\"],[0.5555555555555556,\"#d8576b\"],[0.6666666666666666,\"#ed7953\"],[0.7777777777777778,\"#fb9f3a\"],[0.8888888888888888,\"#fdca26\"],[1.0,\"#f0f921\"]]},\"colorway\":[\"#636efa\",\"#EF553B\",\"#00cc96\",\"#ab63fa\",\"#FFA15A\",\"#19d3f3\",\"#FF6692\",\"#B6E880\",\"#FF97FF\",\"#FECB52\"],\"font\":{\"color\":\"#2a3f5f\"},\"geo\":{\"bgcolor\":\"white\",\"lakecolor\":\"white\",\"landcolor\":\"#E5ECF6\",\"showlakes\":true,\"showland\":true,\"subunitcolor\":\"white\"},\"hoverlabel\":{\"align\":\"left\"},\"hovermode\":\"closest\",\"mapbox\":{\"style\":\"light\"},\"paper_bgcolor\":\"white\",\"plot_bgcolor\":\"#E5ECF6\",\"polar\":{\"angularaxis\":{\"gridcolor\":\"white\",\"linecolor\":\"white\",\"ticks\":\"\"},\"bgcolor\":\"#E5ECF6\",\"radialaxis\":{\"gridcolor\":\"white\",\"linecolor\":\"white\",\"ticks\":\"\"}},\"scene\":{\"xaxis\":{\"backgroundcolor\":\"#E5ECF6\",\"gridcolor\":\"white\",\"gridwidth\":2,\"linecolor\":\"white\",\"showbackground\":true,\"ticks\":\"\",\"zerolinecolor\":\"white\"},\"yaxis\":{\"backgroundcolor\":\"#E5ECF6\",\"gridcolor\":\"white\",\"gridwidth\":2,\"linecolor\":\"white\",\"showbackground\":true,\"ticks\":\"\",\"zerolinecolor\":\"white\"},\"zaxis\":{\"backgroundcolor\":\"#E5ECF6\",\"gridcolor\":\"white\",\"gridwidth\":2,\"linecolor\":\"white\",\"showbackground\":true,\"ticks\":\"\",\"zerolinecolor\":\"white\"}},\"shapedefaults\":{\"line\":{\"color\":\"#2a3f5f\"}},\"ternary\":{\"aaxis\":{\"gridcolor\":\"white\",\"linecolor\":\"white\",\"ticks\":\"\"},\"baxis\":{\"gridcolor\":\"white\",\"linecolor\":\"white\",\"ticks\":\"\"},\"bgcolor\":\"#E5ECF6\",\"caxis\":{\"gridcolor\":\"white\",\"linecolor\":\"white\",\"ticks\":\"\"}},\"title\":{\"x\":0.05},\"xaxis\":{\"automargin\":true,\"gridcolor\":\"white\",\"linecolor\":\"white\",\"ticks\":\"\",\"title\":{\"standoff\":15},\"zerolinecolor\":\"white\",\"zerolinewidth\":2},\"yaxis\":{\"automargin\":true,\"gridcolor\":\"white\",\"linecolor\":\"white\",\"ticks\":\"\",\"title\":{\"standoff\":15},\"zerolinecolor\":\"white\",\"zerolinewidth\":2}}},\"xaxis\":{\"anchor\":\"y\",\"domain\":[0.0,1.0],\"title\":{\"text\":\"COUNTRY\"}},\"yaxis\":{\"anchor\":\"x\",\"domain\":[0.0,1.0],\"title\":{\"text\":\"SOLD PRICE\"}},\"legend\":{\"title\":{\"text\":\"PLAYER NAME\"},\"tracegroupgap\":0},\"margin\":{\"t\":60},\"barmode\":\"relative\"},                        {\"responsive\": true}                    ).then(function(){\n",
       "                            \n",
       "var gd = document.getElementById('ca1b8055-ed63-4d30-934d-3ef8f1f919b0');\n",
       "var x = new MutationObserver(function (mutations, observer) {{\n",
       "        var display = window.getComputedStyle(gd).display;\n",
       "        if (!display || display === 'none') {{\n",
       "            console.log([gd, 'removed!']);\n",
       "            Plotly.purge(gd);\n",
       "            observer.disconnect();\n",
       "        }}\n",
       "}});\n",
       "\n",
       "// Listen for the removal of the full notebook cells\n",
       "var notebookContainer = gd.closest('#notebook-container');\n",
       "if (notebookContainer) {{\n",
       "    x.observe(notebookContainer, {childList: true});\n",
       "}}\n",
       "\n",
       "// Listen for the clearing of the current output cell\n",
       "var outputEl = gd.closest('.output');\n",
       "if (outputEl) {{\n",
       "    x.observe(outputEl, {childList: true});\n",
       "}}\n",
       "\n",
       "                        })                };                });            </script>        </div>"
      ]
     },
     "metadata": {},
     "output_type": "display_data"
    }
   ],
   "source": [
    "px.bar(df_cric,x='COUNTRY',y='SOLD PRICE',color='PLAYER NAME')"
   ]
  },
  {
   "cell_type": "code",
   "execution_count": 228,
   "id": "63998d48",
   "metadata": {},
   "outputs": [
    {
     "data": {
      "application/vnd.plotly.v1+json": {
       "config": {
        "plotlyServerURL": "https://plot.ly"
       },
       "data": [
        {
         "alignmentgroup": "True",
         "hovertemplate": "PLAYING ROLE=Allrounder<br>PLAYER NAME=%{x}<br>SOLD PRICE=%{y}<extra></extra>",
         "legendgroup": "Allrounder",
         "marker": {
          "color": "#636efa",
          "pattern": {
           "shape": ""
          }
         },
         "name": "Allrounder",
         "offsetgroup": "Allrounder",
         "orientation": "v",
         "showlegend": true,
         "textposition": "auto",
         "type": "bar",
         "x": [
          "Abdulla",
          "Botha",
          "Bravo",
          "Chawla",
          "Dilshan",
          "Flintoff",
          "Gayle",
          "Henderson",
          "Henriques",
          "Hopes",
          "Hussey",
          "Jadeja",
          "Jaffer",
          "Jayasuriya",
          "Kallis",
          "Maharoof",
          "Mascarenhas",
          "Mathews",
          "McDonald",
          "Morkel",
          "Nayar",
          "Noffke",
          "Oram",
          "Pathan",
          "Pathan",
          "Pollock",
          "Ryder",
          "Shahid Afridi",
          "Sharma",
          "Shoaib Malik",
          "Smith",
          "Styris",
          "Symonds",
          "Van der Merwe",
          "Vettori"
         ],
         "xaxis": "x",
         "y": [
          50000,
          950000,
          200000,
          400000,
          250000,
          1550000,
          800000,
          650000,
          50000,
          350000,
          625000,
          950000,
          150000,
          975000,
          900000,
          225000,
          100000,
          950000,
          80000,
          675000,
          800000,
          20000,
          675000,
          925000,
          475000,
          550000,
          160000,
          675000,
          225000,
          500000,
          100000,
          175000,
          1350000,
          50000,
          625000
         ],
         "yaxis": "y"
        },
        {
         "alignmentgroup": "True",
         "hovertemplate": "PLAYING ROLE=Bowler<br>PLAYER NAME=%{x}<br>SOLD PRICE=%{y}<extra></extra>",
         "legendgroup": "Bowler",
         "marker": {
          "color": "#EF553B",
          "pattern": {
           "shape": ""
          }
         },
         "name": "Bowler",
         "offsetgroup": "Bowler",
         "orientation": "v",
         "showlegend": true,
         "textposition": "auto",
         "type": "bar",
         "x": [
          "Abdur Razzak",
          "Agarkar",
          "Ashwin",
          "Balaji",
          "Bollinger",
          "Dinda",
          "Edwards",
          "Fernando",
          "Gony",
          "Harbhajan Singh",
          "Harris",
          "Kamran Khan",
          "Kartik",
          "Kumar",
          "Kumble",
          "Langeveldt",
          "Lee",
          "Malinga",
          "McGrath",
          "Mishra",
          "Mithun",
          "Mohammad Asif",
          "Morkel",
          "Muralitharan",
          "Nannes",
          "Nehra",
          "Ntini",
          "Ojha",
          "Pankaj Singh",
          "Patel",
          "Powar",
          "Sharma",
          "Shoaib Akhtar",
          "Singh",
          "Sohail Tanvir",
          "Sreesanth",
          "Steyn",
          "Tyagi",
          "Umar Gul",
          "Vaas",
          "Vinay Kumar",
          "Warne",
          "Zaheer Khan",
          "Zoysa"
         ],
         "xaxis": "x",
         "y": [
          50000,
          350000,
          850000,
          500000,
          700000,
          375000,
          150000,
          150000,
          290000,
          850000,
          325000,
          24000,
          425000,
          800000,
          500000,
          140000,
          900000,
          350000,
          350000,
          300000,
          260000,
          650000,
          475000,
          600000,
          650000,
          850000,
          200000,
          500000,
          95000,
          275000,
          170000,
          950000,
          425000,
          875000,
          100000,
          625000,
          325000,
          240000,
          150000,
          200000,
          475000,
          450000,
          450000,
          110000
         ],
         "yaxis": "y"
        },
        {
         "alignmentgroup": "True",
         "hovertemplate": "PLAYING ROLE=Batsman<br>PLAYER NAME=%{x}<br>SOLD PRICE=%{y}<extra></extra>",
         "legendgroup": "Batsman",
         "marker": {
          "color": "#00cc96",
          "pattern": {
           "shape": ""
          }
         },
         "name": "Batsman",
         "offsetgroup": "Batsman",
         "orientation": "v",
         "showlegend": true,
         "textposition": "auto",
         "type": "bar",
         "x": [
          "Badrinath",
          "Bailey",
          "Chanderpaul",
          "Dhawan",
          "Dravid",
          "Duminy",
          "Fleming",
          "Gambhir",
          "Ganguly",
          "Gibbs",
          "Hayden",
          "Hodge",
          "Hussey",
          "Jayawardena",
          "Kaif",
          "Katich",
          "Kohli",
          "Laxman",
          "Misbah-ul-Haq",
          "Pietersen",
          "Pomersbach",
          "Ponting",
          "Raina",
          "Sarwan",
          "Sehwag",
          "Sharma",
          "Silva",
          "Smith",
          "Taylor",
          "Tendulkar",
          "Tiwary",
          "Tiwary",
          "Uthappa",
          "Venugopal Rao",
          "Warner",
          "White",
          "Yadav",
          "Younis Khan",
          "Yuvraj Singh"
         ],
         "xaxis": "x",
         "y": [
          800000,
          50000,
          200000,
          300000,
          500000,
          300000,
          350000,
          725000,
          400000,
          575000,
          375000,
          425000,
          250000,
          475000,
          675000,
          200000,
          1800000,
          375000,
          100000,
          1550000,
          50000,
          400000,
          650000,
          225000,
          1800000,
          750000,
          100000,
          250000,
          1000000,
          1800000,
          675000,
          1600000,
          800000,
          700000,
          750000,
          500000,
          750000,
          225000,
          1800000
         ],
         "yaxis": "y"
        },
        {
         "alignmentgroup": "True",
         "hovertemplate": "PLAYING ROLE=W. Keeper<br>PLAYER NAME=%{x}<br>SOLD PRICE=%{y}<extra></extra>",
         "legendgroup": "W. Keeper",
         "marker": {
          "color": "#ab63fa",
          "pattern": {
           "shape": ""
          }
         },
         "name": "W. Keeper",
         "offsetgroup": "W. Keeper",
         "orientation": "v",
         "showlegend": true,
         "textposition": "auto",
         "type": "bar",
         "x": [
          "Boucher",
          "de Villiers",
          "Dhoni",
          "Gilchrist",
          "Kamran Akmal",
          "Karthik",
          "McCullum",
          "Ojha",
          "Patel",
          "Saha",
          "Sangakkara",
          "Taibu"
         ],
         "xaxis": "x",
         "y": [
          450000,
          300000,
          1500000,
          700000,
          150000,
          525000,
          700000,
          270000,
          325000,
          100000,
          700000,
          125000
         ],
         "yaxis": "y"
        }
       ],
       "layout": {
        "barmode": "relative",
        "legend": {
         "title": {
          "text": "PLAYING ROLE"
         },
         "tracegroupgap": 0
        },
        "margin": {
         "t": 60
        },
        "template": {
         "data": {
          "bar": [
           {
            "error_x": {
             "color": "#2a3f5f"
            },
            "error_y": {
             "color": "#2a3f5f"
            },
            "marker": {
             "line": {
              "color": "#E5ECF6",
              "width": 0.5
             },
             "pattern": {
              "fillmode": "overlay",
              "size": 10,
              "solidity": 0.2
             }
            },
            "type": "bar"
           }
          ],
          "barpolar": [
           {
            "marker": {
             "line": {
              "color": "#E5ECF6",
              "width": 0.5
             },
             "pattern": {
              "fillmode": "overlay",
              "size": 10,
              "solidity": 0.2
             }
            },
            "type": "barpolar"
           }
          ],
          "carpet": [
           {
            "aaxis": {
             "endlinecolor": "#2a3f5f",
             "gridcolor": "white",
             "linecolor": "white",
             "minorgridcolor": "white",
             "startlinecolor": "#2a3f5f"
            },
            "baxis": {
             "endlinecolor": "#2a3f5f",
             "gridcolor": "white",
             "linecolor": "white",
             "minorgridcolor": "white",
             "startlinecolor": "#2a3f5f"
            },
            "type": "carpet"
           }
          ],
          "choropleth": [
           {
            "colorbar": {
             "outlinewidth": 0,
             "ticks": ""
            },
            "type": "choropleth"
           }
          ],
          "contour": [
           {
            "colorbar": {
             "outlinewidth": 0,
             "ticks": ""
            },
            "colorscale": [
             [
              0,
              "#0d0887"
             ],
             [
              0.1111111111111111,
              "#46039f"
             ],
             [
              0.2222222222222222,
              "#7201a8"
             ],
             [
              0.3333333333333333,
              "#9c179e"
             ],
             [
              0.4444444444444444,
              "#bd3786"
             ],
             [
              0.5555555555555556,
              "#d8576b"
             ],
             [
              0.6666666666666666,
              "#ed7953"
             ],
             [
              0.7777777777777778,
              "#fb9f3a"
             ],
             [
              0.8888888888888888,
              "#fdca26"
             ],
             [
              1,
              "#f0f921"
             ]
            ],
            "type": "contour"
           }
          ],
          "contourcarpet": [
           {
            "colorbar": {
             "outlinewidth": 0,
             "ticks": ""
            },
            "type": "contourcarpet"
           }
          ],
          "heatmap": [
           {
            "colorbar": {
             "outlinewidth": 0,
             "ticks": ""
            },
            "colorscale": [
             [
              0,
              "#0d0887"
             ],
             [
              0.1111111111111111,
              "#46039f"
             ],
             [
              0.2222222222222222,
              "#7201a8"
             ],
             [
              0.3333333333333333,
              "#9c179e"
             ],
             [
              0.4444444444444444,
              "#bd3786"
             ],
             [
              0.5555555555555556,
              "#d8576b"
             ],
             [
              0.6666666666666666,
              "#ed7953"
             ],
             [
              0.7777777777777778,
              "#fb9f3a"
             ],
             [
              0.8888888888888888,
              "#fdca26"
             ],
             [
              1,
              "#f0f921"
             ]
            ],
            "type": "heatmap"
           }
          ],
          "heatmapgl": [
           {
            "colorbar": {
             "outlinewidth": 0,
             "ticks": ""
            },
            "colorscale": [
             [
              0,
              "#0d0887"
             ],
             [
              0.1111111111111111,
              "#46039f"
             ],
             [
              0.2222222222222222,
              "#7201a8"
             ],
             [
              0.3333333333333333,
              "#9c179e"
             ],
             [
              0.4444444444444444,
              "#bd3786"
             ],
             [
              0.5555555555555556,
              "#d8576b"
             ],
             [
              0.6666666666666666,
              "#ed7953"
             ],
             [
              0.7777777777777778,
              "#fb9f3a"
             ],
             [
              0.8888888888888888,
              "#fdca26"
             ],
             [
              1,
              "#f0f921"
             ]
            ],
            "type": "heatmapgl"
           }
          ],
          "histogram": [
           {
            "marker": {
             "pattern": {
              "fillmode": "overlay",
              "size": 10,
              "solidity": 0.2
             }
            },
            "type": "histogram"
           }
          ],
          "histogram2d": [
           {
            "colorbar": {
             "outlinewidth": 0,
             "ticks": ""
            },
            "colorscale": [
             [
              0,
              "#0d0887"
             ],
             [
              0.1111111111111111,
              "#46039f"
             ],
             [
              0.2222222222222222,
              "#7201a8"
             ],
             [
              0.3333333333333333,
              "#9c179e"
             ],
             [
              0.4444444444444444,
              "#bd3786"
             ],
             [
              0.5555555555555556,
              "#d8576b"
             ],
             [
              0.6666666666666666,
              "#ed7953"
             ],
             [
              0.7777777777777778,
              "#fb9f3a"
             ],
             [
              0.8888888888888888,
              "#fdca26"
             ],
             [
              1,
              "#f0f921"
             ]
            ],
            "type": "histogram2d"
           }
          ],
          "histogram2dcontour": [
           {
            "colorbar": {
             "outlinewidth": 0,
             "ticks": ""
            },
            "colorscale": [
             [
              0,
              "#0d0887"
             ],
             [
              0.1111111111111111,
              "#46039f"
             ],
             [
              0.2222222222222222,
              "#7201a8"
             ],
             [
              0.3333333333333333,
              "#9c179e"
             ],
             [
              0.4444444444444444,
              "#bd3786"
             ],
             [
              0.5555555555555556,
              "#d8576b"
             ],
             [
              0.6666666666666666,
              "#ed7953"
             ],
             [
              0.7777777777777778,
              "#fb9f3a"
             ],
             [
              0.8888888888888888,
              "#fdca26"
             ],
             [
              1,
              "#f0f921"
             ]
            ],
            "type": "histogram2dcontour"
           }
          ],
          "mesh3d": [
           {
            "colorbar": {
             "outlinewidth": 0,
             "ticks": ""
            },
            "type": "mesh3d"
           }
          ],
          "parcoords": [
           {
            "line": {
             "colorbar": {
              "outlinewidth": 0,
              "ticks": ""
             }
            },
            "type": "parcoords"
           }
          ],
          "pie": [
           {
            "automargin": true,
            "type": "pie"
           }
          ],
          "scatter": [
           {
            "marker": {
             "colorbar": {
              "outlinewidth": 0,
              "ticks": ""
             }
            },
            "type": "scatter"
           }
          ],
          "scatter3d": [
           {
            "line": {
             "colorbar": {
              "outlinewidth": 0,
              "ticks": ""
             }
            },
            "marker": {
             "colorbar": {
              "outlinewidth": 0,
              "ticks": ""
             }
            },
            "type": "scatter3d"
           }
          ],
          "scattercarpet": [
           {
            "marker": {
             "colorbar": {
              "outlinewidth": 0,
              "ticks": ""
             }
            },
            "type": "scattercarpet"
           }
          ],
          "scattergeo": [
           {
            "marker": {
             "colorbar": {
              "outlinewidth": 0,
              "ticks": ""
             }
            },
            "type": "scattergeo"
           }
          ],
          "scattergl": [
           {
            "marker": {
             "colorbar": {
              "outlinewidth": 0,
              "ticks": ""
             }
            },
            "type": "scattergl"
           }
          ],
          "scattermapbox": [
           {
            "marker": {
             "colorbar": {
              "outlinewidth": 0,
              "ticks": ""
             }
            },
            "type": "scattermapbox"
           }
          ],
          "scatterpolar": [
           {
            "marker": {
             "colorbar": {
              "outlinewidth": 0,
              "ticks": ""
             }
            },
            "type": "scatterpolar"
           }
          ],
          "scatterpolargl": [
           {
            "marker": {
             "colorbar": {
              "outlinewidth": 0,
              "ticks": ""
             }
            },
            "type": "scatterpolargl"
           }
          ],
          "scatterternary": [
           {
            "marker": {
             "colorbar": {
              "outlinewidth": 0,
              "ticks": ""
             }
            },
            "type": "scatterternary"
           }
          ],
          "surface": [
           {
            "colorbar": {
             "outlinewidth": 0,
             "ticks": ""
            },
            "colorscale": [
             [
              0,
              "#0d0887"
             ],
             [
              0.1111111111111111,
              "#46039f"
             ],
             [
              0.2222222222222222,
              "#7201a8"
             ],
             [
              0.3333333333333333,
              "#9c179e"
             ],
             [
              0.4444444444444444,
              "#bd3786"
             ],
             [
              0.5555555555555556,
              "#d8576b"
             ],
             [
              0.6666666666666666,
              "#ed7953"
             ],
             [
              0.7777777777777778,
              "#fb9f3a"
             ],
             [
              0.8888888888888888,
              "#fdca26"
             ],
             [
              1,
              "#f0f921"
             ]
            ],
            "type": "surface"
           }
          ],
          "table": [
           {
            "cells": {
             "fill": {
              "color": "#EBF0F8"
             },
             "line": {
              "color": "white"
             }
            },
            "header": {
             "fill": {
              "color": "#C8D4E3"
             },
             "line": {
              "color": "white"
             }
            },
            "type": "table"
           }
          ]
         },
         "layout": {
          "annotationdefaults": {
           "arrowcolor": "#2a3f5f",
           "arrowhead": 0,
           "arrowwidth": 1
          },
          "autotypenumbers": "strict",
          "coloraxis": {
           "colorbar": {
            "outlinewidth": 0,
            "ticks": ""
           }
          },
          "colorscale": {
           "diverging": [
            [
             0,
             "#8e0152"
            ],
            [
             0.1,
             "#c51b7d"
            ],
            [
             0.2,
             "#de77ae"
            ],
            [
             0.3,
             "#f1b6da"
            ],
            [
             0.4,
             "#fde0ef"
            ],
            [
             0.5,
             "#f7f7f7"
            ],
            [
             0.6,
             "#e6f5d0"
            ],
            [
             0.7,
             "#b8e186"
            ],
            [
             0.8,
             "#7fbc41"
            ],
            [
             0.9,
             "#4d9221"
            ],
            [
             1,
             "#276419"
            ]
           ],
           "sequential": [
            [
             0,
             "#0d0887"
            ],
            [
             0.1111111111111111,
             "#46039f"
            ],
            [
             0.2222222222222222,
             "#7201a8"
            ],
            [
             0.3333333333333333,
             "#9c179e"
            ],
            [
             0.4444444444444444,
             "#bd3786"
            ],
            [
             0.5555555555555556,
             "#d8576b"
            ],
            [
             0.6666666666666666,
             "#ed7953"
            ],
            [
             0.7777777777777778,
             "#fb9f3a"
            ],
            [
             0.8888888888888888,
             "#fdca26"
            ],
            [
             1,
             "#f0f921"
            ]
           ],
           "sequentialminus": [
            [
             0,
             "#0d0887"
            ],
            [
             0.1111111111111111,
             "#46039f"
            ],
            [
             0.2222222222222222,
             "#7201a8"
            ],
            [
             0.3333333333333333,
             "#9c179e"
            ],
            [
             0.4444444444444444,
             "#bd3786"
            ],
            [
             0.5555555555555556,
             "#d8576b"
            ],
            [
             0.6666666666666666,
             "#ed7953"
            ],
            [
             0.7777777777777778,
             "#fb9f3a"
            ],
            [
             0.8888888888888888,
             "#fdca26"
            ],
            [
             1,
             "#f0f921"
            ]
           ]
          },
          "colorway": [
           "#636efa",
           "#EF553B",
           "#00cc96",
           "#ab63fa",
           "#FFA15A",
           "#19d3f3",
           "#FF6692",
           "#B6E880",
           "#FF97FF",
           "#FECB52"
          ],
          "font": {
           "color": "#2a3f5f"
          },
          "geo": {
           "bgcolor": "white",
           "lakecolor": "white",
           "landcolor": "#E5ECF6",
           "showlakes": true,
           "showland": true,
           "subunitcolor": "white"
          },
          "hoverlabel": {
           "align": "left"
          },
          "hovermode": "closest",
          "mapbox": {
           "style": "light"
          },
          "paper_bgcolor": "white",
          "plot_bgcolor": "#E5ECF6",
          "polar": {
           "angularaxis": {
            "gridcolor": "white",
            "linecolor": "white",
            "ticks": ""
           },
           "bgcolor": "#E5ECF6",
           "radialaxis": {
            "gridcolor": "white",
            "linecolor": "white",
            "ticks": ""
           }
          },
          "scene": {
           "xaxis": {
            "backgroundcolor": "#E5ECF6",
            "gridcolor": "white",
            "gridwidth": 2,
            "linecolor": "white",
            "showbackground": true,
            "ticks": "",
            "zerolinecolor": "white"
           },
           "yaxis": {
            "backgroundcolor": "#E5ECF6",
            "gridcolor": "white",
            "gridwidth": 2,
            "linecolor": "white",
            "showbackground": true,
            "ticks": "",
            "zerolinecolor": "white"
           },
           "zaxis": {
            "backgroundcolor": "#E5ECF6",
            "gridcolor": "white",
            "gridwidth": 2,
            "linecolor": "white",
            "showbackground": true,
            "ticks": "",
            "zerolinecolor": "white"
           }
          },
          "shapedefaults": {
           "line": {
            "color": "#2a3f5f"
           }
          },
          "ternary": {
           "aaxis": {
            "gridcolor": "white",
            "linecolor": "white",
            "ticks": ""
           },
           "baxis": {
            "gridcolor": "white",
            "linecolor": "white",
            "ticks": ""
           },
           "bgcolor": "#E5ECF6",
           "caxis": {
            "gridcolor": "white",
            "linecolor": "white",
            "ticks": ""
           }
          },
          "title": {
           "x": 0.05
          },
          "xaxis": {
           "automargin": true,
           "gridcolor": "white",
           "linecolor": "white",
           "ticks": "",
           "title": {
            "standoff": 15
           },
           "zerolinecolor": "white",
           "zerolinewidth": 2
          },
          "yaxis": {
           "automargin": true,
           "gridcolor": "white",
           "linecolor": "white",
           "ticks": "",
           "title": {
            "standoff": 15
           },
           "zerolinecolor": "white",
           "zerolinewidth": 2
          }
         }
        },
        "xaxis": {
         "anchor": "y",
         "domain": [
          0,
          1
         ],
         "title": {
          "text": "PLAYER NAME"
         }
        },
        "yaxis": {
         "anchor": "x",
         "domain": [
          0,
          1
         ],
         "title": {
          "text": "SOLD PRICE"
         }
        }
       }
      },
      "text/html": [
       "<div>                            <div id=\"dcc8e8f4-0464-4a0e-9e05-65c90eefb9f9\" class=\"plotly-graph-div\" style=\"height:525px; width:100%;\"></div>            <script type=\"text/javascript\">                require([\"plotly\"], function(Plotly) {                    window.PLOTLYENV=window.PLOTLYENV || {};                                    if (document.getElementById(\"dcc8e8f4-0464-4a0e-9e05-65c90eefb9f9\")) {                    Plotly.newPlot(                        \"dcc8e8f4-0464-4a0e-9e05-65c90eefb9f9\",                        [{\"alignmentgroup\":\"True\",\"hovertemplate\":\"PLAYING ROLE=Allrounder<br>PLAYER NAME=%{x}<br>SOLD PRICE=%{y}<extra></extra>\",\"legendgroup\":\"Allrounder\",\"marker\":{\"color\":\"#636efa\",\"pattern\":{\"shape\":\"\"}},\"name\":\"Allrounder\",\"offsetgroup\":\"Allrounder\",\"orientation\":\"v\",\"showlegend\":true,\"textposition\":\"auto\",\"x\":[\"Abdulla\",\"Botha\",\"Bravo\",\"Chawla\",\"Dilshan\",\"Flintoff\",\"Gayle\",\"Henderson\",\"Henriques\",\"Hopes\",\"Hussey\",\"Jadeja\",\"Jaffer\",\"Jayasuriya\",\"Kallis\",\"Maharoof\",\"Mascarenhas\",\"Mathews\",\"McDonald\",\"Morkel\",\"Nayar\",\"Noffke\",\"Oram\",\"Pathan\",\"Pathan\",\"Pollock\",\"Ryder\",\"Shahid Afridi\",\"Sharma\",\"Shoaib Malik\",\"Smith\",\"Styris\",\"Symonds\",\"Van der Merwe\",\"Vettori\"],\"xaxis\":\"x\",\"y\":[50000,950000,200000,400000,250000,1550000,800000,650000,50000,350000,625000,950000,150000,975000,900000,225000,100000,950000,80000,675000,800000,20000,675000,925000,475000,550000,160000,675000,225000,500000,100000,175000,1350000,50000,625000],\"yaxis\":\"y\",\"type\":\"bar\"},{\"alignmentgroup\":\"True\",\"hovertemplate\":\"PLAYING ROLE=Bowler<br>PLAYER NAME=%{x}<br>SOLD PRICE=%{y}<extra></extra>\",\"legendgroup\":\"Bowler\",\"marker\":{\"color\":\"#EF553B\",\"pattern\":{\"shape\":\"\"}},\"name\":\"Bowler\",\"offsetgroup\":\"Bowler\",\"orientation\":\"v\",\"showlegend\":true,\"textposition\":\"auto\",\"x\":[\"Abdur Razzak\",\"Agarkar\",\"Ashwin\",\"Balaji\",\"Bollinger\",\"Dinda\",\"Edwards\",\"Fernando\",\"Gony\",\"Harbhajan Singh\",\"Harris\",\"Kamran Khan\",\"Kartik\",\"Kumar\",\"Kumble\",\"Langeveldt\",\"Lee\",\"Malinga\",\"McGrath\",\"Mishra\",\"Mithun\",\"Mohammad Asif\",\"Morkel\",\"Muralitharan\",\"Nannes\",\"Nehra\",\"Ntini\",\"Ojha\",\"Pankaj Singh\",\"Patel\",\"Powar\",\"Sharma\",\"Shoaib Akhtar\",\"Singh\",\"Sohail Tanvir\",\"Sreesanth\",\"Steyn\",\"Tyagi\",\"Umar Gul\",\"Vaas\",\"Vinay Kumar\",\"Warne\",\"Zaheer Khan\",\"Zoysa\"],\"xaxis\":\"x\",\"y\":[50000,350000,850000,500000,700000,375000,150000,150000,290000,850000,325000,24000,425000,800000,500000,140000,900000,350000,350000,300000,260000,650000,475000,600000,650000,850000,200000,500000,95000,275000,170000,950000,425000,875000,100000,625000,325000,240000,150000,200000,475000,450000,450000,110000],\"yaxis\":\"y\",\"type\":\"bar\"},{\"alignmentgroup\":\"True\",\"hovertemplate\":\"PLAYING ROLE=Batsman<br>PLAYER NAME=%{x}<br>SOLD PRICE=%{y}<extra></extra>\",\"legendgroup\":\"Batsman\",\"marker\":{\"color\":\"#00cc96\",\"pattern\":{\"shape\":\"\"}},\"name\":\"Batsman\",\"offsetgroup\":\"Batsman\",\"orientation\":\"v\",\"showlegend\":true,\"textposition\":\"auto\",\"x\":[\"Badrinath\",\"Bailey\",\"Chanderpaul\",\"Dhawan\",\"Dravid\",\"Duminy\",\"Fleming\",\"Gambhir\",\"Ganguly\",\"Gibbs\",\"Hayden\",\"Hodge\",\"Hussey\",\"Jayawardena\",\"Kaif\",\"Katich\",\"Kohli\",\"Laxman\",\"Misbah-ul-Haq\",\"Pietersen\",\"Pomersbach\",\"Ponting\",\"Raina\",\"Sarwan\",\"Sehwag\",\"Sharma\",\"Silva\",\"Smith\",\"Taylor\",\"Tendulkar\",\"Tiwary\",\"Tiwary\",\"Uthappa\",\"Venugopal Rao\",\"Warner\",\"White\",\"Yadav\",\"Younis Khan\",\"Yuvraj Singh\"],\"xaxis\":\"x\",\"y\":[800000,50000,200000,300000,500000,300000,350000,725000,400000,575000,375000,425000,250000,475000,675000,200000,1800000,375000,100000,1550000,50000,400000,650000,225000,1800000,750000,100000,250000,1000000,1800000,675000,1600000,800000,700000,750000,500000,750000,225000,1800000],\"yaxis\":\"y\",\"type\":\"bar\"},{\"alignmentgroup\":\"True\",\"hovertemplate\":\"PLAYING ROLE=W. Keeper<br>PLAYER NAME=%{x}<br>SOLD PRICE=%{y}<extra></extra>\",\"legendgroup\":\"W. Keeper\",\"marker\":{\"color\":\"#ab63fa\",\"pattern\":{\"shape\":\"\"}},\"name\":\"W. Keeper\",\"offsetgroup\":\"W. Keeper\",\"orientation\":\"v\",\"showlegend\":true,\"textposition\":\"auto\",\"x\":[\"Boucher\",\"de Villiers\",\"Dhoni\",\"Gilchrist\",\"Kamran Akmal\",\"Karthik\",\"McCullum\",\"Ojha\",\"Patel\",\"Saha\",\"Sangakkara\",\"Taibu\"],\"xaxis\":\"x\",\"y\":[450000,300000,1500000,700000,150000,525000,700000,270000,325000,100000,700000,125000],\"yaxis\":\"y\",\"type\":\"bar\"}],                        {\"template\":{\"data\":{\"bar\":[{\"error_x\":{\"color\":\"#2a3f5f\"},\"error_y\":{\"color\":\"#2a3f5f\"},\"marker\":{\"line\":{\"color\":\"#E5ECF6\",\"width\":0.5},\"pattern\":{\"fillmode\":\"overlay\",\"size\":10,\"solidity\":0.2}},\"type\":\"bar\"}],\"barpolar\":[{\"marker\":{\"line\":{\"color\":\"#E5ECF6\",\"width\":0.5},\"pattern\":{\"fillmode\":\"overlay\",\"size\":10,\"solidity\":0.2}},\"type\":\"barpolar\"}],\"carpet\":[{\"aaxis\":{\"endlinecolor\":\"#2a3f5f\",\"gridcolor\":\"white\",\"linecolor\":\"white\",\"minorgridcolor\":\"white\",\"startlinecolor\":\"#2a3f5f\"},\"baxis\":{\"endlinecolor\":\"#2a3f5f\",\"gridcolor\":\"white\",\"linecolor\":\"white\",\"minorgridcolor\":\"white\",\"startlinecolor\":\"#2a3f5f\"},\"type\":\"carpet\"}],\"choropleth\":[{\"colorbar\":{\"outlinewidth\":0,\"ticks\":\"\"},\"type\":\"choropleth\"}],\"contour\":[{\"colorbar\":{\"outlinewidth\":0,\"ticks\":\"\"},\"colorscale\":[[0.0,\"#0d0887\"],[0.1111111111111111,\"#46039f\"],[0.2222222222222222,\"#7201a8\"],[0.3333333333333333,\"#9c179e\"],[0.4444444444444444,\"#bd3786\"],[0.5555555555555556,\"#d8576b\"],[0.6666666666666666,\"#ed7953\"],[0.7777777777777778,\"#fb9f3a\"],[0.8888888888888888,\"#fdca26\"],[1.0,\"#f0f921\"]],\"type\":\"contour\"}],\"contourcarpet\":[{\"colorbar\":{\"outlinewidth\":0,\"ticks\":\"\"},\"type\":\"contourcarpet\"}],\"heatmap\":[{\"colorbar\":{\"outlinewidth\":0,\"ticks\":\"\"},\"colorscale\":[[0.0,\"#0d0887\"],[0.1111111111111111,\"#46039f\"],[0.2222222222222222,\"#7201a8\"],[0.3333333333333333,\"#9c179e\"],[0.4444444444444444,\"#bd3786\"],[0.5555555555555556,\"#d8576b\"],[0.6666666666666666,\"#ed7953\"],[0.7777777777777778,\"#fb9f3a\"],[0.8888888888888888,\"#fdca26\"],[1.0,\"#f0f921\"]],\"type\":\"heatmap\"}],\"heatmapgl\":[{\"colorbar\":{\"outlinewidth\":0,\"ticks\":\"\"},\"colorscale\":[[0.0,\"#0d0887\"],[0.1111111111111111,\"#46039f\"],[0.2222222222222222,\"#7201a8\"],[0.3333333333333333,\"#9c179e\"],[0.4444444444444444,\"#bd3786\"],[0.5555555555555556,\"#d8576b\"],[0.6666666666666666,\"#ed7953\"],[0.7777777777777778,\"#fb9f3a\"],[0.8888888888888888,\"#fdca26\"],[1.0,\"#f0f921\"]],\"type\":\"heatmapgl\"}],\"histogram\":[{\"marker\":{\"pattern\":{\"fillmode\":\"overlay\",\"size\":10,\"solidity\":0.2}},\"type\":\"histogram\"}],\"histogram2d\":[{\"colorbar\":{\"outlinewidth\":0,\"ticks\":\"\"},\"colorscale\":[[0.0,\"#0d0887\"],[0.1111111111111111,\"#46039f\"],[0.2222222222222222,\"#7201a8\"],[0.3333333333333333,\"#9c179e\"],[0.4444444444444444,\"#bd3786\"],[0.5555555555555556,\"#d8576b\"],[0.6666666666666666,\"#ed7953\"],[0.7777777777777778,\"#fb9f3a\"],[0.8888888888888888,\"#fdca26\"],[1.0,\"#f0f921\"]],\"type\":\"histogram2d\"}],\"histogram2dcontour\":[{\"colorbar\":{\"outlinewidth\":0,\"ticks\":\"\"},\"colorscale\":[[0.0,\"#0d0887\"],[0.1111111111111111,\"#46039f\"],[0.2222222222222222,\"#7201a8\"],[0.3333333333333333,\"#9c179e\"],[0.4444444444444444,\"#bd3786\"],[0.5555555555555556,\"#d8576b\"],[0.6666666666666666,\"#ed7953\"],[0.7777777777777778,\"#fb9f3a\"],[0.8888888888888888,\"#fdca26\"],[1.0,\"#f0f921\"]],\"type\":\"histogram2dcontour\"}],\"mesh3d\":[{\"colorbar\":{\"outlinewidth\":0,\"ticks\":\"\"},\"type\":\"mesh3d\"}],\"parcoords\":[{\"line\":{\"colorbar\":{\"outlinewidth\":0,\"ticks\":\"\"}},\"type\":\"parcoords\"}],\"pie\":[{\"automargin\":true,\"type\":\"pie\"}],\"scatter\":[{\"marker\":{\"colorbar\":{\"outlinewidth\":0,\"ticks\":\"\"}},\"type\":\"scatter\"}],\"scatter3d\":[{\"line\":{\"colorbar\":{\"outlinewidth\":0,\"ticks\":\"\"}},\"marker\":{\"colorbar\":{\"outlinewidth\":0,\"ticks\":\"\"}},\"type\":\"scatter3d\"}],\"scattercarpet\":[{\"marker\":{\"colorbar\":{\"outlinewidth\":0,\"ticks\":\"\"}},\"type\":\"scattercarpet\"}],\"scattergeo\":[{\"marker\":{\"colorbar\":{\"outlinewidth\":0,\"ticks\":\"\"}},\"type\":\"scattergeo\"}],\"scattergl\":[{\"marker\":{\"colorbar\":{\"outlinewidth\":0,\"ticks\":\"\"}},\"type\":\"scattergl\"}],\"scattermapbox\":[{\"marker\":{\"colorbar\":{\"outlinewidth\":0,\"ticks\":\"\"}},\"type\":\"scattermapbox\"}],\"scatterpolar\":[{\"marker\":{\"colorbar\":{\"outlinewidth\":0,\"ticks\":\"\"}},\"type\":\"scatterpolar\"}],\"scatterpolargl\":[{\"marker\":{\"colorbar\":{\"outlinewidth\":0,\"ticks\":\"\"}},\"type\":\"scatterpolargl\"}],\"scatterternary\":[{\"marker\":{\"colorbar\":{\"outlinewidth\":0,\"ticks\":\"\"}},\"type\":\"scatterternary\"}],\"surface\":[{\"colorbar\":{\"outlinewidth\":0,\"ticks\":\"\"},\"colorscale\":[[0.0,\"#0d0887\"],[0.1111111111111111,\"#46039f\"],[0.2222222222222222,\"#7201a8\"],[0.3333333333333333,\"#9c179e\"],[0.4444444444444444,\"#bd3786\"],[0.5555555555555556,\"#d8576b\"],[0.6666666666666666,\"#ed7953\"],[0.7777777777777778,\"#fb9f3a\"],[0.8888888888888888,\"#fdca26\"],[1.0,\"#f0f921\"]],\"type\":\"surface\"}],\"table\":[{\"cells\":{\"fill\":{\"color\":\"#EBF0F8\"},\"line\":{\"color\":\"white\"}},\"header\":{\"fill\":{\"color\":\"#C8D4E3\"},\"line\":{\"color\":\"white\"}},\"type\":\"table\"}]},\"layout\":{\"annotationdefaults\":{\"arrowcolor\":\"#2a3f5f\",\"arrowhead\":0,\"arrowwidth\":1},\"autotypenumbers\":\"strict\",\"coloraxis\":{\"colorbar\":{\"outlinewidth\":0,\"ticks\":\"\"}},\"colorscale\":{\"diverging\":[[0,\"#8e0152\"],[0.1,\"#c51b7d\"],[0.2,\"#de77ae\"],[0.3,\"#f1b6da\"],[0.4,\"#fde0ef\"],[0.5,\"#f7f7f7\"],[0.6,\"#e6f5d0\"],[0.7,\"#b8e186\"],[0.8,\"#7fbc41\"],[0.9,\"#4d9221\"],[1,\"#276419\"]],\"sequential\":[[0.0,\"#0d0887\"],[0.1111111111111111,\"#46039f\"],[0.2222222222222222,\"#7201a8\"],[0.3333333333333333,\"#9c179e\"],[0.4444444444444444,\"#bd3786\"],[0.5555555555555556,\"#d8576b\"],[0.6666666666666666,\"#ed7953\"],[0.7777777777777778,\"#fb9f3a\"],[0.8888888888888888,\"#fdca26\"],[1.0,\"#f0f921\"]],\"sequentialminus\":[[0.0,\"#0d0887\"],[0.1111111111111111,\"#46039f\"],[0.2222222222222222,\"#7201a8\"],[0.3333333333333333,\"#9c179e\"],[0.4444444444444444,\"#bd3786\"],[0.5555555555555556,\"#d8576b\"],[0.6666666666666666,\"#ed7953\"],[0.7777777777777778,\"#fb9f3a\"],[0.8888888888888888,\"#fdca26\"],[1.0,\"#f0f921\"]]},\"colorway\":[\"#636efa\",\"#EF553B\",\"#00cc96\",\"#ab63fa\",\"#FFA15A\",\"#19d3f3\",\"#FF6692\",\"#B6E880\",\"#FF97FF\",\"#FECB52\"],\"font\":{\"color\":\"#2a3f5f\"},\"geo\":{\"bgcolor\":\"white\",\"lakecolor\":\"white\",\"landcolor\":\"#E5ECF6\",\"showlakes\":true,\"showland\":true,\"subunitcolor\":\"white\"},\"hoverlabel\":{\"align\":\"left\"},\"hovermode\":\"closest\",\"mapbox\":{\"style\":\"light\"},\"paper_bgcolor\":\"white\",\"plot_bgcolor\":\"#E5ECF6\",\"polar\":{\"angularaxis\":{\"gridcolor\":\"white\",\"linecolor\":\"white\",\"ticks\":\"\"},\"bgcolor\":\"#E5ECF6\",\"radialaxis\":{\"gridcolor\":\"white\",\"linecolor\":\"white\",\"ticks\":\"\"}},\"scene\":{\"xaxis\":{\"backgroundcolor\":\"#E5ECF6\",\"gridcolor\":\"white\",\"gridwidth\":2,\"linecolor\":\"white\",\"showbackground\":true,\"ticks\":\"\",\"zerolinecolor\":\"white\"},\"yaxis\":{\"backgroundcolor\":\"#E5ECF6\",\"gridcolor\":\"white\",\"gridwidth\":2,\"linecolor\":\"white\",\"showbackground\":true,\"ticks\":\"\",\"zerolinecolor\":\"white\"},\"zaxis\":{\"backgroundcolor\":\"#E5ECF6\",\"gridcolor\":\"white\",\"gridwidth\":2,\"linecolor\":\"white\",\"showbackground\":true,\"ticks\":\"\",\"zerolinecolor\":\"white\"}},\"shapedefaults\":{\"line\":{\"color\":\"#2a3f5f\"}},\"ternary\":{\"aaxis\":{\"gridcolor\":\"white\",\"linecolor\":\"white\",\"ticks\":\"\"},\"baxis\":{\"gridcolor\":\"white\",\"linecolor\":\"white\",\"ticks\":\"\"},\"bgcolor\":\"#E5ECF6\",\"caxis\":{\"gridcolor\":\"white\",\"linecolor\":\"white\",\"ticks\":\"\"}},\"title\":{\"x\":0.05},\"xaxis\":{\"automargin\":true,\"gridcolor\":\"white\",\"linecolor\":\"white\",\"ticks\":\"\",\"title\":{\"standoff\":15},\"zerolinecolor\":\"white\",\"zerolinewidth\":2},\"yaxis\":{\"automargin\":true,\"gridcolor\":\"white\",\"linecolor\":\"white\",\"ticks\":\"\",\"title\":{\"standoff\":15},\"zerolinecolor\":\"white\",\"zerolinewidth\":2}}},\"xaxis\":{\"anchor\":\"y\",\"domain\":[0.0,1.0],\"title\":{\"text\":\"PLAYER NAME\"}},\"yaxis\":{\"anchor\":\"x\",\"domain\":[0.0,1.0],\"title\":{\"text\":\"SOLD PRICE\"}},\"legend\":{\"title\":{\"text\":\"PLAYING ROLE\"},\"tracegroupgap\":0},\"margin\":{\"t\":60},\"barmode\":\"relative\"},                        {\"responsive\": true}                    ).then(function(){\n",
       "                            \n",
       "var gd = document.getElementById('dcc8e8f4-0464-4a0e-9e05-65c90eefb9f9');\n",
       "var x = new MutationObserver(function (mutations, observer) {{\n",
       "        var display = window.getComputedStyle(gd).display;\n",
       "        if (!display || display === 'none') {{\n",
       "            console.log([gd, 'removed!']);\n",
       "            Plotly.purge(gd);\n",
       "            observer.disconnect();\n",
       "        }}\n",
       "}});\n",
       "\n",
       "// Listen for the removal of the full notebook cells\n",
       "var notebookContainer = gd.closest('#notebook-container');\n",
       "if (notebookContainer) {{\n",
       "    x.observe(notebookContainer, {childList: true});\n",
       "}}\n",
       "\n",
       "// Listen for the clearing of the current output cell\n",
       "var outputEl = gd.closest('.output');\n",
       "if (outputEl) {{\n",
       "    x.observe(outputEl, {childList: true});\n",
       "}}\n",
       "\n",
       "                        })                };                });            </script>        </div>"
      ]
     },
     "metadata": {},
     "output_type": "display_data"
    }
   ],
   "source": [
    "px.bar(df_cric,x='PLAYER NAME',y='SOLD PRICE',color='PLAYING ROLE')"
   ]
  },
  {
   "cell_type": "code",
   "execution_count": null,
   "id": "813742ff",
   "metadata": {},
   "outputs": [],
   "source": []
  },
  {
   "cell_type": "code",
   "execution_count": null,
   "id": "8dc74714",
   "metadata": {},
   "outputs": [],
   "source": []
  },
  {
   "cell_type": "code",
   "execution_count": null,
   "id": "0c219379",
   "metadata": {},
   "outputs": [],
   "source": []
  },
  {
   "cell_type": "code",
   "execution_count": null,
   "id": "8f647dd9",
   "metadata": {},
   "outputs": [],
   "source": []
  },
  {
   "cell_type": "code",
   "execution_count": null,
   "id": "dff85f7b",
   "metadata": {},
   "outputs": [],
   "source": []
  },
  {
   "cell_type": "code",
   "execution_count": null,
   "id": "fe9f230b",
   "metadata": {},
   "outputs": [],
   "source": []
  },
  {
   "cell_type": "code",
   "execution_count": null,
   "id": "cdf52c75",
   "metadata": {},
   "outputs": [],
   "source": []
  },
  {
   "cell_type": "code",
   "execution_count": null,
   "id": "d1088cff",
   "metadata": {},
   "outputs": [],
   "source": []
  },
  {
   "cell_type": "code",
   "execution_count": null,
   "id": "81cfe523",
   "metadata": {},
   "outputs": [],
   "source": []
  }
 ],
 "metadata": {
  "kernelspec": {
   "display_name": "Python 3 (ipykernel)",
   "language": "python",
   "name": "python3"
  },
  "language_info": {
   "codemirror_mode": {
    "name": "ipython",
    "version": 3
   },
   "file_extension": ".py",
   "mimetype": "text/x-python",
   "name": "python",
   "nbconvert_exporter": "python",
   "pygments_lexer": "ipython3",
   "version": "3.9.7"
  }
 },
 "nbformat": 4,
 "nbformat_minor": 5
}
